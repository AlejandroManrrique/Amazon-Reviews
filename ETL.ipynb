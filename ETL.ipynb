{
 "cells": [
  {
   "cell_type": "markdown",
   "metadata": {},
   "source": [
    "## ETL"
   ]
  },
  {
   "cell_type": "markdown",
   "metadata": {},
   "source": [
    "    NOTA: El proyecto aquí presentado es realizado por un grupo de 5 personas y dividido entre ellas, algunos métodos o formas para modificar los datos pueden ser diferentes pero el resultado en dichas transformaciones es el mismo."
   ]
  },
  {
   "cell_type": "markdown",
   "metadata": {},
   "source": [
    "* Librerias Necesarias"
   ]
  },
  {
   "cell_type": "code",
   "execution_count": 1,
   "metadata": {},
   "outputs": [],
   "source": [
    "import pandas as pd\n",
    "import json\n",
    "import re\n",
    "import gzip\n",
    "import shutil\n",
    "import gdown\n",
    "import pyarrow as pa\n",
    "import urllib.request\n",
    "from google.colab import files\n",
    "import numpy as np\n",
    "from datetime import datetime\n",
    "import warnings\n",
    "import ast"
   ]
  },
  {
   "cell_type": "markdown",
   "metadata": {},
   "source": [
    "* Carga de los datos (Extraction)"
   ]
  },
  {
   "cell_type": "markdown",
   "metadata": {},
   "source": [
    "En esta etapa del proyecto, procederemos a importar los datos. Disponemos de un conjunto de 58 archivos, que comprenden 24 tablas junto con sus respectivos archivos de metadatos. Cada uno de estos archivos será abordado de manera individual y minuciosa como parte de nuestro proceso.\n",
    "\n",
    "\n",
    "\n",
    "\n"
   ]
  },
  {
   "cell_type": "markdown",
   "metadata": {},
   "source": [
    "    - Home_and_Kitchen"
   ]
  },
  {
   "cell_type": "code",
   "execution_count": null,
   "metadata": {},
   "outputs": [],
   "source": [
    "jlines = []\n",
    "# Abrir el archivo JSON en modo lectura\n",
    "with open('Home_and_Kitchen.json', 'r', encoding='utf-8') as file:\n",
    "    lines = file.readlines()\n",
    "\n",
    "# Guardar las líneas del archivo JSON\n",
    "for line in lines:\n",
    "    jlines.append(line)\n",
    "\n",
    "# Extraer la información de las tres columnas principales del archivo json original\n",
    "overall = []\n",
    "verified = []\n",
    "reviewTime = []\n",
    "reviewerID = []\n",
    "asin = []\n",
    "style = []\n",
    "reviewerName = []\n",
    "reviewText = []\n",
    "summary = []\n",
    "unixReviewTime = []\n",
    "\n",
    "for line in jlines:\n",
    "    # Analiza cada línea como un objeto JSON\n",
    "    data = json.loads(line.strip())  # Usar strip para eliminar caracteres de nueva línea\n",
    "    # Extraer los datos del objeto JSON\n",
    "    overall.append(data.get(\"overall\", None))\n",
    "    verified.append(data.get(\"verified\", None))\n",
    "    reviewTime.append(data.get(\"reviewTime\", None))\n",
    "    reviewerID.append(data.get(\"reviewerID\", None))\n",
    "    asin.append(data.get(\"asin\", None))\n",
    "    style.append(data.get(\"style\", None))\n",
    "    reviewerName.append(data.get(\"reviewerName\", None))\n",
    "    reviewText.append(data.get(\"reviewText\", None))\n",
    "    summary.append(data.get(\"summary\", None))\n",
    "    unixReviewTime.append(data.get(\"unixReviewTime\", None))\n",
    "\n",
    "# Crear el DataFrame\n",
    "Home_and_Kitchen = pd.DataFrame()\n",
    "Home_and_Kitchen['overall'] = overall\n",
    "Home_and_Kitchen['verified'] = verified\n",
    "Home_and_Kitchen['reviewTime'] = reviewTime\n",
    "Home_and_Kitchen['reviewerID'] = reviewerID\n",
    "Home_and_Kitchen['asin'] = asin\n",
    "Home_and_Kitchen['style'] = style\n",
    "Home_and_Kitchen['reviewerName'] = reviewerName\n",
    "Home_and_Kitchen['reviewText'] = reviewText\n",
    "Home_and_Kitchen['summary'] = summary\n",
    "Home_and_Kitchen['unixReviewTime'] = unixReviewTime"
   ]
  },
  {
   "cell_type": "markdown",
   "metadata": {},
   "source": [
    "    - Kindle_Store"
   ]
  },
  {
   "cell_type": "code",
   "execution_count": null,
   "metadata": {},
   "outputs": [],
   "source": [
    "jlines = []\n",
    "# Abrir el archivo JSON en modo lectura\n",
    "with open('Kindle_Store.json', 'r', encoding='utf-8') as file:\n",
    "    lines = file.readlines()\n",
    "\n",
    "# Guardar las líneas del archivo JSON\n",
    "for line in lines:\n",
    "    jlines.append(line)\n",
    "\n",
    "# Extraer la información de las tres columnas principales del archivo json original\n",
    "overall = []\n",
    "verified = []\n",
    "reviewTime = []\n",
    "reviewerID = []\n",
    "asin = []\n",
    "style = []\n",
    "reviewerName = []\n",
    "reviewText = []\n",
    "summary = []\n",
    "unixReviewTime = []\n",
    "\n",
    "for line in jlines:\n",
    "    # Analiza cada línea como un objeto JSON\n",
    "    data = json.loads(line.strip())  # Usar strip para eliminar caracteres de nueva línea\n",
    "    # Extraer los datos del objeto JSON\n",
    "    overall.append(data.get(\"overall\", None))\n",
    "    verified.append(data.get(\"verified\", None))\n",
    "    reviewTime.append(data.get(\"reviewTime\", None))\n",
    "    reviewerID.append(data.get(\"reviewerID\", None))\n",
    "    asin.append(data.get(\"asin\", None))\n",
    "    style.append(data.get(\"style\", None))\n",
    "    reviewerName.append(data.get(\"reviewerName\", None))\n",
    "    reviewText.append(data.get(\"reviewText\", None))\n",
    "    summary.append(data.get(\"summary\", None))\n",
    "    unixReviewTime.append(data.get(\"unixReviewTime\", None))\n",
    "\n",
    "# Crear el DataFrame\n",
    "Kindle_Store = pd.DataFrame()\n",
    "Kindle_Store['overall'] = overall\n",
    "Kindle_Store['verified'] = verified\n",
    "Kindle_Store['reviewTime'] = reviewTime\n",
    "Kindle_Store['reviewerID'] = reviewerID\n",
    "Kindle_Store['asin'] = asin\n",
    "Kindle_Store['style'] = style\n",
    "Kindle_Store['reviewerName'] = reviewerName\n",
    "Kindle_Store['reviewText'] = reviewText\n",
    "Kindle_Store['summary'] = summary\n",
    "Kindle_Store['unixReviewTime'] = unixReviewTime"
   ]
  },
  {
   "cell_type": "markdown",
   "metadata": {},
   "source": [
    "    - Industrial_and_Scientific"
   ]
  },
  {
   "cell_type": "code",
   "execution_count": null,
   "metadata": {},
   "outputs": [],
   "source": [
    "jlines = []\n",
    "# Abrir el archivo JSON en modo lectura\n",
    "with open('Industrial_and_Scientific.json', 'r', encoding='utf-8') as file:\n",
    "    lines = file.readlines()\n",
    "\n",
    "# Guardar las líneas del archivo JSON\n",
    "for line in lines:\n",
    "    jlines.append(line)\n",
    "\n",
    "# Extraer la información de las tres columnas principales del archivo json original\n",
    "overall = []\n",
    "verified = []\n",
    "reviewTime = []\n",
    "reviewerID = []\n",
    "asin = []\n",
    "style = []\n",
    "reviewerName = []\n",
    "reviewText = []\n",
    "summary = []\n",
    "unixReviewTime = []\n",
    "\n",
    "for line in jlines:\n",
    "    # Analiza cada línea como un objeto JSON\n",
    "    data = json.loads(line.strip())  # Usar strip para eliminar caracteres de nueva línea\n",
    "    # Extraer los datos del objeto JSON\n",
    "    overall.append(data.get(\"overall\", None))\n",
    "    verified.append(data.get(\"verified\", None))\n",
    "    reviewTime.append(data.get(\"reviewTime\", None))\n",
    "    reviewerID.append(data.get(\"reviewerID\", None))\n",
    "    asin.append(data.get(\"asin\", None))\n",
    "    style.append(data.get(\"style\", None))\n",
    "    reviewerName.append(data.get(\"reviewerName\", None))\n",
    "    reviewText.append(data.get(\"reviewText\", None))\n",
    "    summary.append(data.get(\"summary\", None))\n",
    "    unixReviewTime.append(data.get(\"unixReviewTime\", None))\n",
    "\n",
    "# Crear el DataFrame\n",
    "Industrial_and_Scientific = pd.DataFrame()\n",
    "Industrial_and_Scientific['overall'] = overall\n",
    "Industrial_and_Scientific['verified'] = verified\n",
    "Industrial_and_Scientific['reviewTime'] = reviewTime\n",
    "Industrial_and_Scientific['reviewerID'] = reviewerID\n",
    "Industrial_and_Scientific['asin'] = asin\n",
    "Industrial_and_Scientific['style'] = style\n",
    "Industrial_and_Scientific['reviewerName'] = reviewerName\n",
    "Industrial_and_Scientific['reviewText'] = reviewText\n",
    "Industrial_and_Scientific['summary'] = summary\n",
    "Industrial_and_Scientific['unixReviewTime'] = unixReviewTime"
   ]
  },
  {
   "cell_type": "markdown",
   "metadata": {},
   "source": [
    "    - Appliances"
   ]
  },
  {
   "cell_type": "code",
   "execution_count": null,
   "metadata": {},
   "outputs": [],
   "source": [
    "jlines = []\n",
    "# Abrir el archivo JSON en modo lectura\n",
    "with open('Appliances.json', 'r', encoding='utf-8') as file:\n",
    "    lines = file.readlines()\n",
    "\n",
    "# Guardar las líneas del archivo JSON\n",
    "for line in lines:\n",
    "    jlines.append(line)\n",
    "\n",
    "# Extraer la información de las tres columnas principales del archivo json original\n",
    "overall = []\n",
    "verified = []\n",
    "reviewTime = []\n",
    "reviewerID = []\n",
    "asin = []\n",
    "style = []\n",
    "reviewerName = []\n",
    "reviewText = []\n",
    "summary = []\n",
    "unixReviewTime = []\n",
    "\n",
    "for line in jlines:\n",
    "    # Analiza cada línea como un objeto JSON\n",
    "    data = json.loads(line.strip())  # Usar strip para eliminar caracteres de nueva línea\n",
    "    # Extraer los datos del objeto JSON\n",
    "    overall.append(data.get(\"overall\", None))\n",
    "    verified.append(data.get(\"verified\", None))\n",
    "    reviewTime.append(data.get(\"reviewTime\", None))\n",
    "    reviewerID.append(data.get(\"reviewerID\", None))\n",
    "    asin.append(data.get(\"asin\", None))\n",
    "    style.append(data.get(\"style\", None))\n",
    "    reviewerName.append(data.get(\"reviewerName\", None))\n",
    "    reviewText.append(data.get(\"reviewText\", None))\n",
    "    summary.append(data.get(\"summary\", None))\n",
    "    unixReviewTime.append(data.get(\"unixReviewTime\", None))\n",
    "\n",
    "# Crear el DataFrame\n",
    "Appliances = pd.DataFrame()\n",
    "Appliances['overall'] = overall\n",
    "Appliances['verified'] = verified\n",
    "Appliances['reviewTime'] = reviewTime\n",
    "Appliances['reviewerID'] = reviewerID\n",
    "Appliances['asin'] = asin\n",
    "Appliances['style'] = style\n",
    "Appliances['reviewerName'] = reviewerName\n",
    "Appliances['reviewText'] = reviewText\n",
    "Appliances['summary'] = summary\n",
    "Appliances['unixReviewTime'] = unixReviewTime"
   ]
  },
  {
   "cell_type": "markdown",
   "metadata": {},
   "source": [
    "    - Office_Products"
   ]
  },
  {
   "cell_type": "code",
   "execution_count": null,
   "metadata": {},
   "outputs": [],
   "source": [
    "jlines = []\n",
    "# Abrir el archivo JSON en modo lectura\n",
    "with open('Office_Products.json', 'r', encoding='utf-8') as file:\n",
    "    lines = file.readlines()\n",
    "\n",
    "# Guardar las líneas del archivo JSON\n",
    "for line in lines:\n",
    "    jlines.append(line)\n",
    "\n",
    "# Extraer la información de las tres columnas principales del archivo json original\n",
    "overall = []\n",
    "verified = []\n",
    "reviewTime = []\n",
    "reviewerID = []\n",
    "asin = []\n",
    "style = []\n",
    "reviewerName = []\n",
    "reviewText = []\n",
    "summary = []\n",
    "unixReviewTime = []\n",
    "\n",
    "for line in jlines:\n",
    "    # Analiza cada línea como un objeto JSON\n",
    "    data = json.loads(line.strip())  # Usar strip para eliminar caracteres de nueva línea\n",
    "    # Extraer los datos del objeto JSON\n",
    "    overall.append(data.get(\"overall\", None))\n",
    "    verified.append(data.get(\"verified\", None))\n",
    "    reviewTime.append(data.get(\"reviewTime\", None))\n",
    "    reviewerID.append(data.get(\"reviewerID\", None))\n",
    "    asin.append(data.get(\"asin\", None))\n",
    "    style.append(data.get(\"style\", None))\n",
    "    reviewerName.append(data.get(\"reviewerName\", None))\n",
    "    reviewText.append(data.get(\"reviewText\", None))\n",
    "    summary.append(data.get(\"summary\", None))\n",
    "    unixReviewTime.append(data.get(\"unixReviewTime\", None))\n",
    "\n",
    "# Crear el DataFrame\n",
    "Office_Products = pd.DataFrame()\n",
    "Office_Products['overall'] = overall\n",
    "Office_Products['verified'] = verified\n",
    "Office_Products['reviewTime'] = reviewTime\n",
    "Office_Products['reviewerID'] = reviewerID\n",
    "Office_Products['asin'] = asin\n",
    "Office_Products['style'] = style\n",
    "Office_Products['reviewerName'] = reviewerName\n",
    "Office_Products['reviewText'] = reviewText\n",
    "Office_Products['summary'] = summary\n",
    "Office_Products['unixReviewTime'] = unixReviewTime"
   ]
  },
  {
   "cell_type": "markdown",
   "metadata": {},
   "source": [
    "    - meta_Home_and_Kitchen"
   ]
  },
  {
   "cell_type": "code",
   "execution_count": null,
   "metadata": {},
   "outputs": [],
   "source": [
    "jlines = []\n",
    "# Abrir el archivo JSON en modo lectura\n",
    "with open('meta_Home_and_Kitchen.json', 'r', encoding='utf-8') as file:\n",
    "    lines = file.readlines()\n",
    "\n",
    "# Guardar las líneas del archivo JSON\n",
    "for line in lines:\n",
    "    jlines.append(line)\n",
    "\n",
    "# Extraer la información de las tres columnas principales del archivo json original\n",
    "category = []\n",
    "tech1 = []\n",
    "description = []\n",
    "fit = []\n",
    "title = []\n",
    "also_buy = []\n",
    "tech2 = []\n",
    "brand = []\n",
    "feature = []\n",
    "rank = []\n",
    "also_view = []\n",
    "main_cat = []\n",
    "similar_item = []\n",
    "date = []\n",
    "price = []\n",
    "asin = []\n",
    "imageURL = []\n",
    "imageURLHighRes = []\n",
    "\n",
    "for line in jlines:\n",
    "    data = json.loads(line)  # Analizar la línea como JSON\n",
    "    # Extraer los datos del JSON\n",
    "    category.append(data[\"category\"])\n",
    "    tech1.append(data[\"tech1\"])\n",
    "    description.append(data[\"description\"][0] if data[\"description\"] else \"\")  # Manejar la lista vacía\n",
    "    fit.append(data[\"fit\"])\n",
    "    title.append(data[\"title\"])\n",
    "    also_buy.append(data[\"also_buy\"])\n",
    "    tech2.append(data[\"tech2\"])\n",
    "    brand.append(data[\"brand\"])\n",
    "    feature.append(data[\"feature\"])\n",
    "    rank.append(data[\"rank\"])\n",
    "    also_view.append(data[\"also_view\"])\n",
    "    main_cat.append(data[\"main_cat\"])\n",
    "    similar_item.append(data[\"similar_item\"])\n",
    "    date.append(data[\"date\"])\n",
    "    price.append(data[\"price\"])\n",
    "    asin.append(data[\"asin\"])\n",
    "    imageURL.append(data[\"imageURL\"])\n",
    "    imageURLHighRes.append(data[\"imageURLHighRes\"])\n",
    "\n",
    "# Crear el DataFrame\n",
    "meta_Home_and_Kitchen = pd.DataFrame()\n",
    "meta_Home_and_Kitchen['category'] = category\n",
    "meta_Home_and_Kitchen['tech1'] = tech1\n",
    "meta_Home_and_Kitchen['description'] = description\n",
    "meta_Home_and_Kitchen['fit'] = fit\n",
    "meta_Home_and_Kitchen['title'] = title\n",
    "meta_Home_and_Kitchen['also_buy'] = also_buy\n",
    "meta_Home_and_Kitchen['tech2'] = tech2\n",
    "meta_Home_and_Kitchen['brand'] = brand\n",
    "meta_Home_and_Kitchen['feature'] = feature\n",
    "meta_Home_and_Kitchen['rank'] = rank\n",
    "meta_Home_and_Kitchen['also_view'] = also_view\n",
    "meta_Home_and_Kitchen['main_cat'] = main_cat\n",
    "meta_Home_and_Kitchen['similar_item'] = similar_item\n",
    "meta_Home_and_Kitchen['date'] = date\n",
    "meta_Home_and_Kitchen['price'] = price\n",
    "meta_Home_and_Kitchen['asin'] = asin\n",
    "meta_Home_and_Kitchen['imageURL'] = imageURL\n",
    "meta_Home_and_Kitchen['imageURLHighRes'] = imageURLHighRes"
   ]
  },
  {
   "cell_type": "markdown",
   "metadata": {},
   "source": [
    "    - meta_Kindle_Store"
   ]
  },
  {
   "cell_type": "code",
   "execution_count": null,
   "metadata": {},
   "outputs": [],
   "source": [
    "jlines = []\n",
    "# Abrir el archivo JSON en modo lectura\n",
    "with open('meta_Kindle_Store.json', 'r', encoding='utf-8') as file:\n",
    "    lines = file.readlines()\n",
    "\n",
    "# Guardar las líneas del archivo JSON\n",
    "for line in lines:\n",
    "    jlines.append(line)\n",
    "\n",
    "# Extraer la información de las tres columnas principales del archivo json original\n",
    "category = []\n",
    "tech1 = []\n",
    "description = []\n",
    "fit = []\n",
    "title = []\n",
    "also_buy = []\n",
    "tech2 = []\n",
    "brand = []\n",
    "feature = []\n",
    "rank = []\n",
    "also_view = []\n",
    "main_cat = []\n",
    "similar_item = []\n",
    "date = []\n",
    "price = []\n",
    "asin = []\n",
    "imageURL = []\n",
    "imageURLHighRes = []\n",
    "\n",
    "for line in jlines:\n",
    "    data = json.loads(line)  # Analizar la línea como JSON\n",
    "    # Extraer los datos del JSON\n",
    "    category.append(data[\"category\"])\n",
    "    tech1.append(data[\"tech1\"])\n",
    "    description.append(data[\"description\"][0] if data[\"description\"] else \"\")  # Manejar la lista vacía\n",
    "    fit.append(data[\"fit\"])\n",
    "    title.append(data[\"title\"])\n",
    "    also_buy.append(data[\"also_buy\"])\n",
    "    tech2.append(data[\"tech2\"])\n",
    "    brand.append(data[\"brand\"])\n",
    "    feature.append(data[\"feature\"])\n",
    "    rank.append(data[\"rank\"])\n",
    "    also_view.append(data[\"also_view\"])\n",
    "    main_cat.append(data[\"main_cat\"])\n",
    "    similar_item.append(data[\"similar_item\"])\n",
    "    date.append(data[\"date\"])\n",
    "    price.append(data[\"price\"])\n",
    "    asin.append(data[\"asin\"])\n",
    "    imageURL.append(data[\"imageURL\"])\n",
    "    imageURLHighRes.append(data[\"imageURLHighRes\"])\n",
    "\n",
    "# Crear el DataFrame\n",
    "meta_Kindle_Store = pd.DataFrame()\n",
    "meta_Kindle_Store['category'] = category\n",
    "meta_Kindle_Store['tech1'] = tech1\n",
    "meta_Kindle_Store['description'] = description\n",
    "meta_Kindle_Store['fit'] = fit\n",
    "meta_Kindle_Store['title'] = title\n",
    "meta_Kindle_Store['also_buy'] = also_buy\n",
    "meta_Kindle_Store['tech2'] = tech2\n",
    "meta_Kindle_Store['brand'] = brand\n",
    "meta_Kindle_Store['feature'] = feature\n",
    "meta_Kindle_Store['rank'] = rank\n",
    "meta_Kindle_Store['also_view'] = also_view\n",
    "meta_Kindle_Store['main_cat'] = main_cat\n",
    "meta_Kindle_Store['similar_item'] = similar_item\n",
    "meta_Kindle_Store['date'] = date\n",
    "meta_Kindle_Store['price'] = price\n",
    "meta_Kindle_Store['asin'] = asin\n",
    "meta_Kindle_Store['imageURL'] = imageURL\n",
    "meta_Kindle_Store['imageURLHighRes'] = imageURLHighRes"
   ]
  },
  {
   "cell_type": "markdown",
   "metadata": {},
   "source": [
    "    - meta_Office_Products"
   ]
  },
  {
   "cell_type": "code",
   "execution_count": null,
   "metadata": {},
   "outputs": [],
   "source": [
    "jlines = []\n",
    "# Abrir el archivo JSON en modo lectura\n",
    "with open('meta_Office_Products.json', 'r', encoding='utf-8') as file:\n",
    "    lines = file.readlines()\n",
    "\n",
    "# Guardar las líneas del archivo JSON\n",
    "for line in lines:\n",
    "    jlines.append(line)\n",
    "\n",
    "# Extraer la información de las tres columnas principales del archivo json original\n",
    "category = []\n",
    "tech1 = []\n",
    "description = []\n",
    "fit = []\n",
    "title = []\n",
    "also_buy = []\n",
    "tech2 = []\n",
    "brand = []\n",
    "feature = []\n",
    "rank = []\n",
    "also_view = []\n",
    "main_cat = []\n",
    "similar_item = []\n",
    "date = []\n",
    "price = []\n",
    "asin = []\n",
    "imageURL = []\n",
    "imageURLHighRes = []\n",
    "\n",
    "for line in jlines:\n",
    "    data = json.loads(line)  # Analizar la línea como JSON\n",
    "    # Extraer los datos del JSON\n",
    "    category.append(data[\"category\"])\n",
    "    tech1.append(data[\"tech1\"])\n",
    "    description.append(data[\"description\"][0] if data[\"description\"] else \"\")  # Manejar la lista vacía\n",
    "    fit.append(data[\"fit\"])\n",
    "    title.append(data[\"title\"])\n",
    "    also_buy.append(data[\"also_buy\"])\n",
    "    tech2.append(data[\"tech2\"])\n",
    "    brand.append(data[\"brand\"])\n",
    "    feature.append(data[\"feature\"])\n",
    "    rank.append(data[\"rank\"])\n",
    "    also_view.append(data[\"also_view\"])\n",
    "    main_cat.append(data[\"main_cat\"])\n",
    "    similar_item.append(data[\"similar_item\"])\n",
    "    date.append(data[\"date\"])\n",
    "    price.append(data[\"price\"])\n",
    "    asin.append(data[\"asin\"])\n",
    "    imageURL.append(data[\"imageURL\"])\n",
    "    imageURLHighRes.append(data[\"imageURLHighRes\"])\n",
    "\n",
    "# Crear el DataFrame\n",
    "meta_Office_Products = pd.DataFrame()\n",
    "meta_Office_Products['category'] = category\n",
    "meta_Office_Products['tech1'] = tech1\n",
    "meta_Office_Products['description'] = description\n",
    "meta_Office_Products['fit'] = fit\n",
    "meta_Office_Products['title'] = title\n",
    "meta_Office_Products['also_buy'] = also_buy\n",
    "meta_Office_Products['tech2'] = tech2\n",
    "meta_Office_Products['brand'] = brand\n",
    "meta_Office_Products['feature'] = feature\n",
    "meta_Office_Products['rank'] = rank\n",
    "meta_Office_Products['also_view'] = also_view\n",
    "meta_Office_Products['main_cat'] = main_cat\n",
    "meta_Office_Products['similar_item'] = similar_item\n",
    "meta_Office_Products['date'] = date\n",
    "meta_Office_Products['price'] = price\n",
    "meta_Office_Products['asin'] = asin\n",
    "meta_Office_Products['imageURL'] = imageURL\n",
    "meta_Office_Products['imageURLHighRes'] = imageURLHighRes"
   ]
  },
  {
   "cell_type": "markdown",
   "metadata": {},
   "source": [
    "    -   meta_Industrial_and_Scientific"
   ]
  },
  {
   "cell_type": "code",
   "execution_count": null,
   "metadata": {},
   "outputs": [],
   "source": [
    "jlines = []\n",
    "# Abrir el archivo JSON en modo lectura\n",
    "with open('meta_Industrial_and_Scientific.json', 'r', encoding='utf-8') as file:\n",
    "    lines = file.readlines()\n",
    "\n",
    "# Guardar las líneas del archivo JSON\n",
    "for line in lines:\n",
    "    jlines.append(line)\n",
    "\n",
    "# Extraer la información de las tres columnas principales del archivo json original\n",
    "category = []\n",
    "tech1 = []\n",
    "description = []\n",
    "fit = []\n",
    "title = []\n",
    "also_buy = []\n",
    "tech2 = []\n",
    "brand = []\n",
    "feature = []\n",
    "rank = []\n",
    "also_view = []\n",
    "main_cat = []\n",
    "similar_item = []\n",
    "date = []\n",
    "price = []\n",
    "asin = []\n",
    "imageURL = []\n",
    "imageURLHighRes = []\n",
    "\n",
    "for line in jlines:\n",
    "    data = json.loads(line)  # Analizar la línea como JSON\n",
    "    # Extraer los datos del JSON\n",
    "    category.append(data[\"category\"])\n",
    "    tech1.append(data[\"tech1\"])\n",
    "    description.append(data[\"description\"][0] if data[\"description\"] else \"\")  # Manejar la lista vacía\n",
    "    fit.append(data[\"fit\"])\n",
    "    title.append(data[\"title\"])\n",
    "    also_buy.append(data[\"also_buy\"])\n",
    "    tech2.append(data[\"tech2\"])\n",
    "    brand.append(data[\"brand\"])\n",
    "    feature.append(data[\"feature\"])\n",
    "    rank.append(data[\"rank\"])\n",
    "    also_view.append(data[\"also_view\"])\n",
    "    main_cat.append(data[\"main_cat\"])\n",
    "    similar_item.append(data[\"similar_item\"])\n",
    "    date.append(data[\"date\"])\n",
    "    price.append(data[\"price\"])\n",
    "    asin.append(data[\"asin\"])\n",
    "    imageURL.append(data[\"imageURL\"])\n",
    "    imageURLHighRes.append(data[\"imageURLHighRes\"])\n",
    "\n",
    "# Crear el DataFrame\n",
    "meta_Industrial_and_Scientific = pd.DataFrame()\n",
    "meta_Industrial_and_Scientific['category'] = category\n",
    "meta_Industrial_and_Scientific['tech1'] = tech1\n",
    "meta_Industrial_and_Scientific['description'] = description\n",
    "meta_Industrial_and_Scientific['fit'] = fit\n",
    "meta_Industrial_and_Scientific['title'] = title\n",
    "meta_Industrial_and_Scientific['also_buy'] = also_buy\n",
    "meta_Industrial_and_Scientific['tech2'] = tech2\n",
    "meta_Industrial_and_Scientific['brand'] = brand\n",
    "meta_Industrial_and_Scientific['feature'] = feature\n",
    "meta_Industrial_and_Scientific['rank'] = rank\n",
    "meta_Industrial_and_Scientific['also_view'] = also_view\n",
    "meta_Industrial_and_Scientific['main_cat'] = main_cat\n",
    "meta_Industrial_and_Scientific['similar_item'] = similar_item\n",
    "meta_Industrial_and_Scientific['date'] = date\n",
    "meta_Industrial_and_Scientific['price'] = price\n",
    "meta_Industrial_and_Scientific['asin'] = asin\n",
    "meta_Industrial_and_Scientific['imageURL'] = imageURL\n",
    "meta_Industrial_and_Scientific['imageURLHighRes'] = imageURLHighRes"
   ]
  },
  {
   "cell_type": "markdown",
   "metadata": {},
   "source": [
    "    - meta_Appliances"
   ]
  },
  {
   "cell_type": "code",
   "execution_count": null,
   "metadata": {},
   "outputs": [],
   "source": [
    "jlines = []\n",
    "# Abrir el archivo JSON en modo lectura\n",
    "with open('meta_Appliances.json', 'r', encoding='utf-8') as file:\n",
    "    lines = file.readlines()\n",
    "\n",
    "# Guardar las líneas del archivo JSON\n",
    "for line in lines:\n",
    "    jlines.append(line)\n",
    "\n",
    "# Extraer la información de las tres columnas principales del archivo json original\n",
    "category = []\n",
    "tech1 = []\n",
    "description = []\n",
    "fit = []\n",
    "title = []\n",
    "also_buy = []\n",
    "tech2 = []\n",
    "brand = []\n",
    "feature = []\n",
    "rank = []\n",
    "also_view = []\n",
    "main_cat = []\n",
    "similar_item = []\n",
    "date = []\n",
    "price = []\n",
    "asin = []\n",
    "imageURL = []\n",
    "imageURLHighRes = []\n",
    "\n",
    "for line in jlines:\n",
    "    data = json.loads(line)  # Analizar la línea como JSON\n",
    "    # Extraer los datos del JSON\n",
    "    category.append(data[\"category\"])\n",
    "    tech1.append(data[\"tech1\"])\n",
    "    description.append(data[\"description\"][0] if data[\"description\"] else \"\")  # Manejar la lista vacía\n",
    "    fit.append(data[\"fit\"])\n",
    "    title.append(data[\"title\"])\n",
    "    also_buy.append(data[\"also_buy\"])\n",
    "    tech2.append(data[\"tech2\"])\n",
    "    brand.append(data[\"brand\"])\n",
    "    feature.append(data[\"feature\"])\n",
    "    rank.append(data[\"rank\"])\n",
    "    also_view.append(data[\"also_view\"])\n",
    "    main_cat.append(data[\"main_cat\"])\n",
    "    similar_item.append(data[\"similar_item\"])\n",
    "    date.append(data[\"date\"])\n",
    "    price.append(data[\"price\"])\n",
    "    asin.append(data[\"asin\"])\n",
    "    imageURL.append(data[\"imageURL\"])\n",
    "    imageURLHighRes.append(data[\"imageURLHighRes\"])\n",
    "\n",
    "# Crear el DataFrame\n",
    "meta_Appliances = pd.DataFrame()\n",
    "meta_Appliances['category'] = category\n",
    "meta_Appliances['tech1'] = tech1\n",
    "meta_Appliances['description'] = description\n",
    "meta_Appliances['fit'] = fit\n",
    "meta_Appliances['title'] = title\n",
    "meta_Appliances['also_buy'] = also_buy\n",
    "meta_Appliances['tech2'] = tech2\n",
    "meta_Appliances['brand'] = brand\n",
    "meta_Appliances['feature'] = feature\n",
    "meta_Appliances['rank'] = rank\n",
    "meta_Appliances['also_view'] = also_view\n",
    "meta_Appliances['main_cat'] = main_cat\n",
    "meta_Appliances['similar_item'] = similar_item\n",
    "meta_Appliances['date'] = date\n",
    "meta_Appliances['price'] = price\n",
    "meta_Appliances['asin'] = asin\n",
    "meta_Appliances['imageURL'] = imageURL\n",
    "meta_Appliances['imageURLHighRes'] = imageURLHighRes"
   ]
  },
  {
   "cell_type": "markdown",
   "metadata": {},
   "source": [
    "* Limpieza de datos (Transformation)"
   ]
  },
  {
   "cell_type": "markdown",
   "metadata": {},
   "source": [
    "En esta sección, evaluaremos la utilidad de los datos presentes en los DataFrames y decidiremos si es necesario eliminar ciertos elementos para optimizar el uso de memoria. También realizaremos la estandarización de los datos, que incluye la conversión a minúsculas, para garantizar una consistencia en el formato.\n",
    "\n",
    "\n",
    "\n",
    "\n"
   ]
  },
  {
   "cell_type": "markdown",
   "metadata": {},
   "source": [
    "En todos los DataFrames de las secciones de los elementos, se identificaron patrones comunes. Por ejemplo, se encontraron duplicados en las columnas reviewerID y comentario, los cuales deben eliminarse. Además, se observó que las columnas reviewTime y unixReviewTime hacen referencia a la misma fecha, prefiriendo la columna unixReviewTime debido a su representación numérica y menor consumo de espacio. La columna style proporciona información sobre el formato del artículo, pero no aporta datos relevantes para nuestra base de datos. Del mismo modo, la columna verified indica si el comentario está verificado, información que no es necesaria en nuestro conjunto de datos. Por último, el campo reviewerName (nombre de usuario) tampoco resulta relevante para nuestros fines.\n",
    "\n",
    "\n",
    "\n",
    "\n"
   ]
  },
  {
   "cell_type": "markdown",
   "metadata": {},
   "source": [
    "    - Office_Products"
   ]
  },
  {
   "cell_type": "code",
   "execution_count": null,
   "metadata": {},
   "outputs": [],
   "source": [
    "# Eliminar duplicados\n",
    "Office_Products.drop_duplicates(subset=['reviewerID', 'reviewText'], keep='first', inplace=True)\n",
    "# Reiniciar los indices del DataFrame\n",
    "Office_Products.reset_index(drop=True, inplace=True)\n",
    "\n",
    "# Eliminar columnas innecesarias\n",
    "del Office_Products['reviewTime']\n",
    "del Office_Products['style']\n",
    "del Office_Products['verified']\n",
    "del Office_Products['reviewerName']\n",
    "\n",
    "# Hacer que todo el DataFrame esté en minúscula\n",
    "Office_Products = Office_Products.applymap(lambda x: x.lower() if isinstance(x, str) else x)\n",
    "\n",
    "# Convertir el DataFrame a parquet para ahorrar aún más espacio\n",
    "Office_Products.to_parquet('Patio_Lawn_and_Garden.parquet', index=False)"
   ]
  },
  {
   "cell_type": "markdown",
   "metadata": {},
   "source": [
    "    - Home_and_Kitchen"
   ]
  },
  {
   "cell_type": "code",
   "execution_count": null,
   "metadata": {},
   "outputs": [],
   "source": [
    "# Eliminar duplicados\n",
    "Home_and_Kitchen.drop_duplicates(subset=['reviewerID', 'reviewText'], keep='first', inplace=True)\n",
    "# Reiniciar los indices del DataFrame\n",
    "Home_and_Kitchen.reset_index(drop=True, inplace=True)\n",
    "\n",
    "# Eliminar columnas innecesarias\n",
    "del Home_and_Kitchen['reviewTime']\n",
    "del Home_and_Kitchen['style']\n",
    "del Home_and_Kitchen['verified']\n",
    "del Home_and_Kitchen['reviewerName']\n",
    "\n",
    "# Hacer que todo el DataFrame esté en minúscula\n",
    "Home_and_Kitchen = Home_and_Kitchen.applymap(lambda x: x.lower() if isinstance(x, str) else x)\n",
    "\n",
    "# Convertir el DataFrame a parquet para ahorrar aún más espacio\n",
    "Home_and_Kitchen.to_parquet('Home_and_Kitchen.parquet', index=False)"
   ]
  },
  {
   "cell_type": "markdown",
   "metadata": {},
   "source": [
    "    - Kindle_Store"
   ]
  },
  {
   "cell_type": "code",
   "execution_count": null,
   "metadata": {},
   "outputs": [],
   "source": [
    "# Eliminar duplicados\n",
    "Kindle_Store.drop_duplicates(subset=['reviewerID', 'reviewText'], keep='first', inplace=True)\n",
    "# Reiniciar los indices del DataFrame\n",
    "Kindle_Store.reset_index(drop=True, inplace=True)\n",
    "\n",
    "# Eliminar columnas innecesarias\n",
    "del Kindle_Store['reviewTime']\n",
    "del Kindle_Store['style']\n",
    "del Kindle_Store['verified']\n",
    "del Kindle_Store['reviewerName']\n",
    "\n",
    "# Hacer que todo el DataFrame esté en minúscula\n",
    "Kindle_Store = Kindle_Store.applymap(lambda x: x.lower() if isinstance(x, str) else x)\n",
    "\n",
    "# Convertir el DataFrame a parquet para ahorrar aún más espacio\n",
    "Kindle_Store.to_parquet('Kindle_Store.parquet', index=False)"
   ]
  },
  {
   "cell_type": "markdown",
   "metadata": {},
   "source": [
    "    - Industrial_and_Scientific"
   ]
  },
  {
   "cell_type": "code",
   "execution_count": null,
   "metadata": {},
   "outputs": [],
   "source": [
    "# Eliminar duplicados\n",
    "Industrial_and_Scientific.drop_duplicates(subset=['reviewerID', 'reviewText'], keep='first', inplace=True)\n",
    "# Reiniciar los indices del DataFrame\n",
    "Industrial_and_Scientific.reset_index(drop=True, inplace=True)\n",
    "\n",
    "# Eliminar columnas innecesarias\n",
    "del Industrial_and_Scientific['reviewTime']\n",
    "del Industrial_and_Scientific['style']\n",
    "del Industrial_and_Scientific['verified']\n",
    "del Industrial_and_Scientific['reviewerName']\n",
    "\n",
    "# Hacer que todo el DataFrame esté en minúscula\n",
    "Industrial_and_Scientific = Industrial_and_Scientific.applymap(lambda x: x.lower() if isinstance(x, str) else x)\n",
    "\n",
    "# Convertir el DataFrame a parquet para ahorrar aún más espacio\n",
    "Industrial_and_Scientific.to_parquet('Industrial_and_Scientific.parquet', index=False)"
   ]
  },
  {
   "cell_type": "markdown",
   "metadata": {},
   "source": [
    "    - Appliances"
   ]
  },
  {
   "cell_type": "code",
   "execution_count": null,
   "metadata": {},
   "outputs": [],
   "source": [
    "# Eliminar duplicados\n",
    "Appliances.drop_duplicates(subset=['reviewerID', 'reviewText'], keep='first', inplace=True)\n",
    "# Reiniciar los indices del DataFrame\n",
    "Appliances.reset_index(drop=True, inplace=True)\n",
    "\n",
    "# Eliminar columnas innecesarias\n",
    "del Appliances['reviewTime']\n",
    "del Appliances['style']\n",
    "del Appliances['verified']\n",
    "del Appliances['reviewerName']\n",
    "\n",
    "# Hacer que todo el DataFrame esté en minúscula\n",
    "Appliances = Appliances.applymap(lambda x: x.lower() if isinstance(x, str) else x)\n",
    "\n",
    "# Convertir el DataFrame a parquet para ahorrar aún más espacio\n",
    "Appliances.to_parquet('Appliances.parquet', index=False)"
   ]
  },
  {
   "cell_type": "markdown",
   "metadata": {},
   "source": [
    "Ahora, procederemos a abordar los archivos \"meta\". En esta etapa, se llevará a cabo la eliminación de las siguientes columnas en dichos archivos: category, tech1, fit, also_buy, tech2, feature, rank, also_view, similar_item, date, imageURL, e imageURLHighRes. Esta decisión se basa en la falta de información relevante que estas columnas proporcionan o en el alto porcentaje de valores nulos que contienen, lo que las hace prescindibles para nuestros propósitos.\n",
    "\n",
    "\n",
    "\n",
    "\n"
   ]
  },
  {
   "cell_type": "markdown",
   "metadata": {},
   "source": [
    "Asimismo, se procede a la transformación de los datos en la columna \"price\". Esta columna contiene valores en formato de moneda, como \"$44.95\", los cuales se convierten a tipo float con el fin de optimizar el uso de espacio. Para llevar a cabo esta conversión, se ha creado una función denominada \"convert_to_float\". Además de esta transformación, se estandarizan todos los datos a minúsculas y se realiza la eliminación de duplicados para garantizar la consistencia y calidad de la información.\n",
    "\n",
    "\n",
    "\n",
    "\n"
   ]
  },
  {
   "cell_type": "code",
   "execution_count": null,
   "metadata": {},
   "outputs": [],
   "source": [
    "def convert_to_float(value):\n",
    "    try:\n",
    "        return float(value.replace('$', ''))\n",
    "    except ValueError:\n",
    "        return None"
   ]
  },
  {
   "cell_type": "markdown",
   "metadata": {},
   "source": [
    "    - meta_Home_and_Kitchen"
   ]
  },
  {
   "cell_type": "code",
   "execution_count": null,
   "metadata": {},
   "outputs": [],
   "source": [
    "# Eliminar columnas innecesarias\n",
    "del meta_Home_and_Kitchen['category']\n",
    "del meta_Home_and_Kitchen['tech1']\n",
    "del meta_Home_and_Kitchen['fit']\n",
    "del meta_Home_and_Kitchen['also_buy']\n",
    "del meta_Home_and_Kitchen['tech2']\n",
    "del meta_Home_and_Kitchen['feature']\n",
    "del meta_Home_and_Kitchen['rank']\n",
    "del meta_Home_and_Kitchen['also_view']\n",
    "del meta_Home_and_Kitchen['similar_item']\n",
    "del meta_Home_and_Kitchen['date']\n",
    "del meta_Home_and_Kitchen['imageURLHighRes']\n",
    "\n",
    "# Eliminar duplicados\n",
    "meta_Home_and_Kitchen.drop_duplicates(subset=['title', 'asin'], keep='first', inplace=True)\n",
    "# Reiniciar los indices del DataFrame\n",
    "meta_Home_and_Kitchen.reset_index(drop=True, inplace=True)\n",
    "\n",
    "# Realizar operaciones en la columna \"price\" antes de la conversión\n",
    "meta_Home_and_Kitchen['price'] = meta_Home_and_Kitchen['price'].apply(lambda x: str(x).replace('$', '') if isinstance(x, str) else str(x))\n",
    "# Convertir la columna \"price\" a float\n",
    "meta_Home_and_Kitchen['price'] = meta_Home_and_Kitchen['price'].apply(convert_to_float)\n",
    "\n",
    "# Hacer que todo el DataFrame esté en minúscula\n",
    "meta_Home_and_Kitchen = meta_Home_and_Kitchen.applymap(lambda x: x.lower() if isinstance(x, str) else x)\n",
    "\n",
    "# Convertir el DataFrame a parquet para ahorrar aún más espacio\n",
    "meta_Home_and_Kitchen.to_parquet('meta_Home_and_Kitchen.parquet', index=False)"
   ]
  },
  {
   "cell_type": "markdown",
   "metadata": {},
   "source": [
    "    - meta_Kindle_Store"
   ]
  },
  {
   "cell_type": "code",
   "execution_count": null,
   "metadata": {},
   "outputs": [],
   "source": [
    "# Eliminar columnas innecesarias\n",
    "del meta_Kindle_Store['category']\n",
    "del meta_Kindle_Store['tech1']\n",
    "del meta_Kindle_Store['fit']\n",
    "del meta_Kindle_Store['also_buy']\n",
    "del meta_Kindle_Store['tech2']\n",
    "del meta_Kindle_Store['feature']\n",
    "del meta_Kindle_Store['rank']\n",
    "del meta_Kindle_Store['also_view']\n",
    "del meta_Kindle_Store['similar_item']\n",
    "del meta_Kindle_Store['date']\n",
    "del meta_Kindle_Store['imageURL']\n",
    "del meta_Kindle_Store['imageURLHighRes']\n",
    "\n",
    "# Eliminar duplicados\n",
    "meta_Kindle_Store.drop_duplicates(subset=['title', 'asin'], keep='first', inplace=True)\n",
    "# Reiniciar los indices del DataFrame\n",
    "meta_Kindle_Store.reset_index(drop=True, inplace=True)\n",
    "\n",
    "# Realizar operaciones en la columna \"price\" antes de la conversión\n",
    "meta_Kindle_Store['price'] = meta_Kindle_Store['price'].apply(lambda x: str(x).replace('$', '') if isinstance(x, str) else str(x))\n",
    "# Convertir la columna \"price\" a float\n",
    "meta_Kindle_Store['price'] = meta_Kindle_Store['price'].apply(convert_to_float)\n",
    "\n",
    "# Hacer que todo el DataFrame esté en minúscula\n",
    "meta_Kindle_Store = meta_Kindle_Store.applymap(lambda x: x.lower() if isinstance(x, str) else x)\n",
    "\n",
    "# Convertir el DataFrame a parquet para ahorrar aún más espacio\n",
    "meta_Kindle_Store.to_parquet('meta_Kindle_Store.parquet', index=False)"
   ]
  },
  {
   "cell_type": "markdown",
   "metadata": {},
   "source": [
    "    - meta_Office_Products"
   ]
  },
  {
   "cell_type": "code",
   "execution_count": null,
   "metadata": {},
   "outputs": [],
   "source": [
    "# Eliminar columnas innecesarias\n",
    "del meta_Office_Products['category']\n",
    "del meta_Office_Products['tech1']\n",
    "del meta_Office_Products['fit']\n",
    "del meta_Office_Products['also_buy']\n",
    "del meta_Office_Products['tech2']\n",
    "del meta_Office_Products['feature']\n",
    "del meta_Office_Products['rank']\n",
    "del meta_Office_Products['also_view']\n",
    "del meta_Office_Products['similar_item']\n",
    "del meta_Office_Products['date']\n",
    "del meta_Office_Products['imageURL']\n",
    "del meta_Office_Products['imageURLHighRes']\n",
    "\n",
    "# Eliminar duplicados\n",
    "meta_Office_Products.drop_duplicates(subset=['title', 'asin'], keep='first', inplace=True)\n",
    "# Reiniciar los indices del DataFrame\n",
    "meta_Office_Products.reset_index(drop=True, inplace=True)\n",
    "\n",
    "# Realizar operaciones en la columna \"price\" antes de la conversión\n",
    "meta_Office_Products['price'] = meta_Office_Products['price'].apply(lambda x: str(x).replace('$', '') if isinstance(x, str) else str(x))\n",
    "# Convertir la columna \"price\" a float\n",
    "meta_Office_Products['price'] = meta_Office_Products['price'].apply(convert_to_float)\n",
    "\n",
    "# Hacer que todo el DataFrame esté en minúscula\n",
    "meta_Office_Products = meta_Office_Products.applymap(lambda x: x.lower() if isinstance(x, str) else x)\n",
    "\n",
    "# Convertir el DataFrame a parquet para ahorrar aún más espacio\n",
    "meta_Office_Products.to_parquet('meta_Office_Products.parquet', index=False)"
   ]
  },
  {
   "cell_type": "markdown",
   "metadata": {},
   "source": [
    "    - meta_Industrial_and_Scientific"
   ]
  },
  {
   "cell_type": "code",
   "execution_count": null,
   "metadata": {},
   "outputs": [],
   "source": [
    "# Eliminar columnas innecesarias\n",
    "del meta_Industrial_and_Scientific['category']\n",
    "del meta_Industrial_and_Scientific['tech1']\n",
    "del meta_Industrial_and_Scientific['fit']\n",
    "del meta_Industrial_and_Scientific['also_buy']\n",
    "del meta_Industrial_and_Scientific['tech2']\n",
    "del meta_Industrial_and_Scientific['feature']\n",
    "del meta_Industrial_and_Scientific['rank']\n",
    "del meta_Industrial_and_Scientific['also_view']\n",
    "del meta_Industrial_and_Scientific['similar_item']\n",
    "del meta_Industrial_and_Scientific['date']\n",
    "del meta_Industrial_and_Scientific['imageURL']\n",
    "del meta_Industrial_and_Scientific['imageURLHighRes']\n",
    "\n",
    "# Eliminar duplicados\n",
    "meta_Industrial_and_Scientific.drop_duplicates(subset=['title', 'asin'], keep='first', inplace=True)\n",
    "# Reiniciar los indices del DataFrame\n",
    "meta_Industrial_and_Scientific.reset_index(drop=True, inplace=True)\n",
    "\n",
    "# Realizar operaciones en la columna \"price\" antes de la conversión\n",
    "meta_Industrial_and_Scientific['price'] = meta_Industrial_and_Scientific['price'].apply(lambda x: str(x).replace('$', '') if isinstance(x, str) else str(x))\n",
    "# Convertir la columna \"price\" a float\n",
    "meta_Industrial_and_Scientific['price'] = meta_Industrial_and_Scientific['price'].apply(convert_to_float)\n",
    "\n",
    "# Hacer que todo el DataFrame esté en minúscula\n",
    "meta_Industrial_and_Scientific = meta_Industrial_and_Scientific.applymap(lambda x: x.lower() if isinstance(x, str) else x)\n",
    "\n",
    "# Convertir el DataFrame a parquet para ahorrar aún más espacio\n",
    "meta_Industrial_and_Scientific.to_parquet('meta_Industrial_and_Scientific.parquet', index=False)"
   ]
  },
  {
   "cell_type": "markdown",
   "metadata": {},
   "source": [
    "    - meta_Appliances"
   ]
  },
  {
   "cell_type": "code",
   "execution_count": null,
   "metadata": {},
   "outputs": [],
   "source": [
    "# Eliminar columnas innecesarias\n",
    "del meta_Appliances['category']\n",
    "del meta_Appliances['tech1']\n",
    "del meta_Appliances['fit']\n",
    "del meta_Appliances['also_buy']\n",
    "del meta_Appliances['tech2']\n",
    "del meta_Appliances['feature']\n",
    "del meta_Appliances['rank']\n",
    "del meta_Appliances['also_view']\n",
    "del meta_Appliances['similar_item']\n",
    "del meta_Appliances['date']\n",
    "del meta_Appliances['imageURL']\n",
    "del meta_Appliances['imageURLHighRes']\n",
    "\n",
    "# Eliminar duplicados\n",
    "meta_Appliances.drop_duplicates(subset=['title', 'asin'], keep='first', inplace=True)\n",
    "# Reiniciar los indices del DataFrame\n",
    "meta_Appliances.reset_index(drop=True, inplace=True)\n",
    "\n",
    "# Realizar operaciones en la columna \"price\" antes de la conversión\n",
    "meta_Appliances['price'] = meta_Appliances['price'].apply(lambda x: str(x).replace('$', '') if isinstance(x, str) else str(x))\n",
    "# Convertir la columna \"price\" a float\n",
    "meta_Appliances['price'] = meta_Appliances['price'].apply(convert_to_float)\n",
    "\n",
    "# Hacer que todo el DataFrame esté en minúscula\n",
    "meta_Appliances = meta_Appliances.applymap(lambda x: x.lower() if isinstance(x, str) else x)\n",
    "\n",
    "# Convertir el DataFrame a parquet para ahorrar aún más espacio\n",
    "meta_Appliances.to_parquet('meta_Appliances.parquet', index=False)"
   ]
  },
  {
   "cell_type": "markdown",
   "metadata": {},
   "source": [
    "* Carga de los datos (Load)"
   ]
  },
  {
   "cell_type": "markdown",
   "metadata": {},
   "source": [
    "Estos datos ya procesados han sido cargados a google cloud para posterior manejo."
   ]
  },
  {
   "cell_type": "markdown",
   "metadata": {
    "id": "p4tCcln8KPsY"
   },
   "source": [
    "**Reviews Digital Music**"
   ]
  },
  {
   "cell_type": "code",
   "execution_count": null,
   "metadata": {
    "id": "22gQTFc4KDsM"
   },
   "outputs": [],
   "source": [
    " #URL del archivo comprimido\n",
    "url = \"http://snap.stanford.edu/data/amazon/productGraph/categoryFiles/reviews_Digital_Music.json.gz\"\n",
    "\n",
    "# Descarga el archivo y lo guarda localmente como 'reviews_Sports_and_Outdoors_5.json.gz'\n",
    "urllib.request.urlretrieve(url, 'reviews_Digital_Music.json.gz')\n",
    "\n",
    "# Abre el archivo comprimido y carga los datos en un DataFrame\n",
    "with gzip.open('reviews_Digital_Music.json.gz', 'rt', encoding='utf-8') as file:\n",
    "    data = [json.loads(line) for line in file]\n",
    "\n",
    "# Crea el DataFrame\n",
    "Digital_df = pd.DataFrame(data)\n",
    "\n",
    "# Ahora, sports_df contiene los datos del archivo JSON en un DataFrame de Pandas"
   ]
  },
  {
   "cell_type": "code",
   "execution_count": null,
   "metadata": {
    "colab": {
     "base_uri": "https://localhost:8080/",
     "height": 251
    },
    "id": "0bq66NBIKpHX",
    "outputId": "cde6f42a-1710-468b-837c-592467c35e9f"
   },
   "outputs": [
    {
     "data": {
      "text/html": [
       "\n",
       "  <div id=\"df-1008ec6c-8da4-4a23-8c76-cf5d2e9bd3a7\" class=\"colab-df-container\">\n",
       "    <div>\n",
       "<style scoped>\n",
       "    .dataframe tbody tr th:only-of-type {\n",
       "        vertical-align: middle;\n",
       "    }\n",
       "\n",
       "    .dataframe tbody tr th {\n",
       "        vertical-align: top;\n",
       "    }\n",
       "\n",
       "    .dataframe thead th {\n",
       "        text-align: right;\n",
       "    }\n",
       "</style>\n",
       "<table border=\"1\" class=\"dataframe\">\n",
       "  <thead>\n",
       "    <tr style=\"text-align: right;\">\n",
       "      <th></th>\n",
       "      <th>reviewerID</th>\n",
       "      <th>asin</th>\n",
       "      <th>reviewerName</th>\n",
       "      <th>helpful</th>\n",
       "      <th>reviewText</th>\n",
       "      <th>overall</th>\n",
       "      <th>summary</th>\n",
       "      <th>unixReviewTime</th>\n",
       "      <th>reviewTime</th>\n",
       "    </tr>\n",
       "  </thead>\n",
       "  <tbody>\n",
       "    <tr>\n",
       "      <th>0</th>\n",
       "      <td>A2EFCYXHNK06IS</td>\n",
       "      <td>5555991584</td>\n",
       "      <td>Abigail Perkins \"Abby &amp;#34;Reads Too Much&amp;#34...</td>\n",
       "      <td>[4, 5]</td>\n",
       "      <td>The anthemic title track begins &amp;quot;The Memo...</td>\n",
       "      <td>5.0</td>\n",
       "      <td>Enya Experiments And Succeeds</td>\n",
       "      <td>978480000</td>\n",
       "      <td>01 3, 2001</td>\n",
       "    </tr>\n",
       "    <tr>\n",
       "      <th>1</th>\n",
       "      <td>A1WR23ER5HMAA9</td>\n",
       "      <td>5555991584</td>\n",
       "      <td>AKB</td>\n",
       "      <td>[1, 1]</td>\n",
       "      <td>Just when I thought Enya couldn't possibly get...</td>\n",
       "      <td>5.0</td>\n",
       "      <td>How to improve upon perfection.</td>\n",
       "      <td>953424000</td>\n",
       "      <td>03 19, 2000</td>\n",
       "    </tr>\n",
       "  </tbody>\n",
       "</table>\n",
       "</div>\n",
       "    <div class=\"colab-df-buttons\">\n",
       "\n",
       "  <div class=\"colab-df-container\">\n",
       "    <button class=\"colab-df-convert\" onclick=\"convertToInteractive('df-1008ec6c-8da4-4a23-8c76-cf5d2e9bd3a7')\"\n",
       "            title=\"Convert this dataframe to an interactive table.\"\n",
       "            style=\"display:none;\">\n",
       "\n",
       "  <svg xmlns=\"http://www.w3.org/2000/svg\" height=\"24px\" viewBox=\"0 -960 960 960\">\n",
       "    <path d=\"M120-120v-720h720v720H120Zm60-500h600v-160H180v160Zm220 220h160v-160H400v160Zm0 220h160v-160H400v160ZM180-400h160v-160H180v160Zm440 0h160v-160H620v160ZM180-180h160v-160H180v160Zm440 0h160v-160H620v160Z\"/>\n",
       "  </svg>\n",
       "    </button>\n",
       "\n",
       "  <style>\n",
       "    .colab-df-container {\n",
       "      display:flex;\n",
       "      gap: 12px;\n",
       "    }\n",
       "\n",
       "    .colab-df-convert {\n",
       "      background-color: #E8F0FE;\n",
       "      border: none;\n",
       "      border-radius: 50%;\n",
       "      cursor: pointer;\n",
       "      display: none;\n",
       "      fill: #1967D2;\n",
       "      height: 32px;\n",
       "      padding: 0 0 0 0;\n",
       "      width: 32px;\n",
       "    }\n",
       "\n",
       "    .colab-df-convert:hover {\n",
       "      background-color: #E2EBFA;\n",
       "      box-shadow: 0px 1px 2px rgba(60, 64, 67, 0.3), 0px 1px 3px 1px rgba(60, 64, 67, 0.15);\n",
       "      fill: #174EA6;\n",
       "    }\n",
       "\n",
       "    .colab-df-buttons div {\n",
       "      margin-bottom: 4px;\n",
       "    }\n",
       "\n",
       "    [theme=dark] .colab-df-convert {\n",
       "      background-color: #3B4455;\n",
       "      fill: #D2E3FC;\n",
       "    }\n",
       "\n",
       "    [theme=dark] .colab-df-convert:hover {\n",
       "      background-color: #434B5C;\n",
       "      box-shadow: 0px 1px 3px 1px rgba(0, 0, 0, 0.15);\n",
       "      filter: drop-shadow(0px 1px 2px rgba(0, 0, 0, 0.3));\n",
       "      fill: #FFFFFF;\n",
       "    }\n",
       "  </style>\n",
       "\n",
       "    <script>\n",
       "      const buttonEl =\n",
       "        document.querySelector('#df-1008ec6c-8da4-4a23-8c76-cf5d2e9bd3a7 button.colab-df-convert');\n",
       "      buttonEl.style.display =\n",
       "        google.colab.kernel.accessAllowed ? 'block' : 'none';\n",
       "\n",
       "      async function convertToInteractive(key) {\n",
       "        const element = document.querySelector('#df-1008ec6c-8da4-4a23-8c76-cf5d2e9bd3a7');\n",
       "        const dataTable =\n",
       "          await google.colab.kernel.invokeFunction('convertToInteractive',\n",
       "                                                    [key], {});\n",
       "        if (!dataTable) return;\n",
       "\n",
       "        const docLinkHtml = 'Like what you see? Visit the ' +\n",
       "          '<a target=\"_blank\" href=https://colab.research.google.com/notebooks/data_table.ipynb>data table notebook</a>'\n",
       "          + ' to learn more about interactive tables.';\n",
       "        element.innerHTML = '';\n",
       "        dataTable['output_type'] = 'display_data';\n",
       "        await google.colab.output.renderOutput(dataTable, element);\n",
       "        const docLink = document.createElement('div');\n",
       "        docLink.innerHTML = docLinkHtml;\n",
       "        element.appendChild(docLink);\n",
       "      }\n",
       "    </script>\n",
       "  </div>\n",
       "\n",
       "\n",
       "<div id=\"df-4e29a53c-3975-4330-9fa7-15ea4348c4f0\">\n",
       "  <button class=\"colab-df-quickchart\" onclick=\"quickchart('df-4e29a53c-3975-4330-9fa7-15ea4348c4f0')\"\n",
       "            title=\"Suggest charts.\"\n",
       "            style=\"display:none;\">\n",
       "\n",
       "<svg xmlns=\"http://www.w3.org/2000/svg\" height=\"24px\"viewBox=\"0 0 24 24\"\n",
       "     width=\"24px\">\n",
       "    <g>\n",
       "        <path d=\"M19 3H5c-1.1 0-2 .9-2 2v14c0 1.1.9 2 2 2h14c1.1 0 2-.9 2-2V5c0-1.1-.9-2-2-2zM9 17H7v-7h2v7zm4 0h-2V7h2v10zm4 0h-2v-4h2v4z\"/>\n",
       "    </g>\n",
       "</svg>\n",
       "  </button>\n",
       "\n",
       "<style>\n",
       "  .colab-df-quickchart {\n",
       "      --bg-color: #E8F0FE;\n",
       "      --fill-color: #1967D2;\n",
       "      --hover-bg-color: #E2EBFA;\n",
       "      --hover-fill-color: #174EA6;\n",
       "      --disabled-fill-color: #AAA;\n",
       "      --disabled-bg-color: #DDD;\n",
       "  }\n",
       "\n",
       "  [theme=dark] .colab-df-quickchart {\n",
       "      --bg-color: #3B4455;\n",
       "      --fill-color: #D2E3FC;\n",
       "      --hover-bg-color: #434B5C;\n",
       "      --hover-fill-color: #FFFFFF;\n",
       "      --disabled-bg-color: #3B4455;\n",
       "      --disabled-fill-color: #666;\n",
       "  }\n",
       "\n",
       "  .colab-df-quickchart {\n",
       "    background-color: var(--bg-color);\n",
       "    border: none;\n",
       "    border-radius: 50%;\n",
       "    cursor: pointer;\n",
       "    display: none;\n",
       "    fill: var(--fill-color);\n",
       "    height: 32px;\n",
       "    padding: 0;\n",
       "    width: 32px;\n",
       "  }\n",
       "\n",
       "  .colab-df-quickchart:hover {\n",
       "    background-color: var(--hover-bg-color);\n",
       "    box-shadow: 0 1px 2px rgba(60, 64, 67, 0.3), 0 1px 3px 1px rgba(60, 64, 67, 0.15);\n",
       "    fill: var(--button-hover-fill-color);\n",
       "  }\n",
       "\n",
       "  .colab-df-quickchart-complete:disabled,\n",
       "  .colab-df-quickchart-complete:disabled:hover {\n",
       "    background-color: var(--disabled-bg-color);\n",
       "    fill: var(--disabled-fill-color);\n",
       "    box-shadow: none;\n",
       "  }\n",
       "\n",
       "  .colab-df-spinner {\n",
       "    border: 2px solid var(--fill-color);\n",
       "    border-color: transparent;\n",
       "    border-bottom-color: var(--fill-color);\n",
       "    animation:\n",
       "      spin 1s steps(1) infinite;\n",
       "  }\n",
       "\n",
       "  @keyframes spin {\n",
       "    0% {\n",
       "      border-color: transparent;\n",
       "      border-bottom-color: var(--fill-color);\n",
       "      border-left-color: var(--fill-color);\n",
       "    }\n",
       "    20% {\n",
       "      border-color: transparent;\n",
       "      border-left-color: var(--fill-color);\n",
       "      border-top-color: var(--fill-color);\n",
       "    }\n",
       "    30% {\n",
       "      border-color: transparent;\n",
       "      border-left-color: var(--fill-color);\n",
       "      border-top-color: var(--fill-color);\n",
       "      border-right-color: var(--fill-color);\n",
       "    }\n",
       "    40% {\n",
       "      border-color: transparent;\n",
       "      border-right-color: var(--fill-color);\n",
       "      border-top-color: var(--fill-color);\n",
       "    }\n",
       "    60% {\n",
       "      border-color: transparent;\n",
       "      border-right-color: var(--fill-color);\n",
       "    }\n",
       "    80% {\n",
       "      border-color: transparent;\n",
       "      border-right-color: var(--fill-color);\n",
       "      border-bottom-color: var(--fill-color);\n",
       "    }\n",
       "    90% {\n",
       "      border-color: transparent;\n",
       "      border-bottom-color: var(--fill-color);\n",
       "    }\n",
       "  }\n",
       "</style>\n",
       "\n",
       "  <script>\n",
       "    async function quickchart(key) {\n",
       "      const quickchartButtonEl =\n",
       "        document.querySelector('#' + key + ' button');\n",
       "      quickchartButtonEl.disabled = true;  // To prevent multiple clicks.\n",
       "      quickchartButtonEl.classList.add('colab-df-spinner');\n",
       "      try {\n",
       "        const charts = await google.colab.kernel.invokeFunction(\n",
       "            'suggestCharts', [key], {});\n",
       "      } catch (error) {\n",
       "        console.error('Error during call to suggestCharts:', error);\n",
       "      }\n",
       "      quickchartButtonEl.classList.remove('colab-df-spinner');\n",
       "      quickchartButtonEl.classList.add('colab-df-quickchart-complete');\n",
       "    }\n",
       "    (() => {\n",
       "      let quickchartButtonEl =\n",
       "        document.querySelector('#df-4e29a53c-3975-4330-9fa7-15ea4348c4f0 button');\n",
       "      quickchartButtonEl.style.display =\n",
       "        google.colab.kernel.accessAllowed ? 'block' : 'none';\n",
       "    })();\n",
       "  </script>\n",
       "</div>\n",
       "    </div>\n",
       "  </div>\n"
      ],
      "text/plain": [
       "       reviewerID        asin  \\\n",
       "0  A2EFCYXHNK06IS  5555991584   \n",
       "1  A1WR23ER5HMAA9  5555991584   \n",
       "\n",
       "                                       reviewerName helpful  \\\n",
       "0  Abigail Perkins \"Abby &#34;Reads Too Much&#34...  [4, 5]   \n",
       "1                                               AKB  [1, 1]   \n",
       "\n",
       "                                          reviewText  overall  \\\n",
       "0  The anthemic title track begins &quot;The Memo...      5.0   \n",
       "1  Just when I thought Enya couldn't possibly get...      5.0   \n",
       "\n",
       "                           summary  unixReviewTime   reviewTime  \n",
       "0    Enya Experiments And Succeeds       978480000   01 3, 2001  \n",
       "1  How to improve upon perfection.       953424000  03 19, 2000  "
      ]
     },
     "execution_count": 4,
     "metadata": {},
     "output_type": "execute_result"
    }
   ],
   "source": [
    "Digital_df.head(2)"
   ]
  },
  {
   "cell_type": "code",
   "execution_count": null,
   "metadata": {
    "colab": {
     "base_uri": "https://localhost:8080/"
    },
    "id": "_UYnEpcBKzzW",
    "outputId": "dd354cd9-e399-4ba4-8770-36aa44db7361"
   },
   "outputs": [
    {
     "name": "stdout",
     "output_type": "stream",
     "text": [
      "<class 'pandas.core.frame.DataFrame'>\n",
      "RangeIndex: 836006 entries, 0 to 836005\n",
      "Data columns (total 9 columns):\n",
      " #   Column          Non-Null Count   Dtype  \n",
      "---  ------          --------------   -----  \n",
      " 0   reviewerID      836006 non-null  object \n",
      " 1   asin            836006 non-null  object \n",
      " 2   reviewerName    833586 non-null  object \n",
      " 3   helpful         836006 non-null  object \n",
      " 4   reviewText      836006 non-null  object \n",
      " 5   overall         836006 non-null  float64\n",
      " 6   summary         836006 non-null  object \n",
      " 7   unixReviewTime  836006 non-null  int64  \n",
      " 8   reviewTime      836006 non-null  object \n",
      "dtypes: float64(1), int64(1), object(7)\n",
      "memory usage: 57.4+ MB\n"
     ]
    }
   ],
   "source": [
    "Digital_df.info()"
   ]
  },
  {
   "cell_type": "code",
   "execution_count": null,
   "metadata": {
    "id": "H1FlIki7K9WX"
   },
   "outputs": [],
   "source": [
    "# Elimina duplicados basados en la columna \"reviewerID\"\n",
    "Digital_df = Digital_df.drop_duplicates(subset=['reviewerID'])\n"
   ]
  },
  {
   "cell_type": "code",
   "execution_count": null,
   "metadata": {
    "id": "6ygGcSrkK9WX"
   },
   "outputs": [],
   "source": [
    "# Lista de columnas que deseas conservar\n",
    "columnas_seleccionadas = ['overall', 'reviewerID', 'asin', 'reviewerName', 'reviewText', 'summary', 'unixReviewTime']\n",
    "\n",
    "# Crea un nuevo DataFrame con las columnas seleccionadas\n",
    "Digital_df = Digital_df [columnas_seleccionadas]"
   ]
  },
  {
   "cell_type": "code",
   "execution_count": null,
   "metadata": {
    "id": "KbiUuJqAK9WX"
   },
   "outputs": [],
   "source": [
    "Digital_df[['reviewerID', 'reviewText', 'summary', 'asin']] = Digital_df[['reviewerID', 'reviewText', 'summary', 'asin']].astype(str)"
   ]
  },
  {
   "cell_type": "code",
   "execution_count": null,
   "metadata": {
    "id": "b_AAGz3FK9WX"
   },
   "outputs": [],
   "source": [
    "Digital_df[['overall', 'unixReviewTime']] = Digital_df[['overall', 'unixReviewTime']].astype(int)"
   ]
  },
  {
   "cell_type": "code",
   "execution_count": null,
   "metadata": {
    "id": "6oqmYMYY_0Eb"
   },
   "outputs": [],
   "source": [
    "Digital_df = Digital_df.applymap(lambda x: x.lower() if isinstance(x, str) else x)"
   ]
  },
  {
   "cell_type": "code",
   "execution_count": null,
   "metadata": {
    "colab": {
     "base_uri": "https://localhost:8080/",
     "height": 17
    },
    "id": "-wR6ZPSAK9WX",
    "outputId": "bfda055c-931f-4521-b878-7244817a9b02"
   },
   "outputs": [
    {
     "data": {
      "application/javascript": "\n    async function download(id, filename, size) {\n      if (!google.colab.kernel.accessAllowed) {\n        return;\n      }\n      const div = document.createElement('div');\n      const label = document.createElement('label');\n      label.textContent = `Downloading \"${filename}\": `;\n      div.appendChild(label);\n      const progress = document.createElement('progress');\n      progress.max = size;\n      div.appendChild(progress);\n      document.body.appendChild(div);\n\n      const buffers = [];\n      let downloaded = 0;\n\n      const channel = await google.colab.kernel.comms.open(id);\n      // Send a message to notify the kernel that we're ready.\n      channel.send({})\n\n      for await (const message of channel.messages) {\n        // Send a message to notify the kernel that we're ready.\n        channel.send({})\n        if (message.buffers) {\n          for (const buffer of message.buffers) {\n            buffers.push(buffer);\n            downloaded += buffer.byteLength;\n            progress.value = downloaded;\n          }\n        }\n      }\n      const blob = new Blob(buffers, {type: 'application/binary'});\n      const a = document.createElement('a');\n      a.href = window.URL.createObjectURL(blob);\n      a.download = filename;\n      div.appendChild(a);\n      a.click();\n      div.remove();\n    }\n  ",
      "text/plain": [
       "<IPython.core.display.Javascript object>"
      ]
     },
     "metadata": {},
     "output_type": "display_data"
    },
    {
     "data": {
      "application/javascript": "download(\"download_a7ae49e7-c2d3-4393-8aef-6533730796c5\", \"reviews_Digital_Music.parquet\", 129275654)",
      "text/plain": [
       "<IPython.core.display.Javascript object>"
      ]
     },
     "metadata": {},
     "output_type": "display_data"
    }
   ],
   "source": [
    "\n",
    "# Guardar el DataFrame en un archivo Parquet\n",
    "Digital_df.to_parquet('reviews_Digital_Music.parquet', index=False)\n",
    "\n",
    "# Descargar el archivo Parquet\n",
    "files.download('reviews_Digital_Music.parquet')\n"
   ]
  },
  {
   "cell_type": "markdown",
   "metadata": {
    "id": "rjHdsVqY9fBv"
   },
   "source": [
    "**Reviews Luxury Beauty**"
   ]
  },
  {
   "cell_type": "code",
   "execution_count": null,
   "metadata": {
    "id": "paTOKtoc9htI"
   },
   "outputs": [],
   "source": [
    "# URL del archivo comprimido\n",
    "url = \"http://snap.stanford.edu/data/amazon/productGraph/categoryFiles/reviews_Luxury_Beauty.json.gz\"\n",
    "\n",
    "# Descarga el archivo y lo guarda localmente como 'reviews_Sports_and_Outdoors_5.json.gz'\n",
    "urllib.request.urlretrieve(url, 'reviews_Luxury_Beauty.json.gz')\n",
    "\n",
    "# Abre el archivo comprimido y carga los datos en un DataFrame\n",
    "with gzip.open('reviews_Luxury_Beauty.json.gz', 'rt', encoding='utf-8') as file:\n",
    "    data = [json.loads(line) for line in file]\n",
    "\n",
    "# Crea el DataFrame\n",
    "luxury_df = pd.DataFrame(data)\n",
    "\n",
    "# Ahora, sports_df contiene los datos del archivo JSON en un DataFrame de Pandas\n"
   ]
  },
  {
   "cell_type": "code",
   "execution_count": null,
   "metadata": {
    "colab": {
     "base_uri": "https://localhost:8080/",
     "height": 216
    },
    "id": "ISg8CuG5-p4e",
    "outputId": "d6db8f99-59fb-4fb6-fc66-f0ede4dfba4f"
   },
   "outputs": [
    {
     "data": {
      "text/html": [
       "\n",
       "  <div id=\"df-61b80f21-8b0a-4eea-a919-7ac993b142c7\" class=\"colab-df-container\">\n",
       "    <div>\n",
       "<style scoped>\n",
       "    .dataframe tbody tr th:only-of-type {\n",
       "        vertical-align: middle;\n",
       "    }\n",
       "\n",
       "    .dataframe tbody tr th {\n",
       "        vertical-align: top;\n",
       "    }\n",
       "\n",
       "    .dataframe thead th {\n",
       "        text-align: right;\n",
       "    }\n",
       "</style>\n",
       "<table border=\"1\" class=\"dataframe\">\n",
       "  <thead>\n",
       "    <tr style=\"text-align: right;\">\n",
       "      <th></th>\n",
       "      <th>reviewerID</th>\n",
       "      <th>asin</th>\n",
       "      <th>reviewerName</th>\n",
       "      <th>helpful</th>\n",
       "      <th>reviewText</th>\n",
       "      <th>overall</th>\n",
       "      <th>summary</th>\n",
       "      <th>unixReviewTime</th>\n",
       "      <th>reviewTime</th>\n",
       "    </tr>\n",
       "  </thead>\n",
       "  <tbody>\n",
       "    <tr>\n",
       "      <th>0</th>\n",
       "      <td>A2JP96WIRF6YU7</td>\n",
       "      <td>B0000531EN</td>\n",
       "      <td>Dean \"DEAN\"</td>\n",
       "      <td>[1, 1]</td>\n",
       "      <td>I love AHAVA products.  These bath salts do an...</td>\n",
       "      <td>5.0</td>\n",
       "      <td>Excellent job softening the skin</td>\n",
       "      <td>1220745600</td>\n",
       "      <td>09 7, 2008</td>\n",
       "    </tr>\n",
       "    <tr>\n",
       "      <th>1</th>\n",
       "      <td>A3M174IC0VXOS2</td>\n",
       "      <td>B0000531EN</td>\n",
       "      <td>Gail Cooke</td>\n",
       "      <td>[7, 8]</td>\n",
       "      <td>Don't have time (or the dollars) to go to a sp...</td>\n",
       "      <td>5.0</td>\n",
       "      <td>A SUPER SALUBRIOUS SOAK!</td>\n",
       "      <td>1030147200</td>\n",
       "      <td>08 24, 2002</td>\n",
       "    </tr>\n",
       "  </tbody>\n",
       "</table>\n",
       "</div>\n",
       "    <div class=\"colab-df-buttons\">\n",
       "\n",
       "  <div class=\"colab-df-container\">\n",
       "    <button class=\"colab-df-convert\" onclick=\"convertToInteractive('df-61b80f21-8b0a-4eea-a919-7ac993b142c7')\"\n",
       "            title=\"Convert this dataframe to an interactive table.\"\n",
       "            style=\"display:none;\">\n",
       "\n",
       "  <svg xmlns=\"http://www.w3.org/2000/svg\" height=\"24px\" viewBox=\"0 -960 960 960\">\n",
       "    <path d=\"M120-120v-720h720v720H120Zm60-500h600v-160H180v160Zm220 220h160v-160H400v160Zm0 220h160v-160H400v160ZM180-400h160v-160H180v160Zm440 0h160v-160H620v160ZM180-180h160v-160H180v160Zm440 0h160v-160H620v160Z\"/>\n",
       "  </svg>\n",
       "    </button>\n",
       "\n",
       "  <style>\n",
       "    .colab-df-container {\n",
       "      display:flex;\n",
       "      gap: 12px;\n",
       "    }\n",
       "\n",
       "    .colab-df-convert {\n",
       "      background-color: #E8F0FE;\n",
       "      border: none;\n",
       "      border-radius: 50%;\n",
       "      cursor: pointer;\n",
       "      display: none;\n",
       "      fill: #1967D2;\n",
       "      height: 32px;\n",
       "      padding: 0 0 0 0;\n",
       "      width: 32px;\n",
       "    }\n",
       "\n",
       "    .colab-df-convert:hover {\n",
       "      background-color: #E2EBFA;\n",
       "      box-shadow: 0px 1px 2px rgba(60, 64, 67, 0.3), 0px 1px 3px 1px rgba(60, 64, 67, 0.15);\n",
       "      fill: #174EA6;\n",
       "    }\n",
       "\n",
       "    .colab-df-buttons div {\n",
       "      margin-bottom: 4px;\n",
       "    }\n",
       "\n",
       "    [theme=dark] .colab-df-convert {\n",
       "      background-color: #3B4455;\n",
       "      fill: #D2E3FC;\n",
       "    }\n",
       "\n",
       "    [theme=dark] .colab-df-convert:hover {\n",
       "      background-color: #434B5C;\n",
       "      box-shadow: 0px 1px 3px 1px rgba(0, 0, 0, 0.15);\n",
       "      filter: drop-shadow(0px 1px 2px rgba(0, 0, 0, 0.3));\n",
       "      fill: #FFFFFF;\n",
       "    }\n",
       "  </style>\n",
       "\n",
       "    <script>\n",
       "      const buttonEl =\n",
       "        document.querySelector('#df-61b80f21-8b0a-4eea-a919-7ac993b142c7 button.colab-df-convert');\n",
       "      buttonEl.style.display =\n",
       "        google.colab.kernel.accessAllowed ? 'block' : 'none';\n",
       "\n",
       "      async function convertToInteractive(key) {\n",
       "        const element = document.querySelector('#df-61b80f21-8b0a-4eea-a919-7ac993b142c7');\n",
       "        const dataTable =\n",
       "          await google.colab.kernel.invokeFunction('convertToInteractive',\n",
       "                                                    [key], {});\n",
       "        if (!dataTable) return;\n",
       "\n",
       "        const docLinkHtml = 'Like what you see? Visit the ' +\n",
       "          '<a target=\"_blank\" href=https://colab.research.google.com/notebooks/data_table.ipynb>data table notebook</a>'\n",
       "          + ' to learn more about interactive tables.';\n",
       "        element.innerHTML = '';\n",
       "        dataTable['output_type'] = 'display_data';\n",
       "        await google.colab.output.renderOutput(dataTable, element);\n",
       "        const docLink = document.createElement('div');\n",
       "        docLink.innerHTML = docLinkHtml;\n",
       "        element.appendChild(docLink);\n",
       "      }\n",
       "    </script>\n",
       "  </div>\n",
       "\n",
       "\n",
       "<div id=\"df-d5965e49-8978-4e3f-8e2d-fd58c729b262\">\n",
       "  <button class=\"colab-df-quickchart\" onclick=\"quickchart('df-d5965e49-8978-4e3f-8e2d-fd58c729b262')\"\n",
       "            title=\"Suggest charts.\"\n",
       "            style=\"display:none;\">\n",
       "\n",
       "<svg xmlns=\"http://www.w3.org/2000/svg\" height=\"24px\"viewBox=\"0 0 24 24\"\n",
       "     width=\"24px\">\n",
       "    <g>\n",
       "        <path d=\"M19 3H5c-1.1 0-2 .9-2 2v14c0 1.1.9 2 2 2h14c1.1 0 2-.9 2-2V5c0-1.1-.9-2-2-2zM9 17H7v-7h2v7zm4 0h-2V7h2v10zm4 0h-2v-4h2v4z\"/>\n",
       "    </g>\n",
       "</svg>\n",
       "  </button>\n",
       "\n",
       "<style>\n",
       "  .colab-df-quickchart {\n",
       "      --bg-color: #E8F0FE;\n",
       "      --fill-color: #1967D2;\n",
       "      --hover-bg-color: #E2EBFA;\n",
       "      --hover-fill-color: #174EA6;\n",
       "      --disabled-fill-color: #AAA;\n",
       "      --disabled-bg-color: #DDD;\n",
       "  }\n",
       "\n",
       "  [theme=dark] .colab-df-quickchart {\n",
       "      --bg-color: #3B4455;\n",
       "      --fill-color: #D2E3FC;\n",
       "      --hover-bg-color: #434B5C;\n",
       "      --hover-fill-color: #FFFFFF;\n",
       "      --disabled-bg-color: #3B4455;\n",
       "      --disabled-fill-color: #666;\n",
       "  }\n",
       "\n",
       "  .colab-df-quickchart {\n",
       "    background-color: var(--bg-color);\n",
       "    border: none;\n",
       "    border-radius: 50%;\n",
       "    cursor: pointer;\n",
       "    display: none;\n",
       "    fill: var(--fill-color);\n",
       "    height: 32px;\n",
       "    padding: 0;\n",
       "    width: 32px;\n",
       "  }\n",
       "\n",
       "  .colab-df-quickchart:hover {\n",
       "    background-color: var(--hover-bg-color);\n",
       "    box-shadow: 0 1px 2px rgba(60, 64, 67, 0.3), 0 1px 3px 1px rgba(60, 64, 67, 0.15);\n",
       "    fill: var(--button-hover-fill-color);\n",
       "  }\n",
       "\n",
       "  .colab-df-quickchart-complete:disabled,\n",
       "  .colab-df-quickchart-complete:disabled:hover {\n",
       "    background-color: var(--disabled-bg-color);\n",
       "    fill: var(--disabled-fill-color);\n",
       "    box-shadow: none;\n",
       "  }\n",
       "\n",
       "  .colab-df-spinner {\n",
       "    border: 2px solid var(--fill-color);\n",
       "    border-color: transparent;\n",
       "    border-bottom-color: var(--fill-color);\n",
       "    animation:\n",
       "      spin 1s steps(1) infinite;\n",
       "  }\n",
       "\n",
       "  @keyframes spin {\n",
       "    0% {\n",
       "      border-color: transparent;\n",
       "      border-bottom-color: var(--fill-color);\n",
       "      border-left-color: var(--fill-color);\n",
       "    }\n",
       "    20% {\n",
       "      border-color: transparent;\n",
       "      border-left-color: var(--fill-color);\n",
       "      border-top-color: var(--fill-color);\n",
       "    }\n",
       "    30% {\n",
       "      border-color: transparent;\n",
       "      border-left-color: var(--fill-color);\n",
       "      border-top-color: var(--fill-color);\n",
       "      border-right-color: var(--fill-color);\n",
       "    }\n",
       "    40% {\n",
       "      border-color: transparent;\n",
       "      border-right-color: var(--fill-color);\n",
       "      border-top-color: var(--fill-color);\n",
       "    }\n",
       "    60% {\n",
       "      border-color: transparent;\n",
       "      border-right-color: var(--fill-color);\n",
       "    }\n",
       "    80% {\n",
       "      border-color: transparent;\n",
       "      border-right-color: var(--fill-color);\n",
       "      border-bottom-color: var(--fill-color);\n",
       "    }\n",
       "    90% {\n",
       "      border-color: transparent;\n",
       "      border-bottom-color: var(--fill-color);\n",
       "    }\n",
       "  }\n",
       "</style>\n",
       "\n",
       "  <script>\n",
       "    async function quickchart(key) {\n",
       "      const quickchartButtonEl =\n",
       "        document.querySelector('#' + key + ' button');\n",
       "      quickchartButtonEl.disabled = true;  // To prevent multiple clicks.\n",
       "      quickchartButtonEl.classList.add('colab-df-spinner');\n",
       "      try {\n",
       "        const charts = await google.colab.kernel.invokeFunction(\n",
       "            'suggestCharts', [key], {});\n",
       "      } catch (error) {\n",
       "        console.error('Error during call to suggestCharts:', error);\n",
       "      }\n",
       "      quickchartButtonEl.classList.remove('colab-df-spinner');\n",
       "      quickchartButtonEl.classList.add('colab-df-quickchart-complete');\n",
       "    }\n",
       "    (() => {\n",
       "      let quickchartButtonEl =\n",
       "        document.querySelector('#df-d5965e49-8978-4e3f-8e2d-fd58c729b262 button');\n",
       "      quickchartButtonEl.style.display =\n",
       "        google.colab.kernel.accessAllowed ? 'block' : 'none';\n",
       "    })();\n",
       "  </script>\n",
       "</div>\n",
       "    </div>\n",
       "  </div>\n"
      ],
      "text/plain": [
       "       reviewerID        asin reviewerName helpful  \\\n",
       "0  A2JP96WIRF6YU7  B0000531EN  Dean \"DEAN\"  [1, 1]   \n",
       "1  A3M174IC0VXOS2  B0000531EN   Gail Cooke  [7, 8]   \n",
       "\n",
       "                                          reviewText  overall  \\\n",
       "0  I love AHAVA products.  These bath salts do an...      5.0   \n",
       "1  Don't have time (or the dollars) to go to a sp...      5.0   \n",
       "\n",
       "                            summary  unixReviewTime   reviewTime  \n",
       "0  Excellent job softening the skin      1220745600   09 7, 2008  \n",
       "1          A SUPER SALUBRIOUS SOAK!      1030147200  08 24, 2002  "
      ]
     },
     "execution_count": 14,
     "metadata": {},
     "output_type": "execute_result"
    }
   ],
   "source": [
    "luxury_df.head(2)"
   ]
  },
  {
   "cell_type": "code",
   "execution_count": null,
   "metadata": {
    "colab": {
     "base_uri": "https://localhost:8080/"
    },
    "id": "gwRb0nLC-vRJ",
    "outputId": "6ddfb41f-a04c-4e72-a74b-e46a6889c3b6"
   },
   "outputs": [
    {
     "name": "stdout",
     "output_type": "stream",
     "text": [
      "<class 'pandas.core.frame.DataFrame'>\n",
      "RangeIndex: 23799 entries, 0 to 23798\n",
      "Data columns (total 9 columns):\n",
      " #   Column          Non-Null Count  Dtype  \n",
      "---  ------          --------------  -----  \n",
      " 0   reviewerID      23799 non-null  object \n",
      " 1   asin            23799 non-null  object \n",
      " 2   reviewerName    23727 non-null  object \n",
      " 3   helpful         23799 non-null  object \n",
      " 4   reviewText      23799 non-null  object \n",
      " 5   overall         23799 non-null  float64\n",
      " 6   summary         23799 non-null  object \n",
      " 7   unixReviewTime  23799 non-null  int64  \n",
      " 8   reviewTime      23799 non-null  object \n",
      "dtypes: float64(1), int64(1), object(7)\n",
      "memory usage: 1.6+ MB\n"
     ]
    }
   ],
   "source": [
    "luxury_df.info()"
   ]
  },
  {
   "cell_type": "code",
   "execution_count": null,
   "metadata": {
    "id": "p7NKqjmp-3AT"
   },
   "outputs": [],
   "source": [
    "# Elimina duplicados basados en la columna \"reviewerID\"\n",
    "luxury_df = luxury_df.drop_duplicates(subset=['reviewerID'])\n"
   ]
  },
  {
   "cell_type": "code",
   "execution_count": null,
   "metadata": {
    "id": "4_8JnOGx--Ci"
   },
   "outputs": [],
   "source": [
    "# Lista de columnas que deseas conservar\n",
    "columnas_seleccionadas = ['overall', 'reviewerID', 'asin', 'reviewerName', 'reviewText', 'summary', 'unixReviewTime']\n",
    "\n",
    "# Crea un nuevo DataFrame con las columnas seleccionadas\n",
    "luxury_df = luxury_df [columnas_seleccionadas]"
   ]
  },
  {
   "cell_type": "code",
   "execution_count": null,
   "metadata": {
    "id": "ss_3vHe6_QHs"
   },
   "outputs": [],
   "source": [
    "luxury_df[['reviewerID', 'reviewText', 'summary', 'asin']] = luxury_df[['reviewerID', 'reviewText', 'summary', 'asin']].astype(str)"
   ]
  },
  {
   "cell_type": "code",
   "execution_count": null,
   "metadata": {
    "id": "0oI535MR_QHs"
   },
   "outputs": [],
   "source": [
    "luxury_df[['overall', 'unixReviewTime']] = luxury_df[['overall', 'unixReviewTime']].astype(int)"
   ]
  },
  {
   "cell_type": "code",
   "execution_count": null,
   "metadata": {
    "id": "AV3PgoVgD942"
   },
   "outputs": [],
   "source": [
    "luxury_df = luxury_df.applymap(lambda x: x.lower() if isinstance(x, str) else x)"
   ]
  },
  {
   "cell_type": "code",
   "execution_count": null,
   "metadata": {
    "colab": {
     "base_uri": "https://localhost:8080/",
     "height": 17
    },
    "id": "cL7U6C_uAELc",
    "outputId": "9101aed5-3f24-49a5-fb85-739ff6661e35"
   },
   "outputs": [
    {
     "data": {
      "application/javascript": "\n    async function download(id, filename, size) {\n      if (!google.colab.kernel.accessAllowed) {\n        return;\n      }\n      const div = document.createElement('div');\n      const label = document.createElement('label');\n      label.textContent = `Downloading \"${filename}\": `;\n      div.appendChild(label);\n      const progress = document.createElement('progress');\n      progress.max = size;\n      div.appendChild(progress);\n      document.body.appendChild(div);\n\n      const buffers = [];\n      let downloaded = 0;\n\n      const channel = await google.colab.kernel.comms.open(id);\n      // Send a message to notify the kernel that we're ready.\n      channel.send({})\n\n      for await (const message of channel.messages) {\n        // Send a message to notify the kernel that we're ready.\n        channel.send({})\n        if (message.buffers) {\n          for (const buffer of message.buffers) {\n            buffers.push(buffer);\n            downloaded += buffer.byteLength;\n            progress.value = downloaded;\n          }\n        }\n      }\n      const blob = new Blob(buffers, {type: 'application/binary'});\n      const a = document.createElement('a');\n      a.href = window.URL.createObjectURL(blob);\n      a.download = filename;\n      div.appendChild(a);\n      a.click();\n      div.remove();\n    }\n  ",
      "text/plain": [
       "<IPython.core.display.Javascript object>"
      ]
     },
     "metadata": {},
     "output_type": "display_data"
    },
    {
     "data": {
      "application/javascript": "download(\"download_82551f1e-66e2-41bf-b2b0-82cefce6b3f8\", \"reviews_Luxury_Beauty.parquet\", 5147262)",
      "text/plain": [
       "<IPython.core.display.Javascript object>"
      ]
     },
     "metadata": {},
     "output_type": "display_data"
    }
   ],
   "source": [
    "\n",
    "# Guardar el DataFrame en un archivo Parquet\n",
    "luxury_df.to_parquet('reviews_Luxury_Beauty.parquet', index=False)\n",
    "\n",
    "# Descargar el archivo Parquet\n",
    "files.download('reviews_Luxury_Beauty.parquet')\n"
   ]
  },
  {
   "cell_type": "markdown",
   "metadata": {
    "id": "Kq6mSR2uA5gt"
   },
   "source": [
    "**Reviews Video Games**"
   ]
  },
  {
   "cell_type": "code",
   "execution_count": null,
   "metadata": {
    "id": "cXz1Zw9hA9mE"
   },
   "outputs": [],
   "source": [
    "# URL del archivo comprimido\n",
    "url = \"http://snap.stanford.edu/data/amazon/productGraph/categoryFiles/reviews_Video_Games.json.gz\"\n",
    "\n",
    "# Descarga el archivo y lo guarda localmente como 'reviews_Sports_and_Outdoors_5.json.gz'\n",
    "urllib.request.urlretrieve(url, 'reviews_Video_Games.json.gz.json.gz')\n",
    "\n",
    "# Abre el archivo comprimido y carga los datos en un DataFrame\n",
    "with gzip.open('reviews_Video_Games.json.gz.json.gz', 'rt', encoding='utf-8') as file:\n",
    "    data = [json.loads(line) for line in file]\n",
    "\n",
    "# Crea el DataFrame\n",
    "video_df = pd.DataFrame(data)\n",
    "\n",
    "# Ahora, sports_df contiene los datos del archivo JSON en un DataFrame de Pandas"
   ]
  },
  {
   "cell_type": "code",
   "execution_count": null,
   "metadata": {
    "colab": {
     "base_uri": "https://localhost:8080/",
     "height": 199
    },
    "id": "DNoWtCRfBWf0",
    "outputId": "97e9cc01-96b7-4789-df6f-902df4979867"
   },
   "outputs": [
    {
     "data": {
      "text/html": [
       "\n",
       "  <div id=\"df-8995b0aa-c3b4-4eee-be0e-46f4f106c890\" class=\"colab-df-container\">\n",
       "    <div>\n",
       "<style scoped>\n",
       "    .dataframe tbody tr th:only-of-type {\n",
       "        vertical-align: middle;\n",
       "    }\n",
       "\n",
       "    .dataframe tbody tr th {\n",
       "        vertical-align: top;\n",
       "    }\n",
       "\n",
       "    .dataframe thead th {\n",
       "        text-align: right;\n",
       "    }\n",
       "</style>\n",
       "<table border=\"1\" class=\"dataframe\">\n",
       "  <thead>\n",
       "    <tr style=\"text-align: right;\">\n",
       "      <th></th>\n",
       "      <th>reviewerID</th>\n",
       "      <th>asin</th>\n",
       "      <th>reviewerName</th>\n",
       "      <th>helpful</th>\n",
       "      <th>reviewText</th>\n",
       "      <th>overall</th>\n",
       "      <th>summary</th>\n",
       "      <th>unixReviewTime</th>\n",
       "      <th>reviewTime</th>\n",
       "    </tr>\n",
       "  </thead>\n",
       "  <tbody>\n",
       "    <tr>\n",
       "      <th>0</th>\n",
       "      <td>AB9S9279OZ3QO</td>\n",
       "      <td>0078764343</td>\n",
       "      <td>Alan</td>\n",
       "      <td>[1, 1]</td>\n",
       "      <td>I haven't gotten around to playing the campaig...</td>\n",
       "      <td>5.0</td>\n",
       "      <td>Good game and Beta access!!</td>\n",
       "      <td>1373155200</td>\n",
       "      <td>07 7, 2013</td>\n",
       "    </tr>\n",
       "    <tr>\n",
       "      <th>1</th>\n",
       "      <td>A24SSUT5CSW8BH</td>\n",
       "      <td>0078764343</td>\n",
       "      <td>Kindle Customer</td>\n",
       "      <td>[0, 0]</td>\n",
       "      <td>I want to start off by saying I have never pla...</td>\n",
       "      <td>5.0</td>\n",
       "      <td>Love the game</td>\n",
       "      <td>1377302400</td>\n",
       "      <td>08 24, 2013</td>\n",
       "    </tr>\n",
       "  </tbody>\n",
       "</table>\n",
       "</div>\n",
       "    <div class=\"colab-df-buttons\">\n",
       "\n",
       "  <div class=\"colab-df-container\">\n",
       "    <button class=\"colab-df-convert\" onclick=\"convertToInteractive('df-8995b0aa-c3b4-4eee-be0e-46f4f106c890')\"\n",
       "            title=\"Convert this dataframe to an interactive table.\"\n",
       "            style=\"display:none;\">\n",
       "\n",
       "  <svg xmlns=\"http://www.w3.org/2000/svg\" height=\"24px\" viewBox=\"0 -960 960 960\">\n",
       "    <path d=\"M120-120v-720h720v720H120Zm60-500h600v-160H180v160Zm220 220h160v-160H400v160Zm0 220h160v-160H400v160ZM180-400h160v-160H180v160Zm440 0h160v-160H620v160ZM180-180h160v-160H180v160Zm440 0h160v-160H620v160Z\"/>\n",
       "  </svg>\n",
       "    </button>\n",
       "\n",
       "  <style>\n",
       "    .colab-df-container {\n",
       "      display:flex;\n",
       "      gap: 12px;\n",
       "    }\n",
       "\n",
       "    .colab-df-convert {\n",
       "      background-color: #E8F0FE;\n",
       "      border: none;\n",
       "      border-radius: 50%;\n",
       "      cursor: pointer;\n",
       "      display: none;\n",
       "      fill: #1967D2;\n",
       "      height: 32px;\n",
       "      padding: 0 0 0 0;\n",
       "      width: 32px;\n",
       "    }\n",
       "\n",
       "    .colab-df-convert:hover {\n",
       "      background-color: #E2EBFA;\n",
       "      box-shadow: 0px 1px 2px rgba(60, 64, 67, 0.3), 0px 1px 3px 1px rgba(60, 64, 67, 0.15);\n",
       "      fill: #174EA6;\n",
       "    }\n",
       "\n",
       "    .colab-df-buttons div {\n",
       "      margin-bottom: 4px;\n",
       "    }\n",
       "\n",
       "    [theme=dark] .colab-df-convert {\n",
       "      background-color: #3B4455;\n",
       "      fill: #D2E3FC;\n",
       "    }\n",
       "\n",
       "    [theme=dark] .colab-df-convert:hover {\n",
       "      background-color: #434B5C;\n",
       "      box-shadow: 0px 1px 3px 1px rgba(0, 0, 0, 0.15);\n",
       "      filter: drop-shadow(0px 1px 2px rgba(0, 0, 0, 0.3));\n",
       "      fill: #FFFFFF;\n",
       "    }\n",
       "  </style>\n",
       "\n",
       "    <script>\n",
       "      const buttonEl =\n",
       "        document.querySelector('#df-8995b0aa-c3b4-4eee-be0e-46f4f106c890 button.colab-df-convert');\n",
       "      buttonEl.style.display =\n",
       "        google.colab.kernel.accessAllowed ? 'block' : 'none';\n",
       "\n",
       "      async function convertToInteractive(key) {\n",
       "        const element = document.querySelector('#df-8995b0aa-c3b4-4eee-be0e-46f4f106c890');\n",
       "        const dataTable =\n",
       "          await google.colab.kernel.invokeFunction('convertToInteractive',\n",
       "                                                    [key], {});\n",
       "        if (!dataTable) return;\n",
       "\n",
       "        const docLinkHtml = 'Like what you see? Visit the ' +\n",
       "          '<a target=\"_blank\" href=https://colab.research.google.com/notebooks/data_table.ipynb>data table notebook</a>'\n",
       "          + ' to learn more about interactive tables.';\n",
       "        element.innerHTML = '';\n",
       "        dataTable['output_type'] = 'display_data';\n",
       "        await google.colab.output.renderOutput(dataTable, element);\n",
       "        const docLink = document.createElement('div');\n",
       "        docLink.innerHTML = docLinkHtml;\n",
       "        element.appendChild(docLink);\n",
       "      }\n",
       "    </script>\n",
       "  </div>\n",
       "\n",
       "\n",
       "<div id=\"df-758fc802-d07e-4411-bba4-2f90007c6197\">\n",
       "  <button class=\"colab-df-quickchart\" onclick=\"quickchart('df-758fc802-d07e-4411-bba4-2f90007c6197')\"\n",
       "            title=\"Suggest charts.\"\n",
       "            style=\"display:none;\">\n",
       "\n",
       "<svg xmlns=\"http://www.w3.org/2000/svg\" height=\"24px\"viewBox=\"0 0 24 24\"\n",
       "     width=\"24px\">\n",
       "    <g>\n",
       "        <path d=\"M19 3H5c-1.1 0-2 .9-2 2v14c0 1.1.9 2 2 2h14c1.1 0 2-.9 2-2V5c0-1.1-.9-2-2-2zM9 17H7v-7h2v7zm4 0h-2V7h2v10zm4 0h-2v-4h2v4z\"/>\n",
       "    </g>\n",
       "</svg>\n",
       "  </button>\n",
       "\n",
       "<style>\n",
       "  .colab-df-quickchart {\n",
       "      --bg-color: #E8F0FE;\n",
       "      --fill-color: #1967D2;\n",
       "      --hover-bg-color: #E2EBFA;\n",
       "      --hover-fill-color: #174EA6;\n",
       "      --disabled-fill-color: #AAA;\n",
       "      --disabled-bg-color: #DDD;\n",
       "  }\n",
       "\n",
       "  [theme=dark] .colab-df-quickchart {\n",
       "      --bg-color: #3B4455;\n",
       "      --fill-color: #D2E3FC;\n",
       "      --hover-bg-color: #434B5C;\n",
       "      --hover-fill-color: #FFFFFF;\n",
       "      --disabled-bg-color: #3B4455;\n",
       "      --disabled-fill-color: #666;\n",
       "  }\n",
       "\n",
       "  .colab-df-quickchart {\n",
       "    background-color: var(--bg-color);\n",
       "    border: none;\n",
       "    border-radius: 50%;\n",
       "    cursor: pointer;\n",
       "    display: none;\n",
       "    fill: var(--fill-color);\n",
       "    height: 32px;\n",
       "    padding: 0;\n",
       "    width: 32px;\n",
       "  }\n",
       "\n",
       "  .colab-df-quickchart:hover {\n",
       "    background-color: var(--hover-bg-color);\n",
       "    box-shadow: 0 1px 2px rgba(60, 64, 67, 0.3), 0 1px 3px 1px rgba(60, 64, 67, 0.15);\n",
       "    fill: var(--button-hover-fill-color);\n",
       "  }\n",
       "\n",
       "  .colab-df-quickchart-complete:disabled,\n",
       "  .colab-df-quickchart-complete:disabled:hover {\n",
       "    background-color: var(--disabled-bg-color);\n",
       "    fill: var(--disabled-fill-color);\n",
       "    box-shadow: none;\n",
       "  }\n",
       "\n",
       "  .colab-df-spinner {\n",
       "    border: 2px solid var(--fill-color);\n",
       "    border-color: transparent;\n",
       "    border-bottom-color: var(--fill-color);\n",
       "    animation:\n",
       "      spin 1s steps(1) infinite;\n",
       "  }\n",
       "\n",
       "  @keyframes spin {\n",
       "    0% {\n",
       "      border-color: transparent;\n",
       "      border-bottom-color: var(--fill-color);\n",
       "      border-left-color: var(--fill-color);\n",
       "    }\n",
       "    20% {\n",
       "      border-color: transparent;\n",
       "      border-left-color: var(--fill-color);\n",
       "      border-top-color: var(--fill-color);\n",
       "    }\n",
       "    30% {\n",
       "      border-color: transparent;\n",
       "      border-left-color: var(--fill-color);\n",
       "      border-top-color: var(--fill-color);\n",
       "      border-right-color: var(--fill-color);\n",
       "    }\n",
       "    40% {\n",
       "      border-color: transparent;\n",
       "      border-right-color: var(--fill-color);\n",
       "      border-top-color: var(--fill-color);\n",
       "    }\n",
       "    60% {\n",
       "      border-color: transparent;\n",
       "      border-right-color: var(--fill-color);\n",
       "    }\n",
       "    80% {\n",
       "      border-color: transparent;\n",
       "      border-right-color: var(--fill-color);\n",
       "      border-bottom-color: var(--fill-color);\n",
       "    }\n",
       "    90% {\n",
       "      border-color: transparent;\n",
       "      border-bottom-color: var(--fill-color);\n",
       "    }\n",
       "  }\n",
       "</style>\n",
       "\n",
       "  <script>\n",
       "    async function quickchart(key) {\n",
       "      const quickchartButtonEl =\n",
       "        document.querySelector('#' + key + ' button');\n",
       "      quickchartButtonEl.disabled = true;  // To prevent multiple clicks.\n",
       "      quickchartButtonEl.classList.add('colab-df-spinner');\n",
       "      try {\n",
       "        const charts = await google.colab.kernel.invokeFunction(\n",
       "            'suggestCharts', [key], {});\n",
       "      } catch (error) {\n",
       "        console.error('Error during call to suggestCharts:', error);\n",
       "      }\n",
       "      quickchartButtonEl.classList.remove('colab-df-spinner');\n",
       "      quickchartButtonEl.classList.add('colab-df-quickchart-complete');\n",
       "    }\n",
       "    (() => {\n",
       "      let quickchartButtonEl =\n",
       "        document.querySelector('#df-758fc802-d07e-4411-bba4-2f90007c6197 button');\n",
       "      quickchartButtonEl.style.display =\n",
       "        google.colab.kernel.accessAllowed ? 'block' : 'none';\n",
       "    })();\n",
       "  </script>\n",
       "</div>\n",
       "    </div>\n",
       "  </div>\n"
      ],
      "text/plain": [
       "       reviewerID        asin     reviewerName helpful  \\\n",
       "0   AB9S9279OZ3QO  0078764343             Alan  [1, 1]   \n",
       "1  A24SSUT5CSW8BH  0078764343  Kindle Customer  [0, 0]   \n",
       "\n",
       "                                          reviewText  overall  \\\n",
       "0  I haven't gotten around to playing the campaig...      5.0   \n",
       "1  I want to start off by saying I have never pla...      5.0   \n",
       "\n",
       "                       summary  unixReviewTime   reviewTime  \n",
       "0  Good game and Beta access!!      1373155200   07 7, 2013  \n",
       "1                Love the game      1377302400  08 24, 2013  "
      ]
     },
     "execution_count": 24,
     "metadata": {},
     "output_type": "execute_result"
    }
   ],
   "source": [
    "video_df.head(2)"
   ]
  },
  {
   "cell_type": "code",
   "execution_count": null,
   "metadata": {
    "colab": {
     "base_uri": "https://localhost:8080/"
    },
    "id": "BKhqQQFDBfDI",
    "outputId": "9cd00ef8-07e0-4f62-ac3e-4bc0750f3f25"
   },
   "outputs": [
    {
     "name": "stdout",
     "output_type": "stream",
     "text": [
      "<class 'pandas.core.frame.DataFrame'>\n",
      "RangeIndex: 1324753 entries, 0 to 1324752\n",
      "Data columns (total 9 columns):\n",
      " #   Column          Non-Null Count    Dtype  \n",
      "---  ------          --------------    -----  \n",
      " 0   reviewerID      1324753 non-null  object \n",
      " 1   asin            1324753 non-null  object \n",
      " 2   reviewerName    1298568 non-null  object \n",
      " 3   helpful         1324753 non-null  object \n",
      " 4   reviewText      1324753 non-null  object \n",
      " 5   overall         1324753 non-null  float64\n",
      " 6   summary         1324753 non-null  object \n",
      " 7   unixReviewTime  1324753 non-null  int64  \n",
      " 8   reviewTime      1324753 non-null  object \n",
      "dtypes: float64(1), int64(1), object(7)\n",
      "memory usage: 91.0+ MB\n"
     ]
    }
   ],
   "source": [
    "video_df.info()"
   ]
  },
  {
   "cell_type": "code",
   "execution_count": null,
   "metadata": {
    "id": "vpQfHiXABlc7"
   },
   "outputs": [],
   "source": []
  },
  {
   "cell_type": "code",
   "execution_count": null,
   "metadata": {
    "id": "xuNpBZn6Blg5"
   },
   "outputs": [],
   "source": [
    "# Elimina duplicados basados en la columna \"reviewerID\"\n",
    "video_df = video_df.drop_duplicates(subset=['reviewerID'])\n"
   ]
  },
  {
   "cell_type": "code",
   "execution_count": null,
   "metadata": {
    "id": "WYROXM3ZBlg6"
   },
   "outputs": [],
   "source": [
    "# Lista de columnas que deseas conservar\n",
    "columnas_seleccionadas = ['overall', 'reviewerID', 'asin', 'reviewerName', 'reviewText', 'summary', 'unixReviewTime']\n",
    "\n",
    "# Crea un nuevo DataFrame con las columnas seleccionadas\n",
    "video_df = video_df [columnas_seleccionadas]"
   ]
  },
  {
   "cell_type": "code",
   "execution_count": null,
   "metadata": {
    "id": "rCKqf57wBlg6"
   },
   "outputs": [],
   "source": [
    "video_df[['reviewerID', 'reviewText', 'summary', 'asin']] = video_df[['reviewerID', 'reviewText', 'summary', 'asin']].astype(str)"
   ]
  },
  {
   "cell_type": "code",
   "execution_count": null,
   "metadata": {
    "id": "Sg3anlPSBlg6"
   },
   "outputs": [],
   "source": [
    "video_df[['overall', 'unixReviewTime']] = video_df[['overall', 'unixReviewTime']].astype(int)"
   ]
  },
  {
   "cell_type": "code",
   "execution_count": null,
   "metadata": {
    "id": "9iNw_5TmFbtF"
   },
   "outputs": [],
   "source": [
    "video_df = video_df.applymap(lambda x: x.lower() if isinstance(x, str) else x)"
   ]
  },
  {
   "cell_type": "code",
   "execution_count": null,
   "metadata": {
    "colab": {
     "base_uri": "https://localhost:8080/",
     "height": 17
    },
    "id": "Gw4SYD96Blg6",
    "outputId": "5e052159-bfbd-43ba-836b-73851ef52d68"
   },
   "outputs": [
    {
     "data": {
      "application/javascript": "\n    async function download(id, filename, size) {\n      if (!google.colab.kernel.accessAllowed) {\n        return;\n      }\n      const div = document.createElement('div');\n      const label = document.createElement('label');\n      label.textContent = `Downloading \"${filename}\": `;\n      div.appendChild(label);\n      const progress = document.createElement('progress');\n      progress.max = size;\n      div.appendChild(progress);\n      document.body.appendChild(div);\n\n      const buffers = [];\n      let downloaded = 0;\n\n      const channel = await google.colab.kernel.comms.open(id);\n      // Send a message to notify the kernel that we're ready.\n      channel.send({})\n\n      for await (const message of channel.messages) {\n        // Send a message to notify the kernel that we're ready.\n        channel.send({})\n        if (message.buffers) {\n          for (const buffer of message.buffers) {\n            buffers.push(buffer);\n            downloaded += buffer.byteLength;\n            progress.value = downloaded;\n          }\n        }\n      }\n      const blob = new Blob(buffers, {type: 'application/binary'});\n      const a = document.createElement('a');\n      a.href = window.URL.createObjectURL(blob);\n      a.download = filename;\n      div.appendChild(a);\n      a.click();\n      div.remove();\n    }\n  ",
      "text/plain": [
       "<IPython.core.display.Javascript object>"
      ]
     },
     "metadata": {},
     "output_type": "display_data"
    },
    {
     "data": {
      "application/javascript": "download(\"download_89ab4126-f13a-4faf-ab90-6a203990f3a4\", \"reviews_Video_Games.parquet\", 274635123)",
      "text/plain": [
       "<IPython.core.display.Javascript object>"
      ]
     },
     "metadata": {},
     "output_type": "display_data"
    }
   ],
   "source": [
    "\n",
    "# Guardar el DataFrame en un archivo Parquet\n",
    "video_df.to_parquet('reviews_Video_Games.parquet', index=False)\n",
    "\n",
    "# Descargar el archivo Parquet\n",
    "files.download('reviews_Video_Games.parquet')\n"
   ]
  },
  {
   "cell_type": "markdown",
   "metadata": {
    "id": "mc7UmIKiMdhl"
   },
   "source": [
    "**Reviews Toys and Games**"
   ]
  },
  {
   "cell_type": "code",
   "execution_count": null,
   "metadata": {
    "id": "Xvyk3UySCkaB"
   },
   "outputs": [],
   "source": [
    "# URL del archivo comprimido\n",
    "url = \"http://snap.stanford.edu/data/amazon/productGraph/categoryFiles/reviews_Toys_and_Games.json.gz\"\n",
    "\n",
    "# Descarga el archivo y lo guarda localmente como 'reviews_Sports_and_Outdoors_5.json.gz'\n",
    "urllib.request.urlretrieve(url, 'reviews_Toys_and_Games.json.gz')\n",
    "\n",
    "# Abre el archivo comprimido y carga los datos en un DataFrame\n",
    "with gzip.open('reviews_Toys_and_Games.json.gz', 'rt', encoding='utf-8') as file:\n",
    "    data = [json.loads(line) for line in file]\n",
    "\n",
    "# Crea el DataFrame\n",
    "toys_df = pd.DataFrame(data)\n",
    "\n",
    "# Ahora, sports_df contiene los datos del archivo JSON en un DataFrame de Pandas"
   ]
  },
  {
   "cell_type": "code",
   "execution_count": null,
   "metadata": {
    "colab": {
     "base_uri": "https://localhost:8080/",
     "height": 216
    },
    "id": "8VhawPbAM7Lm",
    "outputId": "03bf6628-d2e2-43df-ed7c-5bdeb94a9a20"
   },
   "outputs": [
    {
     "data": {
      "text/html": [
       "\n",
       "  <div id=\"df-be14faac-9243-42e0-b9e0-16e819542823\" class=\"colab-df-container\">\n",
       "    <div>\n",
       "<style scoped>\n",
       "    .dataframe tbody tr th:only-of-type {\n",
       "        vertical-align: middle;\n",
       "    }\n",
       "\n",
       "    .dataframe tbody tr th {\n",
       "        vertical-align: top;\n",
       "    }\n",
       "\n",
       "    .dataframe thead th {\n",
       "        text-align: right;\n",
       "    }\n",
       "</style>\n",
       "<table border=\"1\" class=\"dataframe\">\n",
       "  <thead>\n",
       "    <tr style=\"text-align: right;\">\n",
       "      <th></th>\n",
       "      <th>reviewerID</th>\n",
       "      <th>asin</th>\n",
       "      <th>reviewerName</th>\n",
       "      <th>helpful</th>\n",
       "      <th>reviewText</th>\n",
       "      <th>overall</th>\n",
       "      <th>summary</th>\n",
       "      <th>unixReviewTime</th>\n",
       "      <th>reviewTime</th>\n",
       "    </tr>\n",
       "  </thead>\n",
       "  <tbody>\n",
       "    <tr>\n",
       "      <th>0</th>\n",
       "      <td>AMEVO2LY6VEJA</td>\n",
       "      <td>0000191639</td>\n",
       "      <td>Nicole Soeder</td>\n",
       "      <td>[0, 0]</td>\n",
       "      <td>Great product, thank you! Our son loved the pu...</td>\n",
       "      <td>5.0</td>\n",
       "      <td>Puzzles</td>\n",
       "      <td>1388016000</td>\n",
       "      <td>12 26, 2013</td>\n",
       "    </tr>\n",
       "    <tr>\n",
       "      <th>1</th>\n",
       "      <td>A3C9CSW3TJITGT</td>\n",
       "      <td>0005069491</td>\n",
       "      <td>Renee</td>\n",
       "      <td>[0, 0]</td>\n",
       "      <td>I love these felt nursery rhyme characters and...</td>\n",
       "      <td>4.0</td>\n",
       "      <td>Charming characters but busy work required</td>\n",
       "      <td>1377561600</td>\n",
       "      <td>08 27, 2013</td>\n",
       "    </tr>\n",
       "  </tbody>\n",
       "</table>\n",
       "</div>\n",
       "    <div class=\"colab-df-buttons\">\n",
       "\n",
       "  <div class=\"colab-df-container\">\n",
       "    <button class=\"colab-df-convert\" onclick=\"convertToInteractive('df-be14faac-9243-42e0-b9e0-16e819542823')\"\n",
       "            title=\"Convert this dataframe to an interactive table.\"\n",
       "            style=\"display:none;\">\n",
       "\n",
       "  <svg xmlns=\"http://www.w3.org/2000/svg\" height=\"24px\" viewBox=\"0 -960 960 960\">\n",
       "    <path d=\"M120-120v-720h720v720H120Zm60-500h600v-160H180v160Zm220 220h160v-160H400v160Zm0 220h160v-160H400v160ZM180-400h160v-160H180v160Zm440 0h160v-160H620v160ZM180-180h160v-160H180v160Zm440 0h160v-160H620v160Z\"/>\n",
       "  </svg>\n",
       "    </button>\n",
       "\n",
       "  <style>\n",
       "    .colab-df-container {\n",
       "      display:flex;\n",
       "      gap: 12px;\n",
       "    }\n",
       "\n",
       "    .colab-df-convert {\n",
       "      background-color: #E8F0FE;\n",
       "      border: none;\n",
       "      border-radius: 50%;\n",
       "      cursor: pointer;\n",
       "      display: none;\n",
       "      fill: #1967D2;\n",
       "      height: 32px;\n",
       "      padding: 0 0 0 0;\n",
       "      width: 32px;\n",
       "    }\n",
       "\n",
       "    .colab-df-convert:hover {\n",
       "      background-color: #E2EBFA;\n",
       "      box-shadow: 0px 1px 2px rgba(60, 64, 67, 0.3), 0px 1px 3px 1px rgba(60, 64, 67, 0.15);\n",
       "      fill: #174EA6;\n",
       "    }\n",
       "\n",
       "    .colab-df-buttons div {\n",
       "      margin-bottom: 4px;\n",
       "    }\n",
       "\n",
       "    [theme=dark] .colab-df-convert {\n",
       "      background-color: #3B4455;\n",
       "      fill: #D2E3FC;\n",
       "    }\n",
       "\n",
       "    [theme=dark] .colab-df-convert:hover {\n",
       "      background-color: #434B5C;\n",
       "      box-shadow: 0px 1px 3px 1px rgba(0, 0, 0, 0.15);\n",
       "      filter: drop-shadow(0px 1px 2px rgba(0, 0, 0, 0.3));\n",
       "      fill: #FFFFFF;\n",
       "    }\n",
       "  </style>\n",
       "\n",
       "    <script>\n",
       "      const buttonEl =\n",
       "        document.querySelector('#df-be14faac-9243-42e0-b9e0-16e819542823 button.colab-df-convert');\n",
       "      buttonEl.style.display =\n",
       "        google.colab.kernel.accessAllowed ? 'block' : 'none';\n",
       "\n",
       "      async function convertToInteractive(key) {\n",
       "        const element = document.querySelector('#df-be14faac-9243-42e0-b9e0-16e819542823');\n",
       "        const dataTable =\n",
       "          await google.colab.kernel.invokeFunction('convertToInteractive',\n",
       "                                                    [key], {});\n",
       "        if (!dataTable) return;\n",
       "\n",
       "        const docLinkHtml = 'Like what you see? Visit the ' +\n",
       "          '<a target=\"_blank\" href=https://colab.research.google.com/notebooks/data_table.ipynb>data table notebook</a>'\n",
       "          + ' to learn more about interactive tables.';\n",
       "        element.innerHTML = '';\n",
       "        dataTable['output_type'] = 'display_data';\n",
       "        await google.colab.output.renderOutput(dataTable, element);\n",
       "        const docLink = document.createElement('div');\n",
       "        docLink.innerHTML = docLinkHtml;\n",
       "        element.appendChild(docLink);\n",
       "      }\n",
       "    </script>\n",
       "  </div>\n",
       "\n",
       "\n",
       "<div id=\"df-ebb491e1-b033-4fcb-be53-5e78d1940f42\">\n",
       "  <button class=\"colab-df-quickchart\" onclick=\"quickchart('df-ebb491e1-b033-4fcb-be53-5e78d1940f42')\"\n",
       "            title=\"Suggest charts.\"\n",
       "            style=\"display:none;\">\n",
       "\n",
       "<svg xmlns=\"http://www.w3.org/2000/svg\" height=\"24px\"viewBox=\"0 0 24 24\"\n",
       "     width=\"24px\">\n",
       "    <g>\n",
       "        <path d=\"M19 3H5c-1.1 0-2 .9-2 2v14c0 1.1.9 2 2 2h14c1.1 0 2-.9 2-2V5c0-1.1-.9-2-2-2zM9 17H7v-7h2v7zm4 0h-2V7h2v10zm4 0h-2v-4h2v4z\"/>\n",
       "    </g>\n",
       "</svg>\n",
       "  </button>\n",
       "\n",
       "<style>\n",
       "  .colab-df-quickchart {\n",
       "      --bg-color: #E8F0FE;\n",
       "      --fill-color: #1967D2;\n",
       "      --hover-bg-color: #E2EBFA;\n",
       "      --hover-fill-color: #174EA6;\n",
       "      --disabled-fill-color: #AAA;\n",
       "      --disabled-bg-color: #DDD;\n",
       "  }\n",
       "\n",
       "  [theme=dark] .colab-df-quickchart {\n",
       "      --bg-color: #3B4455;\n",
       "      --fill-color: #D2E3FC;\n",
       "      --hover-bg-color: #434B5C;\n",
       "      --hover-fill-color: #FFFFFF;\n",
       "      --disabled-bg-color: #3B4455;\n",
       "      --disabled-fill-color: #666;\n",
       "  }\n",
       "\n",
       "  .colab-df-quickchart {\n",
       "    background-color: var(--bg-color);\n",
       "    border: none;\n",
       "    border-radius: 50%;\n",
       "    cursor: pointer;\n",
       "    display: none;\n",
       "    fill: var(--fill-color);\n",
       "    height: 32px;\n",
       "    padding: 0;\n",
       "    width: 32px;\n",
       "  }\n",
       "\n",
       "  .colab-df-quickchart:hover {\n",
       "    background-color: var(--hover-bg-color);\n",
       "    box-shadow: 0 1px 2px rgba(60, 64, 67, 0.3), 0 1px 3px 1px rgba(60, 64, 67, 0.15);\n",
       "    fill: var(--button-hover-fill-color);\n",
       "  }\n",
       "\n",
       "  .colab-df-quickchart-complete:disabled,\n",
       "  .colab-df-quickchart-complete:disabled:hover {\n",
       "    background-color: var(--disabled-bg-color);\n",
       "    fill: var(--disabled-fill-color);\n",
       "    box-shadow: none;\n",
       "  }\n",
       "\n",
       "  .colab-df-spinner {\n",
       "    border: 2px solid var(--fill-color);\n",
       "    border-color: transparent;\n",
       "    border-bottom-color: var(--fill-color);\n",
       "    animation:\n",
       "      spin 1s steps(1) infinite;\n",
       "  }\n",
       "\n",
       "  @keyframes spin {\n",
       "    0% {\n",
       "      border-color: transparent;\n",
       "      border-bottom-color: var(--fill-color);\n",
       "      border-left-color: var(--fill-color);\n",
       "    }\n",
       "    20% {\n",
       "      border-color: transparent;\n",
       "      border-left-color: var(--fill-color);\n",
       "      border-top-color: var(--fill-color);\n",
       "    }\n",
       "    30% {\n",
       "      border-color: transparent;\n",
       "      border-left-color: var(--fill-color);\n",
       "      border-top-color: var(--fill-color);\n",
       "      border-right-color: var(--fill-color);\n",
       "    }\n",
       "    40% {\n",
       "      border-color: transparent;\n",
       "      border-right-color: var(--fill-color);\n",
       "      border-top-color: var(--fill-color);\n",
       "    }\n",
       "    60% {\n",
       "      border-color: transparent;\n",
       "      border-right-color: var(--fill-color);\n",
       "    }\n",
       "    80% {\n",
       "      border-color: transparent;\n",
       "      border-right-color: var(--fill-color);\n",
       "      border-bottom-color: var(--fill-color);\n",
       "    }\n",
       "    90% {\n",
       "      border-color: transparent;\n",
       "      border-bottom-color: var(--fill-color);\n",
       "    }\n",
       "  }\n",
       "</style>\n",
       "\n",
       "  <script>\n",
       "    async function quickchart(key) {\n",
       "      const quickchartButtonEl =\n",
       "        document.querySelector('#' + key + ' button');\n",
       "      quickchartButtonEl.disabled = true;  // To prevent multiple clicks.\n",
       "      quickchartButtonEl.classList.add('colab-df-spinner');\n",
       "      try {\n",
       "        const charts = await google.colab.kernel.invokeFunction(\n",
       "            'suggestCharts', [key], {});\n",
       "      } catch (error) {\n",
       "        console.error('Error during call to suggestCharts:', error);\n",
       "      }\n",
       "      quickchartButtonEl.classList.remove('colab-df-spinner');\n",
       "      quickchartButtonEl.classList.add('colab-df-quickchart-complete');\n",
       "    }\n",
       "    (() => {\n",
       "      let quickchartButtonEl =\n",
       "        document.querySelector('#df-ebb491e1-b033-4fcb-be53-5e78d1940f42 button');\n",
       "      quickchartButtonEl.style.display =\n",
       "        google.colab.kernel.accessAllowed ? 'block' : 'none';\n",
       "    })();\n",
       "  </script>\n",
       "</div>\n",
       "    </div>\n",
       "  </div>\n"
      ],
      "text/plain": [
       "       reviewerID        asin   reviewerName helpful  \\\n",
       "0   AMEVO2LY6VEJA  0000191639  Nicole Soeder  [0, 0]   \n",
       "1  A3C9CSW3TJITGT  0005069491          Renee  [0, 0]   \n",
       "\n",
       "                                          reviewText  overall  \\\n",
       "0  Great product, thank you! Our son loved the pu...      5.0   \n",
       "1  I love these felt nursery rhyme characters and...      4.0   \n",
       "\n",
       "                                      summary  unixReviewTime   reviewTime  \n",
       "0                                     Puzzles      1388016000  12 26, 2013  \n",
       "1  Charming characters but busy work required      1377561600  08 27, 2013  "
      ]
     },
     "execution_count": 33,
     "metadata": {},
     "output_type": "execute_result"
    }
   ],
   "source": [
    "toys_df.head(2)"
   ]
  },
  {
   "cell_type": "code",
   "execution_count": null,
   "metadata": {
    "colab": {
     "base_uri": "https://localhost:8080/"
    },
    "id": "fPbPXPZXNWkE",
    "outputId": "f00b6c03-327f-40b9-f9df-282620c5ebd9"
   },
   "outputs": [
    {
     "name": "stdout",
     "output_type": "stream",
     "text": [
      "<class 'pandas.core.frame.DataFrame'>\n",
      "RangeIndex: 2252771 entries, 0 to 2252770\n",
      "Data columns (total 9 columns):\n",
      " #   Column          Dtype  \n",
      "---  ------          -----  \n",
      " 0   reviewerID      object \n",
      " 1   asin            object \n",
      " 2   reviewerName    object \n",
      " 3   helpful         object \n",
      " 4   reviewText      object \n",
      " 5   overall         float64\n",
      " 6   summary         object \n",
      " 7   unixReviewTime  int64  \n",
      " 8   reviewTime      object \n",
      "dtypes: float64(1), int64(1), object(7)\n",
      "memory usage: 154.7+ MB\n"
     ]
    }
   ],
   "source": [
    "toys_df.info()"
   ]
  },
  {
   "cell_type": "code",
   "execution_count": null,
   "metadata": {
    "id": "9v3DRVsANXKq"
   },
   "outputs": [],
   "source": [
    "# Elimina duplicados basados en la columna \"reviewerID\"\n",
    "toys_df = toys_df.drop_duplicates(subset=['reviewerID'])"
   ]
  },
  {
   "cell_type": "code",
   "execution_count": null,
   "metadata": {
    "id": "gRR30sCEN1xP"
   },
   "outputs": [],
   "source": [
    "# Lista de columnas que deseas conservar\n",
    "columnas_seleccionadas = ['overall', 'reviewerID', 'asin', 'reviewerName', 'reviewText', 'summary', 'unixReviewTime']\n",
    "\n",
    "# Crea un nuevo DataFrame con las columnas seleccionadas\n",
    "toys_df = toys_df[columnas_seleccionadas]\n"
   ]
  },
  {
   "cell_type": "code",
   "execution_count": null,
   "metadata": {
    "id": "pRu1Jno6N1xP"
   },
   "outputs": [],
   "source": [
    "toys_df[['reviewerID', 'reviewText', 'summary', 'asin']] = toys_df[['reviewerID', 'reviewText', 'summary', 'asin']].astype(str)"
   ]
  },
  {
   "cell_type": "code",
   "execution_count": null,
   "metadata": {
    "id": "KUkdaTFrN1xP"
   },
   "outputs": [],
   "source": [
    "toys_df[['overall', 'unixReviewTime']] = toys_df[['overall', 'unixReviewTime']].astype(int)"
   ]
  },
  {
   "cell_type": "code",
   "execution_count": null,
   "metadata": {
    "id": "Xsabyec7I6-9"
   },
   "outputs": [],
   "source": [
    "toys_df = toys_df.applymap(lambda x: x.lower() if isinstance(x, str) else x)"
   ]
  },
  {
   "cell_type": "code",
   "execution_count": null,
   "metadata": {
    "colab": {
     "base_uri": "https://localhost:8080/",
     "height": 17
    },
    "id": "6VeNWQfvN27_",
    "outputId": "ffdfff13-67ab-4927-e9f0-45f2c15ec02e"
   },
   "outputs": [
    {
     "data": {
      "application/javascript": "\n    async function download(id, filename, size) {\n      if (!google.colab.kernel.accessAllowed) {\n        return;\n      }\n      const div = document.createElement('div');\n      const label = document.createElement('label');\n      label.textContent = `Downloading \"${filename}\": `;\n      div.appendChild(label);\n      const progress = document.createElement('progress');\n      progress.max = size;\n      div.appendChild(progress);\n      document.body.appendChild(div);\n\n      const buffers = [];\n      let downloaded = 0;\n\n      const channel = await google.colab.kernel.comms.open(id);\n      // Send a message to notify the kernel that we're ready.\n      channel.send({})\n\n      for await (const message of channel.messages) {\n        // Send a message to notify the kernel that we're ready.\n        channel.send({})\n        if (message.buffers) {\n          for (const buffer of message.buffers) {\n            buffers.push(buffer);\n            downloaded += buffer.byteLength;\n            progress.value = downloaded;\n          }\n        }\n      }\n      const blob = new Blob(buffers, {type: 'application/binary'});\n      const a = document.createElement('a');\n      a.href = window.URL.createObjectURL(blob);\n      a.download = filename;\n      div.appendChild(a);\n      a.click();\n      div.remove();\n    }\n  ",
      "text/plain": [
       "<IPython.core.display.Javascript object>"
      ]
     },
     "metadata": {},
     "output_type": "display_data"
    },
    {
     "data": {
      "application/javascript": "download(\"download_71f3acd3-56fa-4b19-88c7-71c7367b3985\", \"reviews_Toys_and_Games.parquet\", 314841823)",
      "text/plain": [
       "<IPython.core.display.Javascript object>"
      ]
     },
     "metadata": {},
     "output_type": "display_data"
    }
   ],
   "source": [
    "\n",
    "# Guardar el DataFrame en un archivo Parquet\n",
    "toys_df.to_parquet('reviews_Toys_and_Games.parquet', index=False)\n",
    "\n",
    "# Descargar el archivo Parquet\n",
    "files.download('reviews_Toys_and_Games.parquet')"
   ]
  },
  {
   "cell_type": "markdown",
   "metadata": {
    "id": "czrUt73C-YIm"
   },
   "source": [
    "**Sports and Outdoors**"
   ]
  },
  {
   "cell_type": "code",
   "execution_count": null,
   "metadata": {
    "colab": {
     "base_uri": "https://localhost:8080/"
    },
    "id": "zDyLEpVr-VKe",
    "outputId": "75424633-8714-48e3-fbf0-2e81a943bd0f"
   },
   "outputs": [
    {
     "name": "stdout",
     "output_type": "stream",
     "text": [
      "--2023-09-28 13:27:47--  http://snap.stanford.edu/data/amazon/productGraph/categoryFiles/reviews_Sports_and_Outdoors.json.gz\n",
      "Resolving snap.stanford.edu (snap.stanford.edu)... 171.64.75.80\n",
      "Connecting to snap.stanford.edu (snap.stanford.edu)|171.64.75.80|:80... connected.\n",
      "HTTP request sent, awaiting response... 200 OK\n",
      "Length: 621921656 (593M) [application/x-gzip]\n",
      "Saving to: ‘reviews_Sports_and_Outdoors.json.gz’\n",
      "\n",
      "reviews_Sports_and_ 100%[===================>] 593.11M  37.0MB/s    in 19s     \n",
      "\n",
      "2023-09-28 13:28:06 (31.0 MB/s) - ‘reviews_Sports_and_Outdoors.json.gz’ saved [621921656/621921656]\n",
      "\n"
     ]
    }
   ],
   "source": [
    "!wget http://snap.stanford.edu/data/amazon/productGraph/categoryFiles/reviews_Sports_and_Outdoors.json.gz\n"
   ]
  },
  {
   "cell_type": "code",
   "execution_count": null,
   "metadata": {
    "id": "HG_H9qFr-gJe"
   },
   "outputs": [],
   "source": [
    "with gzip.open('reviews_Sports_and_Outdoors.json.gz', 'rb') as f_in:\n",
    "    with open('reviews_Sports_and_Outdoors.json', 'wb') as f_out:\n",
    "        shutil.copyfileobj(f_in, f_out)"
   ]
  },
  {
   "cell_type": "code",
   "execution_count": null,
   "metadata": {
    "id": "xk-aCET3-_ka"
   },
   "outputs": [],
   "source": [
    "data0 = []\n",
    "\n",
    "# Abre el json y lee por linea\n",
    "with open('reviews_Sports_and_Outdoors.json', 'r') as file:\n",
    "    for line in file:\n",
    "\n",
    "        data0.append(json.loads(line))\n",
    "\n",
    "# Ahora contiene una lista de diccionarios\n",
    "\n",
    "\n",
    "# Convert the list of dictionaries to a DataFrame\n",
    "Sports = pd.DataFrame(data0)"
   ]
  },
  {
   "cell_type": "code",
   "execution_count": null,
   "metadata": {
    "colab": {
     "base_uri": "https://localhost:8080/",
     "height": 472
    },
    "id": "jCvk3kyG_R12",
    "outputId": "77e2c15f-8469-4c6d-ffc8-8ebab8e1154a"
   },
   "outputs": [
    {
     "data": {
      "text/html": [
       "\n",
       "  <div id=\"df-e7510201-822f-4e2d-873e-94b8569040c2\" class=\"colab-df-container\">\n",
       "    <div>\n",
       "<style scoped>\n",
       "    .dataframe tbody tr th:only-of-type {\n",
       "        vertical-align: middle;\n",
       "    }\n",
       "\n",
       "    .dataframe tbody tr th {\n",
       "        vertical-align: top;\n",
       "    }\n",
       "\n",
       "    .dataframe thead th {\n",
       "        text-align: right;\n",
       "    }\n",
       "</style>\n",
       "<table border=\"1\" class=\"dataframe\">\n",
       "  <thead>\n",
       "    <tr style=\"text-align: right;\">\n",
       "      <th></th>\n",
       "      <th>reviewerID</th>\n",
       "      <th>asin</th>\n",
       "      <th>reviewerName</th>\n",
       "      <th>helpful</th>\n",
       "      <th>reviewText</th>\n",
       "      <th>overall</th>\n",
       "      <th>summary</th>\n",
       "      <th>unixReviewTime</th>\n",
       "      <th>reviewTime</th>\n",
       "    </tr>\n",
       "  </thead>\n",
       "  <tbody>\n",
       "    <tr>\n",
       "      <th>0</th>\n",
       "      <td>A3PMSRCL80KSA1</td>\n",
       "      <td>0000031852</td>\n",
       "      <td>Dee</td>\n",
       "      <td>[0, 0]</td>\n",
       "      <td>Tutus are cute but a little thin. Can't compla...</td>\n",
       "      <td>4.0</td>\n",
       "      <td>Not bad</td>\n",
       "      <td>1388275200</td>\n",
       "      <td>12 29, 2013</td>\n",
       "    </tr>\n",
       "    <tr>\n",
       "      <th>1</th>\n",
       "      <td>A1SNLWGLFXD70K</td>\n",
       "      <td>0000031852</td>\n",
       "      <td>DEVA</td>\n",
       "      <td>[0, 0]</td>\n",
       "      <td>I origonally didn't get the item I ordered.  W...</td>\n",
       "      <td>4.0</td>\n",
       "      <td>Happy with purchase even though it came a lot ...</td>\n",
       "      <td>1392940800</td>\n",
       "      <td>02 21, 2014</td>\n",
       "    </tr>\n",
       "    <tr>\n",
       "      <th>2</th>\n",
       "      <td>A1KJ4CVG87QW09</td>\n",
       "      <td>0000031852</td>\n",
       "      <td>Donna Carter-Scott</td>\n",
       "      <td>[0, 0]</td>\n",
       "      <td>Arrived very timely, cute grandbaby loves it. ...</td>\n",
       "      <td>4.0</td>\n",
       "      <td>Cute Tutu</td>\n",
       "      <td>1389657600</td>\n",
       "      <td>01 14, 2014</td>\n",
       "    </tr>\n",
       "    <tr>\n",
       "      <th>3</th>\n",
       "      <td>AA9ITO6ZLZW6</td>\n",
       "      <td>0000031852</td>\n",
       "      <td>Jazzy77</td>\n",
       "      <td>[0, 0]</td>\n",
       "      <td>My little girl just loves to wear this tutu be...</td>\n",
       "      <td>5.0</td>\n",
       "      <td>Versatile</td>\n",
       "      <td>1399507200</td>\n",
       "      <td>05 8, 2014</td>\n",
       "    </tr>\n",
       "  </tbody>\n",
       "</table>\n",
       "</div>\n",
       "    <div class=\"colab-df-buttons\">\n",
       "\n",
       "  <div class=\"colab-df-container\">\n",
       "    <button class=\"colab-df-convert\" onclick=\"convertToInteractive('df-e7510201-822f-4e2d-873e-94b8569040c2')\"\n",
       "            title=\"Convert this dataframe to an interactive table.\"\n",
       "            style=\"display:none;\">\n",
       "\n",
       "  <svg xmlns=\"http://www.w3.org/2000/svg\" height=\"24px\" viewBox=\"0 -960 960 960\">\n",
       "    <path d=\"M120-120v-720h720v720H120Zm60-500h600v-160H180v160Zm220 220h160v-160H400v160Zm0 220h160v-160H400v160ZM180-400h160v-160H180v160Zm440 0h160v-160H620v160ZM180-180h160v-160H180v160Zm440 0h160v-160H620v160Z\"/>\n",
       "  </svg>\n",
       "    </button>\n",
       "\n",
       "  <style>\n",
       "    .colab-df-container {\n",
       "      display:flex;\n",
       "      gap: 12px;\n",
       "    }\n",
       "\n",
       "    .colab-df-convert {\n",
       "      background-color: #E8F0FE;\n",
       "      border: none;\n",
       "      border-radius: 50%;\n",
       "      cursor: pointer;\n",
       "      display: none;\n",
       "      fill: #1967D2;\n",
       "      height: 32px;\n",
       "      padding: 0 0 0 0;\n",
       "      width: 32px;\n",
       "    }\n",
       "\n",
       "    .colab-df-convert:hover {\n",
       "      background-color: #E2EBFA;\n",
       "      box-shadow: 0px 1px 2px rgba(60, 64, 67, 0.3), 0px 1px 3px 1px rgba(60, 64, 67, 0.15);\n",
       "      fill: #174EA6;\n",
       "    }\n",
       "\n",
       "    .colab-df-buttons div {\n",
       "      margin-bottom: 4px;\n",
       "    }\n",
       "\n",
       "    [theme=dark] .colab-df-convert {\n",
       "      background-color: #3B4455;\n",
       "      fill: #D2E3FC;\n",
       "    }\n",
       "\n",
       "    [theme=dark] .colab-df-convert:hover {\n",
       "      background-color: #434B5C;\n",
       "      box-shadow: 0px 1px 3px 1px rgba(0, 0, 0, 0.15);\n",
       "      filter: drop-shadow(0px 1px 2px rgba(0, 0, 0, 0.3));\n",
       "      fill: #FFFFFF;\n",
       "    }\n",
       "  </style>\n",
       "\n",
       "    <script>\n",
       "      const buttonEl =\n",
       "        document.querySelector('#df-e7510201-822f-4e2d-873e-94b8569040c2 button.colab-df-convert');\n",
       "      buttonEl.style.display =\n",
       "        google.colab.kernel.accessAllowed ? 'block' : 'none';\n",
       "\n",
       "      async function convertToInteractive(key) {\n",
       "        const element = document.querySelector('#df-e7510201-822f-4e2d-873e-94b8569040c2');\n",
       "        const dataTable =\n",
       "          await google.colab.kernel.invokeFunction('convertToInteractive',\n",
       "                                                    [key], {});\n",
       "        if (!dataTable) return;\n",
       "\n",
       "        const docLinkHtml = 'Like what you see? Visit the ' +\n",
       "          '<a target=\"_blank\" href=https://colab.research.google.com/notebooks/data_table.ipynb>data table notebook</a>'\n",
       "          + ' to learn more about interactive tables.';\n",
       "        element.innerHTML = '';\n",
       "        dataTable['output_type'] = 'display_data';\n",
       "        await google.colab.output.renderOutput(dataTable, element);\n",
       "        const docLink = document.createElement('div');\n",
       "        docLink.innerHTML = docLinkHtml;\n",
       "        element.appendChild(docLink);\n",
       "      }\n",
       "    </script>\n",
       "  </div>\n",
       "\n",
       "\n",
       "<div id=\"df-592fc936-7dd9-4514-9f5f-9798bf134149\">\n",
       "  <button class=\"colab-df-quickchart\" onclick=\"quickchart('df-592fc936-7dd9-4514-9f5f-9798bf134149')\"\n",
       "            title=\"Suggest charts.\"\n",
       "            style=\"display:none;\">\n",
       "\n",
       "<svg xmlns=\"http://www.w3.org/2000/svg\" height=\"24px\"viewBox=\"0 0 24 24\"\n",
       "     width=\"24px\">\n",
       "    <g>\n",
       "        <path d=\"M19 3H5c-1.1 0-2 .9-2 2v14c0 1.1.9 2 2 2h14c1.1 0 2-.9 2-2V5c0-1.1-.9-2-2-2zM9 17H7v-7h2v7zm4 0h-2V7h2v10zm4 0h-2v-4h2v4z\"/>\n",
       "    </g>\n",
       "</svg>\n",
       "  </button>\n",
       "\n",
       "<style>\n",
       "  .colab-df-quickchart {\n",
       "      --bg-color: #E8F0FE;\n",
       "      --fill-color: #1967D2;\n",
       "      --hover-bg-color: #E2EBFA;\n",
       "      --hover-fill-color: #174EA6;\n",
       "      --disabled-fill-color: #AAA;\n",
       "      --disabled-bg-color: #DDD;\n",
       "  }\n",
       "\n",
       "  [theme=dark] .colab-df-quickchart {\n",
       "      --bg-color: #3B4455;\n",
       "      --fill-color: #D2E3FC;\n",
       "      --hover-bg-color: #434B5C;\n",
       "      --hover-fill-color: #FFFFFF;\n",
       "      --disabled-bg-color: #3B4455;\n",
       "      --disabled-fill-color: #666;\n",
       "  }\n",
       "\n",
       "  .colab-df-quickchart {\n",
       "    background-color: var(--bg-color);\n",
       "    border: none;\n",
       "    border-radius: 50%;\n",
       "    cursor: pointer;\n",
       "    display: none;\n",
       "    fill: var(--fill-color);\n",
       "    height: 32px;\n",
       "    padding: 0;\n",
       "    width: 32px;\n",
       "  }\n",
       "\n",
       "  .colab-df-quickchart:hover {\n",
       "    background-color: var(--hover-bg-color);\n",
       "    box-shadow: 0 1px 2px rgba(60, 64, 67, 0.3), 0 1px 3px 1px rgba(60, 64, 67, 0.15);\n",
       "    fill: var(--button-hover-fill-color);\n",
       "  }\n",
       "\n",
       "  .colab-df-quickchart-complete:disabled,\n",
       "  .colab-df-quickchart-complete:disabled:hover {\n",
       "    background-color: var(--disabled-bg-color);\n",
       "    fill: var(--disabled-fill-color);\n",
       "    box-shadow: none;\n",
       "  }\n",
       "\n",
       "  .colab-df-spinner {\n",
       "    border: 2px solid var(--fill-color);\n",
       "    border-color: transparent;\n",
       "    border-bottom-color: var(--fill-color);\n",
       "    animation:\n",
       "      spin 1s steps(1) infinite;\n",
       "  }\n",
       "\n",
       "  @keyframes spin {\n",
       "    0% {\n",
       "      border-color: transparent;\n",
       "      border-bottom-color: var(--fill-color);\n",
       "      border-left-color: var(--fill-color);\n",
       "    }\n",
       "    20% {\n",
       "      border-color: transparent;\n",
       "      border-left-color: var(--fill-color);\n",
       "      border-top-color: var(--fill-color);\n",
       "    }\n",
       "    30% {\n",
       "      border-color: transparent;\n",
       "      border-left-color: var(--fill-color);\n",
       "      border-top-color: var(--fill-color);\n",
       "      border-right-color: var(--fill-color);\n",
       "    }\n",
       "    40% {\n",
       "      border-color: transparent;\n",
       "      border-right-color: var(--fill-color);\n",
       "      border-top-color: var(--fill-color);\n",
       "    }\n",
       "    60% {\n",
       "      border-color: transparent;\n",
       "      border-right-color: var(--fill-color);\n",
       "    }\n",
       "    80% {\n",
       "      border-color: transparent;\n",
       "      border-right-color: var(--fill-color);\n",
       "      border-bottom-color: var(--fill-color);\n",
       "    }\n",
       "    90% {\n",
       "      border-color: transparent;\n",
       "      border-bottom-color: var(--fill-color);\n",
       "    }\n",
       "  }\n",
       "</style>\n",
       "\n",
       "  <script>\n",
       "    async function quickchart(key) {\n",
       "      const quickchartButtonEl =\n",
       "        document.querySelector('#' + key + ' button');\n",
       "      quickchartButtonEl.disabled = true;  // To prevent multiple clicks.\n",
       "      quickchartButtonEl.classList.add('colab-df-spinner');\n",
       "      try {\n",
       "        const charts = await google.colab.kernel.invokeFunction(\n",
       "            'suggestCharts', [key], {});\n",
       "      } catch (error) {\n",
       "        console.error('Error during call to suggestCharts:', error);\n",
       "      }\n",
       "      quickchartButtonEl.classList.remove('colab-df-spinner');\n",
       "      quickchartButtonEl.classList.add('colab-df-quickchart-complete');\n",
       "    }\n",
       "    (() => {\n",
       "      let quickchartButtonEl =\n",
       "        document.querySelector('#df-592fc936-7dd9-4514-9f5f-9798bf134149 button');\n",
       "      quickchartButtonEl.style.display =\n",
       "        google.colab.kernel.accessAllowed ? 'block' : 'none';\n",
       "    })();\n",
       "  </script>\n",
       "</div>\n",
       "    </div>\n",
       "  </div>\n"
      ],
      "text/plain": [
       "       reviewerID        asin        reviewerName helpful  \\\n",
       "0  A3PMSRCL80KSA1  0000031852                 Dee  [0, 0]   \n",
       "1  A1SNLWGLFXD70K  0000031852                DEVA  [0, 0]   \n",
       "2  A1KJ4CVG87QW09  0000031852  Donna Carter-Scott  [0, 0]   \n",
       "3    AA9ITO6ZLZW6  0000031852             Jazzy77  [0, 0]   \n",
       "\n",
       "                                          reviewText  overall  \\\n",
       "0  Tutus are cute but a little thin. Can't compla...      4.0   \n",
       "1  I origonally didn't get the item I ordered.  W...      4.0   \n",
       "2  Arrived very timely, cute grandbaby loves it. ...      4.0   \n",
       "3  My little girl just loves to wear this tutu be...      5.0   \n",
       "\n",
       "                                             summary  unixReviewTime  \\\n",
       "0                                            Not bad      1388275200   \n",
       "1  Happy with purchase even though it came a lot ...      1392940800   \n",
       "2                                          Cute Tutu      1389657600   \n",
       "3                                          Versatile      1399507200   \n",
       "\n",
       "    reviewTime  \n",
       "0  12 29, 2013  \n",
       "1  02 21, 2014  \n",
       "2  01 14, 2014  \n",
       "3   05 8, 2014  "
      ]
     },
     "execution_count": 6,
     "metadata": {},
     "output_type": "execute_result"
    }
   ],
   "source": [
    "Sports.head(4)"
   ]
  },
  {
   "cell_type": "code",
   "execution_count": null,
   "metadata": {
    "colab": {
     "base_uri": "https://localhost:8080/"
    },
    "id": "Q9c-UN8Q_WsD",
    "outputId": "07335c77-42a9-440f-89d7-573aaefa6722"
   },
   "outputs": [
    {
     "name": "stdout",
     "output_type": "stream",
     "text": [
      "<class 'pandas.core.frame.DataFrame'>\n",
      "RangeIndex: 3268695 entries, 0 to 3268694\n",
      "Data columns (total 9 columns):\n",
      " #   Column          Dtype  \n",
      "---  ------          -----  \n",
      " 0   reviewerID      object \n",
      " 1   asin            object \n",
      " 2   reviewerName    object \n",
      " 3   helpful         object \n",
      " 4   reviewText      object \n",
      " 5   overall         float64\n",
      " 6   summary         object \n",
      " 7   unixReviewTime  int64  \n",
      " 8   reviewTime      object \n",
      "dtypes: float64(1), int64(1), object(7)\n",
      "memory usage: 224.4+ MB\n"
     ]
    }
   ],
   "source": [
    "Sports.info()"
   ]
  },
  {
   "cell_type": "code",
   "execution_count": null,
   "metadata": {
    "id": "hJHqygR3_buI"
   },
   "outputs": [],
   "source": [
    "# Lista de columnas que deseas conservar\n",
    "columnas_seleccionadas = ['overall', 'reviewerID', 'asin', 'reviewerName', 'reviewText', 'summary', 'unixReviewTime']\n",
    "\n",
    "# Crea un nuevo DataFrame con las columnas seleccionadas\n",
    "Sports = Sports[columnas_seleccionadas]"
   ]
  },
  {
   "cell_type": "code",
   "execution_count": null,
   "metadata": {
    "id": "MngPp0su_e7b"
   },
   "outputs": [],
   "source": [
    "Sports[['overall', 'unixReviewTime']] = Sports[['overall', 'unixReviewTime']].astype(int)"
   ]
  },
  {
   "cell_type": "code",
   "execution_count": null,
   "metadata": {
    "id": "9KykYfsq_hZT"
   },
   "outputs": [],
   "source": [
    "Sports = Sports.applymap(lambda x: x.lower() if isinstance(x, str) else x)"
   ]
  },
  {
   "cell_type": "code",
   "execution_count": null,
   "metadata": {
    "colab": {
     "base_uri": "https://localhost:8080/",
     "height": 34
    },
    "id": "xOqprRVc_mzc",
    "outputId": "6755a078-4c17-47ae-f867-05e53b5fb2ea"
   },
   "outputs": [
    {
     "data": {
      "application/javascript": "\n    async function download(id, filename, size) {\n      if (!google.colab.kernel.accessAllowed) {\n        return;\n      }\n      const div = document.createElement('div');\n      const label = document.createElement('label');\n      label.textContent = `Downloading \"${filename}\": `;\n      div.appendChild(label);\n      const progress = document.createElement('progress');\n      progress.max = size;\n      div.appendChild(progress);\n      document.body.appendChild(div);\n\n      const buffers = [];\n      let downloaded = 0;\n\n      const channel = await google.colab.kernel.comms.open(id);\n      // Send a message to notify the kernel that we're ready.\n      channel.send({})\n\n      for await (const message of channel.messages) {\n        // Send a message to notify the kernel that we're ready.\n        channel.send({})\n        if (message.buffers) {\n          for (const buffer of message.buffers) {\n            buffers.push(buffer);\n            downloaded += buffer.byteLength;\n            progress.value = downloaded;\n          }\n        }\n      }\n      const blob = new Blob(buffers, {type: 'application/binary'});\n      const a = document.createElement('a');\n      a.href = window.URL.createObjectURL(blob);\n      a.download = filename;\n      div.appendChild(a);\n      a.click();\n      div.remove();\n    }\n  ",
      "text/plain": [
       "<IPython.core.display.Javascript object>"
      ]
     },
     "metadata": {},
     "output_type": "display_data"
    },
    {
     "data": {
      "application/javascript": "download(\"download_acf27502-0a28-4eb4-9687-d384aeee276f\", \"reviews_Sports_and_Outdoors.parquet\", 848552355)",
      "text/plain": [
       "<IPython.core.display.Javascript object>"
      ]
     },
     "metadata": {},
     "output_type": "display_data"
    }
   ],
   "source": [
    "# Guardar el DataFrame en un archivo Parquet\n",
    "Sports.to_parquet('reviews_Sports_and_Outdoors.parquet', index=False)\n",
    "\n",
    "# Descargar el archivo Parquet\n",
    "files.download('reviews_Sports_and_Outdoors.parquet')"
   ]
  },
  {
   "cell_type": "markdown",
   "metadata": {
    "id": "ojtlInhxiDe5"
   },
   "source": [
    "Meta Sports and Outdoor"
   ]
  },
  {
   "cell_type": "code",
   "execution_count": null,
   "metadata": {
    "colab": {
     "base_uri": "https://localhost:8080/"
    },
    "id": "0ldkioq6YcbN",
    "outputId": "d64112c0-8db6-42be-e02c-c5d95708ee6e"
   },
   "outputs": [
    {
     "name": "stdout",
     "output_type": "stream",
     "text": [
      "--2023-09-27 20:44:35--  http://snap.stanford.edu/data/amazon/productGraph/categoryFiles/meta_Sports_and_Outdoors.json.gz\n",
      "Resolving snap.stanford.edu (snap.stanford.edu)... 171.64.75.80\n",
      "Connecting to snap.stanford.edu (snap.stanford.edu)|171.64.75.80|:80... connected.\n",
      "HTTP request sent, awaiting response... 200 OK\n",
      "Length: 183143051 (175M) [application/x-gzip]\n",
      "Saving to: ‘meta_Sports_and_Outdoors.json.gz.1’\n",
      "\n",
      "meta_Sports_and_Out 100%[===================>] 174.66M  18.1MB/s    in 17s     \n",
      "\n",
      "2023-09-27 20:44:52 (10.2 MB/s) - ‘meta_Sports_and_Outdoors.json.gz.1’ saved [183143051/183143051]\n",
      "\n"
     ]
    }
   ],
   "source": [
    "!wget http://snap.stanford.edu/data/amazon/productGraph/categoryFiles/meta_Sports_and_Outdoors.json.gz"
   ]
  },
  {
   "cell_type": "code",
   "execution_count": null,
   "metadata": {
    "id": "lfoP7rfiYh2M"
   },
   "outputs": [],
   "source": [
    "with gzip.open('meta_Sports_and_Outdoors.json.gz', 'rb') as f_in:\n",
    "    with open('meta_Sports_and_Outdoors.json', 'wb') as f_out:\n",
    "        shutil.copyfileobj(f_in, f_out)"
   ]
  },
  {
   "cell_type": "code",
   "execution_count": null,
   "metadata": {
    "id": "4iuvHzSxY-3B"
   },
   "outputs": [],
   "source": [
    "# Lee y crea una lista de diccionarios\n",
    "data1 = [eval(line) for line in open('meta_Sports_and_Outdoors.json', 'r')]\n",
    "\n",
    "# Crea un data frame y almacenar los diccionarios\n",
    "meta_Sports = pd.DataFrame.from_records(data1)"
   ]
  },
  {
   "cell_type": "code",
   "execution_count": null,
   "metadata": {
    "colab": {
     "base_uri": "https://localhost:8080/",
     "height": 195
    },
    "id": "uj6c_zRqaVQU",
    "outputId": "21d50a00-f276-4fd8-e151-c52346f46ea7"
   },
   "outputs": [
    {
     "data": {
      "text/html": [
       "\n",
       "  <div id=\"df-62288210-789d-42c0-aefc-ce2d36f6ab2a\" class=\"colab-df-container\">\n",
       "    <div>\n",
       "<style scoped>\n",
       "    .dataframe tbody tr th:only-of-type {\n",
       "        vertical-align: middle;\n",
       "    }\n",
       "\n",
       "    .dataframe tbody tr th {\n",
       "        vertical-align: top;\n",
       "    }\n",
       "\n",
       "    .dataframe thead th {\n",
       "        text-align: right;\n",
       "    }\n",
       "</style>\n",
       "<table border=\"1\" class=\"dataframe\">\n",
       "  <thead>\n",
       "    <tr style=\"text-align: right;\">\n",
       "      <th></th>\n",
       "      <th>asin</th>\n",
       "      <th>title</th>\n",
       "      <th>price</th>\n",
       "      <th>related</th>\n",
       "      <th>brand</th>\n",
       "      <th>categories</th>\n",
       "      <th>salesRank</th>\n",
       "      <th>description</th>\n",
       "    </tr>\n",
       "  </thead>\n",
       "  <tbody>\n",
       "    <tr>\n",
       "      <th>0</th>\n",
       "      <td>0000032069</td>\n",
       "      <td>Adult Ballet Tutu Cheetah Pink</td>\n",
       "      <td>7.89</td>\n",
       "      <td>{'also_bought': ['0000032050', 'B00D0DJAEG', '...</td>\n",
       "      <td>BubuBibi</td>\n",
       "      <td>[[Sports &amp; Outdoors, Other Sports, Dance, Clot...</td>\n",
       "      <td>NaN</td>\n",
       "      <td>NaN</td>\n",
       "    </tr>\n",
       "    <tr>\n",
       "      <th>1</th>\n",
       "      <td>0000031909</td>\n",
       "      <td>Girls Ballet Tutu Neon Pink</td>\n",
       "      <td>7.00</td>\n",
       "      <td>{'also_bought': ['B002BZX8Z6', 'B00JHONN1S', '...</td>\n",
       "      <td>Unknown</td>\n",
       "      <td>[[Sports &amp; Outdoors, Other Sports, Dance]]</td>\n",
       "      <td>{'Toys &amp; Games': 201847}</td>\n",
       "      <td>High quality 3 layer ballet tutu. 12 inches in...</td>\n",
       "    </tr>\n",
       "    <tr>\n",
       "      <th>2</th>\n",
       "      <td>0000032034</td>\n",
       "      <td>Adult Ballet Tutu Yellow</td>\n",
       "      <td>7.87</td>\n",
       "      <td>{'also_bought': ['B00D2JSRFQ', '0000032042', '...</td>\n",
       "      <td>BubuBibi</td>\n",
       "      <td>[[Sports &amp; Outdoors, Other Sports, Dance, Clot...</td>\n",
       "      <td>NaN</td>\n",
       "      <td>NaN</td>\n",
       "    </tr>\n",
       "  </tbody>\n",
       "</table>\n",
       "</div>\n",
       "    <div class=\"colab-df-buttons\">\n",
       "\n",
       "  <div class=\"colab-df-container\">\n",
       "    <button class=\"colab-df-convert\" onclick=\"convertToInteractive('df-62288210-789d-42c0-aefc-ce2d36f6ab2a')\"\n",
       "            title=\"Convert this dataframe to an interactive table.\"\n",
       "            style=\"display:none;\">\n",
       "\n",
       "  <svg xmlns=\"http://www.w3.org/2000/svg\" height=\"24px\" viewBox=\"0 -960 960 960\">\n",
       "    <path d=\"M120-120v-720h720v720H120Zm60-500h600v-160H180v160Zm220 220h160v-160H400v160Zm0 220h160v-160H400v160ZM180-400h160v-160H180v160Zm440 0h160v-160H620v160ZM180-180h160v-160H180v160Zm440 0h160v-160H620v160Z\"/>\n",
       "  </svg>\n",
       "    </button>\n",
       "\n",
       "  <style>\n",
       "    .colab-df-container {\n",
       "      display:flex;\n",
       "      gap: 12px;\n",
       "    }\n",
       "\n",
       "    .colab-df-convert {\n",
       "      background-color: #E8F0FE;\n",
       "      border: none;\n",
       "      border-radius: 50%;\n",
       "      cursor: pointer;\n",
       "      display: none;\n",
       "      fill: #1967D2;\n",
       "      height: 32px;\n",
       "      padding: 0 0 0 0;\n",
       "      width: 32px;\n",
       "    }\n",
       "\n",
       "    .colab-df-convert:hover {\n",
       "      background-color: #E2EBFA;\n",
       "      box-shadow: 0px 1px 2px rgba(60, 64, 67, 0.3), 0px 1px 3px 1px rgba(60, 64, 67, 0.15);\n",
       "      fill: #174EA6;\n",
       "    }\n",
       "\n",
       "    .colab-df-buttons div {\n",
       "      margin-bottom: 4px;\n",
       "    }\n",
       "\n",
       "    [theme=dark] .colab-df-convert {\n",
       "      background-color: #3B4455;\n",
       "      fill: #D2E3FC;\n",
       "    }\n",
       "\n",
       "    [theme=dark] .colab-df-convert:hover {\n",
       "      background-color: #434B5C;\n",
       "      box-shadow: 0px 1px 3px 1px rgba(0, 0, 0, 0.15);\n",
       "      filter: drop-shadow(0px 1px 2px rgba(0, 0, 0, 0.3));\n",
       "      fill: #FFFFFF;\n",
       "    }\n",
       "  </style>\n",
       "\n",
       "    <script>\n",
       "      const buttonEl =\n",
       "        document.querySelector('#df-62288210-789d-42c0-aefc-ce2d36f6ab2a button.colab-df-convert');\n",
       "      buttonEl.style.display =\n",
       "        google.colab.kernel.accessAllowed ? 'block' : 'none';\n",
       "\n",
       "      async function convertToInteractive(key) {\n",
       "        const element = document.querySelector('#df-62288210-789d-42c0-aefc-ce2d36f6ab2a');\n",
       "        const dataTable =\n",
       "          await google.colab.kernel.invokeFunction('convertToInteractive',\n",
       "                                                    [key], {});\n",
       "        if (!dataTable) return;\n",
       "\n",
       "        const docLinkHtml = 'Like what you see? Visit the ' +\n",
       "          '<a target=\"_blank\" href=https://colab.research.google.com/notebooks/data_table.ipynb>data table notebook</a>'\n",
       "          + ' to learn more about interactive tables.';\n",
       "        element.innerHTML = '';\n",
       "        dataTable['output_type'] = 'display_data';\n",
       "        await google.colab.output.renderOutput(dataTable, element);\n",
       "        const docLink = document.createElement('div');\n",
       "        docLink.innerHTML = docLinkHtml;\n",
       "        element.appendChild(docLink);\n",
       "      }\n",
       "    </script>\n",
       "  </div>\n",
       "\n",
       "\n",
       "<div id=\"df-1e81c732-6680-47d9-bbc6-e25ec9d79861\">\n",
       "  <button class=\"colab-df-quickchart\" onclick=\"quickchart('df-1e81c732-6680-47d9-bbc6-e25ec9d79861')\"\n",
       "            title=\"Suggest charts.\"\n",
       "            style=\"display:none;\">\n",
       "\n",
       "<svg xmlns=\"http://www.w3.org/2000/svg\" height=\"24px\"viewBox=\"0 0 24 24\"\n",
       "     width=\"24px\">\n",
       "    <g>\n",
       "        <path d=\"M19 3H5c-1.1 0-2 .9-2 2v14c0 1.1.9 2 2 2h14c1.1 0 2-.9 2-2V5c0-1.1-.9-2-2-2zM9 17H7v-7h2v7zm4 0h-2V7h2v10zm4 0h-2v-4h2v4z\"/>\n",
       "    </g>\n",
       "</svg>\n",
       "  </button>\n",
       "\n",
       "<style>\n",
       "  .colab-df-quickchart {\n",
       "      --bg-color: #E8F0FE;\n",
       "      --fill-color: #1967D2;\n",
       "      --hover-bg-color: #E2EBFA;\n",
       "      --hover-fill-color: #174EA6;\n",
       "      --disabled-fill-color: #AAA;\n",
       "      --disabled-bg-color: #DDD;\n",
       "  }\n",
       "\n",
       "  [theme=dark] .colab-df-quickchart {\n",
       "      --bg-color: #3B4455;\n",
       "      --fill-color: #D2E3FC;\n",
       "      --hover-bg-color: #434B5C;\n",
       "      --hover-fill-color: #FFFFFF;\n",
       "      --disabled-bg-color: #3B4455;\n",
       "      --disabled-fill-color: #666;\n",
       "  }\n",
       "\n",
       "  .colab-df-quickchart {\n",
       "    background-color: var(--bg-color);\n",
       "    border: none;\n",
       "    border-radius: 50%;\n",
       "    cursor: pointer;\n",
       "    display: none;\n",
       "    fill: var(--fill-color);\n",
       "    height: 32px;\n",
       "    padding: 0;\n",
       "    width: 32px;\n",
       "  }\n",
       "\n",
       "  .colab-df-quickchart:hover {\n",
       "    background-color: var(--hover-bg-color);\n",
       "    box-shadow: 0 1px 2px rgba(60, 64, 67, 0.3), 0 1px 3px 1px rgba(60, 64, 67, 0.15);\n",
       "    fill: var(--button-hover-fill-color);\n",
       "  }\n",
       "\n",
       "  .colab-df-quickchart-complete:disabled,\n",
       "  .colab-df-quickchart-complete:disabled:hover {\n",
       "    background-color: var(--disabled-bg-color);\n",
       "    fill: var(--disabled-fill-color);\n",
       "    box-shadow: none;\n",
       "  }\n",
       "\n",
       "  .colab-df-spinner {\n",
       "    border: 2px solid var(--fill-color);\n",
       "    border-color: transparent;\n",
       "    border-bottom-color: var(--fill-color);\n",
       "    animation:\n",
       "      spin 1s steps(1) infinite;\n",
       "  }\n",
       "\n",
       "  @keyframes spin {\n",
       "    0% {\n",
       "      border-color: transparent;\n",
       "      border-bottom-color: var(--fill-color);\n",
       "      border-left-color: var(--fill-color);\n",
       "    }\n",
       "    20% {\n",
       "      border-color: transparent;\n",
       "      border-left-color: var(--fill-color);\n",
       "      border-top-color: var(--fill-color);\n",
       "    }\n",
       "    30% {\n",
       "      border-color: transparent;\n",
       "      border-left-color: var(--fill-color);\n",
       "      border-top-color: var(--fill-color);\n",
       "      border-right-color: var(--fill-color);\n",
       "    }\n",
       "    40% {\n",
       "      border-color: transparent;\n",
       "      border-right-color: var(--fill-color);\n",
       "      border-top-color: var(--fill-color);\n",
       "    }\n",
       "    60% {\n",
       "      border-color: transparent;\n",
       "      border-right-color: var(--fill-color);\n",
       "    }\n",
       "    80% {\n",
       "      border-color: transparent;\n",
       "      border-right-color: var(--fill-color);\n",
       "      border-bottom-color: var(--fill-color);\n",
       "    }\n",
       "    90% {\n",
       "      border-color: transparent;\n",
       "      border-bottom-color: var(--fill-color);\n",
       "    }\n",
       "  }\n",
       "</style>\n",
       "\n",
       "  <script>\n",
       "    async function quickchart(key) {\n",
       "      const quickchartButtonEl =\n",
       "        document.querySelector('#' + key + ' button');\n",
       "      quickchartButtonEl.disabled = true;  // To prevent multiple clicks.\n",
       "      quickchartButtonEl.classList.add('colab-df-spinner');\n",
       "      try {\n",
       "        const charts = await google.colab.kernel.invokeFunction(\n",
       "            'suggestCharts', [key], {});\n",
       "      } catch (error) {\n",
       "        console.error('Error during call to suggestCharts:', error);\n",
       "      }\n",
       "      quickchartButtonEl.classList.remove('colab-df-spinner');\n",
       "      quickchartButtonEl.classList.add('colab-df-quickchart-complete');\n",
       "    }\n",
       "    (() => {\n",
       "      let quickchartButtonEl =\n",
       "        document.querySelector('#df-1e81c732-6680-47d9-bbc6-e25ec9d79861 button');\n",
       "      quickchartButtonEl.style.display =\n",
       "        google.colab.kernel.accessAllowed ? 'block' : 'none';\n",
       "    })();\n",
       "  </script>\n",
       "</div>\n",
       "    </div>\n",
       "  </div>\n"
      ],
      "text/plain": [
       "         asin                           title  price  \\\n",
       "0  0000032069  Adult Ballet Tutu Cheetah Pink   7.89   \n",
       "1  0000031909     Girls Ballet Tutu Neon Pink   7.00   \n",
       "2  0000032034        Adult Ballet Tutu Yellow   7.87   \n",
       "\n",
       "                                             related     brand  \\\n",
       "0  {'also_bought': ['0000032050', 'B00D0DJAEG', '...  BubuBibi   \n",
       "1  {'also_bought': ['B002BZX8Z6', 'B00JHONN1S', '...   Unknown   \n",
       "2  {'also_bought': ['B00D2JSRFQ', '0000032042', '...  BubuBibi   \n",
       "\n",
       "                                          categories  \\\n",
       "0  [[Sports & Outdoors, Other Sports, Dance, Clot...   \n",
       "1         [[Sports & Outdoors, Other Sports, Dance]]   \n",
       "2  [[Sports & Outdoors, Other Sports, Dance, Clot...   \n",
       "\n",
       "                  salesRank                                        description  \n",
       "0                       NaN                                                NaN  \n",
       "1  {'Toys & Games': 201847}  High quality 3 layer ballet tutu. 12 inches in...  \n",
       "2                       NaN                                                NaN  "
      ]
     },
     "execution_count": 125,
     "metadata": {},
     "output_type": "execute_result"
    }
   ],
   "source": [
    "meta_Sports.head(3)"
   ]
  },
  {
   "cell_type": "code",
   "execution_count": null,
   "metadata": {
    "colab": {
     "base_uri": "https://localhost:8080/"
    },
    "id": "k3N8b-38ZwVS",
    "outputId": "f5ccf533-2ef9-4df6-d764-85d45ce37cd4"
   },
   "outputs": [
    {
     "data": {
      "text/plain": [
       "0"
      ]
     },
     "execution_count": 110,
     "metadata": {},
     "output_type": "execute_result"
    }
   ],
   "source": [
    "meta_Sports.asin.duplicated().sum()"
   ]
  },
  {
   "cell_type": "code",
   "execution_count": null,
   "metadata": {
    "id": "XFSB6QsqZ44p"
   },
   "outputs": [],
   "source": [
    "meta_Sports.drop(columns= ['imUrl'], inplace=True)"
   ]
  },
  {
   "cell_type": "code",
   "execution_count": null,
   "metadata": {
    "colab": {
     "base_uri": "https://localhost:8080/"
    },
    "id": "MNnU268YgliB",
    "outputId": "62afd4ea-4b9e-40e8-b2dd-d724f01faa88"
   },
   "outputs": [
    {
     "name": "stdout",
     "output_type": "stream",
     "text": [
      "<class 'pandas.core.frame.DataFrame'>\n",
      "RangeIndex: 532197 entries, 0 to 532196\n",
      "Data columns (total 8 columns):\n",
      " #   Column       Non-Null Count   Dtype  \n",
      "---  ------       --------------   -----  \n",
      " 0   asin         532197 non-null  object \n",
      " 1   title        529901 non-null  object \n",
      " 2   price        287792 non-null  float64\n",
      " 3   related      388118 non-null  object \n",
      " 4   brand        152487 non-null  object \n",
      " 5   categories   532197 non-null  object \n",
      " 6   salesRank    486349 non-null  object \n",
      " 7   description  402371 non-null  object \n",
      "dtypes: float64(1), object(7)\n",
      "memory usage: 32.5+ MB\n"
     ]
    }
   ],
   "source": [
    "meta_Sports.info()"
   ]
  },
  {
   "cell_type": "code",
   "execution_count": null,
   "metadata": {
    "id": "sZM3MnZihJnR"
   },
   "outputs": [],
   "source": [
    "\n",
    "\n",
    "\n",
    "# Lista de nombres de columnas que deseas convertir a tipo str\n",
    "columnas_a_str = ['asin', 'title', 'related','brand','categories', 'salesRank','description']\n",
    "\n",
    "# Convierte las columnas especificadas a tipo str\n",
    "meta_Sports[columnas_a_str] = meta_Sports[columnas_a_str].apply(lambda x: x.astype(str))\n"
   ]
  },
  {
   "cell_type": "code",
   "execution_count": null,
   "metadata": {
    "id": "vaPNqDaEAwBn"
   },
   "outputs": [],
   "source": [
    "# Pasar todos los datos a minúscula\n",
    "meta_Sports = meta_Sports.applymap(lambda x: x.lower() if isinstance(x, str) else x)"
   ]
  },
  {
   "cell_type": "code",
   "execution_count": null,
   "metadata": {
    "id": "5KEqxk4oh65Z"
   },
   "outputs": [],
   "source": [
    "# Guardar el DataFrame en un archivo Parquet\n",
    "meta_Sports.to_parquet('meta_Sports_and_Outdoors.parquet', index=False)\n",
    "\n",
    "# Descargar el archivo Parquet\n",
    "files.download('meta_Sports_and_Outdoors.parquet')"
   ]
  },
  {
   "cell_type": "markdown",
   "metadata": {
    "id": "ixnR1dfXoZ8G"
   },
   "source": [
    "Metadata Toys and Games"
   ]
  },
  {
   "cell_type": "code",
   "execution_count": null,
   "metadata": {
    "colab": {
     "base_uri": "https://localhost:8080/"
    },
    "id": "OZGoJvT0qfZ_",
    "outputId": "888f5240-a513-41cb-e8dd-fe1812490579"
   },
   "outputs": [
    {
     "name": "stdout",
     "output_type": "stream",
     "text": [
      "--2023-09-28 05:52:55--  http://snap.stanford.edu/data/amazon/productGraph/categoryFiles/meta_Toys_and_Games.json.gz\n",
      "Resolving snap.stanford.edu (snap.stanford.edu)... 171.64.75.80\n",
      "Connecting to snap.stanford.edu (snap.stanford.edu)|171.64.75.80|:80... connected.\n",
      "HTTP request sent, awaiting response... 200 OK\n",
      "Length: 145043023 (138M) [application/x-gzip]\n",
      "Saving to: ‘meta_Toys_and_Games.json.gz’\n",
      "\n",
      "meta_Toys_and_Games 100%[===================>] 138.32M  18.0MB/s    in 15s     \n",
      "\n",
      "2023-09-28 05:53:10 (9.36 MB/s) - ‘meta_Toys_and_Games.json.gz’ saved [145043023/145043023]\n",
      "\n"
     ]
    }
   ],
   "source": [
    "!wget http://snap.stanford.edu/data/amazon/productGraph/categoryFiles/meta_Toys_and_Games.json.gz"
   ]
  },
  {
   "cell_type": "code",
   "execution_count": null,
   "metadata": {
    "id": "o0EGsXi6qfaA"
   },
   "outputs": [],
   "source": [
    "with gzip.open('meta_Toys_and_Games.json.gz.3', 'rb') as f_in:\n",
    "    with open('meta_Toys_and_Games.json', 'wb') as f_out:\n",
    "        shutil.copyfileobj(f_in, f_out)"
   ]
  },
  {
   "cell_type": "code",
   "execution_count": null,
   "metadata": {
    "id": "ju2OTLVQqfaA"
   },
   "outputs": [],
   "source": [
    "# Lee y crea una lista de diccionarios\n",
    "data3 = [eval(line) for line in open('meta_Toys_and_Games.json', 'r')]\n",
    "\n",
    "# Crea un data frame y almacenar los diccionarios\n",
    "meta_Toys = pd.DataFrame.from_records(data3)"
   ]
  },
  {
   "cell_type": "code",
   "execution_count": null,
   "metadata": {
    "id": "i4EKM2AmqfJs"
   },
   "outputs": [],
   "source": [
    "meta_Toys.shape"
   ]
  },
  {
   "cell_type": "code",
   "execution_count": null,
   "metadata": {
    "id": "yH3FPI9ivHCV"
   },
   "outputs": [],
   "source": [
    "meta_Toys.head(3)"
   ]
  },
  {
   "cell_type": "code",
   "execution_count": null,
   "metadata": {
    "id": "H2MjVL9PvWhG"
   },
   "outputs": [],
   "source": [
    "# Lista de nombres de columnas que deseas convertir a tipo str\n",
    "columnas_a_str = ['asin', 'title', 'related','brand','categories', 'salesRank','description']\n",
    "\n",
    "# Convierte las columnas especificadas a tipo str\n",
    "meta_Sports[columnas_a_str] = meta_Sports[columnas_a_str].apply(lambda x: x.astype(str))"
   ]
  },
  {
   "cell_type": "code",
   "execution_count": null,
   "metadata": {
    "id": "cAUk0XW7vasi"
   },
   "outputs": [],
   "source": [
    "# Guardar el DataFrame en un archivo Parquet\n",
    "meta_Toys.to_parquet('meta_Sports_and_Outdoors.parquet', index=False)\n",
    "\n",
    "# Descargar el archivo Parquet\n",
    "files.download('meta_Sports_and_Outdoors.parquet')"
   ]
  },
  {
   "cell_type": "markdown",
   "metadata": {
    "id": "JdPEC72YLqfM"
   },
   "source": [
    "**Meta Digital Music**"
   ]
  },
  {
   "cell_type": "code",
   "execution_count": null,
   "metadata": {
    "colab": {
     "base_uri": "https://localhost:8080/"
    },
    "id": "vekEG395Ls_H",
    "outputId": "70e3b6d6-aea2-43fd-f834-c2fa07f43381"
   },
   "outputs": [
    {
     "name": "stdout",
     "output_type": "stream",
     "text": [
      "--2023-09-28 05:53:26--  http://snap.stanford.edu/data/amazon/productGraph/categoryFiles/meta_Digital_Music.json.gz\n",
      "Resolving snap.stanford.edu (snap.stanford.edu)... 171.64.75.80\n",
      "Connecting to snap.stanford.edu (snap.stanford.edu)|171.64.75.80|:80... connected.\n",
      "HTTP request sent, awaiting response... 200 OK\n",
      "Length: 42335451 (40M) [application/x-gzip]\n",
      "Saving to: ‘meta_Digital_Music.json.gz.1’\n",
      "\n",
      "meta_Digital_Music. 100%[===================>]  40.37M  10.2MB/s    in 8.8s    \n",
      "\n",
      "2023-09-28 05:53:35 (4.58 MB/s) - ‘meta_Digital_Music.json.gz.1’ saved [42335451/42335451]\n",
      "\n"
     ]
    }
   ],
   "source": [
    "!wget http://snap.stanford.edu/data/amazon/productGraph/categoryFiles/meta_Digital_Music.json.gz"
   ]
  },
  {
   "cell_type": "code",
   "execution_count": null,
   "metadata": {
    "id": "YY8n4GLCL8_Z"
   },
   "outputs": [],
   "source": [
    "with gzip.open('meta_Digital_Music.json.gz', 'rb') as f_in:\n",
    "    with open('meta_Digital_Music.json', 'wb') as f_out:\n",
    "        shutil.copyfileobj(f_in, f_out)"
   ]
  },
  {
   "cell_type": "code",
   "execution_count": null,
   "metadata": {
    "id": "AzfkU8rqMO8a"
   },
   "outputs": [],
   "source": [
    "# # Lee y crea una lista de diccionarios\n",
    "data4 = [eval(line) for line in open('meta_Digital_Music.json', 'r')]\n",
    "\n",
    "# Crea un data frame y almacenar los diccionarios\n",
    "digital = pd.DataFrame.from_records(data4)"
   ]
  },
  {
   "cell_type": "code",
   "execution_count": null,
   "metadata": {
    "colab": {
     "base_uri": "https://localhost:8080/",
     "height": 351
    },
    "id": "9z-YAvvZMHdw",
    "outputId": "e846a02a-62b4-47ea-d381-3283da288bdc"
   },
   "outputs": [
    {
     "data": {
      "text/html": [
       "\n",
       "  <div id=\"df-cf86ac5c-efa9-4808-8c1e-ebc7980d1358\" class=\"colab-df-container\">\n",
       "    <div>\n",
       "<style scoped>\n",
       "    .dataframe tbody tr th:only-of-type {\n",
       "        vertical-align: middle;\n",
       "    }\n",
       "\n",
       "    .dataframe tbody tr th {\n",
       "        vertical-align: top;\n",
       "    }\n",
       "\n",
       "    .dataframe thead th {\n",
       "        text-align: right;\n",
       "    }\n",
       "</style>\n",
       "<table border=\"1\" class=\"dataframe\">\n",
       "  <thead>\n",
       "    <tr style=\"text-align: right;\">\n",
       "      <th></th>\n",
       "      <th>asin</th>\n",
       "      <th>title</th>\n",
       "      <th>price</th>\n",
       "      <th>imUrl</th>\n",
       "      <th>related</th>\n",
       "      <th>salesRank</th>\n",
       "      <th>categories</th>\n",
       "      <th>description</th>\n",
       "      <th>brand</th>\n",
       "    </tr>\n",
       "  </thead>\n",
       "  <tbody>\n",
       "    <tr>\n",
       "      <th>0</th>\n",
       "      <td>5555991584</td>\n",
       "      <td>Memory of Trees</td>\n",
       "      <td>9.49</td>\n",
       "      <td>http://ecx.images-amazon.com/images/I/51b5WDjd...</td>\n",
       "      <td>{'also_bought': ['B000002LRT', 'B000002LRR', '...</td>\n",
       "      <td>{'Music': 939190}</td>\n",
       "      <td>[[CDs &amp; Vinyl, New Age, Celtic New Age], [CDs ...</td>\n",
       "      <td>NaN</td>\n",
       "      <td>NaN</td>\n",
       "    </tr>\n",
       "    <tr>\n",
       "      <th>1</th>\n",
       "      <td>6308051551</td>\n",
       "      <td>Don't Drink His Blood</td>\n",
       "      <td>8.91</td>\n",
       "      <td>http://ecx.images-amazon.com/images/I/31LT2n7Q...</td>\n",
       "      <td>NaN</td>\n",
       "      <td>NaN</td>\n",
       "      <td>[[Digital Music, Alternative Rock, Indie &amp; Lo-...</td>\n",
       "      <td>NEW Combo BLUWAVS CD and FLAC FILE</td>\n",
       "      <td>NaN</td>\n",
       "    </tr>\n",
       "    <tr>\n",
       "      <th>2</th>\n",
       "      <td>7901622466</td>\n",
       "      <td>On Fire</td>\n",
       "      <td>11.33</td>\n",
       "      <td>http://ecx.images-amazon.com/images/I/21W29WZw...</td>\n",
       "      <td>{'also_bought': ['B00000282A', 'B0084O8O9S', '...</td>\n",
       "      <td>{'Music': 58799}</td>\n",
       "      <td>[[CDs &amp; Vinyl, Christian, Rock &amp; Alternative],...</td>\n",
       "      <td>NaN</td>\n",
       "      <td>NaN</td>\n",
       "    </tr>\n",
       "  </tbody>\n",
       "</table>\n",
       "</div>\n",
       "    <div class=\"colab-df-buttons\">\n",
       "\n",
       "  <div class=\"colab-df-container\">\n",
       "    <button class=\"colab-df-convert\" onclick=\"convertToInteractive('df-cf86ac5c-efa9-4808-8c1e-ebc7980d1358')\"\n",
       "            title=\"Convert this dataframe to an interactive table.\"\n",
       "            style=\"display:none;\">\n",
       "\n",
       "  <svg xmlns=\"http://www.w3.org/2000/svg\" height=\"24px\" viewBox=\"0 -960 960 960\">\n",
       "    <path d=\"M120-120v-720h720v720H120Zm60-500h600v-160H180v160Zm220 220h160v-160H400v160Zm0 220h160v-160H400v160ZM180-400h160v-160H180v160Zm440 0h160v-160H620v160ZM180-180h160v-160H180v160Zm440 0h160v-160H620v160Z\"/>\n",
       "  </svg>\n",
       "    </button>\n",
       "\n",
       "  <style>\n",
       "    .colab-df-container {\n",
       "      display:flex;\n",
       "      gap: 12px;\n",
       "    }\n",
       "\n",
       "    .colab-df-convert {\n",
       "      background-color: #E8F0FE;\n",
       "      border: none;\n",
       "      border-radius: 50%;\n",
       "      cursor: pointer;\n",
       "      display: none;\n",
       "      fill: #1967D2;\n",
       "      height: 32px;\n",
       "      padding: 0 0 0 0;\n",
       "      width: 32px;\n",
       "    }\n",
       "\n",
       "    .colab-df-convert:hover {\n",
       "      background-color: #E2EBFA;\n",
       "      box-shadow: 0px 1px 2px rgba(60, 64, 67, 0.3), 0px 1px 3px 1px rgba(60, 64, 67, 0.15);\n",
       "      fill: #174EA6;\n",
       "    }\n",
       "\n",
       "    .colab-df-buttons div {\n",
       "      margin-bottom: 4px;\n",
       "    }\n",
       "\n",
       "    [theme=dark] .colab-df-convert {\n",
       "      background-color: #3B4455;\n",
       "      fill: #D2E3FC;\n",
       "    }\n",
       "\n",
       "    [theme=dark] .colab-df-convert:hover {\n",
       "      background-color: #434B5C;\n",
       "      box-shadow: 0px 1px 3px 1px rgba(0, 0, 0, 0.15);\n",
       "      filter: drop-shadow(0px 1px 2px rgba(0, 0, 0, 0.3));\n",
       "      fill: #FFFFFF;\n",
       "    }\n",
       "  </style>\n",
       "\n",
       "    <script>\n",
       "      const buttonEl =\n",
       "        document.querySelector('#df-cf86ac5c-efa9-4808-8c1e-ebc7980d1358 button.colab-df-convert');\n",
       "      buttonEl.style.display =\n",
       "        google.colab.kernel.accessAllowed ? 'block' : 'none';\n",
       "\n",
       "      async function convertToInteractive(key) {\n",
       "        const element = document.querySelector('#df-cf86ac5c-efa9-4808-8c1e-ebc7980d1358');\n",
       "        const dataTable =\n",
       "          await google.colab.kernel.invokeFunction('convertToInteractive',\n",
       "                                                    [key], {});\n",
       "        if (!dataTable) return;\n",
       "\n",
       "        const docLinkHtml = 'Like what you see? Visit the ' +\n",
       "          '<a target=\"_blank\" href=https://colab.research.google.com/notebooks/data_table.ipynb>data table notebook</a>'\n",
       "          + ' to learn more about interactive tables.';\n",
       "        element.innerHTML = '';\n",
       "        dataTable['output_type'] = 'display_data';\n",
       "        await google.colab.output.renderOutput(dataTable, element);\n",
       "        const docLink = document.createElement('div');\n",
       "        docLink.innerHTML = docLinkHtml;\n",
       "        element.appendChild(docLink);\n",
       "      }\n",
       "    </script>\n",
       "  </div>\n",
       "\n",
       "\n",
       "<div id=\"df-3b1ace97-3958-453d-8e67-4f86797fbf0d\">\n",
       "  <button class=\"colab-df-quickchart\" onclick=\"quickchart('df-3b1ace97-3958-453d-8e67-4f86797fbf0d')\"\n",
       "            title=\"Suggest charts.\"\n",
       "            style=\"display:none;\">\n",
       "\n",
       "<svg xmlns=\"http://www.w3.org/2000/svg\" height=\"24px\"viewBox=\"0 0 24 24\"\n",
       "     width=\"24px\">\n",
       "    <g>\n",
       "        <path d=\"M19 3H5c-1.1 0-2 .9-2 2v14c0 1.1.9 2 2 2h14c1.1 0 2-.9 2-2V5c0-1.1-.9-2-2-2zM9 17H7v-7h2v7zm4 0h-2V7h2v10zm4 0h-2v-4h2v4z\"/>\n",
       "    </g>\n",
       "</svg>\n",
       "  </button>\n",
       "\n",
       "<style>\n",
       "  .colab-df-quickchart {\n",
       "      --bg-color: #E8F0FE;\n",
       "      --fill-color: #1967D2;\n",
       "      --hover-bg-color: #E2EBFA;\n",
       "      --hover-fill-color: #174EA6;\n",
       "      --disabled-fill-color: #AAA;\n",
       "      --disabled-bg-color: #DDD;\n",
       "  }\n",
       "\n",
       "  [theme=dark] .colab-df-quickchart {\n",
       "      --bg-color: #3B4455;\n",
       "      --fill-color: #D2E3FC;\n",
       "      --hover-bg-color: #434B5C;\n",
       "      --hover-fill-color: #FFFFFF;\n",
       "      --disabled-bg-color: #3B4455;\n",
       "      --disabled-fill-color: #666;\n",
       "  }\n",
       "\n",
       "  .colab-df-quickchart {\n",
       "    background-color: var(--bg-color);\n",
       "    border: none;\n",
       "    border-radius: 50%;\n",
       "    cursor: pointer;\n",
       "    display: none;\n",
       "    fill: var(--fill-color);\n",
       "    height: 32px;\n",
       "    padding: 0;\n",
       "    width: 32px;\n",
       "  }\n",
       "\n",
       "  .colab-df-quickchart:hover {\n",
       "    background-color: var(--hover-bg-color);\n",
       "    box-shadow: 0 1px 2px rgba(60, 64, 67, 0.3), 0 1px 3px 1px rgba(60, 64, 67, 0.15);\n",
       "    fill: var(--button-hover-fill-color);\n",
       "  }\n",
       "\n",
       "  .colab-df-quickchart-complete:disabled,\n",
       "  .colab-df-quickchart-complete:disabled:hover {\n",
       "    background-color: var(--disabled-bg-color);\n",
       "    fill: var(--disabled-fill-color);\n",
       "    box-shadow: none;\n",
       "  }\n",
       "\n",
       "  .colab-df-spinner {\n",
       "    border: 2px solid var(--fill-color);\n",
       "    border-color: transparent;\n",
       "    border-bottom-color: var(--fill-color);\n",
       "    animation:\n",
       "      spin 1s steps(1) infinite;\n",
       "  }\n",
       "\n",
       "  @keyframes spin {\n",
       "    0% {\n",
       "      border-color: transparent;\n",
       "      border-bottom-color: var(--fill-color);\n",
       "      border-left-color: var(--fill-color);\n",
       "    }\n",
       "    20% {\n",
       "      border-color: transparent;\n",
       "      border-left-color: var(--fill-color);\n",
       "      border-top-color: var(--fill-color);\n",
       "    }\n",
       "    30% {\n",
       "      border-color: transparent;\n",
       "      border-left-color: var(--fill-color);\n",
       "      border-top-color: var(--fill-color);\n",
       "      border-right-color: var(--fill-color);\n",
       "    }\n",
       "    40% {\n",
       "      border-color: transparent;\n",
       "      border-right-color: var(--fill-color);\n",
       "      border-top-color: var(--fill-color);\n",
       "    }\n",
       "    60% {\n",
       "      border-color: transparent;\n",
       "      border-right-color: var(--fill-color);\n",
       "    }\n",
       "    80% {\n",
       "      border-color: transparent;\n",
       "      border-right-color: var(--fill-color);\n",
       "      border-bottom-color: var(--fill-color);\n",
       "    }\n",
       "    90% {\n",
       "      border-color: transparent;\n",
       "      border-bottom-color: var(--fill-color);\n",
       "    }\n",
       "  }\n",
       "</style>\n",
       "\n",
       "  <script>\n",
       "    async function quickchart(key) {\n",
       "      const quickchartButtonEl =\n",
       "        document.querySelector('#' + key + ' button');\n",
       "      quickchartButtonEl.disabled = true;  // To prevent multiple clicks.\n",
       "      quickchartButtonEl.classList.add('colab-df-spinner');\n",
       "      try {\n",
       "        const charts = await google.colab.kernel.invokeFunction(\n",
       "            'suggestCharts', [key], {});\n",
       "      } catch (error) {\n",
       "        console.error('Error during call to suggestCharts:', error);\n",
       "      }\n",
       "      quickchartButtonEl.classList.remove('colab-df-spinner');\n",
       "      quickchartButtonEl.classList.add('colab-df-quickchart-complete');\n",
       "    }\n",
       "    (() => {\n",
       "      let quickchartButtonEl =\n",
       "        document.querySelector('#df-3b1ace97-3958-453d-8e67-4f86797fbf0d button');\n",
       "      quickchartButtonEl.style.display =\n",
       "        google.colab.kernel.accessAllowed ? 'block' : 'none';\n",
       "    })();\n",
       "  </script>\n",
       "</div>\n",
       "    </div>\n",
       "  </div>\n"
      ],
      "text/plain": [
       "         asin                  title  price  \\\n",
       "0  5555991584        Memory of Trees   9.49   \n",
       "1  6308051551  Don't Drink His Blood   8.91   \n",
       "2  7901622466                On Fire  11.33   \n",
       "\n",
       "                                               imUrl  \\\n",
       "0  http://ecx.images-amazon.com/images/I/51b5WDjd...   \n",
       "1  http://ecx.images-amazon.com/images/I/31LT2n7Q...   \n",
       "2  http://ecx.images-amazon.com/images/I/21W29WZw...   \n",
       "\n",
       "                                             related          salesRank  \\\n",
       "0  {'also_bought': ['B000002LRT', 'B000002LRR', '...  {'Music': 939190}   \n",
       "1                                                NaN                NaN   \n",
       "2  {'also_bought': ['B00000282A', 'B0084O8O9S', '...   {'Music': 58799}   \n",
       "\n",
       "                                          categories  \\\n",
       "0  [[CDs & Vinyl, New Age, Celtic New Age], [CDs ...   \n",
       "1  [[Digital Music, Alternative Rock, Indie & Lo-...   \n",
       "2  [[CDs & Vinyl, Christian, Rock & Alternative],...   \n",
       "\n",
       "                          description brand  \n",
       "0                                 NaN   NaN  \n",
       "1  NEW Combo BLUWAVS CD and FLAC FILE   NaN  \n",
       "2                                 NaN   NaN  "
      ]
     },
     "execution_count": 79,
     "metadata": {},
     "output_type": "execute_result"
    }
   ],
   "source": [
    "digital.head(3)"
   ]
  },
  {
   "cell_type": "code",
   "execution_count": null,
   "metadata": {
    "colab": {
     "base_uri": "https://localhost:8080/"
    },
    "id": "9ouutoqyMvNj",
    "outputId": "efe82206-a9b0-4c2f-87cf-c04a7282e1ae"
   },
   "outputs": [
    {
     "name": "stdout",
     "output_type": "stream",
     "text": [
      "<class 'pandas.core.frame.DataFrame'>\n",
      "RangeIndex: 279899 entries, 0 to 279898\n",
      "Data columns (total 8 columns):\n",
      " #   Column       Non-Null Count   Dtype  \n",
      "---  ------       --------------   -----  \n",
      " 0   asin         279899 non-null  object \n",
      " 1   title        7321 non-null    object \n",
      " 2   price        86174 non-null   float64\n",
      " 3   related      175962 non-null  object \n",
      " 4   salesRank    9531 non-null    object \n",
      " 5   categories   279899 non-null  object \n",
      " 6   description  7604 non-null    object \n",
      " 7   brand        1861 non-null    object \n",
      "dtypes: float64(1), object(7)\n",
      "memory usage: 17.1+ MB\n"
     ]
    }
   ],
   "source": [
    "digital.info()"
   ]
  },
  {
   "cell_type": "code",
   "execution_count": null,
   "metadata": {
    "id": "IPGSelRGMMXK"
   },
   "outputs": [],
   "source": [
    "digital.drop(columns= ['imUrl'], inplace=True)"
   ]
  },
  {
   "cell_type": "code",
   "execution_count": null,
   "metadata": {
    "id": "JsXSe-u6M3c7"
   },
   "outputs": [],
   "source": [
    "# Lista de nombres de columnas que deseas convertir a tipo str\n",
    "columnas_a_str = ['asin', 'title', 'related','brand','categories', 'salesRank','description']\n",
    "\n",
    "# Convierte las columnas especificadas a tipo str\n",
    "digital[columnas_a_str] = digital[columnas_a_str].apply(lambda x: x.astype(str))"
   ]
  },
  {
   "cell_type": "code",
   "execution_count": null,
   "metadata": {
    "id": "9D1clu5LNIRR"
   },
   "outputs": [],
   "source": [
    "digital = digital.applymap(lambda x: x.lower() if isinstance(x, str) else x)"
   ]
  },
  {
   "cell_type": "code",
   "execution_count": null,
   "metadata": {
    "colab": {
     "base_uri": "https://localhost:8080/",
     "height": 17
    },
    "id": "yq0QauiENSMn",
    "outputId": "f0c385df-7b9a-4b04-ccd4-7c8f05fae62a"
   },
   "outputs": [
    {
     "data": {
      "application/javascript": "\n    async function download(id, filename, size) {\n      if (!google.colab.kernel.accessAllowed) {\n        return;\n      }\n      const div = document.createElement('div');\n      const label = document.createElement('label');\n      label.textContent = `Downloading \"${filename}\": `;\n      div.appendChild(label);\n      const progress = document.createElement('progress');\n      progress.max = size;\n      div.appendChild(progress);\n      document.body.appendChild(div);\n\n      const buffers = [];\n      let downloaded = 0;\n\n      const channel = await google.colab.kernel.comms.open(id);\n      // Send a message to notify the kernel that we're ready.\n      channel.send({})\n\n      for await (const message of channel.messages) {\n        // Send a message to notify the kernel that we're ready.\n        channel.send({})\n        if (message.buffers) {\n          for (const buffer of message.buffers) {\n            buffers.push(buffer);\n            downloaded += buffer.byteLength;\n            progress.value = downloaded;\n          }\n        }\n      }\n      const blob = new Blob(buffers, {type: 'application/binary'});\n      const a = document.createElement('a');\n      a.href = window.URL.createObjectURL(blob);\n      a.download = filename;\n      div.appendChild(a);\n      a.click();\n      div.remove();\n    }\n  ",
      "text/plain": [
       "<IPython.core.display.Javascript object>"
      ]
     },
     "metadata": {},
     "output_type": "display_data"
    },
    {
     "data": {
      "application/javascript": "download(\"download_95b42fda-607f-48d3-b216-5640b6c67823\", \"meta_Digital_Music.parquet\", 59546991)",
      "text/plain": [
       "<IPython.core.display.Javascript object>"
      ]
     },
     "metadata": {},
     "output_type": "display_data"
    }
   ],
   "source": [
    "# Guardar el DataFrame en un archivo Parquet\n",
    "digital.to_parquet('meta_Digital_Music.parquet', index=False)\n",
    "\n",
    "# Descargar el archivo Parquet\n",
    "files.download('meta_Digital_Music.parquet')"
   ]
  },
  {
   "cell_type": "markdown",
   "metadata": {
    "id": "6s14vT9JOq4T"
   },
   "source": [
    "**Meta Luxury Beauty**"
   ]
  },
  {
   "cell_type": "code",
   "execution_count": null,
   "metadata": {
    "colab": {
     "base_uri": "https://localhost:8080/"
    },
    "id": "QUp2tY_5XSfw",
    "outputId": "afac7cc3-cba2-4491-d0b0-bcec56817840"
   },
   "outputs": [
    {
     "name": "stdout",
     "output_type": "stream",
     "text": [
      "--2023-09-28 05:57:33--  http://snap.stanford.edu/data/amazon/productGraph/categoryFiles/meta_Luxury_Beauty.json.gz\n",
      "Resolving snap.stanford.edu (snap.stanford.edu)... 171.64.75.80\n",
      "Connecting to snap.stanford.edu (snap.stanford.edu)|171.64.75.80|:80... connected.\n",
      "HTTP request sent, awaiting response... 200 OK\n",
      "Length: 586801 (573K) [application/x-gzip]\n",
      "Saving to: ‘meta_Luxury_Beauty.json.gz.1’\n",
      "\n",
      "meta_Luxury_Beauty. 100%[===================>] 573.05K   316KB/s    in 1.8s    \n",
      "\n",
      "2023-09-28 05:57:35 (316 KB/s) - ‘meta_Luxury_Beauty.json.gz.1’ saved [586801/586801]\n",
      "\n"
     ]
    }
   ],
   "source": [
    "!wget http://snap.stanford.edu/data/amazon/productGraph/categoryFiles/meta_Luxury_Beauty.json.gz"
   ]
  },
  {
   "cell_type": "code",
   "execution_count": null,
   "metadata": {
    "id": "SpRolZ6jXUgj"
   },
   "outputs": [],
   "source": [
    "with gzip.open('meta_Luxury_Beauty.json.gz', 'rb') as f_in:\n",
    "    with open('meta_Luxury_Beauty.json', 'wb') as f_out:\n",
    "        shutil.copyfileobj(f_in, f_out)"
   ]
  },
  {
   "cell_type": "code",
   "execution_count": null,
   "metadata": {
    "id": "gbzPnIvSXZPM"
   },
   "outputs": [],
   "source": [
    "# Lee y crea una lista de diccionarios\n",
    "data5 = [eval(line) for line in open('meta_Luxury_Beauty.json', 'r')]\n",
    "\n",
    "# Crear un data frame y almacenar los diccionarios\n",
    "Luxury = pd.DataFrame.from_records(data5)"
   ]
  },
  {
   "cell_type": "code",
   "execution_count": null,
   "metadata": {
    "colab": {
     "base_uri": "https://localhost:8080/",
     "height": 389
    },
    "id": "LqhOwb6IXbs4",
    "outputId": "d73a575b-f33d-4e16-e7f1-4723f9c17ddd"
   },
   "outputs": [
    {
     "data": {
      "text/html": [
       "\n",
       "  <div id=\"df-51d77445-4fc6-4889-bb84-4898f05b54a3\" class=\"colab-df-container\">\n",
       "    <div>\n",
       "<style scoped>\n",
       "    .dataframe tbody tr th:only-of-type {\n",
       "        vertical-align: middle;\n",
       "    }\n",
       "\n",
       "    .dataframe tbody tr th {\n",
       "        vertical-align: top;\n",
       "    }\n",
       "\n",
       "    .dataframe thead th {\n",
       "        text-align: right;\n",
       "    }\n",
       "</style>\n",
       "<table border=\"1\" class=\"dataframe\">\n",
       "  <thead>\n",
       "    <tr style=\"text-align: right;\">\n",
       "      <th></th>\n",
       "      <th>asin</th>\n",
       "      <th>description</th>\n",
       "      <th>title</th>\n",
       "      <th>imUrl</th>\n",
       "      <th>salesRank</th>\n",
       "      <th>categories</th>\n",
       "      <th>related</th>\n",
       "      <th>price</th>\n",
       "      <th>brand</th>\n",
       "    </tr>\n",
       "  </thead>\n",
       "  <tbody>\n",
       "    <tr>\n",
       "      <th>0</th>\n",
       "      <td>B0000531EN</td>\n",
       "      <td>If you haven't experienced the pleasures of ba...</td>\n",
       "      <td>AHAVA Bath Salts, 32 oz.</td>\n",
       "      <td>http://ecx.images-amazon.com/images/I/114BHGJT...</td>\n",
       "      <td>{'Beauty': 276766}</td>\n",
       "      <td>[[Luxury Beauty]]</td>\n",
       "      <td>NaN</td>\n",
       "      <td>NaN</td>\n",
       "      <td>NaN</td>\n",
       "    </tr>\n",
       "    <tr>\n",
       "      <th>1</th>\n",
       "      <td>B0000532JH</td>\n",
       "      <td>Rich, black mineral mud, harvested from the ba...</td>\n",
       "      <td>AHAVA Dead Sea Mineral Mud, 8.5 oz., Pack of 4</td>\n",
       "      <td>http://ecx.images-amazon.com/images/I/41O1luEZ...</td>\n",
       "      <td>{'Beauty': 311791}</td>\n",
       "      <td>[[Luxury Beauty]]</td>\n",
       "      <td>NaN</td>\n",
       "      <td>NaN</td>\n",
       "      <td>NaN</td>\n",
       "    </tr>\n",
       "    <tr>\n",
       "      <th>2</th>\n",
       "      <td>B00005K3L6</td>\n",
       "      <td>This rich-textured body cream absorbs easily t...</td>\n",
       "      <td>AHAVA Dermud Intensive Nourishing Body Cream, ...</td>\n",
       "      <td>http://ecx.images-amazon.com/images/I/21A3Uh87...</td>\n",
       "      <td>{'Beauty': 239746}</td>\n",
       "      <td>[[Luxury Beauty]]</td>\n",
       "      <td>{'also_bought': ['B004SUY43W']}</td>\n",
       "      <td>NaN</td>\n",
       "      <td>NaN</td>\n",
       "    </tr>\n",
       "  </tbody>\n",
       "</table>\n",
       "</div>\n",
       "    <div class=\"colab-df-buttons\">\n",
       "\n",
       "  <div class=\"colab-df-container\">\n",
       "    <button class=\"colab-df-convert\" onclick=\"convertToInteractive('df-51d77445-4fc6-4889-bb84-4898f05b54a3')\"\n",
       "            title=\"Convert this dataframe to an interactive table.\"\n",
       "            style=\"display:none;\">\n",
       "\n",
       "  <svg xmlns=\"http://www.w3.org/2000/svg\" height=\"24px\" viewBox=\"0 -960 960 960\">\n",
       "    <path d=\"M120-120v-720h720v720H120Zm60-500h600v-160H180v160Zm220 220h160v-160H400v160Zm0 220h160v-160H400v160ZM180-400h160v-160H180v160Zm440 0h160v-160H620v160ZM180-180h160v-160H180v160Zm440 0h160v-160H620v160Z\"/>\n",
       "  </svg>\n",
       "    </button>\n",
       "\n",
       "  <style>\n",
       "    .colab-df-container {\n",
       "      display:flex;\n",
       "      gap: 12px;\n",
       "    }\n",
       "\n",
       "    .colab-df-convert {\n",
       "      background-color: #E8F0FE;\n",
       "      border: none;\n",
       "      border-radius: 50%;\n",
       "      cursor: pointer;\n",
       "      display: none;\n",
       "      fill: #1967D2;\n",
       "      height: 32px;\n",
       "      padding: 0 0 0 0;\n",
       "      width: 32px;\n",
       "    }\n",
       "\n",
       "    .colab-df-convert:hover {\n",
       "      background-color: #E2EBFA;\n",
       "      box-shadow: 0px 1px 2px rgba(60, 64, 67, 0.3), 0px 1px 3px 1px rgba(60, 64, 67, 0.15);\n",
       "      fill: #174EA6;\n",
       "    }\n",
       "\n",
       "    .colab-df-buttons div {\n",
       "      margin-bottom: 4px;\n",
       "    }\n",
       "\n",
       "    [theme=dark] .colab-df-convert {\n",
       "      background-color: #3B4455;\n",
       "      fill: #D2E3FC;\n",
       "    }\n",
       "\n",
       "    [theme=dark] .colab-df-convert:hover {\n",
       "      background-color: #434B5C;\n",
       "      box-shadow: 0px 1px 3px 1px rgba(0, 0, 0, 0.15);\n",
       "      filter: drop-shadow(0px 1px 2px rgba(0, 0, 0, 0.3));\n",
       "      fill: #FFFFFF;\n",
       "    }\n",
       "  </style>\n",
       "\n",
       "    <script>\n",
       "      const buttonEl =\n",
       "        document.querySelector('#df-51d77445-4fc6-4889-bb84-4898f05b54a3 button.colab-df-convert');\n",
       "      buttonEl.style.display =\n",
       "        google.colab.kernel.accessAllowed ? 'block' : 'none';\n",
       "\n",
       "      async function convertToInteractive(key) {\n",
       "        const element = document.querySelector('#df-51d77445-4fc6-4889-bb84-4898f05b54a3');\n",
       "        const dataTable =\n",
       "          await google.colab.kernel.invokeFunction('convertToInteractive',\n",
       "                                                    [key], {});\n",
       "        if (!dataTable) return;\n",
       "\n",
       "        const docLinkHtml = 'Like what you see? Visit the ' +\n",
       "          '<a target=\"_blank\" href=https://colab.research.google.com/notebooks/data_table.ipynb>data table notebook</a>'\n",
       "          + ' to learn more about interactive tables.';\n",
       "        element.innerHTML = '';\n",
       "        dataTable['output_type'] = 'display_data';\n",
       "        await google.colab.output.renderOutput(dataTable, element);\n",
       "        const docLink = document.createElement('div');\n",
       "        docLink.innerHTML = docLinkHtml;\n",
       "        element.appendChild(docLink);\n",
       "      }\n",
       "    </script>\n",
       "  </div>\n",
       "\n",
       "\n",
       "<div id=\"df-da69e1c3-22bb-4988-919a-30b84ce3d8bb\">\n",
       "  <button class=\"colab-df-quickchart\" onclick=\"quickchart('df-da69e1c3-22bb-4988-919a-30b84ce3d8bb')\"\n",
       "            title=\"Suggest charts.\"\n",
       "            style=\"display:none;\">\n",
       "\n",
       "<svg xmlns=\"http://www.w3.org/2000/svg\" height=\"24px\"viewBox=\"0 0 24 24\"\n",
       "     width=\"24px\">\n",
       "    <g>\n",
       "        <path d=\"M19 3H5c-1.1 0-2 .9-2 2v14c0 1.1.9 2 2 2h14c1.1 0 2-.9 2-2V5c0-1.1-.9-2-2-2zM9 17H7v-7h2v7zm4 0h-2V7h2v10zm4 0h-2v-4h2v4z\"/>\n",
       "    </g>\n",
       "</svg>\n",
       "  </button>\n",
       "\n",
       "<style>\n",
       "  .colab-df-quickchart {\n",
       "      --bg-color: #E8F0FE;\n",
       "      --fill-color: #1967D2;\n",
       "      --hover-bg-color: #E2EBFA;\n",
       "      --hover-fill-color: #174EA6;\n",
       "      --disabled-fill-color: #AAA;\n",
       "      --disabled-bg-color: #DDD;\n",
       "  }\n",
       "\n",
       "  [theme=dark] .colab-df-quickchart {\n",
       "      --bg-color: #3B4455;\n",
       "      --fill-color: #D2E3FC;\n",
       "      --hover-bg-color: #434B5C;\n",
       "      --hover-fill-color: #FFFFFF;\n",
       "      --disabled-bg-color: #3B4455;\n",
       "      --disabled-fill-color: #666;\n",
       "  }\n",
       "\n",
       "  .colab-df-quickchart {\n",
       "    background-color: var(--bg-color);\n",
       "    border: none;\n",
       "    border-radius: 50%;\n",
       "    cursor: pointer;\n",
       "    display: none;\n",
       "    fill: var(--fill-color);\n",
       "    height: 32px;\n",
       "    padding: 0;\n",
       "    width: 32px;\n",
       "  }\n",
       "\n",
       "  .colab-df-quickchart:hover {\n",
       "    background-color: var(--hover-bg-color);\n",
       "    box-shadow: 0 1px 2px rgba(60, 64, 67, 0.3), 0 1px 3px 1px rgba(60, 64, 67, 0.15);\n",
       "    fill: var(--button-hover-fill-color);\n",
       "  }\n",
       "\n",
       "  .colab-df-quickchart-complete:disabled,\n",
       "  .colab-df-quickchart-complete:disabled:hover {\n",
       "    background-color: var(--disabled-bg-color);\n",
       "    fill: var(--disabled-fill-color);\n",
       "    box-shadow: none;\n",
       "  }\n",
       "\n",
       "  .colab-df-spinner {\n",
       "    border: 2px solid var(--fill-color);\n",
       "    border-color: transparent;\n",
       "    border-bottom-color: var(--fill-color);\n",
       "    animation:\n",
       "      spin 1s steps(1) infinite;\n",
       "  }\n",
       "\n",
       "  @keyframes spin {\n",
       "    0% {\n",
       "      border-color: transparent;\n",
       "      border-bottom-color: var(--fill-color);\n",
       "      border-left-color: var(--fill-color);\n",
       "    }\n",
       "    20% {\n",
       "      border-color: transparent;\n",
       "      border-left-color: var(--fill-color);\n",
       "      border-top-color: var(--fill-color);\n",
       "    }\n",
       "    30% {\n",
       "      border-color: transparent;\n",
       "      border-left-color: var(--fill-color);\n",
       "      border-top-color: var(--fill-color);\n",
       "      border-right-color: var(--fill-color);\n",
       "    }\n",
       "    40% {\n",
       "      border-color: transparent;\n",
       "      border-right-color: var(--fill-color);\n",
       "      border-top-color: var(--fill-color);\n",
       "    }\n",
       "    60% {\n",
       "      border-color: transparent;\n",
       "      border-right-color: var(--fill-color);\n",
       "    }\n",
       "    80% {\n",
       "      border-color: transparent;\n",
       "      border-right-color: var(--fill-color);\n",
       "      border-bottom-color: var(--fill-color);\n",
       "    }\n",
       "    90% {\n",
       "      border-color: transparent;\n",
       "      border-bottom-color: var(--fill-color);\n",
       "    }\n",
       "  }\n",
       "</style>\n",
       "\n",
       "  <script>\n",
       "    async function quickchart(key) {\n",
       "      const quickchartButtonEl =\n",
       "        document.querySelector('#' + key + ' button');\n",
       "      quickchartButtonEl.disabled = true;  // To prevent multiple clicks.\n",
       "      quickchartButtonEl.classList.add('colab-df-spinner');\n",
       "      try {\n",
       "        const charts = await google.colab.kernel.invokeFunction(\n",
       "            'suggestCharts', [key], {});\n",
       "      } catch (error) {\n",
       "        console.error('Error during call to suggestCharts:', error);\n",
       "      }\n",
       "      quickchartButtonEl.classList.remove('colab-df-spinner');\n",
       "      quickchartButtonEl.classList.add('colab-df-quickchart-complete');\n",
       "    }\n",
       "    (() => {\n",
       "      let quickchartButtonEl =\n",
       "        document.querySelector('#df-da69e1c3-22bb-4988-919a-30b84ce3d8bb button');\n",
       "      quickchartButtonEl.style.display =\n",
       "        google.colab.kernel.accessAllowed ? 'block' : 'none';\n",
       "    })();\n",
       "  </script>\n",
       "</div>\n",
       "    </div>\n",
       "  </div>\n"
      ],
      "text/plain": [
       "         asin                                        description  \\\n",
       "0  B0000531EN  If you haven't experienced the pleasures of ba...   \n",
       "1  B0000532JH  Rich, black mineral mud, harvested from the ba...   \n",
       "2  B00005K3L6  This rich-textured body cream absorbs easily t...   \n",
       "\n",
       "                                               title  \\\n",
       "0                           AHAVA Bath Salts, 32 oz.   \n",
       "1     AHAVA Dead Sea Mineral Mud, 8.5 oz., Pack of 4   \n",
       "2  AHAVA Dermud Intensive Nourishing Body Cream, ...   \n",
       "\n",
       "                                               imUrl           salesRank  \\\n",
       "0  http://ecx.images-amazon.com/images/I/114BHGJT...  {'Beauty': 276766}   \n",
       "1  http://ecx.images-amazon.com/images/I/41O1luEZ...  {'Beauty': 311791}   \n",
       "2  http://ecx.images-amazon.com/images/I/21A3Uh87...  {'Beauty': 239746}   \n",
       "\n",
       "          categories                          related  price brand  \n",
       "0  [[Luxury Beauty]]                              NaN    NaN   NaN  \n",
       "1  [[Luxury Beauty]]                              NaN    NaN   NaN  \n",
       "2  [[Luxury Beauty]]  {'also_bought': ['B004SUY43W']}    NaN   NaN  "
      ]
     },
     "execution_count": 83,
     "metadata": {},
     "output_type": "execute_result"
    }
   ],
   "source": [
    "Luxury.head(3)"
   ]
  },
  {
   "cell_type": "code",
   "execution_count": null,
   "metadata": {
    "colab": {
     "base_uri": "https://localhost:8080/"
    },
    "id": "u0F4JlRHXjK-",
    "outputId": "aabdadca-aabd-4886-f91d-cbc785305808"
   },
   "outputs": [
    {
     "name": "stdout",
     "output_type": "stream",
     "text": [
      "<class 'pandas.core.frame.DataFrame'>\n",
      "RangeIndex: 1926 entries, 0 to 1925\n",
      "Data columns (total 9 columns):\n",
      " #   Column       Non-Null Count  Dtype  \n",
      "---  ------       --------------  -----  \n",
      " 0   asin         1926 non-null   object \n",
      " 1   description  1902 non-null   object \n",
      " 2   title        1923 non-null   object \n",
      " 3   imUrl        1923 non-null   object \n",
      " 4   salesRank    1888 non-null   object \n",
      " 5   categories   1926 non-null   object \n",
      " 6   related      1701 non-null   object \n",
      " 7   price        1401 non-null   float64\n",
      " 8   brand        978 non-null    object \n",
      "dtypes: float64(1), object(8)\n",
      "memory usage: 135.5+ KB\n"
     ]
    }
   ],
   "source": [
    "Luxury.info()"
   ]
  },
  {
   "cell_type": "code",
   "execution_count": null,
   "metadata": {
    "id": "KsvwFHAFXnrT"
   },
   "outputs": [],
   "source": [
    "# Lista de nombres de columnas que deseas convertir a tipo str\n",
    "columnas_a_str = ['asin', 'title', 'related','brand','categories', 'salesRank','description']\n",
    "\n",
    "# Convierte las columnas especificadas a tipo str\n",
    "Luxury[columnas_a_str] = Luxury[columnas_a_str].apply(lambda x: x.astype(str))"
   ]
  },
  {
   "cell_type": "code",
   "execution_count": null,
   "metadata": {
    "id": "f_2s3MIkXyiW"
   },
   "outputs": [],
   "source": [
    "Luxury = Luxury.applymap(lambda x: x.lower() if isinstance(x, str) else x)"
   ]
  },
  {
   "cell_type": "code",
   "execution_count": null,
   "metadata": {
    "colab": {
     "base_uri": "https://localhost:8080/",
     "height": 17
    },
    "id": "9w1aDgM-X5LH",
    "outputId": "1050aa3b-adb6-4da8-db10-f734bf4e7070"
   },
   "outputs": [
    {
     "data": {
      "application/javascript": "\n    async function download(id, filename, size) {\n      if (!google.colab.kernel.accessAllowed) {\n        return;\n      }\n      const div = document.createElement('div');\n      const label = document.createElement('label');\n      label.textContent = `Downloading \"${filename}\": `;\n      div.appendChild(label);\n      const progress = document.createElement('progress');\n      progress.max = size;\n      div.appendChild(progress);\n      document.body.appendChild(div);\n\n      const buffers = [];\n      let downloaded = 0;\n\n      const channel = await google.colab.kernel.comms.open(id);\n      // Send a message to notify the kernel that we're ready.\n      channel.send({})\n\n      for await (const message of channel.messages) {\n        // Send a message to notify the kernel that we're ready.\n        channel.send({})\n        if (message.buffers) {\n          for (const buffer of message.buffers) {\n            buffers.push(buffer);\n            downloaded += buffer.byteLength;\n            progress.value = downloaded;\n          }\n        }\n      }\n      const blob = new Blob(buffers, {type: 'application/binary'});\n      const a = document.createElement('a');\n      a.href = window.URL.createObjectURL(blob);\n      a.download = filename;\n      div.appendChild(a);\n      a.click();\n      div.remove();\n    }\n  ",
      "text/plain": [
       "<IPython.core.display.Javascript object>"
      ]
     },
     "metadata": {},
     "output_type": "display_data"
    },
    {
     "data": {
      "application/javascript": "download(\"download_598167b6-fe54-4649-a59c-b7bde50abd1e\", \"meta_Luxury_Beauty.parquet\", 778147)",
      "text/plain": [
       "<IPython.core.display.Javascript object>"
      ]
     },
     "metadata": {},
     "output_type": "display_data"
    }
   ],
   "source": [
    "# Guardar el DataFrame en un archivo Parquet\n",
    "Luxury.to_parquet('meta_Luxury_Beauty.parquet', index=False)\n",
    "\n",
    "# Descargar el archivo Parquet\n",
    "files.download('meta_Luxury_Beauty.parquet')"
   ]
  },
  {
   "cell_type": "markdown",
   "metadata": {
    "id": "hGYttzBH_IZO"
   },
   "source": [
    "**Meta Video Games**"
   ]
  },
  {
   "cell_type": "code",
   "execution_count": null,
   "metadata": {
    "colab": {
     "base_uri": "https://localhost:8080/"
    },
    "id": "kECLf4oz_Np9",
    "outputId": "4aaf0b89-cd27-442e-88ce-677422017735"
   },
   "outputs": [
    {
     "name": "stdout",
     "output_type": "stream",
     "text": [
      "--2023-09-28 18:12:13--  http://snap.stanford.edu/data/amazon/productGraph/categoryFiles/meta_Video_Games.json.gz\n",
      "Resolving snap.stanford.edu (snap.stanford.edu)... 171.64.75.80\n",
      "Connecting to snap.stanford.edu (snap.stanford.edu)|171.64.75.80|:80... connected.\n",
      "HTTP request sent, awaiting response... 200 OK\n",
      "Length: 23557720 (22M) [application/x-gzip]\n",
      "Saving to: ‘meta_Video_Games.json.gz’\n",
      "\n",
      "meta_Video_Games.js 100%[===================>]  22.47M  5.78MB/s    in 4.1s    \n",
      "\n",
      "2023-09-28 18:12:17 (5.50 MB/s) - ‘meta_Video_Games.json.gz’ saved [23557720/23557720]\n",
      "\n"
     ]
    }
   ],
   "source": [
    "!wget http://snap.stanford.edu/data/amazon/productGraph/categoryFiles/meta_Video_Games.json.gz"
   ]
  },
  {
   "cell_type": "code",
   "execution_count": null,
   "metadata": {
    "id": "uBHXVc4p_k9X"
   },
   "outputs": [],
   "source": [
    "with gzip.open('meta_Video_Games.json.gz', 'rb') as f_in:\n",
    "    with open('meta_Video_Games.json', 'wb') as f_out:\n",
    "        shutil.copyfileobj(f_in, f_out)\n"
   ]
  },
  {
   "cell_type": "code",
   "execution_count": null,
   "metadata": {
    "id": "iDyXktki_r84"
   },
   "outputs": [],
   "source": [
    "# # Lee y crea una lista de diccionarios\n",
    "data2 = [eval(line) for line in open('meta_Video_Games.json', 'r')]\n"
   ]
  },
  {
   "cell_type": "code",
   "execution_count": null,
   "metadata": {
    "id": "gEd-pSUX_6EC"
   },
   "outputs": [],
   "source": [
    "# Crea y carga un dataframe de pandas\n",
    "meta_Video = pd.DataFrame.from_records(data2)\n"
   ]
  },
  {
   "cell_type": "code",
   "execution_count": null,
   "metadata": {
    "colab": {
     "base_uri": "https://localhost:8080/",
     "height": 244
    },
    "id": "PZPRmk5jAA8q",
    "outputId": "62a3124d-c26f-49f3-9bc2-5ba7a0370999"
   },
   "outputs": [
    {
     "data": {
      "text/html": [
       "\n",
       "  <div id=\"df-ae015401-5309-442f-afd8-6ac8842559c9\" class=\"colab-df-container\">\n",
       "    <div>\n",
       "<style scoped>\n",
       "    .dataframe tbody tr th:only-of-type {\n",
       "        vertical-align: middle;\n",
       "    }\n",
       "\n",
       "    .dataframe tbody tr th {\n",
       "        vertical-align: top;\n",
       "    }\n",
       "\n",
       "    .dataframe thead th {\n",
       "        text-align: right;\n",
       "    }\n",
       "</style>\n",
       "<table border=\"1\" class=\"dataframe\">\n",
       "  <thead>\n",
       "    <tr style=\"text-align: right;\">\n",
       "      <th></th>\n",
       "      <th>asin</th>\n",
       "      <th>description</th>\n",
       "      <th>price</th>\n",
       "      <th>imUrl</th>\n",
       "      <th>related</th>\n",
       "      <th>salesRank</th>\n",
       "      <th>categories</th>\n",
       "      <th>title</th>\n",
       "      <th>brand</th>\n",
       "    </tr>\n",
       "  </thead>\n",
       "  <tbody>\n",
       "    <tr>\n",
       "      <th>0</th>\n",
       "      <td>0078764343</td>\n",
       "      <td>Brand new sealed!</td>\n",
       "      <td>37.98</td>\n",
       "      <td>http://ecx.images-amazon.com/images/I/513h6dPb...</td>\n",
       "      <td>{'also_bought': ['B000TI836G', 'B003Q53VZC', '...</td>\n",
       "      <td>{'Video Games': 28655}</td>\n",
       "      <td>[[Video Games, Xbox 360, Games]]</td>\n",
       "      <td>NaN</td>\n",
       "      <td>NaN</td>\n",
       "    </tr>\n",
       "    <tr>\n",
       "      <th>1</th>\n",
       "      <td>043933702X</td>\n",
       "      <td>In Stock NOW.  Eligible for FREE Super Saving ...</td>\n",
       "      <td>23.50</td>\n",
       "      <td>http://ecx.images-amazon.com/images/I/61KKRndV...</td>\n",
       "      <td>{'also_viewed': ['B000067NP1', '0439573947', '...</td>\n",
       "      <td>{'Video Games': 44080}</td>\n",
       "      <td>[[Video Games, PC, Games]]</td>\n",
       "      <td>NaN</td>\n",
       "      <td>NaN</td>\n",
       "    </tr>\n",
       "    <tr>\n",
       "      <th>2</th>\n",
       "      <td>0439339987</td>\n",
       "      <td>Grandma Groupers kelp seeds are missing and wi...</td>\n",
       "      <td>8.95</td>\n",
       "      <td>http://ecx.images-amazon.com/images/I/416QZg89...</td>\n",
       "      <td>{'also_bought': ['B000314VVU', 'B000PXUOTE', '...</td>\n",
       "      <td>{'Video Games': 49836}</td>\n",
       "      <td>[[Video Games, PC, Games]]</td>\n",
       "      <td>NaN</td>\n",
       "      <td>NaN</td>\n",
       "    </tr>\n",
       "    <tr>\n",
       "      <th>3</th>\n",
       "      <td>0439342260</td>\n",
       "      <td>This software is BRAND NEW. Packaging may diff...</td>\n",
       "      <td>NaN</td>\n",
       "      <td>http://ecx.images-amazon.com/images/I/61Wvu-Uj...</td>\n",
       "      <td>{'also_viewed': ['043934302X']}</td>\n",
       "      <td>{'Video Games': 49156}</td>\n",
       "      <td>[[Video Games, PC, Games]]</td>\n",
       "      <td>NaN</td>\n",
       "      <td>NaN</td>\n",
       "    </tr>\n",
       "  </tbody>\n",
       "</table>\n",
       "</div>\n",
       "    <div class=\"colab-df-buttons\">\n",
       "\n",
       "  <div class=\"colab-df-container\">\n",
       "    <button class=\"colab-df-convert\" onclick=\"convertToInteractive('df-ae015401-5309-442f-afd8-6ac8842559c9')\"\n",
       "            title=\"Convert this dataframe to an interactive table.\"\n",
       "            style=\"display:none;\">\n",
       "\n",
       "  <svg xmlns=\"http://www.w3.org/2000/svg\" height=\"24px\" viewBox=\"0 -960 960 960\">\n",
       "    <path d=\"M120-120v-720h720v720H120Zm60-500h600v-160H180v160Zm220 220h160v-160H400v160Zm0 220h160v-160H400v160ZM180-400h160v-160H180v160Zm440 0h160v-160H620v160ZM180-180h160v-160H180v160Zm440 0h160v-160H620v160Z\"/>\n",
       "  </svg>\n",
       "    </button>\n",
       "\n",
       "  <style>\n",
       "    .colab-df-container {\n",
       "      display:flex;\n",
       "      gap: 12px;\n",
       "    }\n",
       "\n",
       "    .colab-df-convert {\n",
       "      background-color: #E8F0FE;\n",
       "      border: none;\n",
       "      border-radius: 50%;\n",
       "      cursor: pointer;\n",
       "      display: none;\n",
       "      fill: #1967D2;\n",
       "      height: 32px;\n",
       "      padding: 0 0 0 0;\n",
       "      width: 32px;\n",
       "    }\n",
       "\n",
       "    .colab-df-convert:hover {\n",
       "      background-color: #E2EBFA;\n",
       "      box-shadow: 0px 1px 2px rgba(60, 64, 67, 0.3), 0px 1px 3px 1px rgba(60, 64, 67, 0.15);\n",
       "      fill: #174EA6;\n",
       "    }\n",
       "\n",
       "    .colab-df-buttons div {\n",
       "      margin-bottom: 4px;\n",
       "    }\n",
       "\n",
       "    [theme=dark] .colab-df-convert {\n",
       "      background-color: #3B4455;\n",
       "      fill: #D2E3FC;\n",
       "    }\n",
       "\n",
       "    [theme=dark] .colab-df-convert:hover {\n",
       "      background-color: #434B5C;\n",
       "      box-shadow: 0px 1px 3px 1px rgba(0, 0, 0, 0.15);\n",
       "      filter: drop-shadow(0px 1px 2px rgba(0, 0, 0, 0.3));\n",
       "      fill: #FFFFFF;\n",
       "    }\n",
       "  </style>\n",
       "\n",
       "    <script>\n",
       "      const buttonEl =\n",
       "        document.querySelector('#df-ae015401-5309-442f-afd8-6ac8842559c9 button.colab-df-convert');\n",
       "      buttonEl.style.display =\n",
       "        google.colab.kernel.accessAllowed ? 'block' : 'none';\n",
       "\n",
       "      async function convertToInteractive(key) {\n",
       "        const element = document.querySelector('#df-ae015401-5309-442f-afd8-6ac8842559c9');\n",
       "        const dataTable =\n",
       "          await google.colab.kernel.invokeFunction('convertToInteractive',\n",
       "                                                    [key], {});\n",
       "        if (!dataTable) return;\n",
       "\n",
       "        const docLinkHtml = 'Like what you see? Visit the ' +\n",
       "          '<a target=\"_blank\" href=https://colab.research.google.com/notebooks/data_table.ipynb>data table notebook</a>'\n",
       "          + ' to learn more about interactive tables.';\n",
       "        element.innerHTML = '';\n",
       "        dataTable['output_type'] = 'display_data';\n",
       "        await google.colab.output.renderOutput(dataTable, element);\n",
       "        const docLink = document.createElement('div');\n",
       "        docLink.innerHTML = docLinkHtml;\n",
       "        element.appendChild(docLink);\n",
       "      }\n",
       "    </script>\n",
       "  </div>\n",
       "\n",
       "\n",
       "<div id=\"df-0a5d8193-e6dc-46f4-875a-6385f721f388\">\n",
       "  <button class=\"colab-df-quickchart\" onclick=\"quickchart('df-0a5d8193-e6dc-46f4-875a-6385f721f388')\"\n",
       "            title=\"Suggest charts.\"\n",
       "            style=\"display:none;\">\n",
       "\n",
       "<svg xmlns=\"http://www.w3.org/2000/svg\" height=\"24px\"viewBox=\"0 0 24 24\"\n",
       "     width=\"24px\">\n",
       "    <g>\n",
       "        <path d=\"M19 3H5c-1.1 0-2 .9-2 2v14c0 1.1.9 2 2 2h14c1.1 0 2-.9 2-2V5c0-1.1-.9-2-2-2zM9 17H7v-7h2v7zm4 0h-2V7h2v10zm4 0h-2v-4h2v4z\"/>\n",
       "    </g>\n",
       "</svg>\n",
       "  </button>\n",
       "\n",
       "<style>\n",
       "  .colab-df-quickchart {\n",
       "      --bg-color: #E8F0FE;\n",
       "      --fill-color: #1967D2;\n",
       "      --hover-bg-color: #E2EBFA;\n",
       "      --hover-fill-color: #174EA6;\n",
       "      --disabled-fill-color: #AAA;\n",
       "      --disabled-bg-color: #DDD;\n",
       "  }\n",
       "\n",
       "  [theme=dark] .colab-df-quickchart {\n",
       "      --bg-color: #3B4455;\n",
       "      --fill-color: #D2E3FC;\n",
       "      --hover-bg-color: #434B5C;\n",
       "      --hover-fill-color: #FFFFFF;\n",
       "      --disabled-bg-color: #3B4455;\n",
       "      --disabled-fill-color: #666;\n",
       "  }\n",
       "\n",
       "  .colab-df-quickchart {\n",
       "    background-color: var(--bg-color);\n",
       "    border: none;\n",
       "    border-radius: 50%;\n",
       "    cursor: pointer;\n",
       "    display: none;\n",
       "    fill: var(--fill-color);\n",
       "    height: 32px;\n",
       "    padding: 0;\n",
       "    width: 32px;\n",
       "  }\n",
       "\n",
       "  .colab-df-quickchart:hover {\n",
       "    background-color: var(--hover-bg-color);\n",
       "    box-shadow: 0 1px 2px rgba(60, 64, 67, 0.3), 0 1px 3px 1px rgba(60, 64, 67, 0.15);\n",
       "    fill: var(--button-hover-fill-color);\n",
       "  }\n",
       "\n",
       "  .colab-df-quickchart-complete:disabled,\n",
       "  .colab-df-quickchart-complete:disabled:hover {\n",
       "    background-color: var(--disabled-bg-color);\n",
       "    fill: var(--disabled-fill-color);\n",
       "    box-shadow: none;\n",
       "  }\n",
       "\n",
       "  .colab-df-spinner {\n",
       "    border: 2px solid var(--fill-color);\n",
       "    border-color: transparent;\n",
       "    border-bottom-color: var(--fill-color);\n",
       "    animation:\n",
       "      spin 1s steps(1) infinite;\n",
       "  }\n",
       "\n",
       "  @keyframes spin {\n",
       "    0% {\n",
       "      border-color: transparent;\n",
       "      border-bottom-color: var(--fill-color);\n",
       "      border-left-color: var(--fill-color);\n",
       "    }\n",
       "    20% {\n",
       "      border-color: transparent;\n",
       "      border-left-color: var(--fill-color);\n",
       "      border-top-color: var(--fill-color);\n",
       "    }\n",
       "    30% {\n",
       "      border-color: transparent;\n",
       "      border-left-color: var(--fill-color);\n",
       "      border-top-color: var(--fill-color);\n",
       "      border-right-color: var(--fill-color);\n",
       "    }\n",
       "    40% {\n",
       "      border-color: transparent;\n",
       "      border-right-color: var(--fill-color);\n",
       "      border-top-color: var(--fill-color);\n",
       "    }\n",
       "    60% {\n",
       "      border-color: transparent;\n",
       "      border-right-color: var(--fill-color);\n",
       "    }\n",
       "    80% {\n",
       "      border-color: transparent;\n",
       "      border-right-color: var(--fill-color);\n",
       "      border-bottom-color: var(--fill-color);\n",
       "    }\n",
       "    90% {\n",
       "      border-color: transparent;\n",
       "      border-bottom-color: var(--fill-color);\n",
       "    }\n",
       "  }\n",
       "</style>\n",
       "\n",
       "  <script>\n",
       "    async function quickchart(key) {\n",
       "      const quickchartButtonEl =\n",
       "        document.querySelector('#' + key + ' button');\n",
       "      quickchartButtonEl.disabled = true;  // To prevent multiple clicks.\n",
       "      quickchartButtonEl.classList.add('colab-df-spinner');\n",
       "      try {\n",
       "        const charts = await google.colab.kernel.invokeFunction(\n",
       "            'suggestCharts', [key], {});\n",
       "      } catch (error) {\n",
       "        console.error('Error during call to suggestCharts:', error);\n",
       "      }\n",
       "      quickchartButtonEl.classList.remove('colab-df-spinner');\n",
       "      quickchartButtonEl.classList.add('colab-df-quickchart-complete');\n",
       "    }\n",
       "    (() => {\n",
       "      let quickchartButtonEl =\n",
       "        document.querySelector('#df-0a5d8193-e6dc-46f4-875a-6385f721f388 button');\n",
       "      quickchartButtonEl.style.display =\n",
       "        google.colab.kernel.accessAllowed ? 'block' : 'none';\n",
       "    })();\n",
       "  </script>\n",
       "</div>\n",
       "    </div>\n",
       "  </div>\n"
      ],
      "text/plain": [
       "         asin                                        description  price  \\\n",
       "0  0078764343                                  Brand new sealed!  37.98   \n",
       "1  043933702X  In Stock NOW.  Eligible for FREE Super Saving ...  23.50   \n",
       "2  0439339987  Grandma Groupers kelp seeds are missing and wi...   8.95   \n",
       "3  0439342260  This software is BRAND NEW. Packaging may diff...    NaN   \n",
       "\n",
       "                                               imUrl  \\\n",
       "0  http://ecx.images-amazon.com/images/I/513h6dPb...   \n",
       "1  http://ecx.images-amazon.com/images/I/61KKRndV...   \n",
       "2  http://ecx.images-amazon.com/images/I/416QZg89...   \n",
       "3  http://ecx.images-amazon.com/images/I/61Wvu-Uj...   \n",
       "\n",
       "                                             related               salesRank  \\\n",
       "0  {'also_bought': ['B000TI836G', 'B003Q53VZC', '...  {'Video Games': 28655}   \n",
       "1  {'also_viewed': ['B000067NP1', '0439573947', '...  {'Video Games': 44080}   \n",
       "2  {'also_bought': ['B000314VVU', 'B000PXUOTE', '...  {'Video Games': 49836}   \n",
       "3                    {'also_viewed': ['043934302X']}  {'Video Games': 49156}   \n",
       "\n",
       "                         categories title brand  \n",
       "0  [[Video Games, Xbox 360, Games]]   NaN   NaN  \n",
       "1        [[Video Games, PC, Games]]   NaN   NaN  \n",
       "2        [[Video Games, PC, Games]]   NaN   NaN  \n",
       "3        [[Video Games, PC, Games]]   NaN   NaN  "
      ]
     },
     "execution_count": 8,
     "metadata": {},
     "output_type": "execute_result"
    }
   ],
   "source": [
    "meta_Video.head(4)"
   ]
  },
  {
   "cell_type": "code",
   "execution_count": null,
   "metadata": {
    "colab": {
     "base_uri": "https://localhost:8080/"
    },
    "id": "BbeAd96zAHG9",
    "outputId": "632f197b-c4dd-438c-e0b8-03ee1735d4c6"
   },
   "outputs": [
    {
     "data": {
      "text/plain": [
       "0"
      ]
     },
     "execution_count": 9,
     "metadata": {},
     "output_type": "execute_result"
    }
   ],
   "source": [
    "meta_Video.asin.duplicated().sum()"
   ]
  },
  {
   "cell_type": "code",
   "execution_count": null,
   "metadata": {
    "id": "m-OrRtcbAME-"
   },
   "outputs": [],
   "source": [
    "# Lista de nombres de columnas que deseas convertir a tipo str\n",
    "columnas_a_str = ['asin', 'title', 'related','brand','categories', 'salesRank','description']\n"
   ]
  },
  {
   "cell_type": "code",
   "execution_count": null,
   "metadata": {
    "id": "jjNa-0F_ANgR"
   },
   "outputs": [],
   "source": [
    "# Convierte las columnas especificadas a tipo str\n",
    "meta_Video[columnas_a_str] = meta_Video[columnas_a_str].apply(lambda x: x.astype(str))\n"
   ]
  },
  {
   "cell_type": "code",
   "execution_count": null,
   "metadata": {
    "id": "LIyuAEr7AYpB"
   },
   "outputs": [],
   "source": [
    "# Pasar todos los datos a minúscula\n",
    "meta_Video = meta_Video.applymap(lambda x: x.lower() if isinstance(x, str) else x)\n"
   ]
  },
  {
   "cell_type": "code",
   "execution_count": null,
   "metadata": {
    "id": "UYs7ATf4AdrC"
   },
   "outputs": [],
   "source": [
    "meta_Video.drop(columns= ['imUrl'], inplace=True)"
   ]
  },
  {
   "cell_type": "code",
   "execution_count": null,
   "metadata": {
    "id": "cN_uJNCcAhOB"
   },
   "outputs": [],
   "source": [
    "# Guardar el DataFrame en un archivo Parquet\n",
    "meta_Video.to_parquet('meta_Video.parquet', index=False)\n"
   ]
  },
  {
   "cell_type": "code",
   "execution_count": 32,
   "id": "5af10bf4-89e2-4515-93fb-03fcab4406e2",
   "metadata": {
    "tags": []
   },
   "outputs": [],
   "source": [
    "warnings.filterwarnings('ignore')"
   ]
  },
  {
   "cell_type": "markdown",
   "id": "bd1ca948-ed76-4325-b420-5d78b2f7ab5d",
   "metadata": {},
   "source": [
    "# Importando archivos"
   ]
  },
  {
   "cell_type": "code",
   "execution_count": 33,
   "id": "0aad2457-20b6-4f30-9c3b-a47978c103f6",
   "metadata": {
    "tags": []
   },
   "outputs": [],
   "source": [
    "archivos = ['datasets/Pet_Supplies_5.json',\n",
    " 'datasets/Cell_Phones_and_Accessories_5.json',\n",
    " 'datasets/Clothing_Shoes_and_Jewelry_5.json',\n",
    " 'datasets/Musical_Instruments_5.json']"
   ]
  },
  {
   "cell_type": "code",
   "execution_count": 34,
   "id": "f573984f-ff00-412a-b7aa-3689926b892f",
   "metadata": {
    "tags": []
   },
   "outputs": [],
   "source": [
    "metadatas = ['metadata/meta_Pet_Supplies.json','metadata/meta_Musical_Instruments.json',\n",
    "            'metadata/meta_Cell_Phones_and_Accessories.json','metadata/meta_Clothing_Shoes_and_Jewelry.json']"
   ]
  },
  {
   "cell_type": "markdown",
   "id": "d3810163-fdc3-43c5-926b-27e8e96c6342",
   "metadata": {},
   "source": [
    "Columnas string que transformaremos a lower "
   ]
  },
  {
   "cell_type": "code",
   "execution_count": 35,
   "id": "2a02b3c6-78fd-45c8-b059-e1e30e17f87a",
   "metadata": {
    "tags": []
   },
   "outputs": [],
   "source": [
    "columnas_lower = ['reviewerID','reviewerName','reviewText','summary']"
   ]
  },
  {
   "cell_type": "markdown",
   "id": "f67649fc-7eb5-4ac5-a042-1fc97cb776f1",
   "metadata": {},
   "source": [
    "Columnas finales que quedaran en el dataframe"
   ]
  },
  {
   "cell_type": "code",
   "execution_count": 36,
   "id": "201a3ecc-4e63-4d44-8322-ecaba3b6d8f5",
   "metadata": {
    "tags": []
   },
   "outputs": [],
   "source": [
    "columnas_finales = ['reviewerID','asin','reviewerName','reviewText','overall','summary','unixReviewTime']"
   ]
  },
  {
   "cell_type": "markdown",
   "id": "9382b68c-32a3-4e05-b9e8-704cba08deb3",
   "metadata": {},
   "source": [
    "Columnas finales de metadata"
   ]
  },
  {
   "cell_type": "code",
   "execution_count": 37,
   "id": "c67e734c-a5e0-40fa-ad8f-1f5c3e0085a6",
   "metadata": {
    "tags": []
   },
   "outputs": [],
   "source": [
    "metadata_columns = ['description', 'title','brand','rank','main_cat','price','asin']"
   ]
  },
  {
   "cell_type": "markdown",
   "id": "d20d35c7-b5e8-4a76-9b91-090a4ae3ad5d",
   "metadata": {},
   "source": [
    "# Pet Supplies"
   ]
  },
  {
   "cell_type": "code",
   "execution_count": 8,
   "id": "072940e6-e771-47cd-9975-09033c16d2fb",
   "metadata": {
    "tags": []
   },
   "outputs": [],
   "source": [
    "Pet_supplies = pd.read_json(archivos[0], lines=True)"
   ]
  },
  {
   "cell_type": "markdown",
   "id": "88e92eff-12c4-46c5-9c86-c110e84d114a",
   "metadata": {},
   "source": [
    "Transformamos strings a sus minusculas"
   ]
  },
  {
   "cell_type": "code",
   "execution_count": 9,
   "id": "e9ebd2a5-b514-4253-8bed-46411cdd828d",
   "metadata": {
    "tags": []
   },
   "outputs": [],
   "source": [
    "Pet_supplies[columnas_lower] = Pet_supplies[columnas_lower].apply(lambda x: x.astype(str).str.lower())"
   ]
  },
  {
   "cell_type": "markdown",
   "id": "ede6c329-c9f8-4272-84c0-675f5a320390",
   "metadata": {
    "tags": []
   },
   "source": [
    "Eliminamos columnas que no usemos"
   ]
  },
  {
   "cell_type": "code",
   "execution_count": 10,
   "id": "f0cefdbd-4b78-4ffd-8e33-f06e042db981",
   "metadata": {
    "tags": []
   },
   "outputs": [],
   "source": [
    "Pet_supplies = Pet_supplies[columnas_finales]"
   ]
  },
  {
   "cell_type": "markdown",
   "id": "8257d011-4cb6-43a2-8da5-93a6bae633a6",
   "metadata": {},
   "source": [
    "Acordamos trabajar con un rango de fechas especifico por lo que filtraremos los datos que se encuentren entre estas"
   ]
  },
  {
   "cell_type": "code",
   "execution_count": 38,
   "id": "8b201184-0bf0-44f0-a7d5-e09942d98156",
   "metadata": {
    "tags": []
   },
   "outputs": [],
   "source": [
    "def filtrar_fecha(x):\n",
    "    fecha = datetime.fromtimestamp(x)\n",
    "    if fecha.year > 2003:\n",
    "        return True\n",
    "    else:\n",
    "        return False"
   ]
  },
  {
   "cell_type": "code",
   "execution_count": 28,
   "id": "14f907e3-553b-41de-a432-d35a12e105ba",
   "metadata": {
    "tags": []
   },
   "outputs": [],
   "source": [
    "filtro_fecha = Pet_supplies['unixReviewTime'].apply(lambda x: filtrar_fecha(x))\n",
    "Pet_supplies = Pet_supplies[filtro_fecha]"
   ]
  },
  {
   "cell_type": "markdown",
   "id": "664691e0-270a-4daf-ba69-ec8c10d192a4",
   "metadata": {},
   "source": [
    "Finalmente lo guardamos en un archivo de tipo parquet con compresion gzip"
   ]
  },
  {
   "cell_type": "code",
   "execution_count": null,
   "id": "aa604456-0035-4aa6-a966-8b8303c462c6",
   "metadata": {},
   "outputs": [],
   "source": [
    "Pet_supplies.to_parquet('Pet_Supplies.parquet.gzip',\n",
    "                           compression='gzip')"
   ]
  },
  {
   "cell_type": "markdown",
   "id": "a29b1d76-e2a4-4eff-add2-54a4db34d0ab",
   "metadata": {},
   "source": [
    "### Su metadata"
   ]
  },
  {
   "cell_type": "code",
   "execution_count": 16,
   "id": "d6b26cce-5f29-4b4c-b176-501b2192bc12",
   "metadata": {
    "tags": []
   },
   "outputs": [],
   "source": [
    "Pet_supplies_meta = pd.read_json(metadatas[0], lines=True)"
   ]
  },
  {
   "cell_type": "markdown",
   "id": "4c692883-ab62-46d6-bf08-f24b87d47772",
   "metadata": {
    "tags": []
   },
   "source": [
    "Eliminamos columnas innecesarias"
   ]
  },
  {
   "cell_type": "code",
   "execution_count": 36,
   "id": "75a91be8-48bb-49c3-90fc-23df2becdb88",
   "metadata": {
    "tags": []
   },
   "outputs": [],
   "source": [
    "Pet_supplies_meta = Pet_supplies_meta[metadata_columns]"
   ]
  },
  {
   "cell_type": "markdown",
   "id": "bbc50f28-2bee-45ef-83e3-dde1e7e7ee1f",
   "metadata": {
    "tags": []
   },
   "source": [
    "Trabajamos normalizando los precios y transformandolos a float"
   ]
  },
  {
   "cell_type": "code",
   "execution_count": 38,
   "id": "433db6e0-d70d-4214-b8eb-1543539b610c",
   "metadata": {
    "tags": []
   },
   "outputs": [
    {
     "data": {
      "text/plain": [
       "description     object\n",
       "title           object\n",
       "brand           object\n",
       "rank            object\n",
       "main_cat        object\n",
       "price          float64\n",
       "asin            object\n",
       "dtype: object"
      ]
     },
     "execution_count": 38,
     "metadata": {},
     "output_type": "execute_result"
    }
   ],
   "source": [
    "Pet_supplies_meta['price']  = Pet_supplies_meta['price'].str.replace('$', '')\n",
    "Pet_supplies_meta['price'] = pd.to_numeric(Pet_supplies_meta['price'], errors='coerce')"
   ]
  },
  {
   "cell_type": "markdown",
   "id": "daeb6308-97af-4cd4-96fe-82a0284a1d95",
   "metadata": {},
   "source": [
    "Manejamos las listas vacias"
   ]
  },
  {
   "cell_type": "code",
   "execution_count": null,
   "id": "608060c7-b1f3-4de2-8862-53768467f221",
   "metadata": {
    "tags": []
   },
   "outputs": [],
   "source": [
    "Pet_supplies_meta['rank'] = Pet_supplies_meta['rank'].apply(lambda x: [] if not isinstance(x, list) else x)"
   ]
  },
  {
   "cell_type": "code",
   "execution_count": null,
   "id": "6cb361c7-eac1-48da-a94b-f86f7e6f95c2",
   "metadata": {},
   "outputs": [],
   "source": [
    "Pet_supplies_meta.to_parquet('metadata_parquet/meta_Pet_Supplies.parquet.gzip', compression='gzip')"
   ]
  },
  {
   "cell_type": "markdown",
   "id": "f4c2419e-45cc-4b09-a17c-27008f518c94",
   "metadata": {},
   "source": [
    "# Cellphones and accesories"
   ]
  },
  {
   "cell_type": "code",
   "execution_count": 18,
   "id": "6645beb0-cd2b-46ef-a546-e557be6e338e",
   "metadata": {
    "tags": []
   },
   "outputs": [],
   "source": [
    "Cellphones_accesories = pd.read_json(archivos[1], lines=True)"
   ]
  },
  {
   "cell_type": "markdown",
   "id": "4fc4a3d5-6ae0-492a-a5f7-ad9c4dc8336a",
   "metadata": {},
   "source": [
    "Transformamos strings a sus minusculas"
   ]
  },
  {
   "cell_type": "code",
   "execution_count": 19,
   "id": "7c6024ca-fe57-4a19-8ead-7db2deadefc4",
   "metadata": {
    "tags": []
   },
   "outputs": [],
   "source": [
    "Cellphones_accesories[columnas_lower] = Cellphones_accesories[columnas_lower].apply(lambda x: x.astype(str).str.lower())"
   ]
  },
  {
   "cell_type": "markdown",
   "id": "8845511c-1f62-4b16-ab08-02c87de09893",
   "metadata": {},
   "source": [
    "Eliminamos columnas que no usemos"
   ]
  },
  {
   "cell_type": "code",
   "execution_count": 21,
   "id": "aff53459-2819-44c5-a698-b0f063f84ca7",
   "metadata": {
    "tags": []
   },
   "outputs": [],
   "source": [
    "Cellphones_accesories = Cellphones_accesories[columnas_finales]"
   ]
  },
  {
   "cell_type": "markdown",
   "id": "2e61652b-8224-41c0-b715-fde5e0bb0de6",
   "metadata": {},
   "source": [
    "Filtramos las fechas"
   ]
  },
  {
   "cell_type": "code",
   "execution_count": 44,
   "id": "287351ad-447f-452e-bb4c-6520b82e7f03",
   "metadata": {
    "tags": []
   },
   "outputs": [],
   "source": [
    "filtro_fecha = Cellphones_accesories['unixReviewTime'].apply(lambda x: filtrar_fecha(x))\n",
    "Cellphones_accesories = Cellphones_accesories[filtro_fecha]"
   ]
  },
  {
   "cell_type": "markdown",
   "id": "87a514fd-7d75-4b52-9743-f6d50c1ed6c0",
   "metadata": {},
   "source": [
    "Lo guardamos en su archivo"
   ]
  },
  {
   "cell_type": "code",
   "execution_count": null,
   "id": "13efd324-897b-49eb-87cc-b6df644f3cc3",
   "metadata": {},
   "outputs": [],
   "source": [
    "Cellphones_accesories.to_parquet('Cell_Phones_and_Accessories.parquet.gzip',\n",
    "                           compression='gzip')"
   ]
  },
  {
   "cell_type": "markdown",
   "id": "23d1e902-4178-4a8e-9cb0-0b2ed36aa0be",
   "metadata": {},
   "source": [
    "### Su metadata"
   ]
  },
  {
   "cell_type": "code",
   "execution_count": 45,
   "id": "10a45ef5-4169-4252-9ef7-dec033d27aa3",
   "metadata": {
    "tags": []
   },
   "outputs": [],
   "source": [
    "meta_Cellphones = pd.read_json(metadatas[2],lines=True)"
   ]
  },
  {
   "cell_type": "markdown",
   "id": "4ddc9625-8bb1-4fcb-bd4d-a84e64bc4072",
   "metadata": {},
   "source": [
    "Eliminamos columnas"
   ]
  },
  {
   "cell_type": "code",
   "execution_count": 47,
   "id": "345a51b8-6d02-4279-9b03-ebfbcbf92a7f",
   "metadata": {
    "tags": []
   },
   "outputs": [],
   "source": [
    "meta_Cellphones = meta_Cellphones[metadata_columns]"
   ]
  },
  {
   "cell_type": "markdown",
   "id": "fb026cc2-3aa0-4786-9890-2152610ab20f",
   "metadata": {},
   "source": [
    "Cambiamos el formato de la columnas price"
   ]
  },
  {
   "cell_type": "code",
   "execution_count": 48,
   "id": "fae65c1f-060b-4e41-af1d-7c15ba48ed46",
   "metadata": {
    "tags": []
   },
   "outputs": [],
   "source": [
    "meta_Cellphones['price']  = meta_Cellphones['price'].str.replace('$', '')\n",
    "meta_Cellphones['price'] = pd.to_numeric(meta_Cellphones['price'], errors='coerce')"
   ]
  },
  {
   "cell_type": "markdown",
   "id": "d5a48d6f-72f5-4164-af3d-dfd288c5b128",
   "metadata": {},
   "source": [
    "Establecemos listas vacias a los valores que no cumplen con el requisito que colocamos"
   ]
  },
  {
   "cell_type": "code",
   "execution_count": 50,
   "id": "f6bf6f4b-ebad-4cd9-88d4-a3c841aaf5bd",
   "metadata": {
    "tags": []
   },
   "outputs": [],
   "source": [
    "meta_Cellphones['rank'] = meta_Cellphones['rank'].apply(lambda x: [] if not isinstance(x, list) else x)"
   ]
  },
  {
   "cell_type": "markdown",
   "id": "3224592b-9386-4dc1-bd5d-7e8ad2150c1b",
   "metadata": {},
   "source": [
    "Guardamos en un archivo parquet"
   ]
  },
  {
   "cell_type": "code",
   "execution_count": null,
   "id": "94c130cb-704b-4c9f-8217-058e8fb0b3f8",
   "metadata": {},
   "outputs": [],
   "source": [
    "meta_Cellphones.to_parquet('metadata_parquet/meta_Cell_Phones_and_Accessories.parquet.gzip', compression='gzip')"
   ]
  },
  {
   "cell_type": "markdown",
   "id": "b780d84b-c339-4779-842c-6795011f5dcd",
   "metadata": {},
   "source": [
    "# Clothing and Jewerly"
   ]
  },
  {
   "cell_type": "code",
   "execution_count": 11,
   "id": "735b0ace-4424-4ac6-af05-e7b527241f98",
   "metadata": {
    "tags": []
   },
   "outputs": [],
   "source": [
    "Clothing = pd.read_json(archivos[2],lines=True)"
   ]
  },
  {
   "cell_type": "markdown",
   "id": "f8fce6e2-f8bd-487b-9492-ca66b4e4aaa0",
   "metadata": {
    "tags": []
   },
   "source": [
    "Realizaremos las mismas transformaciones que con los anteriores dataframes"
   ]
  },
  {
   "cell_type": "code",
   "execution_count": 15,
   "id": "7564e2f2-d2d6-43b1-b168-805f4a2e097d",
   "metadata": {
    "tags": []
   },
   "outputs": [],
   "source": [
    "Clothing[columnas_lower] = Clothing[columnas_lower].apply(lambda x: x.astype(str).str.lower())"
   ]
  },
  {
   "cell_type": "code",
   "execution_count": 16,
   "id": "3d4e3bc8-5caa-49ca-9fe5-104ac5b538bf",
   "metadata": {
    "tags": []
   },
   "outputs": [],
   "source": [
    "Clothing = Clothing[columnas_finales]"
   ]
  },
  {
   "cell_type": "code",
   "execution_count": 19,
   "id": "e5d01ebd-5283-4194-81aa-2d90af582f1d",
   "metadata": {
    "tags": []
   },
   "outputs": [],
   "source": [
    "filtro_fecha = Clothing['unixReviewTime'].apply(lambda x: filtrar_fecha(x))\n",
    "Clothing = Clothing[filtro_fecha]"
   ]
  },
  {
   "cell_type": "code",
   "execution_count": null,
   "id": "37b61c96-8b82-4eaa-922e-3d9a04c5ff48",
   "metadata": {},
   "outputs": [],
   "source": [
    "Clothing.to_parquet('Clothing_Shoes_and_Jewelry.parquet.gzip',\n",
    "                           compression='gzip')"
   ]
  },
  {
   "cell_type": "markdown",
   "id": "971867f0-69c9-4f5f-b3ef-1bc963393b1e",
   "metadata": {},
   "source": [
    "#### Su metadata"
   ]
  },
  {
   "cell_type": "code",
   "execution_count": 9,
   "id": "5ad05c61-6b33-4a09-955d-07e5d7579d80",
   "metadata": {
    "tags": []
   },
   "outputs": [],
   "source": [
    "data = [eval(line) for line in open(metadatas[2], 'r')]\n",
    "meta_Clothing = pd.DataFrame.from_records(data)"
   ]
  },
  {
   "cell_type": "markdown",
   "id": "b69ebe7a-6c58-4f0e-b882-5e386bbe687d",
   "metadata": {},
   "source": [
    "Repetiremos los mismos pasos que con los datasets anteriores"
   ]
  },
  {
   "cell_type": "code",
   "execution_count": 20,
   "id": "332dd349-0428-4d81-8d83-29186d837be9",
   "metadata": {
    "tags": []
   },
   "outputs": [],
   "source": [
    "meta_Clothing = meta_Clothing[metadata_columns]\n",
    "meta_Clothing['price']  = meta_Clothing['price'].str.replace('$', '')\n",
    "meta_Clothing['price'] = pd.to_numeric(meta_Clothing['price'], errors='coerce')\n",
    "meta_Clothing['rank'] = meta_Clothing['rank'].apply(lambda x: [] if not isinstance(x, list) else x)"
   ]
  },
  {
   "cell_type": "code",
   "execution_count": null,
   "id": "fbfc8488-529d-45c6-8bd5-87dcdbe48b5c",
   "metadata": {},
   "outputs": [],
   "source": [
    "meta_Clothing.to_parquet('metadata_parquet/meta_Clothing_Shoes_and_Jewelry.parquet.gzip', compression='gzip')"
   ]
  },
  {
   "cell_type": "markdown",
   "id": "35dadd28-7850-4612-8450-4ea7bc7face8",
   "metadata": {},
   "source": [
    "# Musical Instruments"
   ]
  },
  {
   "cell_type": "code",
   "execution_count": 22,
   "id": "4fa25be6-a9bf-4c73-ad2c-20600f669e67",
   "metadata": {
    "tags": []
   },
   "outputs": [],
   "source": [
    "Musical_instruments = pd.read_json(archivos[-1], lines=True)"
   ]
  },
  {
   "cell_type": "code",
   "execution_count": 25,
   "id": "cd4c33cc-b4c4-427b-9a77-595a0aaf3a81",
   "metadata": {
    "tags": []
   },
   "outputs": [],
   "source": [
    "Musical_instruments[columnas_lower] = Musical_instruments[columnas_lower].apply(lambda x: x.astype(str).str.lower())"
   ]
  },
  {
   "cell_type": "code",
   "execution_count": 26,
   "id": "c9d949ac-98f6-4dee-ac09-b2d3657657be",
   "metadata": {
    "tags": []
   },
   "outputs": [],
   "source": [
    "Musical_instruments = Musical_instruments[columnas_finales]"
   ]
  },
  {
   "cell_type": "code",
   "execution_count": 27,
   "id": "43e04d97-33ae-49e1-be77-4ef4eb89c672",
   "metadata": {
    "tags": []
   },
   "outputs": [],
   "source": [
    "filtro_fecha = Musical_instruments['unixReviewTime'].apply(lambda x: filtrar_fecha(x))\n",
    "Musical_instruments = Musical_instruments[filtro_fecha]"
   ]
  },
  {
   "cell_type": "code",
   "execution_count": null,
   "id": "a63a5ef6-8fce-4538-8527-20aef91f6fc4",
   "metadata": {},
   "outputs": [],
   "source": [
    "Musical_instruments.to_parquet('meta_Musical_Instruments.parquet.gzip', compression='gzip')"
   ]
  },
  {
   "cell_type": "markdown",
   "id": "969f0aa0-f253-41bb-832d-6d9b0f9fc851",
   "metadata": {},
   "source": [
    "#### Su metadata"
   ]
  },
  {
   "cell_type": "code",
   "execution_count": 28,
   "id": "aa9e1380-e1b0-4d36-80b4-53d04b74ad28",
   "metadata": {
    "tags": []
   },
   "outputs": [],
   "source": [
    "meta_Musical_instruments = pd.read_json(metadatas[1], lines=True)"
   ]
  },
  {
   "cell_type": "code",
   "execution_count": 29,
   "id": "f9f0fd4d-66dd-4e24-8f80-af25e5ccf48d",
   "metadata": {
    "tags": []
   },
   "outputs": [],
   "source": [
    "meta_Musical_instruments = meta_Musical_instruments[metadata_columns]\n",
    "meta_Musical_instruments['price'] = pd.to_numeric(meta_Musical_instruments['price'], errors='coerce')"
   ]
  },
  {
   "cell_type": "code",
   "execution_count": 30,
   "id": "12e648db-c8c9-4a42-8d09-2fc746e13836",
   "metadata": {
    "tags": []
   },
   "outputs": [],
   "source": [
    "meta_Musical_instruments['rank'] = meta_Musical_instruments['rank'].apply(lambda x: [] if not isinstance(x, list) else x)"
   ]
  },
  {
   "cell_type": "code",
   "execution_count": null,
   "id": "758bd1c5-ec21-4ebd-86d0-aa42da616cf7",
   "metadata": {},
   "outputs": [],
   "source": [
    "meta_Musical_instruments.to_parquet('metadata_parquet/meta_Musical_Instruments.parquet.gzip', compression='gzip')"
   ]
  },
  {
   "cell_type": "code",
   "execution_count": 2,
   "metadata": {},
   "outputs": [],
   "source": [
    "def compare_date_columns(df):\n",
    "    # Ensure 'reviewTime' column is in datetime format\n",
    "    df['reviewTime'] = pd.to_datetime(df['reviewTime'], format='%m %d, %Y')\n",
    "\n",
    "    # Compare 'unixReviewTime' and 'reviewTime' for equality\n",
    "    df['same_date'] = df['reviewTime'].dt.date == pd.to_datetime(df['unixReviewTime'], unit='s').dt.date\n",
    "\n",
    "    return df"
   ]
  },
  {
   "cell_type": "code",
   "execution_count": 4,
   "metadata": {},
   "outputs": [],
   "source": [
    "import pandas as pd\n",
    "import numpy as np\n",
    "\n",
    "def identificar_duplicados_metas(df):\n",
    "    # Crear una copia del DataFrame\n",
    "    df_copy = df.copy()\n",
    "\n",
    "    # Convertir las columnas de diccionarios a cadenas de texto\n",
    "    for col in df_copy.columns:\n",
    "        df_copy[col] = df_copy[col].apply(lambda x: str(x) if isinstance(x, dict) else x)\n",
    "\n",
    "    # Seleccionar solo las columnas que no contienen objetos de tipo 'dict'\n",
    "    columnas_no_dict = [col for col in df_copy.columns if not df_copy[col].apply(lambda x: isinstance(x, dict)).any()]\n",
    "\n",
    "    # Buscar duplicados en las columnas seleccionadas\n",
    "    duplicados = df_copy[df_copy.duplicated(subset=columnas_no_dict, keep=False)]\n",
    "    return duplicados\n",
    "\n"
   ]
  },
  {
   "cell_type": "code",
   "execution_count": 5,
   "metadata": {},
   "outputs": [],
   "source": [
    "\n",
    "\n",
    "def identificar_duplicados(df):\n",
    "    # Filtrar las columnas que no son de tipo numpy.ndarray\n",
    "    columnas_validas = [col for col in df.columns if not isinstance(df[col].iloc[0], np.ndarray)]\n",
    "    \n",
    "    # Crear un nuevo DataFrame solo con las columnas válidas\n",
    "    df_valido = df[columnas_validas]\n",
    "    \n",
    "    # Buscar duplicados en el DataFrame válido\n",
    "    duplicados = df_valido[df_valido.duplicated(keep=False)]\n",
    "    return duplicados\n",
    "\n",
    "def identificar_nulos(df):\n",
    "    nulos = df[df.isnull().any(axis=1)]\n",
    "    return nulos\n"
   ]
  },
  {
   "cell_type": "code",
   "execution_count": 6,
   "metadata": {},
   "outputs": [],
   "source": [
    "def convertir_minusculas(df):\n",
    "    # Crear una copia del DataFrame\n",
    "    df_copy = df.copy()\n",
    "\n",
    "    # Aplicar str.lower() a todas las columnas de tipo 'object'\n",
    "    df_copy = df_copy.applymap(lambda x: x.lower() if isinstance(x, str) else x)\n",
    "\n",
    "    return df_copy\n"
   ]
  },
  {
   "cell_type": "markdown",
   "metadata": {},
   "source": [
    "#ALL_BEAUTY"
   ]
  },
  {
   "cell_type": "code",
   "execution_count": 7,
   "metadata": {},
   "outputs": [],
   "source": [
    "all_beauty=pd.read_parquet('reviews_All_Beauty.parquet')\n",
    "meta_beauty=pd.read_parquet('meta_All_Beauty.parquet')"
   ]
  },
  {
   "cell_type": "markdown",
   "metadata": {},
   "source": [
    "Vamos a identificar nulos y duplicados de los datasets"
   ]
  },
  {
   "cell_type": "code",
   "execution_count": 8,
   "metadata": {},
   "outputs": [
    {
     "name": "stdout",
     "output_type": "stream",
     "text": [
      "Empty DataFrame\n",
      "Columns: [reviewerID, asin, reviewerName, reviewText, overall, summary, unixReviewTime, reviewTime]\n",
      "Index: []\n"
     ]
    }
   ],
   "source": [
    "duplicados=identificar_duplicados(all_beauty)\n",
    "print(duplicados)"
   ]
  },
  {
   "cell_type": "code",
   "execution_count": 9,
   "metadata": {},
   "outputs": [
    {
     "name": "stdout",
     "output_type": "stream",
     "text": [
      "           reviewerID        asin reviewerName helpful  \\\n",
      "959     APUGL98BRKRA7  B00014EB6O         None  [0, 0]   \n",
      "960     AM29DOTJ3930J  B00014EB6O         None  [0, 0]   \n",
      "1487   A3GAO75P39A7C1  B0001ZA4EQ         None  [0, 0]   \n",
      "1551   A2WXCBXSBAZO3Y  B00020NWQ2         None  [0, 0]   \n",
      "2447   A19BTOF425WVIR  B000624Z6C         None  [0, 0]   \n",
      "...               ...         ...          ...     ...   \n",
      "30168  A2KBNKNP9XC4LQ  B008OBGY98         None  [0, 0]   \n",
      "30321   A771KH2WY8QRG  B008X3658W         None  [0, 0]   \n",
      "30683  A3N3E1CEXX6VPE  B009PQB24S         None  [0, 0]   \n",
      "31249  A1ZTFVT4271GWF  B00APDIFN6         None  [0, 0]   \n",
      "33021  A2WA58FWWWBP82  B00E1UZ640         None  [0, 0]   \n",
      "\n",
      "                                              reviewText  overall  \\\n",
      "959    Another item that help me post surgery. I used...      5.0   \n",
      "960    The only aloe vera juice I will drink.  It tas...      5.0   \n",
      "1487                                       Awesome stuff      5.0   \n",
      "1551   Worked good just a little more then i can afford.      4.0   \n",
      "2447   The bottle looks different from the pic. I hav...      5.0   \n",
      "...                                                  ...      ...   \n",
      "30168                                                 A+      5.0   \n",
      "30321                 Worked great with my fibromyalgia.      5.0   \n",
      "30683  These do not seem to be real Belava replacemen...      2.0   \n",
      "31249  I gave this necklace to my best friend as a bi...      5.0   \n",
      "33021                    Looked Nothing like the picture      1.0   \n",
      "\n",
      "                                                 summary  unixReviewTime  \\\n",
      "959                                           Five Stars      1405209600   \n",
      "960                   The best aloe vera juice there is!      1405209600   \n",
      "1487                                          Five Stars      1405987200   \n",
      "1551                                          Four Stars      1405296000   \n",
      "2447   A great all natural way so solve problems with...      1405900800   \n",
      "...                                                  ...             ...   \n",
      "30168                                         Five Stars      1405900800   \n",
      "30321                                       Good Product      1405382400   \n",
      "30683                                    Not recommended      1405814400   \n",
      "31249                                      amazing!!!!!!      1405468800   \n",
      "33021                                           One Star      1406073600   \n",
      "\n",
      "        reviewTime  \n",
      "959    07 13, 2014  \n",
      "960    07 13, 2014  \n",
      "1487   07 22, 2014  \n",
      "1551   07 14, 2014  \n",
      "2447   07 21, 2014  \n",
      "...            ...  \n",
      "30168  07 21, 2014  \n",
      "30321  07 15, 2014  \n",
      "30683  07 20, 2014  \n",
      "31249  07 16, 2014  \n",
      "33021  07 23, 2014  \n",
      "\n",
      "[99 rows x 9 columns]\n"
     ]
    }
   ],
   "source": [
    "nulos=identificar_nulos(all_beauty)\n",
    "print(nulos)"
   ]
  },
  {
   "cell_type": "code",
   "execution_count": 10,
   "metadata": {},
   "outputs": [],
   "source": [
    "all_beauty_final = convertir_minusculas(all_beauty)"
   ]
  },
  {
   "cell_type": "code",
   "execution_count": 11,
   "metadata": {},
   "outputs": [
    {
     "data": {
      "text/html": [
       "<div>\n",
       "<style scoped>\n",
       "    .dataframe tbody tr th:only-of-type {\n",
       "        vertical-align: middle;\n",
       "    }\n",
       "\n",
       "    .dataframe tbody tr th {\n",
       "        vertical-align: top;\n",
       "    }\n",
       "\n",
       "    .dataframe thead th {\n",
       "        text-align: right;\n",
       "    }\n",
       "</style>\n",
       "<table border=\"1\" class=\"dataframe\">\n",
       "  <thead>\n",
       "    <tr style=\"text-align: right;\">\n",
       "      <th></th>\n",
       "      <th>reviewerID</th>\n",
       "      <th>asin</th>\n",
       "      <th>reviewerName</th>\n",
       "      <th>helpful</th>\n",
       "      <th>reviewText</th>\n",
       "      <th>overall</th>\n",
       "      <th>summary</th>\n",
       "      <th>unixReviewTime</th>\n",
       "      <th>reviewTime</th>\n",
       "    </tr>\n",
       "  </thead>\n",
       "  <tbody>\n",
       "    <tr>\n",
       "      <th>0</th>\n",
       "      <td>a1zznihf0ty3p5</td>\n",
       "      <td>0977217213</td>\n",
       "      <td>josh</td>\n",
       "      <td>[0, 0]</td>\n",
       "      <td>i like but they are not stickers so they are a...</td>\n",
       "      <td>5.0</td>\n",
       "      <td>great</td>\n",
       "      <td>1397865600</td>\n",
       "      <td>04 19, 2014</td>\n",
       "    </tr>\n",
       "    <tr>\n",
       "      <th>1</th>\n",
       "      <td>a3alvbkmdjnwq9</td>\n",
       "      <td>1030070148</td>\n",
       "      <td>beauman</td>\n",
       "      <td>[0, 0]</td>\n",
       "      <td>i mistakenly ordered two sets, i asked if i co...</td>\n",
       "      <td>5.0</td>\n",
       "      <td>colored contat lens</td>\n",
       "      <td>1287187200</td>\n",
       "      <td>10 16, 2010</td>\n",
       "    </tr>\n",
       "    <tr>\n",
       "      <th>2</th>\n",
       "      <td>a1dxtzs7gtw0na</td>\n",
       "      <td>189112966x</td>\n",
       "      <td>sandra l. good \"goodgal\"</td>\n",
       "      <td>[7, 7]</td>\n",
       "      <td>what a handy little item.  it's chock full of ...</td>\n",
       "      <td>5.0</td>\n",
       "      <td>splendid!!</td>\n",
       "      <td>1346544000</td>\n",
       "      <td>09 2, 2012</td>\n",
       "    </tr>\n",
       "    <tr>\n",
       "      <th>3</th>\n",
       "      <td>a1tyq9p2erhf9v</td>\n",
       "      <td>8950947714</td>\n",
       "      <td>judy</td>\n",
       "      <td>[0, 0]</td>\n",
       "      <td>i just like the smell of this shampoo which is...</td>\n",
       "      <td>5.0</td>\n",
       "      <td>i love the smell of this shampoo</td>\n",
       "      <td>1375920000</td>\n",
       "      <td>08 8, 2013</td>\n",
       "    </tr>\n",
       "    <tr>\n",
       "      <th>4</th>\n",
       "      <td>a2l3xc0aivdpka</td>\n",
       "      <td>8985802089</td>\n",
       "      <td>zong weiwei</td>\n",
       "      <td>[0, 0]</td>\n",
       "      <td>i've been using l'oreal products and tried sev...</td>\n",
       "      <td>5.0</td>\n",
       "      <td>shiseido aquair is good for freezy hair.</td>\n",
       "      <td>1365379200</td>\n",
       "      <td>04 8, 2013</td>\n",
       "    </tr>\n",
       "    <tr>\n",
       "      <th>...</th>\n",
       "      <td>...</td>\n",
       "      <td>...</td>\n",
       "      <td>...</td>\n",
       "      <td>...</td>\n",
       "      <td>...</td>\n",
       "      <td>...</td>\n",
       "      <td>...</td>\n",
       "      <td>...</td>\n",
       "      <td>...</td>\n",
       "    </tr>\n",
       "    <tr>\n",
       "      <th>34620</th>\n",
       "      <td>a241ds00ohez1h</td>\n",
       "      <td>b00kpfrv0m</td>\n",
       "      <td>anna b.</td>\n",
       "      <td>[0, 0]</td>\n",
       "      <td>only been using it for about a week can't see ...</td>\n",
       "      <td>4.0</td>\n",
       "      <td>four stars</td>\n",
       "      <td>1405555200</td>\n",
       "      <td>07 17, 2014</td>\n",
       "    </tr>\n",
       "    <tr>\n",
       "      <th>34621</th>\n",
       "      <td>ao3iovo1d3d8g</td>\n",
       "      <td>b00kqrl6au</td>\n",
       "      <td>dawn</td>\n",
       "      <td>[0, 0]</td>\n",
       "      <td>this scrub leaves you feeling renewed from sho...</td>\n",
       "      <td>5.0</td>\n",
       "      <td>amazing!!</td>\n",
       "      <td>1402444800</td>\n",
       "      <td>06 11, 2014</td>\n",
       "    </tr>\n",
       "    <tr>\n",
       "      <th>34622</th>\n",
       "      <td>a2cvj5c716ckvg</td>\n",
       "      <td>b00krxcbi4</td>\n",
       "      <td>karen galvez</td>\n",
       "      <td>[0, 0]</td>\n",
       "      <td>wow! gorgeous tie! price is awesome and went p...</td>\n",
       "      <td>5.0</td>\n",
       "      <td>gorgeous tie</td>\n",
       "      <td>1405209600</td>\n",
       "      <td>07 13, 2014</td>\n",
       "    </tr>\n",
       "    <tr>\n",
       "      <th>34623</th>\n",
       "      <td>a2w389f34ec744</td>\n",
       "      <td>b00kvm9aq2</td>\n",
       "      <td>rasheedah johnson</td>\n",
       "      <td>[0, 0]</td>\n",
       "      <td>it took a while to find a good setting, but i ...</td>\n",
       "      <td>4.0</td>\n",
       "      <td>better than average. but the ring fits ..</td>\n",
       "      <td>1403654400</td>\n",
       "      <td>06 25, 2014</td>\n",
       "    </tr>\n",
       "    <tr>\n",
       "      <th>34624</th>\n",
       "      <td>a2g3v7o4wp5f36</td>\n",
       "      <td>b00ky502j0</td>\n",
       "      <td>abourne \"april\"</td>\n",
       "      <td>[0, 1]</td>\n",
       "      <td>i decided on this rating because it shouldn't ...</td>\n",
       "      <td>2.0</td>\n",
       "      <td>frozen assorted button hair clips</td>\n",
       "      <td>1403654400</td>\n",
       "      <td>06 25, 2014</td>\n",
       "    </tr>\n",
       "  </tbody>\n",
       "</table>\n",
       "<p>34625 rows × 9 columns</p>\n",
       "</div>"
      ],
      "text/plain": [
       "           reviewerID        asin              reviewerName helpful  \\\n",
       "0      a1zznihf0ty3p5  0977217213                      josh  [0, 0]   \n",
       "1      a3alvbkmdjnwq9  1030070148                   beauman  [0, 0]   \n",
       "2      a1dxtzs7gtw0na  189112966x  sandra l. good \"goodgal\"  [7, 7]   \n",
       "3      a1tyq9p2erhf9v  8950947714                      judy  [0, 0]   \n",
       "4      a2l3xc0aivdpka  8985802089               zong weiwei  [0, 0]   \n",
       "...               ...         ...                       ...     ...   \n",
       "34620  a241ds00ohez1h  b00kpfrv0m                   anna b.  [0, 0]   \n",
       "34621   ao3iovo1d3d8g  b00kqrl6au                      dawn  [0, 0]   \n",
       "34622  a2cvj5c716ckvg  b00krxcbi4              karen galvez  [0, 0]   \n",
       "34623  a2w389f34ec744  b00kvm9aq2         rasheedah johnson  [0, 0]   \n",
       "34624  a2g3v7o4wp5f36  b00ky502j0           abourne \"april\"  [0, 1]   \n",
       "\n",
       "                                              reviewText  overall  \\\n",
       "0      i like but they are not stickers so they are a...      5.0   \n",
       "1      i mistakenly ordered two sets, i asked if i co...      5.0   \n",
       "2      what a handy little item.  it's chock full of ...      5.0   \n",
       "3      i just like the smell of this shampoo which is...      5.0   \n",
       "4      i've been using l'oreal products and tried sev...      5.0   \n",
       "...                                                  ...      ...   \n",
       "34620  only been using it for about a week can't see ...      4.0   \n",
       "34621  this scrub leaves you feeling renewed from sho...      5.0   \n",
       "34622  wow! gorgeous tie! price is awesome and went p...      5.0   \n",
       "34623  it took a while to find a good setting, but i ...      4.0   \n",
       "34624  i decided on this rating because it shouldn't ...      2.0   \n",
       "\n",
       "                                         summary  unixReviewTime   reviewTime  \n",
       "0                                          great      1397865600  04 19, 2014  \n",
       "1                            colored contat lens      1287187200  10 16, 2010  \n",
       "2                                     splendid!!      1346544000   09 2, 2012  \n",
       "3               i love the smell of this shampoo      1375920000   08 8, 2013  \n",
       "4       shiseido aquair is good for freezy hair.      1365379200   04 8, 2013  \n",
       "...                                          ...             ...          ...  \n",
       "34620                                 four stars      1405555200  07 17, 2014  \n",
       "34621                                  amazing!!      1402444800  06 11, 2014  \n",
       "34622                               gorgeous tie      1405209600  07 13, 2014  \n",
       "34623  better than average. but the ring fits ..      1403654400  06 25, 2014  \n",
       "34624          frozen assorted button hair clips      1403654400  06 25, 2014  \n",
       "\n",
       "[34625 rows x 9 columns]"
      ]
     },
     "execution_count": 11,
     "metadata": {},
     "output_type": "execute_result"
    }
   ],
   "source": [
    "all_beauty_final"
   ]
  },
  {
   "cell_type": "code",
   "execution_count": 12,
   "metadata": {},
   "outputs": [],
   "source": [
    "all_beauty.drop(columns=['helpful', 'reviewerName', 'reviewTime'], inplace=True)"
   ]
  },
  {
   "cell_type": "markdown",
   "metadata": {},
   "source": [
    "Se encontraron Nulos pero estaban en la columna que se iban a eliminar por no ser tomadas en el analisis final se convierte todo a minuscula para podes trabara y sea mas facil la validacion de datos "
   ]
  },
  {
   "cell_type": "code",
   "execution_count": 13,
   "metadata": {},
   "outputs": [
    {
     "data": {
      "text/html": [
       "<div>\n",
       "<style scoped>\n",
       "    .dataframe tbody tr th:only-of-type {\n",
       "        vertical-align: middle;\n",
       "    }\n",
       "\n",
       "    .dataframe tbody tr th {\n",
       "        vertical-align: top;\n",
       "    }\n",
       "\n",
       "    .dataframe thead th {\n",
       "        text-align: right;\n",
       "    }\n",
       "</style>\n",
       "<table border=\"1\" class=\"dataframe\">\n",
       "  <thead>\n",
       "    <tr style=\"text-align: right;\">\n",
       "      <th></th>\n",
       "      <th>asin</th>\n",
       "      <th>related</th>\n",
       "      <th>title</th>\n",
       "      <th>price</th>\n",
       "      <th>salesRank</th>\n",
       "      <th>imUrl</th>\n",
       "      <th>brand</th>\n",
       "      <th>categories</th>\n",
       "      <th>description</th>\n",
       "    </tr>\n",
       "  </thead>\n",
       "  <tbody>\n",
       "    <tr>\n",
       "      <th>0</th>\n",
       "      <td>0977217213</td>\n",
       "      <td>{'also_bought': ['0977217205', 'B000VUYS0W', '...</td>\n",
       "      <td>Water Blessing Labels Prosperity Collection 16 pc</td>\n",
       "      <td>9.94</td>\n",
       "      <td>{'Beauty': 234894.0, 'Clothing': None, 'Grocer...</td>\n",
       "      <td>http://ecx.images-amazon.com/images/I/31ul4drz...</td>\n",
       "      <td>Ma&amp;#39;s India</td>\n",
       "      <td>[[All Beauty]]</td>\n",
       "      <td>The Spirit of Water 16 REUSABLE STATIC CLING W...</td>\n",
       "    </tr>\n",
       "    <tr>\n",
       "      <th>1</th>\n",
       "      <td>1030070148</td>\n",
       "      <td>None</td>\n",
       "      <td>Colored Cosmetic Lens in Twilight Blue</td>\n",
       "      <td>NaN</td>\n",
       "      <td>{'Beauty': 1136984.0, 'Clothing': None, 'Groce...</td>\n",
       "      <td>http://ecx.images-amazon.com/images/I/11ZF32FL...</td>\n",
       "      <td>None</td>\n",
       "      <td>[[All Beauty]]</td>\n",
       "      <td>Comfortable and FUN to wear.\\nRadiant color th...</td>\n",
       "    </tr>\n",
       "    <tr>\n",
       "      <th>2</th>\n",
       "      <td>189112966X</td>\n",
       "      <td>{'also_bought': ['1891129732', 'B006GT1MDI', '...</td>\n",
       "      <td>Sacred Wisdom Chart: Tarot Divination</td>\n",
       "      <td>5.99</td>\n",
       "      <td>{'Beauty': 95030.0, 'Clothing': None, 'Grocery...</td>\n",
       "      <td>http://ecx.images-amazon.com/images/I/51BSkLxS...</td>\n",
       "      <td>Helion Communications</td>\n",
       "      <td>[[All Beauty]]</td>\n",
       "      <td>HELION TAROT DIVINATION REFERENCE CHART The im...</td>\n",
       "    </tr>\n",
       "    <tr>\n",
       "      <th>3</th>\n",
       "      <td>8950947714</td>\n",
       "      <td>None</td>\n",
       "      <td>Shiseido Aquair Shampoo + Conditioner + Treatm...</td>\n",
       "      <td>NaN</td>\n",
       "      <td>{'Beauty': 524492.0, 'Clothing': None, 'Grocer...</td>\n",
       "      <td>http://ecx.images-amazon.com/images/I/41EXaaVN...</td>\n",
       "      <td>None</td>\n",
       "      <td>[[All Beauty]]</td>\n",
       "      <td>None</td>\n",
       "    </tr>\n",
       "    <tr>\n",
       "      <th>4</th>\n",
       "      <td>8985802089</td>\n",
       "      <td>None</td>\n",
       "      <td>Shiseido Aquair Shampoo/Conditioner/Spray SET ...</td>\n",
       "      <td>NaN</td>\n",
       "      <td>{'Beauty': 878035.0, 'Clothing': None, 'Grocer...</td>\n",
       "      <td>http://ecx.images-amazon.com/images/I/41BYNfTV...</td>\n",
       "      <td>None</td>\n",
       "      <td>[[All Beauty]]</td>\n",
       "      <td>None</td>\n",
       "    </tr>\n",
       "    <tr>\n",
       "      <th>...</th>\n",
       "      <td>...</td>\n",
       "      <td>...</td>\n",
       "      <td>...</td>\n",
       "      <td>...</td>\n",
       "      <td>...</td>\n",
       "      <td>...</td>\n",
       "      <td>...</td>\n",
       "      <td>...</td>\n",
       "      <td>...</td>\n",
       "    </tr>\n",
       "    <tr>\n",
       "      <th>6575</th>\n",
       "      <td>B00KQRL6AU</td>\n",
       "      <td>None</td>\n",
       "      <td>Melissa's Virgin Grapefruit Scrub</td>\n",
       "      <td>NaN</td>\n",
       "      <td>None</td>\n",
       "      <td>http://ecx.images-amazon.com/images/I/41AgX5tw...</td>\n",
       "      <td>None</td>\n",
       "      <td>[[All Beauty]]</td>\n",
       "      <td>A natural pairing, Organic Extra Virgin Coconu...</td>\n",
       "    </tr>\n",
       "    <tr>\n",
       "      <th>6576</th>\n",
       "      <td>B00KRR15UA</td>\n",
       "      <td>{'also_bought': None, 'also_viewed': ['B00IA8L...</td>\n",
       "      <td>Maybelline the Provocative Look the Colossal M...</td>\n",
       "      <td>17.99</td>\n",
       "      <td>{'Beauty': 401194.0, 'Clothing': None, 'Grocer...</td>\n",
       "      <td>http://ecx.images-amazon.com/images/I/51xMCtxr...</td>\n",
       "      <td>None</td>\n",
       "      <td>[[All Beauty]]</td>\n",
       "      <td>Maybelline the Provocative Look the Colossal M...</td>\n",
       "    </tr>\n",
       "    <tr>\n",
       "      <th>6577</th>\n",
       "      <td>B00KRXCBI4</td>\n",
       "      <td>{'also_bought': None, 'also_viewed': ['B00KRXC...</td>\n",
       "      <td>Dark Red Burgundy Gradient Swirl Paisley Men's...</td>\n",
       "      <td>6.99</td>\n",
       "      <td>{'Beauty': 521208.0, 'Clothing': None, 'Grocer...</td>\n",
       "      <td>http://ecx.images-amazon.com/images/I/51zM1byB...</td>\n",
       "      <td>onestopmall</td>\n",
       "      <td>[[All Beauty]]</td>\n",
       "      <td>Item description: This kind of tie would be pe...</td>\n",
       "    </tr>\n",
       "    <tr>\n",
       "      <th>6578</th>\n",
       "      <td>B00KVM9AQ2</td>\n",
       "      <td>{'also_bought': None, 'also_viewed': ['B00L9G2...</td>\n",
       "      <td>Bedroom Kandi Rise &amp;amp; Shine Vibrating Cock ...</td>\n",
       "      <td>NaN</td>\n",
       "      <td>{'Beauty': 121818.0, 'Clothing': None, 'Grocer...</td>\n",
       "      <td>http://ecx.images-amazon.com/images/I/41YHO-oK...</td>\n",
       "      <td>None</td>\n",
       "      <td>[[All Beauty]]</td>\n",
       "      <td>A blissfully couple friendly vibe from OhMiBod...</td>\n",
       "    </tr>\n",
       "    <tr>\n",
       "      <th>6579</th>\n",
       "      <td>B00KY502J0</td>\n",
       "      <td>{'also_bought': None, 'also_viewed': ['B00LE1R...</td>\n",
       "      <td>Disney Frozen Kid Children Button Hair Clips (...</td>\n",
       "      <td>8.99</td>\n",
       "      <td>{'Beauty': 170701.0, 'Clothing': None, 'Grocer...</td>\n",
       "      <td>http://ecx.images-amazon.com/images/I/61CDsx2m...</td>\n",
       "      <td>None</td>\n",
       "      <td>[[All Beauty]]</td>\n",
       "      <td>None</td>\n",
       "    </tr>\n",
       "  </tbody>\n",
       "</table>\n",
       "<p>6580 rows × 9 columns</p>\n",
       "</div>"
      ],
      "text/plain": [
       "            asin                                            related  \\\n",
       "0     0977217213  {'also_bought': ['0977217205', 'B000VUYS0W', '...   \n",
       "1     1030070148                                               None   \n",
       "2     189112966X  {'also_bought': ['1891129732', 'B006GT1MDI', '...   \n",
       "3     8950947714                                               None   \n",
       "4     8985802089                                               None   \n",
       "...          ...                                                ...   \n",
       "6575  B00KQRL6AU                                               None   \n",
       "6576  B00KRR15UA  {'also_bought': None, 'also_viewed': ['B00IA8L...   \n",
       "6577  B00KRXCBI4  {'also_bought': None, 'also_viewed': ['B00KRXC...   \n",
       "6578  B00KVM9AQ2  {'also_bought': None, 'also_viewed': ['B00L9G2...   \n",
       "6579  B00KY502J0  {'also_bought': None, 'also_viewed': ['B00LE1R...   \n",
       "\n",
       "                                                  title  price  \\\n",
       "0     Water Blessing Labels Prosperity Collection 16 pc   9.94   \n",
       "1                Colored Cosmetic Lens in Twilight Blue    NaN   \n",
       "2                 Sacred Wisdom Chart: Tarot Divination   5.99   \n",
       "3     Shiseido Aquair Shampoo + Conditioner + Treatm...    NaN   \n",
       "4     Shiseido Aquair Shampoo/Conditioner/Spray SET ...    NaN   \n",
       "...                                                 ...    ...   \n",
       "6575                  Melissa's Virgin Grapefruit Scrub    NaN   \n",
       "6576  Maybelline the Provocative Look the Colossal M...  17.99   \n",
       "6577  Dark Red Burgundy Gradient Swirl Paisley Men's...   6.99   \n",
       "6578  Bedroom Kandi Rise &amp; Shine Vibrating Cock ...    NaN   \n",
       "6579  Disney Frozen Kid Children Button Hair Clips (...   8.99   \n",
       "\n",
       "                                              salesRank  \\\n",
       "0     {'Beauty': 234894.0, 'Clothing': None, 'Grocer...   \n",
       "1     {'Beauty': 1136984.0, 'Clothing': None, 'Groce...   \n",
       "2     {'Beauty': 95030.0, 'Clothing': None, 'Grocery...   \n",
       "3     {'Beauty': 524492.0, 'Clothing': None, 'Grocer...   \n",
       "4     {'Beauty': 878035.0, 'Clothing': None, 'Grocer...   \n",
       "...                                                 ...   \n",
       "6575                                               None   \n",
       "6576  {'Beauty': 401194.0, 'Clothing': None, 'Grocer...   \n",
       "6577  {'Beauty': 521208.0, 'Clothing': None, 'Grocer...   \n",
       "6578  {'Beauty': 121818.0, 'Clothing': None, 'Grocer...   \n",
       "6579  {'Beauty': 170701.0, 'Clothing': None, 'Grocer...   \n",
       "\n",
       "                                                  imUrl  \\\n",
       "0     http://ecx.images-amazon.com/images/I/31ul4drz...   \n",
       "1     http://ecx.images-amazon.com/images/I/11ZF32FL...   \n",
       "2     http://ecx.images-amazon.com/images/I/51BSkLxS...   \n",
       "3     http://ecx.images-amazon.com/images/I/41EXaaVN...   \n",
       "4     http://ecx.images-amazon.com/images/I/41BYNfTV...   \n",
       "...                                                 ...   \n",
       "6575  http://ecx.images-amazon.com/images/I/41AgX5tw...   \n",
       "6576  http://ecx.images-amazon.com/images/I/51xMCtxr...   \n",
       "6577  http://ecx.images-amazon.com/images/I/51zM1byB...   \n",
       "6578  http://ecx.images-amazon.com/images/I/41YHO-oK...   \n",
       "6579  http://ecx.images-amazon.com/images/I/61CDsx2m...   \n",
       "\n",
       "                      brand      categories  \\\n",
       "0            Ma&#39;s India  [[All Beauty]]   \n",
       "1                      None  [[All Beauty]]   \n",
       "2     Helion Communications  [[All Beauty]]   \n",
       "3                      None  [[All Beauty]]   \n",
       "4                      None  [[All Beauty]]   \n",
       "...                     ...             ...   \n",
       "6575                   None  [[All Beauty]]   \n",
       "6576                   None  [[All Beauty]]   \n",
       "6577            onestopmall  [[All Beauty]]   \n",
       "6578                   None  [[All Beauty]]   \n",
       "6579                   None  [[All Beauty]]   \n",
       "\n",
       "                                            description  \n",
       "0     The Spirit of Water 16 REUSABLE STATIC CLING W...  \n",
       "1     Comfortable and FUN to wear.\\nRadiant color th...  \n",
       "2     HELION TAROT DIVINATION REFERENCE CHART The im...  \n",
       "3                                                  None  \n",
       "4                                                  None  \n",
       "...                                                 ...  \n",
       "6575  A natural pairing, Organic Extra Virgin Coconu...  \n",
       "6576  Maybelline the Provocative Look the Colossal M...  \n",
       "6577  Item description: This kind of tie would be pe...  \n",
       "6578  A blissfully couple friendly vibe from OhMiBod...  \n",
       "6579                                               None  \n",
       "\n",
       "[6580 rows x 9 columns]"
      ]
     },
     "execution_count": 13,
     "metadata": {},
     "output_type": "execute_result"
    }
   ],
   "source": [
    "meta_beauty"
   ]
  },
  {
   "cell_type": "code",
   "execution_count": 14,
   "metadata": {},
   "outputs": [],
   "source": [
    "meta_beauty.drop(columns=['imUrl', 'related', 'salesRank'], inplace= True)"
   ]
  },
  {
   "cell_type": "markdown",
   "metadata": {},
   "source": [
    "Se eliminan las columnas que no se van a utilizar"
   ]
  },
  {
   "cell_type": "code",
   "execution_count": 15,
   "metadata": {},
   "outputs": [
    {
     "name": "stdout",
     "output_type": "stream",
     "text": [
      "            asin                                              title  price  \\\n",
      "1     1030070148             Colored Cosmetic Lens in Twilight Blue    NaN   \n",
      "3     8950947714  Shiseido Aquair Shampoo + Conditioner + Treatm...    NaN   \n",
      "4     8985802089  Shiseido Aquair Shampoo/Conditioner/Spray SET ...    NaN   \n",
      "5     9602400048  Amino Genesis Cocoon Rejuvenating Body Cr&egra...   9.00   \n",
      "6     9744914572  Finale Whitening Cream 30g. Armpit/inner thigh...    NaN   \n",
      "...          ...                                                ...    ...   \n",
      "6574  B00KPFRV0M                                   Neckline Slimmer    NaN   \n",
      "6575  B00KQRL6AU                  Melissa's Virgin Grapefruit Scrub    NaN   \n",
      "6576  B00KRR15UA  Maybelline the Provocative Look the Colossal M...  17.99   \n",
      "6578  B00KVM9AQ2  Bedroom Kandi Rise &amp; Shine Vibrating Cock ...    NaN   \n",
      "6579  B00KY502J0  Disney Frozen Kid Children Button Hair Clips (...   8.99   \n",
      "\n",
      "     brand      categories                                        description  \n",
      "1     None  [[All Beauty]]  Comfortable and FUN to wear.\\nRadiant color th...  \n",
      "3     None  [[All Beauty]]                                               None  \n",
      "4     None  [[All Beauty]]                                               None  \n",
      "5     None  [[All Beauty]]  Cocoon lotion is the first and only total body...  \n",
      "6     None  [[All Beauty]]  Finale Whitening Cream for Armpit/Inner thigh/...  \n",
      "...    ...             ...                                                ...  \n",
      "6574  None  [[All Beauty]]  With the Neckline Slimmer, you can tighten and...  \n",
      "6575  None  [[All Beauty]]  A natural pairing, Organic Extra Virgin Coconu...  \n",
      "6576  None  [[All Beauty]]  Maybelline the Provocative Look the Colossal M...  \n",
      "6578  None  [[All Beauty]]  A blissfully couple friendly vibe from OhMiBod...  \n",
      "6579  None  [[All Beauty]]                                               None  \n",
      "\n",
      "[4484 rows x 6 columns]\n"
     ]
    }
   ],
   "source": [
    "nulos=identificar_nulos(meta_beauty)\n",
    "print(nulos)"
   ]
  },
  {
   "cell_type": "markdown",
   "metadata": {},
   "source": [
    "Se encuentran nulos en precio pero no se eliminan para vere el tratamiento que se le puede hacer "
   ]
  },
  {
   "cell_type": "code",
   "execution_count": 16,
   "metadata": {},
   "outputs": [],
   "source": [
    "meta_beauty.to_parquet('meta_beauty2.parquet',index=False)\n",
    "all_beauty_final.to_parquet('all_beauty2.parquet',index=False)"
   ]
  },
  {
   "cell_type": "markdown",
   "metadata": {},
   "source": [
    "#AMAZON_FASHION"
   ]
  },
  {
   "cell_type": "code",
   "execution_count": 17,
   "metadata": {},
   "outputs": [],
   "source": [
    "fashion=pd.read_parquet('reviews_Amazon_Fashion.parquet')\n",
    "meta_Amazon_Fashion=pd.read_parquet('meta_Amazon_Fashion.parquet')"
   ]
  },
  {
   "cell_type": "code",
   "execution_count": 18,
   "metadata": {},
   "outputs": [
    {
     "name": "stdout",
     "output_type": "stream",
     "text": [
      "Empty DataFrame\n",
      "Columns: [reviewerID, asin, reviewerName, reviewText, overall, summary, unixReviewTime, reviewTime]\n",
      "Index: []\n"
     ]
    }
   ],
   "source": [
    "duplicados=identificar_duplicados(fashion)\n",
    "print(duplicados)"
   ]
  },
  {
   "cell_type": "code",
   "execution_count": 19,
   "metadata": {},
   "outputs": [
    {
     "name": "stdout",
     "output_type": "stream",
     "text": [
      "           reviewerID        asin reviewerName helpful  \\\n",
      "1040   A288CB718EI3AQ  B0000YRQEE         None  [0, 0]   \n",
      "1041   A3H53O51L8JXOT  B0000YRQEE         None  [0, 0]   \n",
      "1222   A290PFPBHZ960A  B0001CULSS         None  [0, 0]   \n",
      "2352   A20TID11IU40JF  B0006LTEPK         None  [0, 0]   \n",
      "2353   A3F6LNDW9470HA  B0006LTEPK         None  [0, 0]   \n",
      "...               ...         ...          ...     ...   \n",
      "77096  A29PW61SSIDUJR  B00DSXL84S         None  [0, 0]   \n",
      "77189  A19FMYSLGZG57I  B00DV0NPN0         None  [0, 0]   \n",
      "77947  A2TLZDK4U00I1S  B00E6KBPCM         None  [0, 0]   \n",
      "78913   AGH5TDYLOY34X  B00F27CYP0         None  [0, 0]   \n",
      "79274  A2RD4166F1W0NV  B00FGFJ4WE         None  [0, 0]   \n",
      "\n",
      "                                              reviewText  overall  \\\n",
      "1040   The listing said two garment bags were include...      3.0   \n",
      "1041   Worked well to protect garments that were then...      4.0   \n",
      "1222   THE WATCH KNIFE WAS HIGH QUALITY AND WHAT I EX...      5.0   \n",
      "2352   Great fit. Great price. Super comfortable. BUY...      5.0   \n",
      "2353   great fitting pants, fits very comfortable doc...      5.0   \n",
      "...                                                  ...      ...   \n",
      "77096  I ordered this for my grandson as a gift , but...      3.0   \n",
      "77189  This shirt really is &#34;too good to be true,...      5.0   \n",
      "77947  The style look cute but the material it doesn'...      1.0   \n",
      "78913  love this product...perfect fit and high waist...      4.0   \n",
      "79274  This shirt is great! It fits great and is very...      5.0   \n",
      "\n",
      "                     summary  unixReviewTime   reviewTime  \n",
      "1040            1bag, not 2.      1405296000  07 14, 2014  \n",
      "1041              Four Stars      1405123200  07 12, 2014  \n",
      "1222   I WOULD RECOMMEND IT.      1405123200  07 12, 2014  \n",
      "2352           Great Product      1333497600   04 4, 2012  \n",
      "2353               Great fit      1354492800   12 3, 2012  \n",
      "...                      ...             ...          ...  \n",
      "77096                   gift      1399248000   05 5, 2014  \n",
      "77189        Very impressed!      1385510400  11 27, 2013  \n",
      "77947               One Star      1406073600  07 23, 2014  \n",
      "78913               its love      1395705600  03 25, 2014  \n",
      "79274             I love it!      1382054400  10 18, 2013  \n",
      "\n",
      "[166 rows x 9 columns]\n"
     ]
    }
   ],
   "source": [
    "nulos=identificar_nulos(fashion)\n",
    "print(nulos)"
   ]
  },
  {
   "cell_type": "code",
   "execution_count": 20,
   "metadata": {},
   "outputs": [],
   "source": [
    "fashion.drop(columns=['helpful', 'reviewerName', 'reviewTime'], inplace=True)"
   ]
  },
  {
   "cell_type": "code",
   "execution_count": 21,
   "metadata": {},
   "outputs": [],
   "source": [
    "fashion2 = convertir_minusculas(fashion)"
   ]
  },
  {
   "cell_type": "markdown",
   "metadata": {},
   "source": [
    "Se eliminan columnas que no se utilizaran donde estan las columnas con muchos datos nulos se revisa si hay duplicados no se encontraron y se pasa todo el texto a minuscula para ser mas sencillo trabajarlo"
   ]
  },
  {
   "cell_type": "code",
   "execution_count": 22,
   "metadata": {},
   "outputs": [
    {
     "data": {
      "text/html": [
       "<div>\n",
       "<style scoped>\n",
       "    .dataframe tbody tr th:only-of-type {\n",
       "        vertical-align: middle;\n",
       "    }\n",
       "\n",
       "    .dataframe tbody tr th {\n",
       "        vertical-align: top;\n",
       "    }\n",
       "\n",
       "    .dataframe thead th {\n",
       "        text-align: right;\n",
       "    }\n",
       "</style>\n",
       "<table border=\"1\" class=\"dataframe\">\n",
       "  <thead>\n",
       "    <tr style=\"text-align: right;\">\n",
       "      <th></th>\n",
       "      <th>reviewerID</th>\n",
       "      <th>asin</th>\n",
       "      <th>reviewText</th>\n",
       "      <th>overall</th>\n",
       "      <th>summary</th>\n",
       "      <th>unixReviewTime</th>\n",
       "    </tr>\n",
       "  </thead>\n",
       "  <tbody>\n",
       "    <tr>\n",
       "      <th>0</th>\n",
       "      <td>a2lotv0twu6uqi</td>\n",
       "      <td>1880241196</td>\n",
       "      <td>i ordered this for christmas for my grandson a...</td>\n",
       "      <td>1.0</td>\n",
       "      <td>did not read the whole paragragh</td>\n",
       "      <td>1355270400</td>\n",
       "    </tr>\n",
       "    <tr>\n",
       "      <th>1</th>\n",
       "      <td>a1h1l1mzxlmgj3</td>\n",
       "      <td>3890968740</td>\n",
       "      <td>i got this watch for my 13 year old daughter. ...</td>\n",
       "      <td>4.0</td>\n",
       "      <td>so far still ticking away</td>\n",
       "      <td>1362182400</td>\n",
       "    </tr>\n",
       "    <tr>\n",
       "      <th>2</th>\n",
       "      <td>a2h3f19k13qqox</td>\n",
       "      <td>5555014597</td>\n",
       "      <td>3rd year running i have brought these, takes a...</td>\n",
       "      <td>5.0</td>\n",
       "      <td>3rd year purchased, always good hats!</td>\n",
       "      <td>1357257600</td>\n",
       "    </tr>\n",
       "    <tr>\n",
       "      <th>3</th>\n",
       "      <td>a2cpkwdhow37et</td>\n",
       "      <td>5555014597</td>\n",
       "      <td>quality construction, good looking hat. given ...</td>\n",
       "      <td>5.0</td>\n",
       "      <td>nice construction, good looking.</td>\n",
       "      <td>1392681600</td>\n",
       "    </tr>\n",
       "    <tr>\n",
       "      <th>4</th>\n",
       "      <td>a7puhk9fik5o7</td>\n",
       "      <td>5555014597</td>\n",
       "      <td>i love it! i have followed the show for years,...</td>\n",
       "      <td>5.0</td>\n",
       "      <td>top gear baseball cap review</td>\n",
       "      <td>1397433600</td>\n",
       "    </tr>\n",
       "    <tr>\n",
       "      <th>...</th>\n",
       "      <td>...</td>\n",
       "      <td>...</td>\n",
       "      <td>...</td>\n",
       "      <td>...</td>\n",
       "      <td>...</td>\n",
       "      <td>...</td>\n",
       "    </tr>\n",
       "    <tr>\n",
       "      <th>83492</th>\n",
       "      <td>a1s96ym6gkbgrp</td>\n",
       "      <td>b00lf6l46w</td>\n",
       "      <td>fits well and is light.</td>\n",
       "      <td>5.0</td>\n",
       "      <td>nice hat</td>\n",
       "      <td>1406073600</td>\n",
       "    </tr>\n",
       "    <tr>\n",
       "      <th>83493</th>\n",
       "      <td>a35lv1hl059g9k</td>\n",
       "      <td>b00lgtrmpu</td>\n",
       "      <td>it arrived faster than i expected considering ...</td>\n",
       "      <td>4.0</td>\n",
       "      <td>it's thick but comfortable.</td>\n",
       "      <td>1405036800</td>\n",
       "    </tr>\n",
       "    <tr>\n",
       "      <th>83494</th>\n",
       "      <td>axvc9zqcqqt7k</td>\n",
       "      <td>b00lgxw620</td>\n",
       "      <td>i love the quality of this belt! very nice lea...</td>\n",
       "      <td>5.0</td>\n",
       "      <td>quality is the best!</td>\n",
       "      <td>1405987200</td>\n",
       "    </tr>\n",
       "    <tr>\n",
       "      <th>83495</th>\n",
       "      <td>a36tm2ivfj7tpp</td>\n",
       "      <td>b00lgxw620</td>\n",
       "      <td>finally a belt that came all in one usage! air...</td>\n",
       "      <td>5.0</td>\n",
       "      <td>all in one belt</td>\n",
       "      <td>1404259200</td>\n",
       "    </tr>\n",
       "    <tr>\n",
       "      <th>83496</th>\n",
       "      <td>aylzo4676eu4a</td>\n",
       "      <td>b00ljecuyu</td>\n",
       "      <td>the belt is thinner than it looks in the pics ...</td>\n",
       "      <td>1.0</td>\n",
       "      <td>false advertising</td>\n",
       "      <td>1405987200</td>\n",
       "    </tr>\n",
       "  </tbody>\n",
       "</table>\n",
       "<p>83497 rows × 6 columns</p>\n",
       "</div>"
      ],
      "text/plain": [
       "           reviewerID        asin  \\\n",
       "0      a2lotv0twu6uqi  1880241196   \n",
       "1      a1h1l1mzxlmgj3  3890968740   \n",
       "2      a2h3f19k13qqox  5555014597   \n",
       "3      a2cpkwdhow37et  5555014597   \n",
       "4       a7puhk9fik5o7  5555014597   \n",
       "...               ...         ...   \n",
       "83492  a1s96ym6gkbgrp  b00lf6l46w   \n",
       "83493  a35lv1hl059g9k  b00lgtrmpu   \n",
       "83494   axvc9zqcqqt7k  b00lgxw620   \n",
       "83495  a36tm2ivfj7tpp  b00lgxw620   \n",
       "83496   aylzo4676eu4a  b00ljecuyu   \n",
       "\n",
       "                                              reviewText  overall  \\\n",
       "0      i ordered this for christmas for my grandson a...      1.0   \n",
       "1      i got this watch for my 13 year old daughter. ...      4.0   \n",
       "2      3rd year running i have brought these, takes a...      5.0   \n",
       "3      quality construction, good looking hat. given ...      5.0   \n",
       "4      i love it! i have followed the show for years,...      5.0   \n",
       "...                                                  ...      ...   \n",
       "83492                            fits well and is light.      5.0   \n",
       "83493  it arrived faster than i expected considering ...      4.0   \n",
       "83494  i love the quality of this belt! very nice lea...      5.0   \n",
       "83495  finally a belt that came all in one usage! air...      5.0   \n",
       "83496  the belt is thinner than it looks in the pics ...      1.0   \n",
       "\n",
       "                                     summary  unixReviewTime  \n",
       "0           did not read the whole paragragh      1355270400  \n",
       "1                  so far still ticking away      1362182400  \n",
       "2      3rd year purchased, always good hats!      1357257600  \n",
       "3           nice construction, good looking.      1392681600  \n",
       "4               top gear baseball cap review      1397433600  \n",
       "...                                      ...             ...  \n",
       "83492                               nice hat      1406073600  \n",
       "83493            it's thick but comfortable.      1405036800  \n",
       "83494                   quality is the best!      1405987200  \n",
       "83495                        all in one belt      1404259200  \n",
       "83496                      false advertising      1405987200  \n",
       "\n",
       "[83497 rows x 6 columns]"
      ]
     },
     "execution_count": 22,
     "metadata": {},
     "output_type": "execute_result"
    }
   ],
   "source": [
    "fashion2"
   ]
  },
  {
   "cell_type": "code",
   "execution_count": null,
   "metadata": {},
   "outputs": [],
   "source": [
    "meta_Amazon_Fashion.drop(columns=['imUrl', 'related', 'salesRank','brand'], inplace= True)"
   ]
  },
  {
   "cell_type": "code",
   "execution_count": null,
   "metadata": {},
   "outputs": [
    {
     "data": {
      "text/html": [
       "<div>\n",
       "<style scoped>\n",
       "    .dataframe tbody tr th:only-of-type {\n",
       "        vertical-align: middle;\n",
       "    }\n",
       "\n",
       "    .dataframe tbody tr th {\n",
       "        vertical-align: top;\n",
       "    }\n",
       "\n",
       "    .dataframe thead th {\n",
       "        text-align: right;\n",
       "    }\n",
       "</style>\n",
       "<table border=\"1\" class=\"dataframe\">\n",
       "  <thead>\n",
       "    <tr style=\"text-align: right;\">\n",
       "      <th></th>\n",
       "      <th>asin</th>\n",
       "      <th>title</th>\n",
       "      <th>price</th>\n",
       "      <th>categories</th>\n",
       "      <th>brand</th>\n",
       "      <th>description</th>\n",
       "    </tr>\n",
       "  </thead>\n",
       "  <tbody>\n",
       "    <tr>\n",
       "      <th>0</th>\n",
       "      <td>1880241196</td>\n",
       "      <td>Bird Watching For Kids - A Special Publication...</td>\n",
       "      <td>4.50</td>\n",
       "      <td>[[Amazon Fashion]]</td>\n",
       "      <td>None</td>\n",
       "      <td>None</td>\n",
       "    </tr>\n",
       "    <tr>\n",
       "      <th>1</th>\n",
       "      <td>3890968740</td>\n",
       "      <td>NEW Mango Yellow Mix Colorful Jelly Silicone S...</td>\n",
       "      <td>NaN</td>\n",
       "      <td>[[Amazon Fashion]]</td>\n",
       "      <td>None</td>\n",
       "      <td>None</td>\n",
       "    </tr>\n",
       "    <tr>\n",
       "      <th>2</th>\n",
       "      <td>5555014597</td>\n",
       "      <td>Top Gear Official Merchandise - Top Gear Baseb...</td>\n",
       "      <td>19.50</td>\n",
       "      <td>[[Amazon Fashion]]</td>\n",
       "      <td>None</td>\n",
       "      <td>None</td>\n",
       "    </tr>\n",
       "    <tr>\n",
       "      <th>3</th>\n",
       "      <td>7842955883</td>\n",
       "      <td>Blessed By Pope Benedict XVI St Benedict One-d...</td>\n",
       "      <td>9.99</td>\n",
       "      <td>[[Amazon Fashion]]</td>\n",
       "      <td>None</td>\n",
       "      <td>None</td>\n",
       "    </tr>\n",
       "    <tr>\n",
       "      <th>4</th>\n",
       "      <td>8037200221</td>\n",
       "      <td>Envirosax Greengrocer Series Bag 7 Guava</td>\n",
       "      <td>NaN</td>\n",
       "      <td>[[Amazon Fashion]]</td>\n",
       "      <td>None</td>\n",
       "      <td>None</td>\n",
       "    </tr>\n",
       "    <tr>\n",
       "      <th>...</th>\n",
       "      <td>...</td>\n",
       "      <td>...</td>\n",
       "      <td>...</td>\n",
       "      <td>...</td>\n",
       "      <td>...</td>\n",
       "      <td>...</td>\n",
       "    </tr>\n",
       "    <tr>\n",
       "      <th>24140</th>\n",
       "      <td>B00LDSPA5S</td>\n",
       "      <td>Flora Print Vintage High Waisted Bikini Sets S...</td>\n",
       "      <td>NaN</td>\n",
       "      <td>[[Amazon Fashion]]</td>\n",
       "      <td>None</td>\n",
       "      <td>None</td>\n",
       "    </tr>\n",
       "    <tr>\n",
       "      <th>24141</th>\n",
       "      <td>B00LF6L46W</td>\n",
       "      <td>Nike Golf Tech Swoosh Cap</td>\n",
       "      <td>NaN</td>\n",
       "      <td>[[Amazon Fashion]]</td>\n",
       "      <td>None</td>\n",
       "      <td>None</td>\n",
       "    </tr>\n",
       "    <tr>\n",
       "      <th>24142</th>\n",
       "      <td>B00LGTRMPU</td>\n",
       "      <td>Cottory 2 Colors Mens Cotton Loose Harem Pants...</td>\n",
       "      <td>25.98</td>\n",
       "      <td>[[Amazon Fashion]]</td>\n",
       "      <td>Cottory</td>\n",
       "      <td>None</td>\n",
       "    </tr>\n",
       "    <tr>\n",
       "      <th>24143</th>\n",
       "      <td>B00LGXW620</td>\n",
       "      <td>Metal free belt/non metal, airport friendly be...</td>\n",
       "      <td>NaN</td>\n",
       "      <td>[[Amazon Fashion]]</td>\n",
       "      <td>None</td>\n",
       "      <td>None</td>\n",
       "    </tr>\n",
       "    <tr>\n",
       "      <th>24144</th>\n",
       "      <td>B00LJECUYU</td>\n",
       "      <td>Faux Leather Belt Double Grommet holes 2 Prong...</td>\n",
       "      <td>3.99</td>\n",
       "      <td>[[Amazon Fashion]]</td>\n",
       "      <td>None</td>\n",
       "      <td>None</td>\n",
       "    </tr>\n",
       "  </tbody>\n",
       "</table>\n",
       "<p>24145 rows × 6 columns</p>\n",
       "</div>"
      ],
      "text/plain": [
       "             asin                                              title  price  \\\n",
       "0      1880241196  Bird Watching For Kids - A Special Publication...   4.50   \n",
       "1      3890968740  NEW Mango Yellow Mix Colorful Jelly Silicone S...    NaN   \n",
       "2      5555014597  Top Gear Official Merchandise - Top Gear Baseb...  19.50   \n",
       "3      7842955883  Blessed By Pope Benedict XVI St Benedict One-d...   9.99   \n",
       "4      8037200221           Envirosax Greengrocer Series Bag 7 Guava    NaN   \n",
       "...           ...                                                ...    ...   \n",
       "24140  B00LDSPA5S  Flora Print Vintage High Waisted Bikini Sets S...    NaN   \n",
       "24141  B00LF6L46W                          Nike Golf Tech Swoosh Cap    NaN   \n",
       "24142  B00LGTRMPU  Cottory 2 Colors Mens Cotton Loose Harem Pants...  25.98   \n",
       "24143  B00LGXW620  Metal free belt/non metal, airport friendly be...    NaN   \n",
       "24144  B00LJECUYU  Faux Leather Belt Double Grommet holes 2 Prong...   3.99   \n",
       "\n",
       "               categories    brand description  \n",
       "0      [[Amazon Fashion]]     None        None  \n",
       "1      [[Amazon Fashion]]     None        None  \n",
       "2      [[Amazon Fashion]]     None        None  \n",
       "3      [[Amazon Fashion]]     None        None  \n",
       "4      [[Amazon Fashion]]     None        None  \n",
       "...                   ...      ...         ...  \n",
       "24140  [[Amazon Fashion]]     None        None  \n",
       "24141  [[Amazon Fashion]]     None        None  \n",
       "24142  [[Amazon Fashion]]  Cottory        None  \n",
       "24143  [[Amazon Fashion]]     None        None  \n",
       "24144  [[Amazon Fashion]]     None        None  \n",
       "\n",
       "[24145 rows x 6 columns]"
      ]
     },
     "execution_count": 24,
     "metadata": {},
     "output_type": "execute_result"
    }
   ],
   "source": [
    "meta_Amazon_Fashion"
   ]
  },
  {
   "cell_type": "markdown",
   "metadata": {},
   "source": [
    "Se eliminan columnas donde hay informacion que no se utilizara y su mayoria son nulos en precio se hara un tratamiento en una puesta en comun con el equipo"
   ]
  },
  {
   "cell_type": "code",
   "execution_count": 25,
   "metadata": {},
   "outputs": [],
   "source": [
    "meta_Amazon_Fashion.to_parquet('meta_Amazon_Fashion2.parquet',index=False)\n",
    "fashion2.to_parquet('fashion2.parquet',index=False)"
   ]
  },
  {
   "cell_type": "markdown",
   "metadata": {},
   "source": [
    "# GROCERY_AND_GOURMET_FODD"
   ]
  },
  {
   "cell_type": "code",
   "execution_count": 26,
   "metadata": {},
   "outputs": [],
   "source": [
    "reviews_Grocery_and_Gourmet_Food=pd.read_parquet('reviews_Grocery_and_Gourmet_Food.parquet')\n",
    "meta_Grocery_and_Gourmet_Food=pd.read_parquet('meta_Grocery_and_Gourmet_Food.parquet')"
   ]
  },
  {
   "cell_type": "code",
   "execution_count": 27,
   "metadata": {},
   "outputs": [],
   "source": [
    "meta_Grocery_and_Gourmet_Food.drop(columns=['imUrl', 'related', 'salesRank'], inplace= True)\n",
    "reviews_Grocery_and_Gourmet_Food.drop(columns=['helpful', 'reviewerName', 'reviewTime'], inplace=True)"
   ]
  },
  {
   "cell_type": "code",
   "execution_count": 28,
   "metadata": {},
   "outputs": [],
   "source": [
    "reviews_Grocery_and_Gourmet_Food2 = convertir_minusculas(reviews_Grocery_and_Gourmet_Food)"
   ]
  },
  {
   "cell_type": "code",
   "execution_count": 29,
   "metadata": {},
   "outputs": [],
   "source": [
    "meta_Grocery_and_Gourmet_Food.to_parquet('meta_Grocery_and_Gourmet_Food2.parquet',index=False)\n",
    "reviews_Grocery_and_Gourmet_Food2.to_parquet('reviews_Grocery_and_Gourmet_Food2.parquet',index=False)"
   ]
  },
  {
   "cell_type": "code",
   "execution_count": 30,
   "metadata": {},
   "outputs": [],
   "source": [
    "reviews_Tools_and_Home_Improvement=pd.read_parquet('reviews_Tools_and_Home_Improvement.parquet')\n",
    "meta_Tools_and_Home_Improvement=pd.read_parquet('meta_Tools_and_Home_Improvement.parquet')"
   ]
  },
  {
   "cell_type": "code",
   "execution_count": 31,
   "metadata": {},
   "outputs": [],
   "source": [
    "meta_Tools_and_Home_Improvement.drop(columns=['imUrl', 'related', 'salesRank'], inplace= True)\n",
    "reviews_Tools_and_Home_Improvement.drop(columns=['helpful', 'reviewerName', 'reviewTime'], inplace=True)"
   ]
  },
  {
   "cell_type": "code",
   "execution_count": 32,
   "metadata": {},
   "outputs": [],
   "source": [
    "reviews_Tools_and_Home_Improvement2 = convertir_minusculas(reviews_Tools_and_Home_Improvement)"
   ]
  },
  {
   "cell_type": "code",
   "execution_count": 33,
   "metadata": {},
   "outputs": [
    {
     "data": {
      "text/html": [
       "<div>\n",
       "<style scoped>\n",
       "    .dataframe tbody tr th:only-of-type {\n",
       "        vertical-align: middle;\n",
       "    }\n",
       "\n",
       "    .dataframe tbody tr th {\n",
       "        vertical-align: top;\n",
       "    }\n",
       "\n",
       "    .dataframe thead th {\n",
       "        text-align: right;\n",
       "    }\n",
       "</style>\n",
       "<table border=\"1\" class=\"dataframe\">\n",
       "  <thead>\n",
       "    <tr style=\"text-align: right;\">\n",
       "      <th></th>\n",
       "      <th>reviewerID</th>\n",
       "      <th>asin</th>\n",
       "      <th>reviewText</th>\n",
       "      <th>overall</th>\n",
       "      <th>summary</th>\n",
       "      <th>unixReviewTime</th>\n",
       "    </tr>\n",
       "  </thead>\n",
       "  <tbody>\n",
       "    <tr>\n",
       "      <th>0</th>\n",
       "      <td>a15i9qv4og22a6</td>\n",
       "      <td>001212835x</td>\n",
       "      <td>this was a christmas gift for my mother for sh...</td>\n",
       "      <td>5.0</td>\n",
       "      <td>awesome lamp</td>\n",
       "      <td>1389657600</td>\n",
       "    </tr>\n",
       "    <tr>\n",
       "      <th>1</th>\n",
       "      <td>a1bnz90hn39tyr</td>\n",
       "      <td>0205062040</td>\n",
       "      <td>this made quick work or putting down decking. ...</td>\n",
       "      <td>5.0</td>\n",
       "      <td>awesome tool</td>\n",
       "      <td>1373846400</td>\n",
       "    </tr>\n",
       "    <tr>\n",
       "      <th>2</th>\n",
       "      <td>a9ducbtl8k3e4</td>\n",
       "      <td>0205062040</td>\n",
       "      <td>i had to tear off a small bedroom deck in orde...</td>\n",
       "      <td>5.0</td>\n",
       "      <td>in a word:  excellent cool tool!</td>\n",
       "      <td>1382659200</td>\n",
       "    </tr>\n",
       "    <tr>\n",
       "      <th>3</th>\n",
       "      <td>aa8o583kryinx</td>\n",
       "      <td>0205062040</td>\n",
       "      <td>the tool works great, as advertised.the narrow...</td>\n",
       "      <td>5.0</td>\n",
       "      <td>delivery was on time.  tool works great</td>\n",
       "      <td>1372723200</td>\n",
       "    </tr>\n",
       "    <tr>\n",
       "      <th>4</th>\n",
       "      <td>a16cr5rcpxfmma</td>\n",
       "      <td>0205062040</td>\n",
       "      <td>if you want to side-screw decking, this tool w...</td>\n",
       "      <td>4.0</td>\n",
       "      <td>good tool!</td>\n",
       "      <td>1364256000</td>\n",
       "    </tr>\n",
       "  </tbody>\n",
       "</table>\n",
       "</div>"
      ],
      "text/plain": [
       "       reviewerID        asin  \\\n",
       "0  a15i9qv4og22a6  001212835x   \n",
       "1  a1bnz90hn39tyr  0205062040   \n",
       "2   a9ducbtl8k3e4  0205062040   \n",
       "3   aa8o583kryinx  0205062040   \n",
       "4  a16cr5rcpxfmma  0205062040   \n",
       "\n",
       "                                          reviewText  overall  \\\n",
       "0  this was a christmas gift for my mother for sh...      5.0   \n",
       "1  this made quick work or putting down decking. ...      5.0   \n",
       "2  i had to tear off a small bedroom deck in orde...      5.0   \n",
       "3  the tool works great, as advertised.the narrow...      5.0   \n",
       "4  if you want to side-screw decking, this tool w...      4.0   \n",
       "\n",
       "                                   summary  unixReviewTime  \n",
       "0                             awesome lamp      1389657600  \n",
       "1                             awesome tool      1373846400  \n",
       "2         in a word:  excellent cool tool!      1382659200  \n",
       "3  delivery was on time.  tool works great      1372723200  \n",
       "4                               good tool!      1364256000  "
      ]
     },
     "execution_count": 33,
     "metadata": {},
     "output_type": "execute_result"
    }
   ],
   "source": [
    "reviews_Tools_and_Home_Improvement2.head()"
   ]
  },
  {
   "cell_type": "code",
   "execution_count": 34,
   "metadata": {},
   "outputs": [],
   "source": [
    "meta_Tools_and_Home_Improvement.to_parquet('meta_Tools_and_Home_Improvement2.parquet',index=False)\n",
    "reviews_Tools_and_Home_Improvement2.to_parquet('reviews_Tools_and_Home_Improvement2.parquet',index=False)"
   ]
  },
  {
   "cell_type": "markdown",
   "metadata": {},
   "source": [
    "Se buscan duplicados no se encuentran,se encuentran valores nulos pero son en columnas que no seran tomadas para este analisis y precios que tiene nulos recibira un tratamiento en comun\n",
    "viendo las caracterizticas de todas las categorias, se paso todo a minuscula para ser mas facil trabajarlos y validar los datos"
   ]
  },
  {
   "cell_type": "markdown",
   "metadata": {},
   "source": [
    "Los archivos fueron guardados en una copia para conservar los archivos originales en caso de necesitar volver sobre los paso hechos"
   ]
  },
  {
   "cell_type": "markdown",
   "metadata": {},
   "source": [
    "# Modificaciones previas para el modelo de recomendación"
   ]
  },
  {
   "cell_type": "markdown",
   "metadata": {},
   "source": [
    "* Librerias Necesarias"
   ]
  },
  {
   "cell_type": "code",
   "execution_count": null,
   "metadata": {},
   "outputs": [],
   "source": [
    "import pandas as pd\n",
    "from sklearn.neighbors import NearestNeighbors\n",
    "import re"
   ]
  },
  {
   "cell_type": "markdown",
   "metadata": {},
   "source": [
    "Antes de crear nuestro modelo de recomendación se debe tener la información de todas las categorias en un sólo DataFrame, de ser posible. Para esto se van a agrupar sólo las columnas absolutamente necesarias. Éstas son Categoría, nombre del producto, ID de producto, y el promedio de calificación que tenga ese producto."
   ]
  },
  {
   "cell_type": "markdown",
   "metadata": {},
   "source": [
    "    - All_Beauty"
   ]
  },
  {
   "cell_type": "code",
   "execution_count": null,
   "metadata": {},
   "outputs": [],
   "source": [
    "# Agrupar por 'idproducto' y calcular el promedio de 'calificación'\n",
    "All_Beauty_data = All_Beauty.groupby('asin')['overall'].mean().reset_index()\n",
    "\n",
    "# Crear un diccionario para mapear los precios por 'asin'\n",
    "price_dict = dict(zip(meta_All_Beauty['asin'], meta_All_Beauty['price']))\n",
    "name_dict = dict(zip(meta_All_Beauty['asin'], meta_All_Beauty['title']))\n",
    "\n",
    "# Crear una nueva columna 'precio' en All_Beauty_data usando el diccionario\n",
    "All_Beauty_data['price'] = All_Beauty_data['asin'].map(price_dict)\n",
    "All_Beauty_data['product'] = All_Beauty_data['asin'].map(name_dict)\n",
    "\n",
    "# Eliminar productos con precio NaN\n",
    "All_Beauty_data = All_Beauty_data.dropna(subset=['price'])\n",
    "\n",
    "# Asignar la Categoría\n",
    "All_Beauty_data['category'] = 'All_Beauty'\n",
    "\n",
    "# Limpiar los nombres de los productos\n",
    "All_Beauty_data['product'] = All_Beauty_data['product'].apply(lambda x: re.sub(r'[^\\w\\s]', '', x))\n",
    "\n",
    "# Resetear los indices\n",
    "All_Beauty_data.reset_index(drop=True, inplace=True)\n",
    "\n",
    "# Lista para encontrar únicamente los product id y su correspondiente categoria\n",
    "categories = pd.DataFrame()\n",
    "categories['asin'] = All_Beauty_data['asin']\n",
    "categories['category'] = All_Beauty_data['category']\n",
    "\n",
    "All_Beauty_data.to_parquet('All_Beauty_data.parquet', index=False)"
   ]
  },
  {
   "cell_type": "markdown",
   "metadata": {},
   "source": [
    "    - AMAZON_FASHION"
   ]
  },
  {
   "cell_type": "code",
   "execution_count": null,
   "metadata": {},
   "outputs": [],
   "source": [
    "# Agrupar por 'idproducto' y calcular el promedio de 'calificación'\n",
    "AMAZON_FASHION_data = AMAZON_FASHION.groupby('asin')['overall'].mean().reset_index()\n",
    "\n",
    "# Crear un diccionario para mapear los precios por 'asin'\n",
    "price_dict = dict(zip(meta_AMAZON_FASHION['asin'], meta_AMAZON_FASHION['price']))\n",
    "name_dict = dict(zip(meta_AMAZON_FASHION['asin'], meta_AMAZON_FASHION['title']))\n",
    "\n",
    "# Crear una nueva columna 'precio' en All_Beauty_data usando el diccionario\n",
    "AMAZON_FASHION_data['price'] = AMAZON_FASHION_data['asin'].map(price_dict)\n",
    "AMAZON_FASHION_data['product'] = AMAZON_FASHION_data['asin'].map(name_dict)\n",
    "\n",
    "# Eliminar productos con precio NaN\n",
    "AMAZON_FASHION_data = AMAZON_FASHION_data.dropna(subset=['price'])\n",
    "AMAZON_FASHION_data = AMAZON_FASHION_data.dropna(subset=['product'])\n",
    "\n",
    "# Asignar la Categoría\n",
    "AMAZON_FASHION_data['category'] = 'AMAZON_FASHION'\n",
    "\n",
    "# Limpiar los nombres de los productos\n",
    "AMAZON_FASHION_data['product'] = AMAZON_FASHION_data['product'].apply(lambda x: re.sub(r'[^\\w\\s]', '', x))\n",
    "\n",
    "# Resetear los indices\n",
    "AMAZON_FASHION_data.reset_index(drop=True, inplace=True)\n",
    "\n",
    "# Lista para encontrar únicamente los product id y su correspondiente categoria\n",
    "ids = list(categories['asin'])\n",
    "categorias = list(categories['category'])\n",
    "for i in range(len(AMAZON_FASHION_data)):\n",
    "    ids.append(AMAZON_FASHION_data['asin'][i])\n",
    "    categorias.append(AMAZON_FASHION_data['category'][i])\n",
    "\n",
    "categories = pd.DataFrame()\n",
    "categories['asin'] = ids\n",
    "categories['category'] = categorias\n",
    "\n",
    "AMAZON_FASHION_data.to_parquet('AMAZON_FASHION_data.parquet', index=False)"
   ]
  },
  {
   "cell_type": "markdown",
   "metadata": {},
   "source": [
    "    - Appliances"
   ]
  },
  {
   "cell_type": "code",
   "execution_count": null,
   "metadata": {},
   "outputs": [],
   "source": [
    "# Agrupar por 'idproducto' y calcular el promedio de 'calificación'\n",
    "Appliances_data = Appliances.groupby('asin')['overall'].mean().reset_index()\n",
    "\n",
    "# Crear un diccionario para mapear los precios por 'asin'\n",
    "price_dict = dict(zip(meta_Appliances['asin'], meta_Appliances['price']))\n",
    "name_dict = dict(zip(meta_Appliances['asin'], meta_Appliances['title']))\n",
    "\n",
    "# Crear una nueva columna 'precio' en All_Beauty_data usando el diccionario\n",
    "Appliances_data['price'] = Appliances_data['asin'].map(price_dict)\n",
    "Appliances_data['product'] = Appliances_data['asin'].map(name_dict)\n",
    "\n",
    "# Eliminar productos con precio NaN\n",
    "Appliances_data = Appliances_data.dropna(subset=['price'])\n",
    "Appliances_data = Appliances_data.dropna(subset=['product'])\n",
    "\n",
    "# Asignar la Categoría\n",
    "Appliances_data['category'] = 'Appliances'\n",
    "\n",
    "# Limpiar los nombres de los productos\n",
    "Appliances_data['product'] = Appliances_data['product'].apply(lambda x: re.sub(r'[^\\w\\s]', '', x))\n",
    "\n",
    "# Resetear los indices\n",
    "Appliances_data.reset_index(drop=True, inplace=True)\n",
    "\n",
    "# Lista para encontrar únicamente los product id y su correspondiente categoria\n",
    "ids = list(categories['asin'])\n",
    "categorias = list(categories['category'])\n",
    "for i in range(len(Appliances_data)):\n",
    "    ids.append(Appliances_data['asin'][i])\n",
    "    categorias.append(Appliances_data['category'][i])\n",
    "\n",
    "categories = pd.DataFrame()\n",
    "categories['asin'] = ids\n",
    "categories['category'] = categorias\n",
    "\n",
    "Appliances_data.to_parquet('Appliances_data.parquet', index=False)"
   ]
  },
  {
   "cell_type": "markdown",
   "metadata": {},
   "source": [
    "    - Arts_Crafts_and_Sewing"
   ]
  },
  {
   "cell_type": "code",
   "execution_count": null,
   "metadata": {},
   "outputs": [],
   "source": [
    "# Agrupar por 'idproducto' y calcular el promedio de 'calificación'\n",
    "Arts_Crafts_and_Sewing_data = Arts_Crafts_and_Sewing.groupby('asin')['overall'].mean().reset_index()\n",
    "\n",
    "# Crear un diccionario para mapear los precios por 'asin'\n",
    "price_dict = dict(zip(meta_Arts_Crafts_and_Sewing['asin'], meta_Arts_Crafts_and_Sewing['price']))\n",
    "name_dict = dict(zip(meta_Arts_Crafts_and_Sewing['asin'], meta_Arts_Crafts_and_Sewing['title']))\n",
    "\n",
    "# Crear una nueva columna 'precio' en All_Beauty_data usando el diccionario\n",
    "Arts_Crafts_and_Sewing_data['price'] = Arts_Crafts_and_Sewing_data['asin'].map(price_dict)\n",
    "Arts_Crafts_and_Sewing_data['product'] = Arts_Crafts_and_Sewing_data['asin'].map(name_dict)\n",
    "\n",
    "# Eliminar productos con precio NaN\n",
    "Arts_Crafts_and_Sewing_data = Arts_Crafts_and_Sewing_data.dropna(subset=['price'])\n",
    "Arts_Crafts_and_Sewing_data = Arts_Crafts_and_Sewing_data.dropna(subset=['product'])\n",
    "\n",
    "# Asignar la Categoría\n",
    "Arts_Crafts_and_Sewing_data['category'] = 'Arts_Crafts_and_Sewing'\n",
    "\n",
    "# Limpiar los nombres de los productos\n",
    "Arts_Crafts_and_Sewing_data['product'] = Arts_Crafts_and_Sewing_data['product'].apply(lambda x: re.sub(r'[^\\w\\s]', '', x))\n",
    "\n",
    "# Resetear los indices\n",
    "Arts_Crafts_and_Sewing_data.reset_index(drop=True, inplace=True)\n",
    "\n",
    "# Lista para encontrar únicamente los product id y su correspondiente categoria\n",
    "ids = list(categories['asin'])\n",
    "categorias = list(categories['category'])\n",
    "for i in range(len(Arts_Crafts_and_Sewing_data)):\n",
    "    ids.append(Arts_Crafts_and_Sewing_data['asin'][i])\n",
    "    categorias.append(Arts_Crafts_and_Sewing_data['category'][i])\n",
    "\n",
    "categories = pd.DataFrame()\n",
    "categories['asin'] = ids\n",
    "categories['category'] = categorias\n",
    "\n",
    "Arts_Crafts_and_Sewing_data.to_parquet('Arts_Crafts_and_Sewing_data.parquet', index=False)"
   ]
  },
  {
   "cell_type": "markdown",
   "metadata": {},
   "source": [
    "    - Home_and_Kitchen"
   ]
  },
  {
   "cell_type": "code",
   "execution_count": null,
   "metadata": {},
   "outputs": [],
   "source": [
    "# Agrupar por 'idproducto' y calcular el promedio de 'calificación'\n",
    "Home_and_Kitchen_data = Home_and_Kitchen.groupby('asin')['overall'].mean().reset_index()\n",
    "\n",
    "# Crear un diccionario para mapear los precios por 'asin'\n",
    "price_dict = dict(zip(meta_Home_and_Kitchen['asin'], meta_Home_and_Kitchen['price']))\n",
    "name_dict = dict(zip(meta_Home_and_Kitchen['asin'], meta_Home_and_Kitchen['title']))\n",
    "\n",
    "# Crear una nueva columna 'precio' en All_Beauty_data usando el diccionario\n",
    "Home_and_Kitchen_data['price'] = Home_and_Kitchen_data['asin'].map(price_dict)\n",
    "Home_and_Kitchen_data['product'] = Home_and_Kitchen_data['asin'].map(name_dict)\n",
    "\n",
    "# Eliminar productos con precio NaN\n",
    "Home_and_Kitchen_data = Home_and_Kitchen_data.dropna(subset=['price'])\n",
    "Home_and_Kitchen_data = Home_and_Kitchen_data.dropna(subset=['product'])\n",
    "\n",
    "# Asignar la Categoría\n",
    "Home_and_Kitchen_data['category'] = 'Home_and_Kitchen'\n",
    "\n",
    "# Limpiar los nombres de los productos\n",
    "Home_and_Kitchen_data['product'] = Home_and_Kitchen_data['product'].apply(lambda x: re.sub(r'[^\\w\\s]', '', x))\n",
    "\n",
    "# Resetear los indices\n",
    "Home_and_Kitchen_data.reset_index(drop=True, inplace=True)\n",
    "\n",
    "# Lista para encontrar únicamente los product id y su correspondiente categoria\n",
    "ids = list(categories['asin'])\n",
    "categorias = list(categories['category'])\n",
    "for i in range(len(Home_and_Kitchen_data)):\n",
    "    ids.append(Home_and_Kitchen_data['asin'][i])\n",
    "    categorias.append(Home_and_Kitchen_data['category'][i])\n",
    "\n",
    "categories = pd.DataFrame()\n",
    "categories['asin'] = ids\n",
    "categories['category'] = categorias\n",
    "\n",
    "Home_and_Kitchen_data.to_parquet('Home_and_Kitchen_data.parquet', index=False)"
   ]
  },
  {
   "cell_type": "markdown",
   "metadata": {},
   "source": [
    "# Modelo de Recomendación"
   ]
  },
  {
   "cell_type": "code",
   "execution_count": null,
   "metadata": {},
   "outputs": [],
   "source": [
    "def obtener_recomendaciones(producto_id):\n",
    "    producto_id = producto_id.lower()\n",
    "    # Identificar la categoria del producto\n",
    "    categoria = None\n",
    "    for i in range(len(categories)):\n",
    "        if categories['asin'][i] == producto_id:\n",
    "            categoria = categories['category'][i]\n",
    "            break\n",
    "    \n",
    "    # Identificar el nombre del archivo y abrirlo\n",
    "    if categoria == None:\n",
    "        return \"Producto no encontrado en el conjunto de datos.\"\n",
    "    \n",
    "    nombre_archivo = f\"API/{categoria}_data.parquet\"\n",
    "    archivo = pd.read_parquet(nombre_archivo)\n",
    "\n",
    "    # Convertir las columnas de texto (categoría) a números usando codificación one-hot\n",
    "    encoded = pd.get_dummies(archivo, columns=['category'])\n",
    "\n",
    "    # Seleccionar las características para el modelo (todas except 'asin' y 'overall')\n",
    "    features = encoded.drop(['asin', 'overall', 'product'], axis=1)\n",
    "\n",
    "    # Normalizar las características para asegurar que todas tengan el mismo peso\n",
    "    from sklearn.preprocessing import MinMaxScaler\n",
    "    scaler = MinMaxScaler()\n",
    "    features_scaled = scaler.fit_transform(features)\n",
    "\n",
    "    # Inicializar el modelo de KNeighbors\n",
    "    knn = NearestNeighbors(n_neighbors=6)  # Se establece en 6 para obtener los 5 vecinos más cercanos (incluyendo el propio artículo)\n",
    "\n",
    "    # Ajustar el modelo\n",
    "    knn.fit(features_scaled)\n",
    "\n",
    "    # Verificar si el producto_id está presente en el DataFrame original\n",
    "    if producto_id in encoded['asin'].values:\n",
    "        # Encuentra los vecinos más cercanos\n",
    "        producto_idx = encoded[encoded['asin'] == producto_id].index[0]\n",
    "        distancia, indice = knn.kneighbors(features_scaled[producto_idx].reshape(1, -1))\n",
    "\n",
    "        # Obtiene los índices de los vecinos (excluyendo el producto de referencia)\n",
    "        indices_vecinos = indice.squeeze()[1:]\n",
    "\n",
    "        # Filtra los vecinos por mejor calificación y menor precio\n",
    "        vecinos_filtrados = archivo.iloc[indices_vecinos].sort_values(by=['overall', 'price']).head(5)\n",
    "        vecinos_filtrados = vecinos_filtrados.reset_index(drop=True)\n",
    "        vecinos_filtrados.index = vecinos_filtrados.index + 1\n",
    "\n",
    "        for i in range(len(vecinos_filtrados)):\n",
    "            return vecinos_filtrados\n",
    "    else:\n",
    "        return \"Producto no encontrado en el conjunto de datos.\""
   ]
  }
 ],
 "metadata": {
  "kernelspec": {
   "display_name": "Python 3",
   "language": "python",
   "name": "python3"
  },
  "language_info": {
   "codemirror_mode": {
    "name": "ipython",
    "version": 3
   },
   "file_extension": ".py",
   "mimetype": "text/x-python",
   "name": "python",
   "nbconvert_exporter": "python",
   "pygments_lexer": "ipython3",
   "version": "3.11.5"
  }
 },
 "nbformat": 4,
 "nbformat_minor": 2
}
