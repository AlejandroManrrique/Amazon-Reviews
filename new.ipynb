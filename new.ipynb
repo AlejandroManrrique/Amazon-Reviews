{
 "cells": [
  {
   "cell_type": "code",
   "execution_count": 9,
   "metadata": {},
   "outputs": [],
   "source": [
    "import nbformat\n",
    "\n",
    "# Cargar los notebooks\n",
    "with open('C:\\\\Users\\\\Leidy Hernandez\\\\Desktop\\\\Soy Henry\\\\Proyecto Final Entregable\\\\merged1.ipynb', 'r', encoding='utf-8') as file:\n",
    "    eda_notebook = nbformat.read(file, as_version=4)\n",
    "\n",
    "with open('C:\\\\Users\\\\Leidy Hernandez\\\\Desktop\\\\Soy Henry\\\\Proyecto Final Entregable\\\\ETL_Marcelo.ipynb', 'r', encoding='utf-8') as file:\n",
    "    lautaro_notebook = nbformat.read(file, as_version=4)\n",
    "\n",
    "# Combinar las celdas de los notebooks\n",
    "eda_notebook.cells.extend(lautaro_notebook.cells)\n",
    "\n",
    "# Guardar el notebook combinado\n",
    "with open('C:\\\\Users\\\\Leidy Hernandez\\\\Desktop\\\\Soy Henry\\\\Proyecto Final Entregable\\\\merged.ipynb', 'w', encoding='utf-8') as file:\n",
    "    nbformat.write(eda_notebook, file)\n",
    "\n"
   ]
  },
  {
   "cell_type": "markdown",
   "metadata": {},
   "source": [
    "En lo revisado en esta primera vista a la data ofrezco los siguientes kpis:\n",
    "1 Aumentar un 10% la venta de productos con alto overvall pero bajo volumen de ventas\n",
    "Fórmula: Crecimiento de Ventas con Overvall Alto = [(Ventas Actuales con Overvall Alto - Ventas Anteriores con Overvall Alto) / Ventas Anteriores con Overvall Alto] * 100\n",
    "2  Aumentar las ventas de productos con bajo rendimiento, que actualmente representan menos del 10% del total de ventas, para impulsar el crecimiento en el próximo semestre.\n",
    "   Tasa de Ventas de Productos con Bajo Rendimiento (%) = (Ventas de Productos con Bajo Rendimiento / Ventas Totales) x 100\n",
    "3 Crecimiento de Ventas o Recaudación de la Categoría de Menor Rendimiento en un 15% para el siguiente año de las mismas \n",
    "4 medir cuán eficiente es el precio de un producto en términos de generar ventas. Un valor alto indicaría que el producto se vende bien en relación con su precio, mientras que un valor bajo podría indicar que el producto es costoso en comparación con las ventas que genera. Esto te ayudaría a identificar productos que necesitan  un ajuste de precio.\n",
    "Fórmula: Eficiencia de Precio = Cantidad Vendida / Precio\n",
    "5 Aumentar la sastifacion de los clientes se puede ver por producto en particualar o ver todos los puntajes que dio un cliente y ver cuan contento esta una posibilidad de mediroloseria la siguiente: Satisfacción del Cliente = Promedio de Puntajes (Overvall) de los Productos Vendidos.(Se que no tiene forma de kpi pero con cariño puede ser un kpi)\n",
    "\n",
    "6 Concentración de Ventas"
   ]
  }
 ],
 "metadata": {
  "kernelspec": {
   "display_name": "Python 3",
   "language": "python",
   "name": "python3"
  },
  "language_info": {
   "codemirror_mode": {
    "name": "ipython",
    "version": 3
   },
   "file_extension": ".py",
   "mimetype": "text/x-python",
   "name": "python",
   "nbconvert_exporter": "python",
   "pygments_lexer": "ipython3",
   "version": "3.11.5"
  },
  "orig_nbformat": 4
 },
 "nbformat": 4,
 "nbformat_minor": 2
}
