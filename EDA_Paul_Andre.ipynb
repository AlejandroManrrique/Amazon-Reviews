{
 "cells": [
  {
   "cell_type": "markdown",
   "metadata": {},
   "source": [
    "# EDA"
   ]
  },
  {
   "cell_type": "markdown",
   "metadata": {},
   "source": [
    "Importando librerias a usar"
   ]
  },
  {
   "cell_type": "code",
   "execution_count": 1,
   "metadata": {},
   "outputs": [],
   "source": [
    "import pandas as pd\n",
    "import seaborn as sns\n",
    "import matplotlib.pyplot as plt\n",
    "from datetime import datetime"
   ]
  },
  {
   "cell_type": "code",
   "execution_count": 2,
   "metadata": {},
   "outputs": [],
   "source": [
    "reviews = [r'rev_parquet\\rev_arts.parquet', r'rev_parquet\\rev_electronics.parquet', r'rev_parquet\\rev_movies_tv.parquet', r'rev_parquet\\rev_software.parquet']\n",
    "metadata = ['meta_parquet\\meta_arts.parquet', 'meta_parquet\\meta_electronics.parquet', 'meta_parquet\\meta_movie.parquet', 'meta_parquet\\meta_software.parquet']"
   ]
  },
  {
   "cell_type": "markdown",
   "metadata": {},
   "source": [
    "## Tratamiento de duplicados"
   ]
  },
  {
   "cell_type": "markdown",
   "metadata": {},
   "source": [
    "### Reviews"
   ]
  },
  {
   "cell_type": "code",
   "execution_count": 3,
   "metadata": {},
   "outputs": [],
   "source": [
    "dataframes = []\n",
    "for w in reviews:\n",
    "    df = pd.read_parquet(w)\n",
    "    dataframes.append(df)"
   ]
  },
  {
   "cell_type": "code",
   "execution_count": 4,
   "metadata": {},
   "outputs": [],
   "source": [
    "joined_dfs = pd.concat(dataframes)"
   ]
  },
  {
   "cell_type": "code",
   "execution_count": 14,
   "metadata": {},
   "outputs": [
    {
     "data": {
      "text/plain": [
       "(3989389, 7)"
      ]
     },
     "execution_count": 14,
     "metadata": {},
     "output_type": "execute_result"
    }
   ],
   "source": [
    "joined_dfs.shape"
   ]
  },
  {
   "cell_type": "code",
   "execution_count": 8,
   "metadata": {},
   "outputs": [
    {
     "data": {
      "text/html": [
       "<div>\n",
       "<style scoped>\n",
       "    .dataframe tbody tr th:only-of-type {\n",
       "        vertical-align: middle;\n",
       "    }\n",
       "\n",
       "    .dataframe tbody tr th {\n",
       "        vertical-align: top;\n",
       "    }\n",
       "\n",
       "    .dataframe thead th {\n",
       "        text-align: right;\n",
       "    }\n",
       "</style>\n",
       "<table border=\"1\" class=\"dataframe\">\n",
       "  <thead>\n",
       "    <tr style=\"text-align: right;\">\n",
       "      <th></th>\n",
       "      <th>reviewerID</th>\n",
       "      <th>asin</th>\n",
       "      <th>reviewText</th>\n",
       "      <th>overall</th>\n",
       "      <th>summary</th>\n",
       "      <th>unixReviewTime</th>\n",
       "      <th>temp</th>\n",
       "    </tr>\n",
       "  </thead>\n",
       "  <tbody>\n",
       "    <tr>\n",
       "      <th>79254</th>\n",
       "      <td>A23O8T3LNL9YY8</td>\n",
       "      <td>B00020X94M</td>\n",
       "      <td>I bought this video because I do know how to k...</td>\n",
       "      <td>4.0</td>\n",
       "      <td>Very Informative but....</td>\n",
       "      <td>1106611200</td>\n",
       "      <td>2005-01-25</td>\n",
       "    </tr>\n",
       "    <tr>\n",
       "      <th>97850</th>\n",
       "      <td>A20EEWWSFMZ1PN</td>\n",
       "      <td>B00020X94M</td>\n",
       "      <td>I purchased this DVD because I thought I might...</td>\n",
       "      <td>5.0</td>\n",
       "      <td>I had no idea!</td>\n",
       "      <td>1113523200</td>\n",
       "      <td>2005-04-15</td>\n",
       "    </tr>\n",
       "    <tr>\n",
       "      <th>124987</th>\n",
       "      <td>AYPCGRSNA2IL</td>\n",
       "      <td>6301977173</td>\n",
       "      <td>I would love to buy this movie as I have been ...</td>\n",
       "      <td>1.0</td>\n",
       "      <td>Why no Widescreen?</td>\n",
       "      <td>1123286400</td>\n",
       "      <td>2005-08-06</td>\n",
       "    </tr>\n",
       "    <tr>\n",
       "      <th>157040</th>\n",
       "      <td>A25MN5DG191IL6</td>\n",
       "      <td>B00020X94M</td>\n",
       "      <td>The background music for much of the DVD is no...</td>\n",
       "      <td>1.0</td>\n",
       "      <td>I could not hear a thing they said.</td>\n",
       "      <td>1134345600</td>\n",
       "      <td>2005-12-12</td>\n",
       "    </tr>\n",
       "    <tr>\n",
       "      <th>161760</th>\n",
       "      <td>A28ZDT16XR5DPC</td>\n",
       "      <td>B00020X94M</td>\n",
       "      <td>For Christmas I wanted to get my wife some vid...</td>\n",
       "      <td>1.0</td>\n",
       "      <td>Its too bad I can not give 0 stars.</td>\n",
       "      <td>1135987200</td>\n",
       "      <td>2005-12-31</td>\n",
       "    </tr>\n",
       "    <tr>\n",
       "      <th>...</th>\n",
       "      <td>...</td>\n",
       "      <td>...</td>\n",
       "      <td>...</td>\n",
       "      <td>...</td>\n",
       "      <td>...</td>\n",
       "      <td>...</td>\n",
       "      <td>...</td>\n",
       "    </tr>\n",
       "    <tr>\n",
       "      <th>285646</th>\n",
       "      <td>A1M7Y63Y5GYJI1</td>\n",
       "      <td>B00JC5Y6YA</td>\n",
       "      <td>First, I'm both an OpenOffice and a Microsoft ...</td>\n",
       "      <td>4.0</td>\n",
       "      <td>Great Alternative to MS Office</td>\n",
       "      <td>1404691200</td>\n",
       "      <td>NaT</td>\n",
       "    </tr>\n",
       "    <tr>\n",
       "      <th>285649</th>\n",
       "      <td>A2XSDXVXI466XL</td>\n",
       "      <td>B00JC5Y6YA</td>\n",
       "      <td>I occasionally need to use MS Word (my univers...</td>\n",
       "      <td>5.0</td>\n",
       "      <td>Still the best word processing program</td>\n",
       "      <td>1401321600</td>\n",
       "      <td>NaT</td>\n",
       "    </tr>\n",
       "    <tr>\n",
       "      <th>285650</th>\n",
       "      <td>A10H24TDLK2VDP</td>\n",
       "      <td>B00JC5Y6YA</td>\n",
       "      <td>My last MS Office suite was Office 2010. Like ...</td>\n",
       "      <td>5.0</td>\n",
       "      <td>A solid alternative to MS Office</td>\n",
       "      <td>1402099200</td>\n",
       "      <td>NaT</td>\n",
       "    </tr>\n",
       "    <tr>\n",
       "      <th>285651</th>\n",
       "      <td>A10U8DJAPJJI8I</td>\n",
       "      <td>B00JC5Y6YA</td>\n",
       "      <td>I had previously written a review on this item...</td>\n",
       "      <td>3.0</td>\n",
       "      <td>Office On The Cheap</td>\n",
       "      <td>1404000000</td>\n",
       "      <td>NaT</td>\n",
       "    </tr>\n",
       "    <tr>\n",
       "      <th>285652</th>\n",
       "      <td>AG7EF0SVBQOUX</td>\n",
       "      <td>B00JC5Y6YA</td>\n",
       "      <td>I have used previous versions of this program ...</td>\n",
       "      <td>4.0</td>\n",
       "      <td>Good product</td>\n",
       "      <td>1402704000</td>\n",
       "      <td>NaT</td>\n",
       "    </tr>\n",
       "  </tbody>\n",
       "</table>\n",
       "<p>4887 rows × 7 columns</p>\n",
       "</div>"
      ],
      "text/plain": [
       "            reviewerID        asin  \\\n",
       "79254   A23O8T3LNL9YY8  B00020X94M   \n",
       "97850   A20EEWWSFMZ1PN  B00020X94M   \n",
       "124987    AYPCGRSNA2IL  6301977173   \n",
       "157040  A25MN5DG191IL6  B00020X94M   \n",
       "161760  A28ZDT16XR5DPC  B00020X94M   \n",
       "...                ...         ...   \n",
       "285646  A1M7Y63Y5GYJI1  B00JC5Y6YA   \n",
       "285649  A2XSDXVXI466XL  B00JC5Y6YA   \n",
       "285650  A10H24TDLK2VDP  B00JC5Y6YA   \n",
       "285651  A10U8DJAPJJI8I  B00JC5Y6YA   \n",
       "285652   AG7EF0SVBQOUX  B00JC5Y6YA   \n",
       "\n",
       "                                               reviewText  overall  \\\n",
       "79254   I bought this video because I do know how to k...      4.0   \n",
       "97850   I purchased this DVD because I thought I might...      5.0   \n",
       "124987  I would love to buy this movie as I have been ...      1.0   \n",
       "157040  The background music for much of the DVD is no...      1.0   \n",
       "161760  For Christmas I wanted to get my wife some vid...      1.0   \n",
       "...                                                   ...      ...   \n",
       "285646  First, I'm both an OpenOffice and a Microsoft ...      4.0   \n",
       "285649  I occasionally need to use MS Word (my univers...      5.0   \n",
       "285650  My last MS Office suite was Office 2010. Like ...      5.0   \n",
       "285651  I had previously written a review on this item...      3.0   \n",
       "285652  I have used previous versions of this program ...      4.0   \n",
       "\n",
       "                                       summary  unixReviewTime       temp  \n",
       "79254                 Very Informative but....      1106611200 2005-01-25  \n",
       "97850                           I had no idea!      1113523200 2005-04-15  \n",
       "124987                      Why no Widescreen?      1123286400 2005-08-06  \n",
       "157040     I could not hear a thing they said.      1134345600 2005-12-12  \n",
       "161760     Its too bad I can not give 0 stars.      1135987200 2005-12-31  \n",
       "...                                        ...             ...        ...  \n",
       "285646          Great Alternative to MS Office      1404691200        NaT  \n",
       "285649  Still the best word processing program      1401321600        NaT  \n",
       "285650        A solid alternative to MS Office      1402099200        NaT  \n",
       "285651                     Office On The Cheap      1404000000        NaT  \n",
       "285652                            Good product      1402704000        NaT  \n",
       "\n",
       "[4887 rows x 7 columns]"
      ]
     },
     "execution_count": 8,
     "metadata": {},
     "output_type": "execute_result"
    }
   ],
   "source": [
    "joined_dfs[joined_dfs.duplicated(subset=['reviewerID','reviewText','unixReviewTime'])]"
   ]
  },
  {
   "cell_type": "code",
   "execution_count": 11,
   "metadata": {},
   "outputs": [],
   "source": [
    "joined_dfs[joined_dfs.duplicated(keep='first')].sort_values('unixReviewTime')"
   ]
  },
  {
   "cell_type": "markdown",
   "metadata": {},
   "source": [
    "### Metadata"
   ]
  },
  {
   "cell_type": "code",
   "execution_count": 5,
   "metadata": {},
   "outputs": [],
   "source": [
    "metadata_dfs = []\n",
    "for x in metadata:\n",
    "    df = pd.read_parquet(x)\n",
    "    metadata_dfs.append(df)"
   ]
  },
  {
   "cell_type": "code",
   "execution_count": 6,
   "metadata": {},
   "outputs": [],
   "source": [
    "joined_metadfs = pd.concat(metadata_dfs)"
   ]
  },
  {
   "cell_type": "code",
   "execution_count": 19,
   "metadata": {},
   "outputs": [
    {
     "data": {
      "text/plain": [
       "(552540, 8)"
      ]
     },
     "execution_count": 19,
     "metadata": {},
     "output_type": "execute_result"
    }
   ],
   "source": [
    "joined_metadfs.shape"
   ]
  },
  {
   "cell_type": "code",
   "execution_count": 20,
   "metadata": {},
   "outputs": [
    {
     "data": {
      "text/plain": [
       "241982"
      ]
     },
     "execution_count": 20,
     "metadata": {},
     "output_type": "execute_result"
    }
   ],
   "source": [
    "joined_dfs.asin.nunique()"
   ]
  },
  {
   "cell_type": "code",
   "execution_count": 18,
   "metadata": {},
   "outputs": [
    {
     "data": {
      "text/html": [
       "<div>\n",
       "<style scoped>\n",
       "    .dataframe tbody tr th:only-of-type {\n",
       "        vertical-align: middle;\n",
       "    }\n",
       "\n",
       "    .dataframe tbody tr th {\n",
       "        vertical-align: top;\n",
       "    }\n",
       "\n",
       "    .dataframe thead th {\n",
       "        text-align: right;\n",
       "    }\n",
       "</style>\n",
       "<table border=\"1\" class=\"dataframe\">\n",
       "  <thead>\n",
       "    <tr style=\"text-align: right;\">\n",
       "      <th></th>\n",
       "      <th>asin</th>\n",
       "      <th>related</th>\n",
       "      <th>title</th>\n",
       "      <th>price</th>\n",
       "      <th>salesRank</th>\n",
       "      <th>brand</th>\n",
       "      <th>categories</th>\n",
       "      <th>description</th>\n",
       "    </tr>\n",
       "  </thead>\n",
       "  <tbody>\n",
       "    <tr>\n",
       "      <th>4254</th>\n",
       "      <td>093527863X</td>\n",
       "      <td>{'also_bought': ['0935278621', '0935278966', '...</td>\n",
       "      <td>Pants for Real People: Sewing Techniques</td>\n",
       "      <td>22.46</td>\n",
       "      <td>{'Arts, Crafts &amp; Sewing': None, 'Books': None,...</td>\n",
       "      <td>None</td>\n",
       "      <td>[[Arts, Crafts &amp; Sewing, Sewing], [Movies &amp; TV...</td>\n",
       "      <td>Providing helpful commentary&amp;#160;for creating...</td>\n",
       "    </tr>\n",
       "    <tr>\n",
       "      <th>5692</th>\n",
       "      <td>1440305234</td>\n",
       "      <td>{'also_bought': ['1440319286', '1440319294', '...</td>\n",
       "      <td>Painting Oil Portraits in Warm Light with Chri...</td>\n",
       "      <td>28.28</td>\n",
       "      <td>{'Arts, Crafts &amp; Sewing': None, 'Books': None,...</td>\n",
       "      <td>None</td>\n",
       "      <td>[[Arts, Crafts &amp; Sewing, Art Supplies, Paintin...</td>\n",
       "      <td>YouaTMll Love This Portrait Painting DVD If: Y...</td>\n",
       "    </tr>\n",
       "    <tr>\n",
       "      <th>5693</th>\n",
       "      <td>144030307X</td>\n",
       "      <td>{'also_bought': ['1440327033', '1581808046', '...</td>\n",
       "      <td>Nancy Reyner's Acrylic Revolution: Watercolor ...</td>\n",
       "      <td>26.99</td>\n",
       "      <td>{'Arts, Crafts &amp; Sewing': None, 'Books': None,...</td>\n",
       "      <td>None</td>\n",
       "      <td>[[Arts, Crafts &amp; Sewing, Art Supplies, Paintin...</td>\n",
       "      <td>Many exciting, new and contemporary looks can ...</td>\n",
       "    </tr>\n",
       "    <tr>\n",
       "      <th>5695</th>\n",
       "      <td>1440307822</td>\n",
       "      <td>None</td>\n",
       "      <td>Drawing the Clothed Figure with Joy Thomas</td>\n",
       "      <td>26.99</td>\n",
       "      <td>{'Arts, Crafts &amp; Sewing': None, 'Books': None,...</td>\n",
       "      <td>None</td>\n",
       "      <td>[[Arts, Crafts &amp; Sewing, Art Supplies, Paintin...</td>\n",
       "      <td>Follow along as Joy demonstrates drawing a ful...</td>\n",
       "    </tr>\n",
       "    <tr>\n",
       "      <th>5697</th>\n",
       "      <td>144030713X</td>\n",
       "      <td>{'also_bought': ['1440307105', '144030839X', '...</td>\n",
       "      <td>Three Stages for Successful Pastel Paintings w...</td>\n",
       "      <td>26.99</td>\n",
       "      <td>{'Arts, Crafts &amp; Sewing': None, 'Books': None,...</td>\n",
       "      <td>None</td>\n",
       "      <td>[[Arts, Crafts &amp; Sewing, Craft Supplies, Weavi...</td>\n",
       "      <td>You'll Love This Pastel Painting DVD If: You l...</td>\n",
       "    </tr>\n",
       "    <tr>\n",
       "      <th>...</th>\n",
       "      <td>...</td>\n",
       "      <td>...</td>\n",
       "      <td>...</td>\n",
       "      <td>...</td>\n",
       "      <td>...</td>\n",
       "      <td>...</td>\n",
       "      <td>...</td>\n",
       "      <td>...</td>\n",
       "    </tr>\n",
       "    <tr>\n",
       "      <th>12125</th>\n",
       "      <td>B001JH7FFQ</td>\n",
       "      <td>None</td>\n",
       "      <td>None</td>\n",
       "      <td>NaN</td>\n",
       "      <td>{'Arts, Crafts &amp; Sewing': None, 'Automotive': ...</td>\n",
       "      <td>None</td>\n",
       "      <td>[[Movies &amp; TV, Movies], [Software, Design &amp; Il...</td>\n",
       "      <td>DV Award of Excellence- 5 Diamonds! I admit it...</td>\n",
       "    </tr>\n",
       "    <tr>\n",
       "      <th>14881</th>\n",
       "      <td>B004YG7JPK</td>\n",
       "      <td>{'also_bought': None, 'also_viewed': ['B0084JD...</td>\n",
       "      <td>None</td>\n",
       "      <td>49.99</td>\n",
       "      <td>{'Arts, Crafts &amp; Sewing': None, 'Automotive': ...</td>\n",
       "      <td>None</td>\n",
       "      <td>[[Movies &amp; TV, Movies], [Software, Design &amp; Il...</td>\n",
       "      <td>Photographer David Hobby of Strobist.com follo...</td>\n",
       "    </tr>\n",
       "    <tr>\n",
       "      <th>14883</th>\n",
       "      <td>B004YG7J78</td>\n",
       "      <td>{'also_bought': ['0321580141', 'B0009BX0AM', '...</td>\n",
       "      <td>None</td>\n",
       "      <td>35.83</td>\n",
       "      <td>{'Arts, Crafts &amp; Sewing': None, 'Automotive': ...</td>\n",
       "      <td>None</td>\n",
       "      <td>[[Movies &amp; TV, Movies], [Software, Design &amp; Il...</td>\n",
       "      <td>For the past three decades, photographer Joe M...</td>\n",
       "    </tr>\n",
       "    <tr>\n",
       "      <th>15606</th>\n",
       "      <td>B006C9CEA2</td>\n",
       "      <td>{'also_bought': ['B00B4AUF3M', 'B007R83VKE', '...</td>\n",
       "      <td>None</td>\n",
       "      <td>49.99</td>\n",
       "      <td>{'Arts, Crafts &amp; Sewing': None, 'Automotive': ...</td>\n",
       "      <td>None</td>\n",
       "      <td>[[Arts, Crafts &amp; Sewing, Scrapbooking], [Softw...</td>\n",
       "      <td>This card contains a scratch-off license key c...</td>\n",
       "    </tr>\n",
       "    <tr>\n",
       "      <th>17292</th>\n",
       "      <td>B00CBASPUO</td>\n",
       "      <td>{'also_bought': None, 'also_viewed': ['0983497...</td>\n",
       "      <td>None</td>\n",
       "      <td>18.95</td>\n",
       "      <td>{'Arts, Crafts &amp; Sewing': None, 'Automotive': ...</td>\n",
       "      <td>None</td>\n",
       "      <td>[[Arts, Crafts &amp; Sewing, Craft Supplies, Leath...</td>\n",
       "      <td>Papilio is an open source FPGA project intende...</td>\n",
       "    </tr>\n",
       "  </tbody>\n",
       "</table>\n",
       "<p>208469 rows × 8 columns</p>\n",
       "</div>"
      ],
      "text/plain": [
       "             asin                                            related  \\\n",
       "4254   093527863X  {'also_bought': ['0935278621', '0935278966', '...   \n",
       "5692   1440305234  {'also_bought': ['1440319286', '1440319294', '...   \n",
       "5693   144030307X  {'also_bought': ['1440327033', '1581808046', '...   \n",
       "5695   1440307822                                               None   \n",
       "5697   144030713X  {'also_bought': ['1440307105', '144030839X', '...   \n",
       "...           ...                                                ...   \n",
       "12125  B001JH7FFQ                                               None   \n",
       "14881  B004YG7JPK  {'also_bought': None, 'also_viewed': ['B0084JD...   \n",
       "14883  B004YG7J78  {'also_bought': ['0321580141', 'B0009BX0AM', '...   \n",
       "15606  B006C9CEA2  {'also_bought': ['B00B4AUF3M', 'B007R83VKE', '...   \n",
       "17292  B00CBASPUO  {'also_bought': None, 'also_viewed': ['0983497...   \n",
       "\n",
       "                                                   title  price  \\\n",
       "4254            Pants for Real People: Sewing Techniques  22.46   \n",
       "5692   Painting Oil Portraits in Warm Light with Chri...  28.28   \n",
       "5693   Nancy Reyner's Acrylic Revolution: Watercolor ...  26.99   \n",
       "5695          Drawing the Clothed Figure with Joy Thomas  26.99   \n",
       "5697   Three Stages for Successful Pastel Paintings w...  26.99   \n",
       "...                                                  ...    ...   \n",
       "12125                                               None    NaN   \n",
       "14881                                               None  49.99   \n",
       "14883                                               None  35.83   \n",
       "15606                                               None  49.99   \n",
       "17292                                               None  18.95   \n",
       "\n",
       "                                               salesRank brand  \\\n",
       "4254   {'Arts, Crafts & Sewing': None, 'Books': None,...  None   \n",
       "5692   {'Arts, Crafts & Sewing': None, 'Books': None,...  None   \n",
       "5693   {'Arts, Crafts & Sewing': None, 'Books': None,...  None   \n",
       "5695   {'Arts, Crafts & Sewing': None, 'Books': None,...  None   \n",
       "5697   {'Arts, Crafts & Sewing': None, 'Books': None,...  None   \n",
       "...                                                  ...   ...   \n",
       "12125  {'Arts, Crafts & Sewing': None, 'Automotive': ...  None   \n",
       "14881  {'Arts, Crafts & Sewing': None, 'Automotive': ...  None   \n",
       "14883  {'Arts, Crafts & Sewing': None, 'Automotive': ...  None   \n",
       "15606  {'Arts, Crafts & Sewing': None, 'Automotive': ...  None   \n",
       "17292  {'Arts, Crafts & Sewing': None, 'Automotive': ...  None   \n",
       "\n",
       "                                              categories  \\\n",
       "4254   [[Arts, Crafts & Sewing, Sewing], [Movies & TV...   \n",
       "5692   [[Arts, Crafts & Sewing, Art Supplies, Paintin...   \n",
       "5693   [[Arts, Crafts & Sewing, Art Supplies, Paintin...   \n",
       "5695   [[Arts, Crafts & Sewing, Art Supplies, Paintin...   \n",
       "5697   [[Arts, Crafts & Sewing, Craft Supplies, Weavi...   \n",
       "...                                                  ...   \n",
       "12125  [[Movies & TV, Movies], [Software, Design & Il...   \n",
       "14881  [[Movies & TV, Movies], [Software, Design & Il...   \n",
       "14883  [[Movies & TV, Movies], [Software, Design & Il...   \n",
       "15606  [[Arts, Crafts & Sewing, Scrapbooking], [Softw...   \n",
       "17292  [[Arts, Crafts & Sewing, Craft Supplies, Leath...   \n",
       "\n",
       "                                             description  \n",
       "4254   Providing helpful commentary&#160;for creating...  \n",
       "5692   YouaTMll Love This Portrait Painting DVD If: Y...  \n",
       "5693   Many exciting, new and contemporary looks can ...  \n",
       "5695   Follow along as Joy demonstrates drawing a ful...  \n",
       "5697   You'll Love This Pastel Painting DVD If: You l...  \n",
       "...                                                  ...  \n",
       "12125  DV Award of Excellence- 5 Diamonds! I admit it...  \n",
       "14881  Photographer David Hobby of Strobist.com follo...  \n",
       "14883  For the past three decades, photographer Joe M...  \n",
       "15606  This card contains a scratch-off license key c...  \n",
       "17292  Papilio is an open source FPGA project intende...  \n",
       "\n",
       "[208469 rows x 8 columns]"
      ]
     },
     "execution_count": 18,
     "metadata": {},
     "output_type": "execute_result"
    }
   ],
   "source": [
    "joined_metadfs[joined_metadfs.duplicated(subset=['asin'])]"
   ]
  },
  {
   "cell_type": "markdown",
   "metadata": {},
   "source": [
    "## Nulos"
   ]
  },
  {
   "cell_type": "markdown",
   "metadata": {},
   "source": [
    "### Reviews"
   ]
  },
  {
   "cell_type": "code",
   "execution_count": 27,
   "metadata": {},
   "outputs": [
    {
     "data": {
      "text/plain": [
       "reviewerID        0\n",
       "asin              0\n",
       "reviewText        0\n",
       "overall           0\n",
       "summary           0\n",
       "unixReviewTime    0\n",
       "dtype: int64"
      ]
     },
     "execution_count": 27,
     "metadata": {},
     "output_type": "execute_result"
    }
   ],
   "source": [
    "joined_dfs.isna().sum()"
   ]
  },
  {
   "cell_type": "code",
   "execution_count": 28,
   "metadata": {},
   "outputs": [
    {
     "data": {
      "text/plain": [
       "(3989389, 6)"
      ]
     },
     "execution_count": 28,
     "metadata": {},
     "output_type": "execute_result"
    }
   ],
   "source": [
    "joined_dfs.shape"
   ]
  },
  {
   "cell_type": "markdown",
   "metadata": {},
   "source": [
    "### Metadata"
   ]
  },
  {
   "cell_type": "code",
   "execution_count": 23,
   "metadata": {},
   "outputs": [
    {
     "data": {
      "text/plain": [
       "asin                0\n",
       "related        141569\n",
       "title          219743\n",
       "price          137298\n",
       "salesRank       14667\n",
       "brand          439529\n",
       "categories          0\n",
       "description     72043\n",
       "dtype: int64"
      ]
     },
     "execution_count": 23,
     "metadata": {},
     "output_type": "execute_result"
    }
   ],
   "source": [
    "joined_metadfs.isna().sum()"
   ]
  },
  {
   "cell_type": "code",
   "execution_count": 24,
   "metadata": {},
   "outputs": [
    {
     "data": {
      "text/plain": [
       "(552540, 8)"
      ]
     },
     "execution_count": 24,
     "metadata": {},
     "output_type": "execute_result"
    }
   ],
   "source": [
    "joined_metadfs.shape"
   ]
  },
  {
   "cell_type": "markdown",
   "metadata": {},
   "source": [
    "se observa que revies no contiene nulos y los nulos presentes en el metadata serán filtrados o ignorados en su debido momento."
   ]
  },
  {
   "cell_type": "markdown",
   "metadata": {},
   "source": [
    "# Distribución de datos"
   ]
  },
  {
   "cell_type": "markdown",
   "metadata": {},
   "source": [
    "## Reviews"
   ]
  },
  {
   "cell_type": "code",
   "execution_count": 29,
   "metadata": {},
   "outputs": [],
   "source": [
    "joined_dfs['year'] = joined_dfs['unixReviewTime'].apply(lambda x: datetime.fromtimestamp(x).year)\n",
    "joined_dfs['month'] = joined_dfs['unixReviewTime'].apply(lambda x: datetime.fromtimestamp(x).month)"
   ]
  },
  {
   "cell_type": "code",
   "execution_count": 30,
   "metadata": {},
   "outputs": [
    {
     "data": {
      "image/png": "[encoded data removed]",
      "text/plain": [
       "<Figure size 864x1080 with 2 Axes>"
      ]
     },
     "metadata": {
      "needs_background": "light"
     },
     "output_type": "display_data"
    }
   ],
   "source": [
    "plt.figure(figsize=(12,15))\n",
    "plt.subplot(3,1,1)\n",
    "plt.title('Reviews por año')\n",
    "sns.lineplot(data=joined_dfs.groupby('year').count(),\n",
    "             x='year',\n",
    "             y='reviewerID')\n",
    "\n",
    "plt.subplot(3,1,2)\n",
    "plt.title('Reviews por mes')\n",
    "sns.lineplot(data=joined_dfs.groupby('month').count(),\n",
    "             x='month',\n",
    "             y='reviewerID'\n",
    ")\n",
    "\n",
    "plt.show()"
   ]
  },
  {
   "cell_type": "markdown",
   "metadata": {},
   "source": [
    "### Calificaciones"
   ]
  },
  {
   "cell_type": "code",
   "execution_count": 7,
   "metadata": {},
   "outputs": [
    {
     "data": {
      "image/png": "[encoded data removed]",
      "text/plain": [
       "<Figure size 432x288 with 1 Axes>"
      ]
     },
     "metadata": {
      "needs_background": "light"
     },
     "output_type": "display_data"
    }
   ],
   "source": [
    "sns.barplot(\n",
    "    data=joined_dfs.groupby('overall').count().reset_index(),\n",
    "    x='overall',\n",
    "    y='reviewerID'\n",
    ")\n",
    "plt.show()"
   ]
  },
  {
   "cell_type": "markdown",
   "metadata": {},
   "source": [
    "Promedio de reviews cor cada usuario"
   ]
  },
  {
   "cell_type": "code",
   "execution_count": 8,
   "metadata": {},
   "outputs": [
    {
     "data": {
      "text/plain": [
       "5.01180781861261"
      ]
     },
     "execution_count": 8,
     "metadata": {},
     "output_type": "execute_result"
    }
   ],
   "source": [
    "joined_dfs.groupby('reviewerID').count()['asin'].mean()"
   ]
  },
  {
   "cell_type": "markdown",
   "metadata": {},
   "source": [
    "## Metadata"
   ]
  },
  {
   "cell_type": "markdown",
   "metadata": {},
   "source": [
    "Distribución de precios"
   ]
  },
  {
   "cell_type": "code",
   "execution_count": 17,
   "metadata": {},
   "outputs": [
    {
     "data": {
      "image/png": "[encoded data removed]",
      "text/plain": [
       "<Figure size 720x432 with 1 Axes>"
      ]
     },
     "metadata": {
      "needs_background": "light"
     },
     "output_type": "display_data"
    }
   ],
   "source": [
    "plt.figure(figsize=(10, 6))\n",
    "\n",
    "sns.violinplot(data=joined_metadfs, x='price')\n",
    "\n",
    "plt.title('Distribution of Prices')\n",
    "plt.xlabel('Price')\n",
    "plt.ylabel('Density')\n",
    "plt.show()"
   ]
  },
  {
   "cell_type": "markdown",
   "metadata": {},
   "source": [
    "# ETL"
   ]
  },
  {
   "cell_type": "markdown",
   "metadata": {},
   "source": []
  }
 ],
 "metadata": {
  "kernelspec": {
   "display_name": "base",
   "language": "python",
   "name": "python3"
  },
  "language_info": {
   "codemirror_mode": {
    "name": "ipython",
    "version": 3
   },
   "file_extension": ".py",
   "mimetype": "text/x-python",
   "name": "python",
   "nbconvert_exporter": "python",
   "pygments_lexer": "ipython3",
   "version": "3.8.5"
  },
  "orig_nbformat": 4
 },
 "nbformat": 4,
 "nbformat_minor": 2
}
