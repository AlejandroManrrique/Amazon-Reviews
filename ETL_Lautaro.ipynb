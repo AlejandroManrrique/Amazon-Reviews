{
 "cells": [
  {
   "cell_type": "markdown",
   "id": "30aa878a-4ef0-47a4-af58-14c739b9eb49",
   "metadata": {},
   "source": [
    "NOTA: El proyecto aquí presentado es realizado por un grupo de 5 personas y dividido entre ellas, algunos métodos o formas para modificar los datos pueden ser diferentes pero el resultado en dichas transformaciones es el mismo."
   ]
  },
  {
   "cell_type": "markdown",
   "id": "038a4d1a-264b-4f24-b0b1-83dd67c47aa9",
   "metadata": {},
   "source": [
    "### Librerias utilizadas"
   ]
  },
  {
   "cell_type": "code",
   "execution_count": 31,
   "id": "3bb95b8a-f542-4816-ab8a-7f458a56744b",
   "metadata": {
    "tags": []
   },
   "outputs": [],
   "source": [
    "import pandas as pd\n",
    "import json\n",
    "from datetime import datetime\n",
    "import warnings"
   ]
  },
  {
   "cell_type": "code",
   "execution_count": 32,
   "id": "5af10bf4-89e2-4515-93fb-03fcab4406e2",
   "metadata": {
    "tags": []
   },
   "outputs": [],
   "source": [
    "warnings.filterwarnings('ignore')"
   ]
  },
  {
   "cell_type": "markdown",
   "id": "bd1ca948-ed76-4325-b420-5d78b2f7ab5d",
   "metadata": {},
   "source": [
    "# Importando archivos"
   ]
  },
  {
   "cell_type": "code",
   "execution_count": 33,
   "id": "0aad2457-20b6-4f30-9c3b-a47978c103f6",
   "metadata": {
    "tags": []
   },
   "outputs": [],
   "source": [
    "archivos = ['datasets/Pet_Supplies_5.json',\n",
    " 'datasets/Cell_Phones_and_Accessories_5.json',\n",
    " 'datasets/Clothing_Shoes_and_Jewelry_5.json',\n",
    " 'datasets/Musical_Instruments_5.json']"
   ]
  },
  {
   "cell_type": "code",
   "execution_count": 34,
   "id": "f573984f-ff00-412a-b7aa-3689926b892f",
   "metadata": {
    "tags": []
   },
   "outputs": [],
   "source": [
    "metadatas = ['metadata/meta_Pet_Supplies.json','metadata/meta_Musical_Instruments.json',\n",
    "            'metadata/meta_Cell_Phones_and_Accessories.json','metadata/meta_Clothing_Shoes_and_Jewelry.json']"
   ]
  },
  {
   "cell_type": "markdown",
   "id": "d3810163-fdc3-43c5-926b-27e8e96c6342",
   "metadata": {},
   "source": [
    "Columnas string que transformaremos a lower "
   ]
  },
  {
   "cell_type": "code",
   "execution_count": 35,
   "id": "2a02b3c6-78fd-45c8-b059-e1e30e17f87a",
   "metadata": {
    "tags": []
   },
   "outputs": [],
   "source": [
    "columnas_lower = ['reviewerID','reviewerName','reviewText','summary']"
   ]
  },
  {
   "cell_type": "markdown",
   "id": "f67649fc-7eb5-4ac5-a042-1fc97cb776f1",
   "metadata": {},
   "source": [
    "Columnas finales que quedaran en el dataframe"
   ]
  },
  {
   "cell_type": "code",
   "execution_count": 36,
   "id": "201a3ecc-4e63-4d44-8322-ecaba3b6d8f5",
   "metadata": {
    "tags": []
   },
   "outputs": [],
   "source": [
    "columnas_finales = ['reviewerID','asin','reviewerName','reviewText','overall','summary','unixReviewTime']"
   ]
  },
  {
   "cell_type": "markdown",
   "id": "9382b68c-32a3-4e05-b9e8-704cba08deb3",
   "metadata": {},
   "source": [
    "Columnas finales de metadata"
   ]
  },
  {
   "cell_type": "code",
   "execution_count": 37,
   "id": "c67e734c-a5e0-40fa-ad8f-1f5c3e0085a6",
   "metadata": {
    "tags": []
   },
   "outputs": [],
   "source": [
    "metadata_columns = ['description', 'title','brand','rank','main_cat','price','asin']"
   ]
  },
  {
   "cell_type": "markdown",
   "id": "d20d35c7-b5e8-4a76-9b91-090a4ae3ad5d",
   "metadata": {},
   "source": [
    "# Pet Supplies"
   ]
  },
  {
   "cell_type": "code",
   "execution_count": 8,
   "id": "072940e6-e771-47cd-9975-09033c16d2fb",
   "metadata": {
    "tags": []
   },
   "outputs": [],
   "source": [
    "Pet_supplies = pd.read_json(archivos[0], lines=True)"
   ]
  },
  {
   "cell_type": "markdown",
   "id": "88e92eff-12c4-46c5-9c86-c110e84d114a",
   "metadata": {},
   "source": [
    "Transformamos strings a sus minusculas"
   ]
  },
  {
   "cell_type": "code",
   "execution_count": 9,
   "id": "e9ebd2a5-b514-4253-8bed-46411cdd828d",
   "metadata": {
    "tags": []
   },
   "outputs": [],
   "source": [
    "Pet_supplies[columnas_lower] = Pet_supplies[columnas_lower].apply(lambda x: x.astype(str).str.lower())"
   ]
  },
  {
   "cell_type": "markdown",
   "id": "ede6c329-c9f8-4272-84c0-675f5a320390",
   "metadata": {
    "tags": []
   },
   "source": [
    "Eliminamos columnas que no usemos"
   ]
  },
  {
   "cell_type": "code",
   "execution_count": 10,
   "id": "f0cefdbd-4b78-4ffd-8e33-f06e042db981",
   "metadata": {
    "tags": []
   },
   "outputs": [],
   "source": [
    "Pet_supplies = Pet_supplies[columnas_finales]"
   ]
  },
  {
   "cell_type": "markdown",
   "id": "8257d011-4cb6-43a2-8da5-93a6bae633a6",
   "metadata": {},
   "source": [
    "Acordamos trabajar con un rango de fechas especifico por lo que filtraremos los datos que se encuentren entre estas"
   ]
  },
  {
   "cell_type": "code",
   "execution_count": 38,
   "id": "8b201184-0bf0-44f0-a7d5-e09942d98156",
   "metadata": {
    "tags": []
   },
   "outputs": [],
   "source": [
    "def filtrar_fecha(x):\n",
    "    fecha = datetime.fromtimestamp(x)\n",
    "    if fecha.year > 2003:\n",
    "        return True\n",
    "    else:\n",
    "        return False"
   ]
  },
  {
   "cell_type": "code",
   "execution_count": 28,
   "id": "14f907e3-553b-41de-a432-d35a12e105ba",
   "metadata": {
    "tags": []
   },
   "outputs": [],
   "source": [
    "filtro_fecha = Pet_supplies['unixReviewTime'].apply(lambda x: filtrar_fecha(x))\n",
    "Pet_supplies = Pet_supplies[filtro_fecha]"
   ]
  },
  {
   "cell_type": "markdown",
   "id": "664691e0-270a-4daf-ba69-ec8c10d192a4",
   "metadata": {},
   "source": [
    "Finalmente lo guardamos en un archivo de tipo parquet con compresion gzip"
   ]
  },
  {
   "cell_type": "code",
   "execution_count": null,
   "id": "aa604456-0035-4aa6-a966-8b8303c462c6",
   "metadata": {},
   "outputs": [],
   "source": [
    "Pet_supplies.to_parquet('Pet_Supplies.parquet.gzip',\n",
    "                           compression='gzip')"
   ]
  },
  {
   "cell_type": "markdown",
   "id": "a29b1d76-e2a4-4eff-add2-54a4db34d0ab",
   "metadata": {},
   "source": [
    "### Su metadata"
   ]
  },
  {
   "cell_type": "code",
   "execution_count": 16,
   "id": "d6b26cce-5f29-4b4c-b176-501b2192bc12",
   "metadata": {
    "tags": []
   },
   "outputs": [],
   "source": [
    "Pet_supplies_meta = pd.read_json(metadatas[0], lines=True)"
   ]
  },
  {
   "cell_type": "markdown",
   "id": "4c692883-ab62-46d6-bf08-f24b87d47772",
   "metadata": {
    "tags": []
   },
   "source": [
    "Eliminamos columnas innecesarias"
   ]
  },
  {
   "cell_type": "code",
   "execution_count": 36,
   "id": "75a91be8-48bb-49c3-90fc-23df2becdb88",
   "metadata": {
    "tags": []
   },
   "outputs": [],
   "source": [
    "Pet_supplies_meta = Pet_supplies_meta[metadata_columns]"
   ]
  },
  {
   "cell_type": "markdown",
   "id": "bbc50f28-2bee-45ef-83e3-dde1e7e7ee1f",
   "metadata": {
    "tags": []
   },
   "source": [
    "Trabajamos normalizando los precios y transformandolos a float"
   ]
  },
  {
   "cell_type": "code",
   "execution_count": 38,
   "id": "433db6e0-d70d-4214-b8eb-1543539b610c",
   "metadata": {
    "tags": []
   },
   "outputs": [
    {
     "data": {
      "text/plain": [
       "description     object\n",
       "title           object\n",
       "brand           object\n",
       "rank            object\n",
       "main_cat        object\n",
       "price          float64\n",
       "asin            object\n",
       "dtype: object"
      ]
     },
     "execution_count": 38,
     "metadata": {},
     "output_type": "execute_result"
    }
   ],
   "source": [
    "Pet_supplies_meta['price']  = Pet_supplies_meta['price'].str.replace('$', '')\n",
    "Pet_supplies_meta['price'] = pd.to_numeric(Pet_supplies_meta['price'], errors='coerce')"
   ]
  },
  {
   "cell_type": "markdown",
   "id": "daeb6308-97af-4cd4-96fe-82a0284a1d95",
   "metadata": {},
   "source": [
    "Manejamos las listas vacias"
   ]
  },
  {
   "cell_type": "code",
   "execution_count": null,
   "id": "608060c7-b1f3-4de2-8862-53768467f221",
   "metadata": {
    "tags": []
   },
   "outputs": [],
   "source": [
    "Pet_supplies_meta['rank'] = Pet_supplies_meta['rank'].apply(lambda x: [] if not isinstance(x, list) else x)"
   ]
  },
  {
   "cell_type": "code",
   "execution_count": null,
   "id": "6cb361c7-eac1-48da-a94b-f86f7e6f95c2",
   "metadata": {},
   "outputs": [],
   "source": [
    "Pet_supplies_meta.to_parquet('metadata_parquet/meta_Pet_Supplies.parquet.gzip', compression='gzip')"
   ]
  },
  {
   "cell_type": "markdown",
   "id": "f4c2419e-45cc-4b09-a17c-27008f518c94",
   "metadata": {},
   "source": [
    "# Cellphones and accesories"
   ]
  },
  {
   "cell_type": "code",
   "execution_count": 18,
   "id": "6645beb0-cd2b-46ef-a546-e557be6e338e",
   "metadata": {
    "tags": []
   },
   "outputs": [],
   "source": [
    "Cellphones_accesories = pd.read_json(archivos[1], lines=True)"
   ]
  },
  {
   "cell_type": "markdown",
   "id": "4fc4a3d5-6ae0-492a-a5f7-ad9c4dc8336a",
   "metadata": {},
   "source": [
    "Transformamos strings a sus minusculas"
   ]
  },
  {
   "cell_type": "code",
   "execution_count": 19,
   "id": "7c6024ca-fe57-4a19-8ead-7db2deadefc4",
   "metadata": {
    "tags": []
   },
   "outputs": [],
   "source": [
    "Cellphones_accesories[columnas_lower] = Cellphones_accesories[columnas_lower].apply(lambda x: x.astype(str).str.lower())"
   ]
  },
  {
   "cell_type": "markdown",
   "id": "8845511c-1f62-4b16-ab08-02c87de09893",
   "metadata": {},
   "source": [
    "Eliminamos columnas que no usemos"
   ]
  },
  {
   "cell_type": "code",
   "execution_count": 21,
   "id": "aff53459-2819-44c5-a698-b0f063f84ca7",
   "metadata": {
    "tags": []
   },
   "outputs": [],
   "source": [
    "Cellphones_accesories = Cellphones_accesories[columnas_finales]"
   ]
  },
  {
   "cell_type": "markdown",
   "id": "2e61652b-8224-41c0-b715-fde5e0bb0de6",
   "metadata": {},
   "source": [
    "Filtramos las fechas"
   ]
  },
  {
   "cell_type": "code",
   "execution_count": 44,
   "id": "287351ad-447f-452e-bb4c-6520b82e7f03",
   "metadata": {
    "tags": []
   },
   "outputs": [],
   "source": [
    "filtro_fecha = Cellphones_accesories['unixReviewTime'].apply(lambda x: filtrar_fecha(x))\n",
    "Cellphones_accesories = Cellphones_accesories[filtro_fecha]"
   ]
  },
  {
   "cell_type": "markdown",
   "id": "87a514fd-7d75-4b52-9743-f6d50c1ed6c0",
   "metadata": {},
   "source": [
    "Lo guardamos en su archivo"
   ]
  },
  {
   "cell_type": "code",
   "execution_count": null,
   "id": "13efd324-897b-49eb-87cc-b6df644f3cc3",
   "metadata": {},
   "outputs": [],
   "source": [
    "Cellphones_accesories.to_parquet('Cell_Phones_and_Accessories.parquet.gzip',\n",
    "                           compression='gzip')"
   ]
  },
  {
   "cell_type": "markdown",
   "id": "23d1e902-4178-4a8e-9cb0-0b2ed36aa0be",
   "metadata": {},
   "source": [
    "### Su metadata"
   ]
  },
  {
   "cell_type": "code",
   "execution_count": 45,
   "id": "10a45ef5-4169-4252-9ef7-dec033d27aa3",
   "metadata": {
    "tags": []
   },
   "outputs": [],
   "source": [
    "meta_Cellphones = pd.read_json(metadatas[2],lines=True)"
   ]
  },
  {
   "cell_type": "markdown",
   "id": "4ddc9625-8bb1-4fcb-bd4d-a84e64bc4072",
   "metadata": {},
   "source": [
    "Eliminamos columnas"
   ]
  },
  {
   "cell_type": "code",
   "execution_count": 47,
   "id": "345a51b8-6d02-4279-9b03-ebfbcbf92a7f",
   "metadata": {
    "tags": []
   },
   "outputs": [],
   "source": [
    "meta_Cellphones = meta_Cellphones[metadata_columns]"
   ]
  },
  {
   "cell_type": "markdown",
   "id": "fb026cc2-3aa0-4786-9890-2152610ab20f",
   "metadata": {},
   "source": [
    "Cambiamos el formato de la columnas price"
   ]
  },
  {
   "cell_type": "code",
   "execution_count": 48,
   "id": "fae65c1f-060b-4e41-af1d-7c15ba48ed46",
   "metadata": {
    "tags": []
   },
   "outputs": [],
   "source": [
    "meta_Cellphones['price']  = meta_Cellphones['price'].str.replace('$', '')\n",
    "meta_Cellphones['price'] = pd.to_numeric(meta_Cellphones['price'], errors='coerce')"
   ]
  },
  {
   "cell_type": "markdown",
   "id": "d5a48d6f-72f5-4164-af3d-dfd288c5b128",
   "metadata": {},
   "source": [
    "Establecemos listas vacias a los valores que no cumplen con el requisito que colocamos"
   ]
  },
  {
   "cell_type": "code",
   "execution_count": 50,
   "id": "f6bf6f4b-ebad-4cd9-88d4-a3c841aaf5bd",
   "metadata": {
    "tags": []
   },
   "outputs": [],
   "source": [
    "meta_Cellphones['rank'] = meta_Cellphones['rank'].apply(lambda x: [] if not isinstance(x, list) else x)"
   ]
  },
  {
   "cell_type": "markdown",
   "id": "3224592b-9386-4dc1-bd5d-7e8ad2150c1b",
   "metadata": {},
   "source": [
    "Guardamos en un archivo parquet"
   ]
  },
  {
   "cell_type": "code",
   "execution_count": null,
   "id": "94c130cb-704b-4c9f-8217-058e8fb0b3f8",
   "metadata": {},
   "outputs": [],
   "source": [
    "meta_Cellphones.to_parquet('metadata_parquet/meta_Cell_Phones_and_Accessories.parquet.gzip', compression='gzip')"
   ]
  },
  {
   "cell_type": "markdown",
   "id": "b780d84b-c339-4779-842c-6795011f5dcd",
   "metadata": {},
   "source": [
    "# Clothing and Jewerly"
   ]
  },
  {
   "cell_type": "code",
   "execution_count": 11,
   "id": "735b0ace-4424-4ac6-af05-e7b527241f98",
   "metadata": {
    "tags": []
   },
   "outputs": [],
   "source": [
    "Clothing = pd.read_json(archivos[2],lines=True)"
   ]
  },
  {
   "cell_type": "markdown",
   "id": "f8fce6e2-f8bd-487b-9492-ca66b4e4aaa0",
   "metadata": {
    "tags": []
   },
   "source": [
    "Realizaremos las mismas transformaciones que con los anteriores dataframes"
   ]
  },
  {
   "cell_type": "code",
   "execution_count": 15,
   "id": "7564e2f2-d2d6-43b1-b168-805f4a2e097d",
   "metadata": {
    "tags": []
   },
   "outputs": [],
   "source": [
    "Clothing[columnas_lower] = Clothing[columnas_lower].apply(lambda x: x.astype(str).str.lower())"
   ]
  },
  {
   "cell_type": "code",
   "execution_count": 16,
   "id": "3d4e3bc8-5caa-49ca-9fe5-104ac5b538bf",
   "metadata": {
    "tags": []
   },
   "outputs": [],
   "source": [
    "Clothing = Clothing[columnas_finales]"
   ]
  },
  {
   "cell_type": "code",
   "execution_count": 19,
   "id": "e5d01ebd-5283-4194-81aa-2d90af582f1d",
   "metadata": {
    "tags": []
   },
   "outputs": [],
   "source": [
    "filtro_fecha = Clothing['unixReviewTime'].apply(lambda x: filtrar_fecha(x))\n",
    "Clothing = Clothing[filtro_fecha]"
   ]
  },
  {
   "cell_type": "code",
   "execution_count": null,
   "id": "37b61c96-8b82-4eaa-922e-3d9a04c5ff48",
   "metadata": {},
   "outputs": [],
   "source": [
    "Clothing.to_parquet('Clothing_Shoes_and_Jewelry.parquet.gzip',\n",
    "                           compression='gzip')"
   ]
  },
  {
   "cell_type": "markdown",
   "id": "971867f0-69c9-4f5f-b3ef-1bc963393b1e",
   "metadata": {},
   "source": [
    "#### Su metadata"
   ]
  },
  {
   "cell_type": "code",
   "execution_count": 9,
   "id": "5ad05c61-6b33-4a09-955d-07e5d7579d80",
   "metadata": {
    "tags": []
   },
   "outputs": [],
   "source": [
    "data = [eval(line) for line in open(metadatas[2], 'r')]\n",
    "meta_Clothing = pd.DataFrame.from_records(data)"
   ]
  },
  {
   "cell_type": "markdown",
   "id": "b69ebe7a-6c58-4f0e-b882-5e386bbe687d",
   "metadata": {},
   "source": [
    "Repetiremos los mismos pasos que con los datasets anteriores"
   ]
  },
  {
   "cell_type": "code",
   "execution_count": 20,
   "id": "332dd349-0428-4d81-8d83-29186d837be9",
   "metadata": {
    "tags": []
   },
   "outputs": [],
   "source": [
    "meta_Clothing = meta_Clothing[metadata_columns]\n",
    "meta_Clothing['price']  = meta_Clothing['price'].str.replace('$', '')\n",
    "meta_Clothing['price'] = pd.to_numeric(meta_Clothing['price'], errors='coerce')\n",
    "meta_Clothing['rank'] = meta_Clothing['rank'].apply(lambda x: [] if not isinstance(x, list) else x)"
   ]
  },
  {
   "cell_type": "code",
   "execution_count": null,
   "id": "fbfc8488-529d-45c6-8bd5-87dcdbe48b5c",
   "metadata": {},
   "outputs": [],
   "source": [
    "meta_Clothing.to_parquet('metadata_parquet/meta_Clothing_Shoes_and_Jewelry.parquet.gzip', compression='gzip')"
   ]
  },
  {
   "cell_type": "markdown",
   "id": "35dadd28-7850-4612-8450-4ea7bc7face8",
   "metadata": {},
   "source": [
    "# Musical Instruments"
   ]
  },
  {
   "cell_type": "code",
   "execution_count": 22,
   "id": "4fa25be6-a9bf-4c73-ad2c-20600f669e67",
   "metadata": {
    "tags": []
   },
   "outputs": [],
   "source": [
    "Musical_instruments = pd.read_json(archivos[-1], lines=True)"
   ]
  },
  {
   "cell_type": "code",
   "execution_count": 25,
   "id": "cd4c33cc-b4c4-427b-9a77-595a0aaf3a81",
   "metadata": {
    "tags": []
   },
   "outputs": [],
   "source": [
    "Musical_instruments[columnas_lower] = Musical_instruments[columnas_lower].apply(lambda x: x.astype(str).str.lower())"
   ]
  },
  {
   "cell_type": "code",
   "execution_count": 26,
   "id": "c9d949ac-98f6-4dee-ac09-b2d3657657be",
   "metadata": {
    "tags": []
   },
   "outputs": [],
   "source": [
    "Musical_instruments = Musical_instruments[columnas_finales]"
   ]
  },
  {
   "cell_type": "code",
   "execution_count": 27,
   "id": "43e04d97-33ae-49e1-be77-4ef4eb89c672",
   "metadata": {
    "tags": []
   },
   "outputs": [],
   "source": [
    "filtro_fecha = Musical_instruments['unixReviewTime'].apply(lambda x: filtrar_fecha(x))\n",
    "Musical_instruments = Musical_instruments[filtro_fecha]"
   ]
  },
  {
   "cell_type": "code",
   "execution_count": null,
   "id": "a63a5ef6-8fce-4538-8527-20aef91f6fc4",
   "metadata": {},
   "outputs": [],
   "source": [
    "Musical_instruments.to_parquet('meta_Musical_Instruments.parquet.gzip', compression='gzip')"
   ]
  },
  {
   "cell_type": "markdown",
   "id": "969f0aa0-f253-41bb-832d-6d9b0f9fc851",
   "metadata": {},
   "source": [
    "#### Su metadata"
   ]
  },
  {
   "cell_type": "code",
   "execution_count": 28,
   "id": "aa9e1380-e1b0-4d36-80b4-53d04b74ad28",
   "metadata": {
    "tags": []
   },
   "outputs": [],
   "source": [
    "meta_Musical_instruments = pd.read_json(metadatas[1], lines=True)"
   ]
  },
  {
   "cell_type": "code",
   "execution_count": 29,
   "id": "f9f0fd4d-66dd-4e24-8f80-af25e5ccf48d",
   "metadata": {
    "tags": []
   },
   "outputs": [],
   "source": [
    "meta_Musical_instruments = meta_Musical_instruments[metadata_columns]\n",
    "meta_Musical_instruments['price'] = pd.to_numeric(meta_Musical_instruments['price'], errors='coerce')"
   ]
  },
  {
   "cell_type": "code",
   "execution_count": 30,
   "id": "12e648db-c8c9-4a42-8d09-2fc746e13836",
   "metadata": {
    "tags": []
   },
   "outputs": [],
   "source": [
    "meta_Musical_instruments['rank'] = meta_Musical_instruments['rank'].apply(lambda x: [] if not isinstance(x, list) else x)"
   ]
  },
  {
   "cell_type": "code",
   "execution_count": null,
   "id": "758bd1c5-ec21-4ebd-86d0-aa42da616cf7",
   "metadata": {},
   "outputs": [],
   "source": [
    "meta_Musical_instruments.to_parquet('metadata_parquet/meta_Musical_Instruments.parquet.gzip', compression='gzip')"
   ]
  }
 ],
 "metadata": {
  "kernelspec": {
   "display_name": "Python 3 (ipykernel)",
   "language": "python",
   "name": "python3"
  },
  "language_info": {
   "codemirror_mode": {
    "name": "ipython",
    "version": 3
   },
   "file_extension": ".py",
   "mimetype": "text/x-python",
   "name": "python",
   "nbconvert_exporter": "python",
   "pygments_lexer": "ipython3",
   "version": "3.10.8"
  }
 },
 "nbformat": 4,
 "nbformat_minor": 5
}
