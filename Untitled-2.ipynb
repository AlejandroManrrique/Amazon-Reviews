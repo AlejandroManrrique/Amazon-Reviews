{
 "cells": [
  {
   "cell_type": "code",
   "execution_count": 2,
   "metadata": {},
   "outputs": [],
   "source": [
    "from fastapi import FastAPI\n",
    "import pandas as pd\n",
    "from sklearn.neighbors import NearestNeighbors\n",
    "import re\n"
   ]
  },
  {
   "cell_type": "code",
   "execution_count": 4,
   "metadata": {},
   "outputs": [],
   "source": [
    "app = FastAPI()\n",
    "\n",
    "# Para leer el archivo parquet\n",
    "categories = pd.read_parquet('API/categories.parquet')\n",
    "\n",
    "@app.get(\"/\")\n",
    "def welcome():\n",
    "    return {'descripción':'El objetivo de esta API es principalmete mostrar los resultados de un modelo de recomedación:',\n",
    "            'def obtener_recomendaciones(producto_id : str)':'Dado un codigo de producto de Amazon (de las categorías Home_and_Kitchen, Arts_Crafts_and_Sewing, Appliances, AMAZON_FASHION y All_Beauty) devuelve una lista de recomendación de 5 productos de la misma categoría, de alta calificación y de precio similar.'}"
   ]
  },
  {
   "cell_type": "code",
   "execution_count": null,
   "metadata": {},
   "outputs": [],
   "source": [
    "# Modificar la función de obtener_recomendaciones\n",
    "@app.get('/obtener_recomendaciones/{producto_id}')\n",
    "def obtener_recomendaciones(producto_id: str):\n",
    "    # ... (tu lógica existente)\n",
    "@app.get('/obtener_recomendaciones/{producto_id}')\n",
    "def obtener_recomendaciones(producto_id : str):\n",
    "    producto_id = producto_id.lower()\n",
    "    # Identificar la categoria del producto\n",
    "    categoria = None\n",
    "    for i in range(len(categories)):\n",
    "        if categories['asin'][i] == producto_id:\n",
    "            categoria = categories['category'][i]\n",
    "            break\n",
    "    \n",
    "    # Identificar el nombre del archivo y abrirlo\n",
    "    if categoria == None:\n",
    "        return \"Producto no encontrado en el conjunto de datos.\"\n",
    "    \n",
    "    nombre_archivo = f\"API/{categoria}_data.parquet\"\n",
    "    archivo = pd.read_parquet(nombre_archivo)\n",
    "\n",
    "    # Convertir las columnas de texto (categoría) a números usando codificación one-hot\n",
    "    encoded = pd.get_dummies(archivo, columns=['category'])\n",
    "\n",
    "    # Seleccionar las características para el modelo (todas except 'asin' y 'overall')\n",
    "    features = encoded.drop(['asin', 'overall', 'product'], axis=1)\n",
    "\n",
    "    # Normalizar las características para asegurar que todas tengan el mismo peso\n",
    "    from sklearn.preprocessing import MinMaxScaler\n",
    "    scaler = MinMaxScaler()\n",
    "    features_scaled = scaler.fit_transform(features)\n",
    "\n",
    "    # Inicializar el modelo de KNeighbors\n",
    "    knn = NearestNeighbors(n_neighbors=6)  # Se establece en 6 para obtener los 5 vecinos más cercanos (incluyendo el propio artículo)\n",
    "\n",
    "    # Ajustar el modelo\n",
    "    knn.fit(features_scaled)\n",
    "\n",
    "    \n",
    "    if producto_id in encoded['asin'].values:\n",
    "        producto_idx = encoded[encoded['asin'] == producto_id].index[0]\n",
    "        distancia, indice = knn.kneighbors(features_scaled[producto_idx].reshape(1, -1))\n",
    "        indices_vecinos = indice.squeeze()[1:]\n",
    "        vecinos_filtrados = archivo.iloc[indices_vecinos].sort_values(by=['overall', 'price']).head(5)\n",
    "        vecinos_filtrados = vecinos_filtrados.reset_index(drop=True)\n",
    "\n",
    "        recommendations = []\n",
    "        for i in range(len(vecinos_filtrados)):\n",
    "            recommendation = {\n",
    "                'asin': vecinos_filtrados['asin'][i],\n",
    "                'overall': vecinos_filtrados['overall'][i],\n",
    "                'price': vecinos_filtrados['price'][i],\n",
    "                'product': vecinos_filtrados['product'][i],\n",
    "                'category': vecinos_filtrados['category'][i]\n",
    "            }\n",
    "            recommendations.append(recommendation)\n",
    "\n",
    "        return recommendations\n",
    "    else:\n",
    "        return \"Producto no encontrado en el conjunto de datos.\"\n"
   ]
  }
 ],
 "metadata": {
  "kernelspec": {
   "display_name": "Python 3",
   "language": "python",
   "name": "python3"
  },
  "language_info": {
   "codemirror_mode": {
    "name": "ipython",
    "version": 3
   },
   "file_extension": ".py",
   "mimetype": "text/x-python",
   "name": "python",
   "nbconvert_exporter": "python",
   "pygments_lexer": "ipython3",
   "version": "3.11.2"
  }
 },
 "nbformat": 4,
 "nbformat_minor": 2
}
